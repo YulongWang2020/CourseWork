{
  "nbformat": 4,
  "nbformat_minor": 0,
  "metadata": {
    "colab": {
      "name": "Notebook_Two.ipynb",
      "provenance": [],
      "collapsed_sections": [],
      "toc_visible": true
    },
    "kernelspec": {
      "name": "python3",
      "display_name": "Python 3"
    },
    "accelerator": "GPU"
  },
  "cells": [
    {
      "cell_type": "markdown",
      "metadata": {
        "colab_type": "text",
        "id": "mOquqKzb2Nj4"
      },
      "source": [
        "# A4: Visual Question Answering\n",
        "\n",
        "In this assignment, you'll gain experience working with multi-input models. You'll develop a model that takes a question and an image as input, and returns a yes/no answer in response. You'll also gain experience working with larger datasets.\n",
        "\n",
        "You are welcome to implement your model using either Model Subclassing or the Functional API. I suggest using the Functional API - it's worth gaining experience with, so you're familiar with it down the road. \n",
        "\n",
        "In either case, you will likely spend more time preparing and preprocessing the dataset, than you will developing your model.\n",
        "\n",
        "## Your starter dataset\n",
        "\n",
        "The [VQA dataset](https://visualqa.org/download.html) includes images and JSON containing the questions and answers. To save you time parsing the JSON (and various other preprocessing work), I've prepared a subset of the dataset in an easier to read CSV file. \n",
        "\n",
        "You should download your starter dataset from [here](https://storage.cloud.google.com/applied-dl/mini-vqa/starter.csv). \n",
        "\n",
        "Your starter CSV has three columns, giving the question, answer, and image.\n",
        "\n",
        "question|answer|image\n",
        ":-----:|:-----:|:-----:\n",
        "is the sky blue|yes|COCO\\_train2014\\_000000393221.jpg\n",
        "is there snow on the mountains|yes|COCO\\_train2014\\_000000393221.jpg\n",
        "is the window open|no|COCO\\_train2014\\_000000393223.jpg\n",
        "\n",
        "### Notes on how this was prepared.\n",
        "* The starter dataset contains all the \"yes\" / \"no\" questions from the VQA v2 training annotations. \n",
        "* The answers are the most frequent one to the question (ties broken randomly). \n",
        "* The text has been cleaned (lowercased, punctuation removed). \n",
        "* Each image has at least two associated questions, some have more.\n",
        "* There are 140,637 questions, and 42,985 images.\n",
        "* The image filenames correspond to the [COCO 2014 training images](http://images.cocodataset.org/zips/train2014.zip). Note this file is about 11GB. You will need to download this later.\n",
        "\n",
        "### A note on downloading the COCO training images\n",
        "\n",
        "The training images are large, and you may not want to download them repeatedly in Colab (for example, if your instance disconnects). Continue reading the assignment below for tips before downloading them. \n",
        "\n",
        "In general, your workflow for this assignment will be to:\n",
        "\n",
        "Part 1: \n",
        "- Write a separate notebook to download the training images. \n",
        "- Preprocess the images referenced in the starter dataset (e.g. by resizing them to 299x299). Disgard the other images. \n",
        "- Create a zip containing only the resized images from the starter dataset (it should be about 500MB) and upload that to web.\n",
        "- To host a zip on the web, you can use either your Columbia account, or any Cloud provider (for example, [Cloud storage](https://cloud.google.com/storage/docs/creating-buckets)). Do not pay for a Cloud solution for this class (GCP, for example, has a free tier you can use).\n",
        "\n",
        "Part 2:\n",
        "- Write a separate notebook to train your model. At the start of this notebook, download your 500MB zip containing the preprocessed training images using a command like ```!wget``` or the code shown below.\n",
        "\n",
        "### A note on creating and training your model\n",
        "\n",
        "You can find an example VQA model at the bottom of this [guide](https://keras.io/getting-started/functional-api-guide/). Note: you should start with a smaller model (in terms of vocabulary size,sequence length, and other parameters). \n",
        "\n",
        "Other changes: \n",
        "* Instead of training a CNN from scratch, you will use a pretrained model (Inception-V3) and cache activations to disk. \n",
        "* Your model will take a while to train. It is important that you save a [checkpoint](https://www.tensorflow.org/guide/keras/save_and_serialize) to disk after each epoch (or every several epochs). Before training your model, check for existing checkpoints, and load the latest one.\n",
        "\n",
        "Training tips:\n",
        "\n",
        "* When developing a complex model, it is important to fit on a single batch first (repeatedly train on the same batch of 32 examples and labels). Verify your model can successfully memorize this data (the loss should go to zero). \n",
        "\n",
        "* Next, write code to make predictions on each of these images, and to display the image, question, and answer. Make sure the results are sensible. \n",
        "\n",
        "* As always, start with a simple model, get that working end-to-end, then gradually scale up.\n",
        "\n",
        "* Code defensively and get to know your data. There will be several preprocessing steps (resizing images, caching actiations, tokenization, padding, etc). After each one, write a short block of code to verify the output is correct.\n",
        "\n",
        "## Starter code\n",
        "\n",
        "The starter code below contains various blocks you can use for your two notebooks (the first to download and preprocess the data, the second to train your model).\n",
        "\n",
        "## Submission instructions\n",
        "\n",
        "Please submit this assignment on CourseWorks by uploading one or more Jupyter notebooks that include saved output."
      ]
    },
    {
      "cell_type": "code",
      "metadata": {
        "colab_type": "code",
        "id": "tWV2Ob0unYLE",
        "outputId": "d4088909-c4ee-46e4-8426-aa3bd5c49a94",
        "colab": {
          "base_uri": "https://localhost:8080/",
          "height": 53
        }
      },
      "source": [
        "!pip install Pillow"
      ],
      "execution_count": 1,
      "outputs": [
        {
          "output_type": "stream",
          "text": [
            "Requirement already satisfied: Pillow in /usr/local/lib/python3.6/dist-packages (4.3.0)\n",
            "Requirement already satisfied: olefile in /usr/local/lib/python3.6/dist-packages (from Pillow) (0.46)\n"
          ],
          "name": "stdout"
        }
      ]
    },
    {
      "cell_type": "code",
      "metadata": {
        "colab_type": "code",
        "id": "m9thHjd3JomO",
        "colab": {}
      },
      "source": [
        "import matplotlib.image as mpimg\n",
        "import matplotlib.pyplot as plt\n",
        "import numpy as np\n",
        "import os\n",
        "import pickle\n",
        "import random\n",
        "import shutil\n",
        "import time\n",
        "\n",
        "from google.colab import drive\n",
        "from PIL import Image\n",
        "from sklearn.model_selection import train_test_split"
      ],
      "execution_count": 0,
      "outputs": []
    },
    {
      "cell_type": "code",
      "metadata": {
        "colab_type": "code",
        "id": "LBeg8kixJ7V2",
        "outputId": "1fc78694-6996-41a1-e350-de889ec604d1",
        "colab": {
          "base_uri": "https://localhost:8080/",
          "height": 35
        }
      },
      "source": [
        "%tensorflow_version 2.x\n",
        "import tensorflow as tf"
      ],
      "execution_count": 3,
      "outputs": [
        {
          "output_type": "stream",
          "text": [
            "TensorFlow 2.x selected.\n"
          ],
          "name": "stdout"
        }
      ]
    },
    {
      "cell_type": "markdown",
      "metadata": {
        "colab_type": "text",
        "id": "GKNgLhjovm5u"
      },
      "source": [
        "## Notebook two: Preprocessing and training\n",
        "Create a new notebook for this. At the start, download your starter CSV and thumbnails.zip.\n",
        "\n",
        "The starter code below assumes you have created a zip file called \"thumbnails.zip\" containing only the resized images from the COOC training set mentioned in the starter CSV, and that you can download it from a URL."
      ]
    },
    {
      "cell_type": "code",
      "metadata": {
        "id": "Qkth2ddjTjqK",
        "colab_type": "code",
        "colab": {}
      },
      "source": [
        "def download_if_missing(url, target, extract=True):\n",
        "  if os.path.exists(target):\n",
        "    return target\n",
        "  return tf.keras.utils.get_file(target, origin=url, extract=extract)"
      ],
      "execution_count": 0,
      "outputs": []
    },
    {
      "cell_type": "code",
      "metadata": {
        "colab_type": "code",
        "id": "DbP0Mkw_wQyU",
        "colab": {}
      },
      "source": [
        "colab_root = \"/content/\" "
      ],
      "execution_count": 0,
      "outputs": []
    },
    {
      "cell_type": "markdown",
      "metadata": {
        "colab_type": "text",
        "id": "AzwWPJ5muPS4"
      },
      "source": [
        "### Download the starter CSV"
      ]
    },
    {
      "cell_type": "code",
      "metadata": {
        "colab_type": "code",
        "id": "UPGj4DpRwWE7",
        "outputId": "6801668b-fafb-435b-bbd0-de05ef4c5710",
        "colab": {
          "base_uri": "https://localhost:8080/",
          "height": 35
        }
      },
      "source": [
        "csv_path = os.path.join(colab_root, \"starter.csv\")\n",
        "download_if_missing(\"https://storage.googleapis.com/applied-dl/mini-vqa/starter.csv\",\n",
        "                     csv_path)"
      ],
      "execution_count": 10,
      "outputs": [
        {
          "output_type": "execute_result",
          "data": {
            "text/plain": [
              "'/content/starter.csv'"
            ]
          },
          "metadata": {
            "tags": []
          },
          "execution_count": 10
        }
      ]
    },
    {
      "cell_type": "code",
      "metadata": {
        "id": "lmfHuEqxkr7L",
        "colab_type": "code",
        "colab": {
          "base_uri": "https://localhost:8080/",
          "height": 35
        },
        "outputId": "170389a8-ffb7-4a98-e8ca-cecc3672c4b5"
      },
      "source": [
        "from google.colab import drive\n",
        "drive.mount('/content/drive')"
      ],
      "execution_count": 11,
      "outputs": [
        {
          "output_type": "stream",
          "text": [
            "Mounted at /content/drive\n"
          ],
          "name": "stdout"
        }
      ]
    },
    {
      "cell_type": "markdown",
      "metadata": {
        "colab_type": "text",
        "id": "DoIeRieewcDj"
      },
      "source": [
        "### Download and unzip your thumbnails\n",
        "\n",
        "This file is small enough that you can quickly download it with this method."
      ]
    },
    {
      "cell_type": "code",
      "metadata": {
        "colab_type": "code",
        "id": "4mrz3G3CxO3F",
        "colab": {}
      },
      "source": [
        "# Your code here\n",
        "YOUR_THUMBNAILS_URL = \"https://storage.cloud.google.com/apl_hw4/thumbnails.zip?authuser=1&folder&organizationId\""
      ],
      "execution_count": 0,
      "outputs": []
    },
    {
      "cell_type": "code",
      "metadata": {
        "colab_type": "code",
        "id": "dgMG4Rav8H_K",
        "outputId": "df183866-1822-421f-ca03-bfa886403347",
        "colab": {
          "base_uri": "https://localhost:8080/",
          "height": 35
        }
      },
      "source": [
        "thumbnails_file = os.path.join(colab_root, \"thumbnails.zip\")\n",
        "images_folder = os.path.join(colab_root, 'thumbnails/')\n",
        "os.mkdir(images_folder)\n",
        "download_if_missing(YOUR_THUMBNAILS_URL,\n",
        "                    thumbnails_file,\n",
        "                    extract=False)"
      ],
      "execution_count": 0,
      "outputs": [
        {
          "output_type": "execute_result",
          "data": {
            "text/plain": [
              "'/content/thumbnails.zip'"
            ]
          },
          "metadata": {
            "tags": []
          },
          "execution_count": 16
        }
      ]
    },
    {
      "cell_type": "code",
      "metadata": {
        "id": "hN-5mYpVW3ka",
        "colab_type": "code",
        "colab": {}
      },
      "source": [
        "import zipfile"
      ],
      "execution_count": 0,
      "outputs": []
    },
    {
      "cell_type": "code",
      "metadata": {
        "colab_type": "code",
        "id": "Manup0SxRKF3",
        "colab": {}
      },
      "source": [
        "with zipfile.ZipFile('/content/drive/My Drive/thumbnails.zip','r') as zip_ref:\n",
        "  zip_ref.extractall('/content/thumbnails')\n",
        "# !unzip -q thumbnails.zip -d thumbnails/"
      ],
      "execution_count": 0,
      "outputs": []
    },
    {
      "cell_type": "markdown",
      "metadata": {
        "colab_type": "text",
        "id": "ifotaRuEyPhR"
      },
      "source": [
        "### Sanity check\n",
        "\n",
        "At this point, you have all the data you need to train your model (questions, answers, and images) in a convenient and easy to read format. \n",
        "\n",
        "Now would be a good time for another santity check. Write a block of code to iterate over the starter CSV file. For each image, make sure you can locate it on disk. E.g., \n",
        "\n",
        "``` \n",
        "for question, answer, image_name in data:\n",
        "  img_path = os.path.join(images_folder, image_name)\n",
        "  assert os.path.exists(img_path)\n",
        "```\n",
        "\n",
        "Since we're in a new notebook, again display a few questions, answers, and images - verify everything works as expected."
      ]
    },
    {
      "cell_type": "code",
      "metadata": {
        "id": "L-sRZYA2a0zv",
        "colab_type": "code",
        "colab": {}
      },
      "source": [
        "import csv\n",
        "import IPython.display as display"
      ],
      "execution_count": 0,
      "outputs": []
    },
    {
      "cell_type": "code",
      "metadata": {
        "id": "NjRbfHCBaV8k",
        "colab_type": "code",
        "outputId": "048b0e0b-6f6b-48d1-dd05-dbf56c024989",
        "colab": {
          "base_uri": "https://localhost:8080/",
          "height": 514
        }
      },
      "source": [
        "#load csv\n",
        "\n",
        "os.chdir(colab_root)\n",
        "image_path = os.path.join(colab_root, \"thumbnails/\")\n",
        "all_images_path = os.listdir(image_path)\n",
        "abs_image_path = []\n",
        "for each in all_images_path:\n",
        " abs_image_path.append(os.path.join(image_path,each))\n",
        "\n",
        "filename = \"starter.csv\"  \n",
        "csvFile = open(filename, \"r\")\n",
        "reader = csv.reader(csvFile)\n",
        "\n",
        "rows = []\n",
        "for item in reader:\n",
        "    if reader.line_num == 1:\n",
        "        continue\n",
        "    rows.append(item)\n",
        "csvFile.close()\n",
        "rows = np.array(rows)\n",
        "question, ans, image = rows[:,0] , rows[:,1] , rows[:,2]\n",
        "j = random.randint(0,image.shape[0])\n",
        "for n in range(image.shape[0]):\n",
        "  if image[n] == image[j]:\n",
        "    print(\"Q:\",question[n],\" | Ans:\",ans[n],\" | image:\",image[n])\n",
        "for i in range(len(all_images_path)):\n",
        "  if all_images_path[i] == image[j]:\n",
        "    display.display(display.Image(abs_image_path[i]))\n"
      ],
      "execution_count": 17,
      "outputs": [
        {
          "output_type": "stream",
          "text": [
            "Q: is this giraffe in its natural habitat  | Ans: no  | image: COCO_train2014_000000307831.jpg\n",
            "Q: can this animal see over the wall  | Ans: no  | image: COCO_train2014_000000307831.jpg\n",
            "Q: are there trees visible  | Ans: no  | image: COCO_train2014_000000307831.jpg\n",
            "Q: was this room recently constructed  | Ans: no  | image: COCO_train2014_000000307831.jpg\n",
            "Q: is the giraffe eating  | Ans: no  | image: COCO_train2014_000000307831.jpg\n",
            "Q: does this animal have whiskers  | Ans: no  | image: COCO_train2014_000000307831.jpg\n",
            "Q: is the baby eating  | Ans: no  | image: COCO_train2014_000000307831.jpg\n",
            "Q: is the giraffe eating  | Ans: no  | image: COCO_train2014_000000307831.jpg\n",
            "Q: is this a full grown giraffe  | Ans: no  | image: COCO_train2014_000000307831.jpg\n",
            "Q: are there any trees in the background of this photo  | Ans: no  | image: COCO_train2014_000000307831.jpg\n",
            "Q: is his tongue sticking out  | Ans: no  | image: COCO_train2014_000000307831.jpg\n"
          ],
          "name": "stdout"
        },
        {
          "output_type": "display_data",
          "data": {
            "image/jpeg": "[encoded data removed]",
            "text/plain": [
              "<IPython.core.display.Image object>"
            ]
          },
          "metadata": {
            "tags": []
          }
        }
      ]
    },
    {
      "cell_type": "code",
      "metadata": {
        "colab_type": "code",
        "id": "_MyAV2_CemZf",
        "colab": {}
      },
      "source": [
        "# Your code here\n",
        "def sanitycheck(image_path):\n",
        "  os.chdir(colab_root)\n",
        "  with open('starter.csv') as myfile:\n",
        "    reader = csv.reader(myfile, delimiter=',')\n",
        "    for row in reader:\n",
        "        question, answer, image = row\n",
        "        image = image.strip()\n",
        "        assert os.path.exists(os.path.join(image_path, image))\n",
        "sanitycheck(image_path)"
      ],
      "execution_count": 0,
      "outputs": []
    },
    {
      "cell_type": "markdown",
      "metadata": {
        "colab_type": "text",
        "id": "EP0BexdF8NXH"
      },
      "source": [
        "### Convert answers to numeric format\n",
        "\n",
        "The answers in the starter CSV are \"yes\" or \"no\". For convenience, now would be a good time to change those to 1.0 and 0.0."
      ]
    },
    {
      "cell_type": "code",
      "metadata": {
        "colab_type": "code",
        "id": "VsvJHe1krz9R",
        "outputId": "554f8f25-4487-4c54-f6ef-ae1c759c613a",
        "colab": {
          "base_uri": "https://localhost:8080/",
          "height": 73
        }
      },
      "source": [
        "# Your code here\n",
        "# Convert the answers column in the starter CSV to 1.0 and 0.0\n",
        "# You do not need to update the CSV itself. If you have a data structure\n",
        "# in memory, you can work with that instead.\n",
        "\n",
        "rows = rows.tolist()\n",
        "for i in range(np.asarray(rows).shape[0]):\n",
        "  if rows[i][1] == \"yes\":\n",
        "    rows[i][1] = 1.0;\n",
        "  else: \n",
        "    rows[i][1] = 0.0\n",
        "\n",
        "print(rows[0:10])\n",
        "print(type(rows[0][1]))"
      ],
      "execution_count": 19,
      "outputs": [
        {
          "output_type": "stream",
          "text": [
            "[['is there snow on the mountains', 1.0, 'COCO_train2014_000000393221.jpg'], ['is the window open', 1.0, 'COCO_train2014_000000393223.jpg'], ['is she brushing', 1.0, 'COCO_train2014_000000393223.jpg'], ['is the man smiling', 0.0, 'COCO_train2014_000000393224.jpg'], ['does his tie pair well with his suit', 0.0, 'COCO_train2014_000000393224.jpg'], ['does the man look happy', 0.0, 'COCO_train2014_000000393224.jpg'], ['is this photo in color', 0.0, 'COCO_train2014_000000393224.jpg'], ['is the man wearing a plain tie', 0.0, 'COCO_train2014_000000393224.jpg'], ['judging from the dress was this taken in a latin american country', 1.0, 'COCO_train2014_000000524297.jpg'], ['are the men on the sidewalk', 0.0, 'COCO_train2014_000000524297.jpg']]\n",
            "<class 'float'>\n"
          ],
          "name": "stdout"
        }
      ]
    },
    {
      "cell_type": "markdown",
      "metadata": {
        "colab_type": "text",
        "id": "w_pGuZWXx4vE"
      },
      "source": [
        "### Convert image names to absolute paths\n",
        "\n",
        "Next, for convenience, it may be helpful to update the images column in the starter CSV from filenames ```COCO_train2014_000000320111.jpg``` to absolute paths ```/content/images/COCO_train2014_000000320111.jpg```. This will save you some code down the road when it comes time to open them up (you won't need to worry about the relationship between where the starter CSV file is stored, and your images folder)."
      ]
    },
    {
      "cell_type": "code",
      "metadata": {
        "colab_type": "code",
        "id": "_9lbPJyvxv6O",
        "outputId": "9dc7f042-64b4-4715-d1b6-008583f5d36a",
        "colab": {
          "base_uri": "https://localhost:8080/",
          "height": 91
        }
      },
      "source": [
        "# Your code here\n",
        "# Convert the image filenames in the starter CSV to absolute paths\n",
        "# You do not need to update the CSV itself. If you have a data structure\n",
        "# in memory, you can work with that instead.\n",
        "print(image_path)\n",
        "for i in range(np.asarray(rows).shape[0]):\n",
        "  rows[i][2] = os.path.join(image_path,rows[i][2])\n",
        "print(rows[0:10])\n",
        "print(type(rows[1][1]))"
      ],
      "execution_count": 20,
      "outputs": [
        {
          "output_type": "stream",
          "text": [
            "/content/thumbnails/\n",
            "[['is there snow on the mountains', 1.0, '/content/thumbnails/COCO_train2014_000000393221.jpg'], ['is the window open', 1.0, '/content/thumbnails/COCO_train2014_000000393223.jpg'], ['is she brushing', 1.0, '/content/thumbnails/COCO_train2014_000000393223.jpg'], ['is the man smiling', 0.0, '/content/thumbnails/COCO_train2014_000000393224.jpg'], ['does his tie pair well with his suit', 0.0, '/content/thumbnails/COCO_train2014_000000393224.jpg'], ['does the man look happy', 0.0, '/content/thumbnails/COCO_train2014_000000393224.jpg'], ['is this photo in color', 0.0, '/content/thumbnails/COCO_train2014_000000393224.jpg'], ['is the man wearing a plain tie', 0.0, '/content/thumbnails/COCO_train2014_000000393224.jpg'], ['judging from the dress was this taken in a latin american country', 1.0, '/content/thumbnails/COCO_train2014_000000524297.jpg'], ['are the men on the sidewalk', 0.0, '/content/thumbnails/COCO_train2014_000000524297.jpg']]\n",
            "<class 'float'>\n"
          ],
          "name": "stdout"
        }
      ]
    },
    {
      "cell_type": "markdown",
      "metadata": {
        "colab_type": "text",
        "id": "wqWvyk_54MEB"
      },
      "source": [
        "### Shuffle and create a test set\n",
        "For this assignment, you do not need to download the COCO validation or test sets. Instead, shuffle your starter CSV, and use some of the rows as a test set (say, 4,000 rows). Move them to a separate CSV or data structure, and revisit them later. I realize some of the same images may appear in the train and test set (although with different questions). For this assignment, that's okay. If you prefer, you can write code to ensure the test set has unique images that do not appear in the train set."
      ]
    },
    {
      "cell_type": "code",
      "metadata": {
        "colab_type": "code",
        "id": "rUeKcg8H4OH2",
        "outputId": "5d1acfa0-014f-4688-ab4a-eceeced4c72d",
        "colab": {
          "base_uri": "https://localhost:8080/",
          "height": 71
        }
      },
      "source": [
        "# Your code here\n",
        "# Shuffle the starter CSV\n",
        "# Remove 4,000 rows (or so) and move them to a separate file or data structure\n",
        "print(np.asarray(rows).shape)\n",
        "if np.asarray(rows).shape[0] == 140636:\n",
        "  test_set = rows[0:4000]\n",
        "  rows = rows[4000:]\n",
        "print(np.asarray(rows).shape,np.asarray(test_set).shape)\n",
        "print(type(rows[1][1]))"
      ],
      "execution_count": 21,
      "outputs": [
        {
          "output_type": "stream",
          "text": [
            "(140636, 3)\n",
            "(136636, 3) (4000, 3)\n",
            "<class 'float'>\n"
          ],
          "name": "stdout"
        }
      ]
    },
    {
      "cell_type": "markdown",
      "metadata": {
        "colab_type": "text",
        "id": "QRCqCG4eNWzX"
      },
      "source": [
        "### Limit the size of the dataset, and balance.\n",
        "\n",
        "The dataset is fairly large. Let's simplify and start small. Instead of working with +/-100,000 questions - a better number would be about 20,000 questions.\n",
        "\n",
        "As a suggestion, you may also want to balance the data (so you have an equal number of positive and negative questions), just to make it a bit easier to debug your model and verify it's training as expected."
      ]
    },
    {
      "cell_type": "code",
      "metadata": {
        "colab_type": "code",
        "id": "wcH6-VCnwmSK",
        "outputId": "f6fce678-f7fd-478c-f13d-90d35720bf7f",
        "colab": {
          "base_uri": "https://localhost:8080/",
          "height": 53
        }
      },
      "source": [
        "# Your code here\n",
        "# Limit the size of the starter CSV to 20,000 rows\n",
        "# Balance the data (so you have an equal number of \"yes\" and \"no\" answers) \n",
        "# in your 20,000 rows\n",
        "starter_rows = []\n",
        "j,k = 0,0\n",
        "for i in range(np.asarray(rows).shape[0]):\n",
        "  if rows[i][1] == 1.0 and j < 10000:\n",
        "    starter_rows.append(rows[i])\n",
        "    j+=1\n",
        "    continue\n",
        "  if rows[i][1] == 0.0 and k < 10000:\n",
        "    starter_rows.append(rows[i])\n",
        "    k+=1\n",
        "    continue\n",
        "print(type(starter_rows[1][1]))\n",
        "print(np.asarray(starter_rows).shape)"
      ],
      "execution_count": 22,
      "outputs": [
        {
          "output_type": "stream",
          "text": [
            "<class 'float'>\n",
            "(20000, 3)\n"
          ],
          "name": "stdout"
        }
      ]
    },
    {
      "cell_type": "markdown",
      "metadata": {
        "colab_type": "text",
        "id": "fmSXbHqrfdFJ"
      },
      "source": [
        "### Create training and validation sets\n",
        "You may want to do an 80:20 split on your balanced training set, giving you 16,000 training rows, and 4,000 validation rows."
      ]
    },
    {
      "cell_type": "code",
      "metadata": {
        "colab_type": "code",
        "id": "cMto3Q1rxcQ4",
        "colab": {}
      },
      "source": [
        "# Your code here\n",
        "# The scikit-learn utilities (train_test_split) are your friend\n",
        "from sklearn.model_selection import train_test_split\n",
        "train_set,validation_set = train_test_split(starter_rows, test_size=0.2, random_state=42)\n"
      ],
      "execution_count": 0,
      "outputs": []
    },
    {
      "cell_type": "markdown",
      "metadata": {
        "colab_type": "text",
        "id": "Od0Q5SzEzd8C"
      },
      "source": [
        "### Verify your train and validation sets look as expected\n",
        "You cannot spend too much time exploring the data. When I'm developing code for something like this on my own, I often run methods to verify that these splits have the number of rows I expect, to display a few images from each, and to see stats on the class balance. I also write code to verify the splits contain *only* yes/no answers. You may be tired of coding defensively at this point, but I assure you (especially when working with new and increasingly complicated datasets, this effort **always** pays off)."
      ]
    },
    {
      "cell_type": "code",
      "metadata": {
        "colab_type": "code",
        "id": "0rXdrUZQz5f4",
        "outputId": "07b4d9ad-cc53-4c3c-e487-4d362768f739",
        "colab": {
          "base_uri": "https://localhost:8080/",
          "height": 252
        }
      },
      "source": [
        "# Your code here.\n",
        "print(np.asarray(train_set).shape,np.asarray(validation_set).shape)\n",
        "random_check = random.choice(train_set)\n",
        "\n",
        "print(random_check)\n",
        "display.display(display.Image(random_check[2]))"
      ],
      "execution_count": 24,
      "outputs": [
        {
          "output_type": "stream",
          "text": [
            "(16000, 3) (4000, 3)\n",
            "['is the meal a fancy one', 0.0, '/content/thumbnails/COCO_train2014_000000407606.jpg']\n"
          ],
          "name": "stdout"
        },
        {
          "output_type": "display_data",
          "data": {
            "image/jpeg": "[encoded data removed]",
            "text/plain": [
              "<IPython.core.display.Image object>"
            ]
          },
          "metadata": {
            "tags": []
          }
        }
      ]
    },
    {
      "cell_type": "markdown",
      "metadata": {
        "colab_type": "text",
        "id": "8ITEBFcQRqdm"
      },
      "source": [
        "\n",
        "### Forward your images through InceptionV3, and cache activations to disk\n",
        "\n",
        "Rather than training a CNN from scratch for your VQA model, you'll begin by using activations from a pretrained model.  \n",
        "\n",
        "* Instead of forward each image repeatedly through the model while training (which will be slow), let's do that once and save the activations to disk. \n",
        "\n",
        "* We're saving them to disk (rather than keeping them in memory) to accomodate different sizes of datasets down the road.\n",
        "\n",
        "I've written a good deal of this code for you, but you should go through it and carefully understand how it works."
      ]
    },
    {
      "cell_type": "code",
      "metadata": {
        "colab_type": "code",
        "id": "hbMdRBX8TY5X",
        "colab": {}
      },
      "source": [
        "# Create a feature extraction model.\n",
        "# You should not need to modify this (though you may, if you'd like\n",
        "# to use a model other than Inception).\n",
        "image_model = tf.keras.applications.InceptionV3(include_top=False,\n",
        "                                                weights='imagenet')\n",
        "new_input = image_model.input\n",
        "hidden_layer = image_model.layers[-1].output\n",
        "image_features_extract_model = tf.keras.Model(new_input, hidden_layer)"
      ],
      "execution_count": 0,
      "outputs": []
    },
    {
      "cell_type": "code",
      "metadata": {
        "colab_type": "code",
        "id": "QW0drXDAQu3c",
        "colab": {}
      },
      "source": [
        "# A method to load an image off disk, and extract activations using \n",
        "# the model above. You should not need to modify this.\n",
        "def image_to_activations(image_path):\n",
        "  img = tf.io.read_file(image_path)\n",
        "  img = tf.image.decode_jpeg(img, channels=3)\n",
        "  img = tf.image.resize(img, (299, 299))\n",
        "  activations = tf.keras.applications.inception_v3.preprocess_input(img)\n",
        "  return activations, image_path"
      ],
      "execution_count": 0,
      "outputs": []
    },
    {
      "cell_type": "code",
      "metadata": {
        "colab_type": "code",
        "id": "V2_1Ili7y3Fj",
        "outputId": "21a74665-0c32-48fb-c624-0be71c2c4996",
        "colab": {
          "base_uri": "https://localhost:8080/",
          "height": 53
        }
      },
      "source": [
        "# Your code here\n",
        "\n",
        "# You'll need to extract activations for every image in your train, validation,\n",
        "# and test set. First, create a set of the absolute paths to all of these images \n",
        "# (image_path_set). Populate this with the absolute paths to all these images.\n",
        "image_path_set = set()\n",
        "image_path_set.update(np.asarray(train_set)[:,2].tolist(),np.asarray(validation_set)[:,2].tolist(),np.asarray(test_set)[:,2].tolist())\n",
        "\n",
        "print(\"Images to preprocess\", len(image_path_set))\n",
        "print(\"This make take a few minutes\")"
      ],
      "execution_count": 27,
      "outputs": [
        {
          "output_type": "stream",
          "text": [
            "Images to preprocess 7524\n",
            "This make take a few minutes\n"
          ],
          "name": "stdout"
        }
      ]
    },
    {
      "cell_type": "code",
      "metadata": {
        "colab_type": "code",
        "id": "hb9XjL8QWzuZ",
        "outputId": "eb4bf51f-54c8-48d3-8368-36385bc397a1",
        "colab": {
          "base_uri": "https://localhost:8080/",
          "height": 35
        }
      },
      "source": [
        "# This cell will extract activations for each image and save them to disk \n",
        "# in NumPy format. You should not need to modify this.\n",
        "from tqdm import tqdm\n",
        "# Note: we're not saving these activations to the cloud,\n",
        "# but you certainly could if you wanted to skip this step \n",
        "# in the future. If you look into doing that, it's best to save one large\n",
        "# zip with the activations, and download that and extract it locally\n",
        "# (rather than doing a bunch of network access to retrieve individual files),\n",
        "# especially when training your model.\n",
        "\n",
        "# Create a dataset to load each image off disk, and extract activations\n",
        "activation_dataset = tf.data.Dataset.from_tensor_slices(list(image_path_set))\n",
        "activation_dataset = activation_dataset.map(\n",
        "  image_to_activations, \n",
        "  num_parallel_calls=tf.data.experimental.AUTOTUNE).batch(32)\n",
        "\n",
        "# Save all activations to disk in NumPy format\n",
        "for img_batch, path_batch in tqdm(activation_dataset):\n",
        "  batch_features = image_features_extract_model(img_batch)\n",
        "  for bf, p in zip(batch_features, path_batch):\n",
        "    path_of_feature = p.numpy().decode(\"utf-8\")\n",
        "    np.save(path_of_feature, bf.numpy())  "
      ],
      "execution_count": 28,
      "outputs": [
        {
          "output_type": "stream",
          "text": [
            "236it [01:37,  1.98it/s]\n"
          ],
          "name": "stderr"
        }
      ]
    },
    {
      "cell_type": "markdown",
      "metadata": {
        "colab_type": "text",
        "id": "5-Rb4DsORTui"
      },
      "source": [
        "### Create lists of questions, answers, and images for your train, validation, and test set\n",
        "\n",
        "At this point, you may be reading your starter CSV directly from disk, or you may have your own data structure in memory. Since many of the methods we'll call from this point forward take lists as input, you may find it helpful to create a data structure with three lists, that correspond to the columns from your starter CSV."
      ]
    },
    {
      "cell_type": "code",
      "metadata": {
        "colab_type": "code",
        "id": "VoIgQUwkR3PD",
        "colab": {}
      },
      "source": [
        "# Your code here. Populate these for your training set.\n",
        "# questions_train = [] # a list of absolute paths to images in your training set\n",
        "# answers_train = [] # a list of questions in your training set\n",
        "# images_train = [] # a list of answers (in numeric format) in your training set\n",
        "\n",
        "questions_train = np.asarray(train_set)[:,0].tolist()\n",
        "answers_train = np.asarray(train_set)[:,1].tolist()\n",
        "images_train = np.asarray(train_set)[:,2].tolist()\n",
        "answers_train = [float(each) for each in answers_train]\n",
        "# The order of these lists should match (e.g. the question, answer, and image \n",
        "# from row i of your train split of the starter CSV should be \n",
        "# questions_train[i], answers_train[i], images_train[i])."
      ],
      "execution_count": 0,
      "outputs": []
    },
    {
      "cell_type": "code",
      "metadata": {
        "colab_type": "code",
        "id": "bLtOogc3R3bW",
        "colab": {}
      },
      "source": [
        "# Your code here. Populate these for your validation set.\n",
        "# questions_val = [] \n",
        "# answers_val = []\n",
        "# images_val = []\n",
        "questions_val = np.asarray(validation_set)[:,0].tolist()\n",
        "answers_val = np.asarray(validation_set)[:,1].tolist()\n",
        "images_val = np.asarray(validation_set)[:,2].tolist()\n",
        "answers_val = [float(each) for each in answers_val]"
      ],
      "execution_count": 0,
      "outputs": []
    },
    {
      "cell_type": "code",
      "metadata": {
        "colab_type": "code",
        "id": "arUBA1CcR3lS",
        "colab": {}
      },
      "source": [
        "# Your code here. Populate these for your test set\n",
        "# questions_test = []\n",
        "# answers_test = []\n",
        "# images_test = []\n",
        "questions_test = np.asarray(test_set)[:,0].tolist()\n",
        "answers_test = np.asarray(test_set)[:,1].tolist()\n",
        "images_test = np.asarray(test_set)[:,2].tolist()\n",
        "answers_test = [float(each) for each in answers_test]"
      ],
      "execution_count": 0,
      "outputs": []
    },
    {
      "cell_type": "markdown",
      "metadata": {
        "colab_type": "text",
        "id": "nTkz5C9eb1Ic"
      },
      "source": [
        "### Create and fit a tokenizer\n",
        "\n",
        "Your model will use a LSTM to process the questions. First, you'll need to vectorize your text. Tokenize the questions, and limit the vocabulary size to a reasonable size (for example, the top 3,000 words). A larger size will make a higher accuracy possible, but complicate and slow your model. Reminder: fit the tokenizer only on the training questions."
      ]
    },
    {
      "cell_type": "code",
      "metadata": {
        "colab_type": "code",
        "id": "DYElFeEKxE3e",
        "colab": {}
      },
      "source": [
        "# Your code here\n",
        "VOCAB_SIZE = 3000"
      ],
      "execution_count": 0,
      "outputs": []
    },
    {
      "cell_type": "code",
      "metadata": {
        "colab_type": "code",
        "id": "u4myZY6zxDwJ",
        "outputId": "b256c1eb-2a5a-452c-f214-d107fed7936b",
        "colab": {
          "base_uri": "https://localhost:8080/",
          "height": 35
        }
      },
      "source": [
        "# You should not need to modify this code\n",
        "tokenizer = tf.keras.preprocessing.text.Tokenizer(num_words=VOCAB_SIZE)\n",
        "tokenizer.fit_on_texts(questions_train)\n",
        "\n",
        "# Note, the tokenizer's word_index will not respect VOCAB_SIZE.\n",
        "# but, that parameter will be respected in later methods,\n",
        "# (for example, when you call text_to_sequences).\n",
        "# Also note that '0' is a reserved index for padding.\n",
        "print(\"Word index\", len(tokenizer.word_index))"
      ],
      "execution_count": 33,
      "outputs": [
        {
          "output_type": "stream",
          "text": [
            "Word index 4769\n"
          ],
          "name": "stdout"
        }
      ]
    },
    {
      "cell_type": "markdown",
      "metadata": {
        "colab_type": "text",
        "id": "4Gvj1ZE-fTrP"
      },
      "source": [
        "### Vectorize the questions\n",
        "In this section, you will use your tokenizer to vectorize the questions using ```texts_to_sequences```. For an example of texts_to_sequences, see this [notebook](https://github.com/fchollet/deep-learning-with-python-notebooks/blob/master/6.1-one-hot-encoding-of-words-or-characters.ipynb).\n"
      ]
    },
    {
      "cell_type": "code",
      "metadata": {
        "colab_type": "code",
        "id": "NhQu6yZhfi7K",
        "colab": {}
      },
      "source": [
        "# Your code here\n",
        "# Use the texts_to_sequences utility to vectorize your training, \n",
        "# validation, and test questions. \n",
        "\n",
        "# To follow along with the starter code below, you should use\n",
        "# these naming conventions\n",
        "\n",
        "# sequences_train = tokenizer.texts_to_sequences(questions_train)\n",
        "# sequences_val = ...\n",
        "# sequences_test = ...\n",
        "\n",
        "sequences_train = tokenizer.texts_to_sequences(questions_train)\n",
        "sequences_val = tokenizer.texts_to_sequences(questions_val)\n",
        "sequences_test = tokenizer.texts_to_sequences(questions_test)"
      ],
      "execution_count": 0,
      "outputs": []
    },
    {
      "cell_type": "markdown",
      "metadata": {
        "colab_type": "text",
        "id": "iiDIdjpY6FHO"
      },
      "source": [
        "### Pad sequences\n",
        "\n",
        "In this section, you will pad the vectorized questions using ```pad_sequences```. Your maximum sequence length is a design decision, just like vocab size. Advice, start with something short, so your model trains faster (maybe, between 10 and 20).\n",
        "\n",
        "For an example of pad_sequences, see this [notebook](https://github.com/fchollet/deep-learning-with-python-notebooks/blob/master/6.2-understanding-recurrent-neural-networks.ipynb)."
      ]
    },
    {
      "cell_type": "code",
      "metadata": {
        "colab_type": "code",
        "id": "s7KqB0-t0vci",
        "outputId": "bc7634e0-2a4b-4669-e3fa-083272855dea",
        "colab": {
          "base_uri": "https://localhost:8080/",
          "height": 53
        }
      },
      "source": [
        "# Your code here\n",
        "# To choose a reasonable sequence length, examine the length of all the \n",
        "# tokenized questions in the training set (in words).\n",
        "# Justify your choice, e.g. you should note that percentage of the \n",
        "# training questions that fall under that length (and will not be trimmed), \n",
        "# and the number of questions that will be.\n",
        "test_max = 10\n",
        "valid = 0\n",
        "unvalid = 0\n",
        "sumer = 0\n",
        "max_length = 0\n",
        "for each in sequences_train:\n",
        "  sumer += len(each)\n",
        "  if len(each) > max_length:\n",
        "    max_length = len(each)\n",
        "  if len(each) < test_max:\n",
        "    valid += 1\n",
        "  if len(each) > test_max:\n",
        "    unvalid += 1\n",
        "sumer = sumer/len(sequences_train)\n",
        "print(sumer,max_length)\n",
        "print('valid:',valid/len(sequences_train)*100,\"%\",\" unvalid:\",unvalid/len(sequences_train)*100,\"%\")"
      ],
      "execution_count": 35,
      "outputs": [
        {
          "output_type": "stream",
          "text": [
            "5.7035625 18\n",
            "valid: 95.89999999999999 %  unvalid: 2.3 %\n"
          ],
          "name": "stdout"
        }
      ]
    },
    {
      "cell_type": "code",
      "metadata": {
        "colab_type": "code",
        "id": "tqgmSiLzeY41",
        "colab": {}
      },
      "source": [
        "# Your code here\n",
        "MAX_SEQ_LEN = 10"
      ],
      "execution_count": 0,
      "outputs": []
    },
    {
      "cell_type": "code",
      "metadata": {
        "colab_type": "code",
        "id": "k66XWHrPdlKA",
        "colab": {
          "base_uri": "https://localhost:8080/",
          "height": 35
        },
        "outputId": "e258a15f-57d2-46f5-ca41-244e8b4b5b14"
      },
      "source": [
        "# Your code here\n",
        "# Use the pad_sequences utility to pad your training, \n",
        "# validation, and test questions.\n",
        "from keras.datasets import imdb\n",
        "from keras.preprocessing import sequence\n",
        "\n",
        "# To follow along with the rest of the statter code, you can use these\n",
        "# naming conventions\n",
        "\n",
        "# padded_train = tf.keras.preprocessing.sequence.pad_sequences...\n",
        "# padded_val = ...\n",
        "# paddeds_test = ...\n",
        "\n",
        "\n",
        "padded_train = sequence.pad_sequences(sequences_train, maxlen=MAX_SEQ_LEN)\n",
        "padded_val = sequence.pad_sequences(sequences_val, maxlen=MAX_SEQ_LEN)\n",
        "padded_test = sequence.pad_sequences(sequences_test, maxlen=MAX_SEQ_LEN)"
      ],
      "execution_count": 37,
      "outputs": [
        {
          "output_type": "stream",
          "text": [
            "Using TensorFlow backend.\n"
          ],
          "name": "stderr"
        }
      ]
    },
    {
      "cell_type": "markdown",
      "metadata": {
        "colab_type": "text",
        "id": "DCKOXMDwTvtE"
      },
      "source": [
        "### Sanity check\n",
        "You've just done a **bunch** of preprocessing. Optionally, now would be a good time to write a block of code to verify the tokenized and padded sequences are in the format you expect."
      ]
    },
    {
      "cell_type": "code",
      "metadata": {
        "colab_type": "code",
        "id": "jp9Wwup-T3aj",
        "outputId": "5afbdb3b-7bc6-444f-aeb5-f50c82e5edf4",
        "colab": {
          "base_uri": "https://localhost:8080/",
          "height": 377
        }
      },
      "source": [
        "# Your code here (optional).\n",
        "# Since you have a word_index from the tokenizer, you may \n",
        "# also want to write code to convert from a vectorized question\n",
        "# back to a string.\n",
        "reverse_word = dict(map(reversed,tokenizer.word_index.items()))\n",
        "def convert_to_text(indices):\n",
        "  words = [reverse_word.get(letter) for letter in indices]\n",
        "  return words\n",
        "for each in sequences_train[0:10]:\n",
        "  print(each)\n",
        "  print(list(map(convert_to_text,[each])))"
      ],
      "execution_count": 38,
      "outputs": [
        {
          "output_type": "stream",
          "text": [
            "[9, 2, 32, 1931, 376]\n",
            "[['does', 'the', 'water', 'pump', 'work']]\n",
            "[5, 14, 253, 85]\n",
            "[['are', 'these', 'bears', 'real']]\n",
            "[1, 4, 514, 10, 50, 729, 1354]\n",
            "[['is', 'this', 'type', 'of', 'animal', 'normally', 'ridden']]\n",
            "[5, 6, 38, 834, 835, 165, 7, 4, 17]\n",
            "[['are', 'there', 'at', 'least', 'three', 'elephants', 'in', 'this', 'picture']]\n",
            "[1, 4, 99, 140, 617]\n",
            "[['is', 'this', 'giraffe', 'full', 'grown']]\n",
            "[1, 4, 3, 311]\n",
            "[['is', 'this', 'a', 'cow']]\n",
            "[5, 2, 196, 211, 7, 2, 45, 294]\n",
            "[['are', 'the', 'zebras', 'facing', 'in', 'the', 'same', 'direction']]\n",
            "[1, 4, 3, 2691]\n",
            "[['is', 'this', 'a', 'crossroad']]\n",
            "[1, 2, 104, 1594]\n",
            "[['is', 'the', 'clock', 'glowing']]\n",
            "[5, 2, 197, 730, 232]\n",
            "[['are', 'the', 'skateboard', 'wheels', 'yellow']]\n"
          ],
          "name": "stdout"
        }
      ]
    },
    {
      "cell_type": "markdown",
      "metadata": {
        "colab_type": "text",
        "id": "7wocaXqRkZa_"
      },
      "source": [
        "### Create a tf.dataset for training, validation, and testing\n",
        "\n",
        "The method to create the dataset is provided for you, though you will need to get it working by passing the ```padded_train```, ```answers_train``` ```and images_train``` lists you created above.\n",
        "\n",
        "\n"
      ]
    },
    {
      "cell_type": "code",
      "metadata": {
        "colab_type": "code",
        "id": "SK46QgJ7fsiO",
        "colab": {}
      },
      "source": [
        "# You should not need to modify this.\n",
        "BATCH_SIZE = 32\n",
        "BUFFER_SIZE = 1000"
      ],
      "execution_count": 0,
      "outputs": []
    },
    {
      "cell_type": "code",
      "metadata": {
        "colab_type": "code",
        "id": "_HoznUX469tT",
        "colab": {}
      },
      "source": [
        "# You should not need to modify this.\n",
        "# Load cached activations off disk.\n",
        "def load_np(img_path, question, answer):\n",
        "  activations = np.load(img_path.decode('utf-8')+'.npy')\n",
        "  return activations, question, answer, img_path"
      ],
      "execution_count": 0,
      "outputs": []
    },
    {
      "cell_type": "code",
      "metadata": {
        "colab_type": "code",
        "id": "SS1JpUNV65cE",
        "colab": {}
      },
      "source": [
        "# You should not need to modify this.\n",
        "\n",
        "# This method will create a dataset that returns four elements.\n",
        "# - a batch of activations (loaded from disk)\n",
        "# - a batch of padded questions\n",
        "# - a batch of numeric answers\n",
        "# - a batch of absolute paths to the corresponding images\n",
        "def create_dataset(images, sequences, answers):\n",
        "  dataset = tf.data.Dataset.from_tensor_slices((images, \n",
        "                                                sequences, \n",
        "                                                answers))\n",
        "  # TODO jbgordon@: rewrite this to be clearer\n",
        "  # Load the cached activations off disk\n",
        "  dataset = dataset.map(lambda x, y, z: tf.numpy_function(\n",
        "      load_np, [x, y, z], [tf.float32, tf.int32, tf.float32, tf.string]),\n",
        "      num_parallel_calls=tf.data.experimental.AUTOTUNE)\n",
        "  \n",
        "  # Shuffle and batch\n",
        "  dataset = dataset.shuffle(BUFFER_SIZE).batch(BATCH_SIZE)\n",
        "  dataset = dataset.prefetch(buffer_size=tf.data.experimental.AUTOTUNE)\n",
        "  return dataset"
      ],
      "execution_count": 0,
      "outputs": []
    },
    {
      "cell_type": "code",
      "metadata": {
        "colab_type": "code",
        "id": "XAr49L-1D0pW",
        "outputId": "47ee5097-9898-439c-a10a-079c21b3f2c5",
        "colab": {
          "base_uri": "https://localhost:8080/",
          "height": 181
        }
      },
      "source": [
        "# Your code here\n",
        "\n",
        "# Call the above method to create train, val, and test datasets.\n",
        "# If you want to follow along with the starter code, I suggest these\n",
        "# variable names:\n",
        "\n",
        "# train_ds = create_dataset(images_train, padded_train, answers_train)\n",
        "# val_ds = ...\n",
        "# test_ds = ...\n",
        "answers_train = [float(each) for each in answers_train]\n",
        "train_ds = create_dataset(images_train, padded_train, answers_train)\n",
        "print(answers_val,padded_val,images_val)\n",
        "val_ds = create_dataset(images_val, padded_val, answers_val)\n",
        "test_ds = create_dataset(images_test, padded_test, answers_test)\n",
        "print(val_ds)"
      ],
      "execution_count": 42,
      "outputs": [
        {
          "output_type": "stream",
          "text": [
            "[0.0, 0.0, 1.0, 0.0, 0.0, 1.0, 0.0, 1.0, 1.0, 1.0, 1.0, 1.0, 1.0, 0.0, 1.0, 0.0, 1.0, 0.0, 0.0, 1.0, 1.0, 1.0, 1.0, 0.0, 1.0, 0.0, 1.0, 0.0, 0.0, 0.0, 1.0, 0.0, 1.0, 0.0, 1.0, 0.0, 0.0, 0.0, 1.0, 1.0, 1.0, 1.0, 1.0, 1.0, 0.0, 1.0, 0.0, 0.0, 1.0, 0.0, 0.0, 1.0, 1.0, 1.0, 0.0, 1.0, 0.0, 1.0, 0.0, 1.0, 1.0, 0.0, 1.0, 0.0, 1.0, 1.0, 1.0, 1.0, 0.0, 1.0, 0.0, 1.0, 0.0, 1.0, 0.0, 0.0, 1.0, 0.0, 0.0, 0.0, 0.0, 0.0, 0.0, 1.0, 0.0, 0.0, 1.0, 1.0, 1.0, 1.0, 0.0, 1.0, 1.0, 0.0, 0.0, 1.0, 1.0, 0.0, 1.0, 1.0, 0.0, 1.0, 1.0, 1.0, 0.0, 0.0, 1.0, 0.0, 0.0, 1.0, 1.0, 1.0, 0.0, 1.0, 1.0, 1.0, 1.0, 0.0, 0.0, 0.0, 1.0, 0.0, 0.0, 1.0, 0.0, 1.0, 0.0, 0.0, 0.0, 0.0, 0.0, 1.0, 0.0, 0.0, 0.0, 1.0, 1.0, 1.0, 1.0, 1.0, 1.0, 0.0, 1.0, 1.0, 1.0, 0.0, 0.0, 0.0, 1.0, 0.0, 0.0, 0.0, 1.0, 0.0, 0.0, 1.0, 0.0, 1.0, 1.0, 0.0, 0.0, 1.0, 0.0, 1.0, 0.0, 0.0, 0.0, 1.0, 0.0, 1.0, 1.0, 1.0, 1.0, 0.0, 0.0, 1.0, 1.0, 1.0, 0.0, 1.0, 0.0, 1.0, 1.0, 0.0, 0.0, 0.0, 1.0, 1.0, 1.0, 0.0, 1.0, 0.0, 0.0, 1.0, 1.0, 0.0, 1.0, 1.0, 1.0, 0.0, 1.0, 0.0, 0.0, 0.0, 0.0, 1.0, 1.0, 1.0, 0.0, 0.0, 0.0, 0.0, 1.0, 0.0, 0.0, 1.0, 1.0, 0.0, 1.0, 1.0, 1.0, 1.0, 1.0, 0.0, 0.0, 1.0, 1.0, 1.0, 1.0, 1.0, 0.0, 1.0, 1.0, 1.0, 0.0, 0.0, 1.0, 1.0, 0.0, 0.0, 1.0, 0.0, 0.0, 1.0, 1.0, 1.0, 0.0, 0.0, 0.0, 1.0, 1.0, 0.0, 0.0, 0.0, 0.0, 1.0, 0.0, 1.0, 1.0, 1.0, 0.0, 0.0, 1.0, 0.0, 1.0, 0.0, 0.0, 1.0, 1.0, 0.0, 0.0, 0.0, 0.0, 0.0, 0.0, 0.0, 0.0, 0.0, 1.0, 1.0, 1.0, 0.0, 0.0, 1.0, 0.0, 0.0, 1.0, 0.0, 0.0, 1.0, 1.0, 1.0, 1.0, 0.0, 1.0, 0.0, 1.0, 0.0, 0.0, 1.0, 0.0, 1.0, 0.0, 1.0, 1.0, 1.0, 1.0, 1.0, 1.0, 1.0, 0.0, 1.0, 0.0, 0.0, 0.0, 0.0, 0.0, 1.0, 0.0, 0.0, 0.0, 0.0, 1.0, 1.0, 1.0, 0.0, 0.0, 1.0, 1.0, 0.0, 1.0, 1.0, 0.0, 1.0, 1.0, 0.0, 0.0, 1.0, 1.0, 1.0, 0.0, 1.0, 1.0, 1.0, 0.0, 1.0, 1.0, 0.0, 1.0, 1.0, 1.0, 1.0, 0.0, 0.0, 1.0, 0.0, 0.0, 1.0, 1.0, 0.0, 1.0, 0.0, 0.0, 1.0, 0.0, 1.0, 0.0, 0.0, 1.0, 1.0, 0.0, 1.0, 1.0, 1.0, 1.0, 0.0, 0.0, 0.0, 0.0, 1.0, 1.0, 0.0, 0.0, 0.0, 1.0, 1.0, 1.0, 0.0, 1.0, 0.0, 0.0, 0.0, 1.0, 0.0, 1.0, 1.0, 1.0, 0.0, 1.0, 0.0, 0.0, 1.0, 0.0, 0.0, 1.0, 1.0, 1.0, 1.0, 0.0, 0.0, 0.0, 1.0, 0.0, 0.0, 1.0, 0.0, 1.0, 1.0, 0.0, 1.0, 0.0, 1.0, 0.0, 1.0, 1.0, 0.0, 0.0, 1.0, 1.0, 0.0, 1.0, 0.0, 0.0, 1.0, 1.0, 0.0, 1.0, 0.0, 1.0, 0.0, 1.0, 0.0, 1.0, 0.0, 1.0, 1.0, 0.0, 0.0, 0.0, 1.0, 1.0, 1.0, 0.0, 1.0, 1.0, 1.0, 0.0, 0.0, 0.0, 0.0, 0.0, 0.0, 1.0, 1.0, 1.0, 0.0, 0.0, 1.0, 0.0, 0.0, 0.0, 0.0, 0.0, 1.0, 0.0, 0.0, 0.0, 0.0, 1.0, 0.0, 1.0, 0.0, 0.0, 1.0, 1.0, 0.0, 1.0, 0.0, 0.0, 1.0, 1.0, 0.0, 1.0, 0.0, 1.0, 1.0, 1.0, 0.0, 0.0, 0.0, 1.0, 1.0, 1.0, 0.0, 0.0, 0.0, 1.0, 1.0, 1.0, 0.0, 0.0, 0.0, 0.0, 0.0, 0.0, 1.0, 1.0, 0.0, 0.0, 0.0, 1.0, 0.0, 0.0, 0.0, 0.0, 1.0, 1.0, 1.0, 0.0, 0.0, 1.0, 1.0, 1.0, 1.0, 1.0, 0.0, 1.0, 0.0, 0.0, 1.0, 0.0, 0.0, 0.0, 1.0, 0.0, 0.0, 0.0, 1.0, 1.0, 0.0, 1.0, 1.0, 1.0, 1.0, 1.0, 1.0, 0.0, 1.0, 0.0, 0.0, 0.0, 1.0, 1.0, 1.0, 1.0, 1.0, 0.0, 1.0, 0.0, 0.0, 1.0, 1.0, 1.0, 1.0, 1.0, 1.0, 0.0, 1.0, 1.0, 0.0, 1.0, 1.0, 1.0, 1.0, 0.0, 0.0, 1.0, 1.0, 0.0, 1.0, 0.0, 1.0, 0.0, 0.0, 1.0, 0.0, 0.0, 0.0, 0.0, 0.0, 0.0, 1.0, 0.0, 0.0, 1.0, 1.0, 1.0, 0.0, 1.0, 0.0, 0.0, 1.0, 1.0, 0.0, 0.0, 1.0, 1.0, 0.0, 0.0, 0.0, 1.0, 1.0, 0.0, 1.0, 1.0, 1.0, 0.0, 0.0, 1.0, 0.0, 0.0, 1.0, 0.0, 1.0, 0.0, 0.0, 0.0, 1.0, 0.0, 1.0, 0.0, 0.0, 0.0, 1.0, 1.0, 0.0, 0.0, 0.0, 0.0, 1.0, 1.0, 1.0, 0.0, 1.0, 0.0, 1.0, 1.0, 1.0, 1.0, 0.0, 0.0, 1.0, 0.0, 1.0, 0.0, 0.0, 1.0, 0.0, 1.0, 1.0, 1.0, 0.0, 0.0, 0.0, 0.0, 0.0, 0.0, 0.0, 1.0, 1.0, 0.0, 0.0, 0.0, 1.0, 1.0, 1.0, 1.0, 1.0, 1.0, 0.0, 1.0, 1.0, 1.0, 1.0, 0.0, 0.0, 0.0, 0.0, 1.0, 1.0, 1.0, 1.0, 1.0, 1.0, 1.0, 0.0, 0.0, 1.0, 0.0, 0.0, 1.0, 1.0, 1.0, 1.0, 0.0, 1.0, 1.0, 0.0, 1.0, 1.0, 0.0, 1.0, 1.0, 1.0, 1.0, 0.0, 1.0, 0.0, 0.0, 0.0, 0.0, 0.0, 1.0, 1.0, 1.0, 1.0, 1.0, 0.0, 0.0, 1.0, 1.0, 0.0, 1.0, 0.0, 1.0, 1.0, 0.0, 0.0, 0.0, 0.0, 1.0, 0.0, 0.0, 0.0, 1.0, 0.0, 0.0, 0.0, 0.0, 1.0, 0.0, 1.0, 0.0, 0.0, 0.0, 1.0, 1.0, 0.0, 1.0, 0.0, 0.0, 1.0, 1.0, 1.0, 1.0, 1.0, 1.0, 1.0, 1.0, 1.0, 1.0, 1.0, 1.0, 1.0, 1.0, 1.0, 0.0, 1.0, 1.0, 0.0, 0.0, 1.0, 1.0, 1.0, 1.0, 0.0, 0.0, 1.0, 0.0, 1.0, 1.0, 1.0, 1.0, 1.0, 1.0, 1.0, 1.0, 1.0, 0.0, 1.0, 1.0, 0.0, 0.0, 1.0, 0.0, 0.0, 1.0, 1.0, 0.0, 1.0, 0.0, 1.0, 0.0, 0.0, 1.0, 1.0, 0.0, 0.0, 0.0, 0.0, 1.0, 0.0, 1.0, 0.0, 1.0, 1.0, 1.0, 1.0, 1.0, 1.0, 0.0, 1.0, 1.0, 0.0, 1.0, 1.0, 1.0, 1.0, 1.0, 0.0, 0.0, 0.0, 1.0, 0.0, 0.0, 0.0, 1.0, 0.0, 1.0, 0.0, 0.0, 1.0, 1.0, 0.0, 1.0, 1.0, 1.0, 0.0, 1.0, 0.0, 0.0, 1.0, 1.0, 1.0, 0.0, 0.0, 1.0, 0.0, 1.0, 1.0, 1.0, 1.0, 1.0, 0.0, 1.0, 1.0, 0.0, 0.0, 1.0, 1.0, 0.0, 0.0, 1.0, 0.0, 1.0, 0.0, 0.0, 0.0, 1.0, 0.0, 0.0, 0.0, 0.0, 0.0, 1.0, 1.0, 1.0, 1.0, 0.0, 0.0, 0.0, 1.0, 1.0, 0.0, 0.0, 0.0, 1.0, 1.0, 0.0, 1.0, 1.0, 1.0, 0.0, 0.0, 1.0, 1.0, 0.0, 1.0, 1.0, 0.0, 0.0, 0.0, 1.0, 1.0, 1.0, 1.0, 1.0, 1.0, 0.0, 1.0, 1.0, 1.0, 1.0, 0.0, 0.0, 1.0, 1.0, 0.0, 1.0, 0.0, 0.0, 0.0, 0.0, 0.0, 1.0, 0.0, 1.0, 1.0, 1.0, 1.0, 0.0, 0.0, 1.0, 0.0, 0.0, 0.0, 0.0, 0.0, 1.0, 0.0, 0.0, 0.0, 1.0, 0.0, 1.0, 0.0, 1.0, 0.0, 1.0, 0.0, 0.0, 1.0, 1.0, 0.0, 1.0, 0.0, 0.0, 0.0, 1.0, 0.0, 1.0, 1.0, 1.0, 0.0, 1.0, 0.0, 0.0, 1.0, 1.0, 0.0, 0.0, 0.0, 0.0, 0.0, 0.0, 0.0, 1.0, 1.0, 0.0, 0.0, 1.0, 0.0, 0.0, 0.0, 1.0, 0.0, 1.0, 0.0, 1.0, 1.0, 1.0, 0.0, 0.0, 0.0, 0.0, 0.0, 1.0, 1.0, 1.0, 0.0, 0.0, 0.0, 0.0, 1.0, 1.0, 1.0, 0.0, 0.0, 1.0, 0.0, 0.0, 0.0, 0.0, 0.0, 1.0, 0.0, 0.0, 0.0, 0.0, 0.0, 0.0, 0.0, 0.0, 1.0, 1.0, 1.0, 1.0, 1.0, 0.0, 0.0, 1.0, 1.0, 1.0, 1.0, 1.0, 1.0, 0.0, 0.0, 1.0, 0.0, 1.0, 0.0, 1.0, 1.0, 1.0, 0.0, 0.0, 0.0, 0.0, 0.0, 0.0, 0.0, 0.0, 1.0, 1.0, 0.0, 0.0, 0.0, 0.0, 0.0, 1.0, 0.0, 0.0, 1.0, 1.0, 1.0, 0.0, 1.0, 1.0, 0.0, 1.0, 0.0, 1.0, 0.0, 1.0, 0.0, 1.0, 0.0, 1.0, 0.0, 1.0, 1.0, 1.0, 1.0, 1.0, 0.0, 0.0, 1.0, 1.0, 1.0, 1.0, 0.0, 1.0, 0.0, 0.0, 0.0, 0.0, 0.0, 0.0, 1.0, 1.0, 1.0, 0.0, 0.0, 0.0, 0.0, 1.0, 1.0, 0.0, 1.0, 0.0, 1.0, 1.0, 0.0, 1.0, 1.0, 1.0, 0.0, 1.0, 0.0, 0.0, 0.0, 0.0, 0.0, 1.0, 0.0, 1.0, 1.0, 1.0, 1.0, 0.0, 1.0, 0.0, 1.0, 0.0, 0.0, 0.0, 0.0, 1.0, 0.0, 1.0, 1.0, 0.0, 0.0, 1.0, 1.0, 0.0, 1.0, 0.0, 0.0, 0.0, 1.0, 1.0, 1.0, 1.0, 1.0, 1.0, 0.0, 0.0, 1.0, 0.0, 0.0, 0.0, 1.0, 1.0, 1.0, 1.0, 0.0, 1.0, 0.0, 0.0, 1.0, 1.0, 1.0, 0.0, 1.0, 0.0, 1.0, 1.0, 1.0, 1.0, 0.0, 1.0, 1.0, 1.0, 0.0, 1.0, 1.0, 0.0, 1.0, 1.0, 0.0, 1.0, 0.0, 1.0, 0.0, 0.0, 1.0, 1.0, 1.0, 0.0, 1.0, 1.0, 0.0, 0.0, 0.0, 0.0, 1.0, 1.0, 1.0, 1.0, 0.0, 1.0, 1.0, 0.0, 1.0, 1.0, 1.0, 1.0, 0.0, 1.0, 0.0, 1.0, 1.0, 1.0, 0.0, 1.0, 0.0, 1.0, 1.0, 0.0, 0.0, 0.0, 0.0, 1.0, 1.0, 0.0, 0.0, 0.0, 0.0, 0.0, 1.0, 1.0, 0.0, 0.0, 0.0, 0.0, 0.0, 1.0, 1.0, 0.0, 0.0, 1.0, 1.0, 1.0, 0.0, 1.0, 1.0, 1.0, 1.0, 0.0, 1.0, 1.0, 1.0, 0.0, 0.0, 0.0, 0.0, 1.0, 1.0, 0.0, 0.0, 1.0, 0.0, 1.0, 0.0, 1.0, 0.0, 1.0, 0.0, 0.0, 1.0, 1.0, 1.0, 1.0, 1.0, 1.0, 1.0, 1.0, 0.0, 1.0, 0.0, 0.0, 1.0, 0.0, 1.0, 0.0, 1.0, 0.0, 0.0, 1.0, 1.0, 0.0, 0.0, 0.0, 1.0, 1.0, 0.0, 0.0, 0.0, 0.0, 1.0, 1.0, 0.0, 1.0, 0.0, 1.0, 0.0, 0.0, 1.0, 0.0, 1.0, 0.0, 0.0, 0.0, 0.0, 1.0, 1.0, 0.0, 0.0, 1.0, 1.0, 0.0, 1.0, 0.0, 1.0, 0.0, 1.0, 0.0, 0.0, 0.0, 1.0, 0.0, 0.0, 0.0, 1.0, 0.0, 1.0, 0.0, 0.0, 1.0, 1.0, 1.0, 0.0, 1.0, 0.0, 1.0, 1.0, 0.0, 0.0, 1.0, 0.0, 0.0, 1.0, 0.0, 1.0, 1.0, 1.0, 1.0, 1.0, 0.0, 0.0, 0.0, 0.0, 1.0, 0.0, 1.0, 1.0, 1.0, 1.0, 0.0, 1.0, 1.0, 0.0, 1.0, 1.0, 0.0, 1.0, 1.0, 1.0, 1.0, 1.0, 0.0, 1.0, 1.0, 0.0, 0.0, 1.0, 1.0, 0.0, 1.0, 1.0, 0.0, 0.0, 1.0, 1.0, 1.0, 0.0, 0.0, 1.0, 0.0, 1.0, 1.0, 0.0, 0.0, 0.0, 0.0, 1.0, 0.0, 0.0, 1.0, 0.0, 0.0, 0.0, 0.0, 0.0, 1.0, 0.0, 0.0, 1.0, 0.0, 1.0, 0.0, 0.0, 1.0, 0.0, 0.0, 0.0, 1.0, 0.0, 1.0, 0.0, 0.0, 0.0, 0.0, 0.0, 0.0, 0.0, 1.0, 1.0, 0.0, 1.0, 0.0, 1.0, 1.0, 1.0, 0.0, 1.0, 1.0, 0.0, 0.0, 0.0, 1.0, 1.0, 1.0, 0.0, 0.0, 0.0, 1.0, 0.0, 0.0, 1.0, 1.0, 1.0, 0.0, 1.0, 1.0, 0.0, 1.0, 1.0, 1.0, 1.0, 0.0, 1.0, 1.0, 1.0, 0.0, 0.0, 1.0, 0.0, 0.0, 1.0, 1.0, 0.0, 0.0, 0.0, 1.0, 1.0, 1.0, 0.0, 0.0, 0.0, 1.0, 1.0, 1.0, 1.0, 1.0, 0.0, 1.0, 1.0, 1.0, 1.0, 1.0, 1.0, 0.0, 0.0, 1.0, 1.0, 1.0, 0.0, 0.0, 1.0, 1.0, 0.0, 1.0, 0.0, 0.0, 0.0, 0.0, 1.0, 1.0, 1.0, 0.0, 1.0, 0.0, 0.0, 0.0, 1.0, 0.0, 0.0, 0.0, 1.0, 1.0, 1.0, 1.0, 1.0, 1.0, 0.0, 1.0, 0.0, 1.0, 0.0, 1.0, 0.0, 0.0, 0.0, 0.0, 0.0, 1.0, 1.0, 1.0, 1.0, 1.0, 0.0, 1.0, 1.0, 1.0, 1.0, 1.0, 1.0, 0.0, 1.0, 0.0, 1.0, 1.0, 0.0, 1.0, 0.0, 0.0, 1.0, 0.0, 0.0, 1.0, 1.0, 1.0, 0.0, 0.0, 0.0, 1.0, 0.0, 0.0, 1.0, 1.0, 0.0, 0.0, 1.0, 1.0, 1.0, 0.0, 1.0, 1.0, 1.0, 0.0, 1.0, 0.0, 0.0, 0.0, 0.0, 1.0, 0.0, 1.0, 0.0, 0.0, 1.0, 1.0, 1.0, 0.0, 0.0, 0.0, 0.0, 1.0, 0.0, 0.0, 0.0, 0.0, 0.0, 0.0, 0.0, 0.0, 0.0, 1.0, 1.0, 0.0, 0.0, 0.0, 0.0, 0.0, 1.0, 1.0, 1.0, 1.0, 1.0, 1.0, 1.0, 1.0, 0.0, 1.0, 1.0, 1.0, 0.0, 1.0, 1.0, 1.0, 1.0, 1.0, 1.0, 1.0, 1.0, 0.0, 0.0, 1.0, 1.0, 1.0, 0.0, 0.0, 0.0, 1.0, 1.0, 0.0, 1.0, 0.0, 0.0, 0.0, 0.0, 1.0, 1.0, 0.0, 1.0, 0.0, 1.0, 0.0, 0.0, 0.0, 0.0, 1.0, 1.0, 0.0, 0.0, 0.0, 1.0, 0.0, 0.0, 1.0, 1.0, 1.0, 0.0, 0.0, 1.0, 1.0, 0.0, 1.0, 1.0, 0.0, 0.0, 0.0, 0.0, 0.0, 0.0, 0.0, 1.0, 1.0, 0.0, 1.0, 0.0, 0.0, 1.0, 0.0, 1.0, 1.0, 0.0, 0.0, 1.0, 0.0, 1.0, 1.0, 1.0, 1.0, 1.0, 1.0, 1.0, 1.0, 0.0, 1.0, 1.0, 0.0, 1.0, 1.0, 0.0, 1.0, 0.0, 0.0, 1.0, 1.0, 1.0, 1.0, 0.0, 1.0, 1.0, 0.0, 0.0, 1.0, 1.0, 0.0, 0.0, 0.0, 1.0, 0.0, 0.0, 1.0, 0.0, 0.0, 1.0, 1.0, 0.0, 0.0, 1.0, 0.0, 1.0, 0.0, 0.0, 0.0, 1.0, 1.0, 0.0, 0.0, 1.0, 1.0, 0.0, 0.0, 1.0, 0.0, 1.0, 1.0, 0.0, 1.0, 0.0, 0.0, 1.0, 1.0, 1.0, 0.0, 1.0, 0.0, 1.0, 1.0, 1.0, 0.0, 1.0, 0.0, 0.0, 1.0, 0.0, 0.0, 1.0, 0.0, 1.0, 1.0, 0.0, 1.0, 1.0, 1.0, 1.0, 0.0, 1.0, 1.0, 1.0, 1.0, 1.0, 1.0, 0.0, 1.0, 1.0, 1.0, 0.0, 1.0, 1.0, 0.0, 1.0, 0.0, 1.0, 1.0, 1.0, 0.0, 0.0, 0.0, 1.0, 0.0, 0.0, 0.0, 0.0, 0.0, 0.0, 0.0, 0.0, 0.0, 0.0, 0.0, 1.0, 0.0, 1.0, 0.0, 1.0, 1.0, 1.0, 1.0, 1.0, 0.0, 1.0, 0.0, 1.0, 0.0, 0.0, 1.0, 0.0, 1.0, 0.0, 1.0, 0.0, 1.0, 1.0, 1.0, 0.0, 0.0, 0.0, 1.0, 1.0, 0.0, 0.0, 0.0, 1.0, 0.0, 1.0, 0.0, 0.0, 1.0, 0.0, 1.0, 0.0, 0.0, 0.0, 1.0, 1.0, 1.0, 0.0, 0.0, 1.0, 1.0, 0.0, 0.0, 0.0, 0.0, 1.0, 0.0, 0.0, 0.0, 1.0, 1.0, 1.0, 0.0, 1.0, 0.0, 0.0, 0.0, 1.0, 1.0, 1.0, 1.0, 0.0, 0.0, 1.0, 1.0, 1.0, 1.0, 0.0, 0.0, 0.0, 0.0, 1.0, 1.0, 0.0, 1.0, 1.0, 0.0, 0.0, 0.0, 0.0, 0.0, 1.0, 1.0, 1.0, 0.0, 1.0, 1.0, 0.0, 0.0, 1.0, 0.0, 0.0, 1.0, 1.0, 1.0, 1.0, 1.0, 1.0, 0.0, 1.0, 0.0, 1.0, 1.0, 1.0, 0.0, 1.0, 0.0, 1.0, 0.0, 0.0, 1.0, 1.0, 1.0, 0.0, 1.0, 1.0, 0.0, 1.0, 0.0, 1.0, 1.0, 0.0, 0.0, 1.0, 0.0, 0.0, 1.0, 0.0, 0.0, 1.0, 0.0, 1.0, 1.0, 1.0, 1.0, 1.0, 0.0, 1.0, 0.0, 1.0, 1.0, 0.0, 0.0, 0.0, 1.0, 1.0, 1.0, 0.0, 0.0, 1.0, 1.0, 0.0, 0.0, 1.0, 0.0, 0.0, 0.0, 1.0, 0.0, 0.0, 0.0, 1.0, 0.0, 1.0, 0.0, 1.0, 0.0, 0.0, 0.0, 0.0, 0.0, 1.0, 1.0, 0.0, 1.0, 1.0, 0.0, 1.0, 0.0, 0.0, 0.0, 1.0, 1.0, 0.0, 1.0, 1.0, 1.0, 0.0, 1.0, 1.0, 0.0, 1.0, 0.0, 0.0, 0.0, 0.0, 1.0, 0.0, 1.0, 1.0, 1.0, 0.0, 0.0, 1.0, 1.0, 1.0, 1.0, 0.0, 0.0, 0.0, 0.0, 0.0, 0.0, 0.0, 1.0, 0.0, 1.0, 1.0, 1.0, 1.0, 1.0, 1.0, 1.0, 0.0, 1.0, 0.0, 1.0, 0.0, 0.0, 1.0, 1.0, 1.0, 0.0, 0.0, 1.0, 1.0, 1.0, 1.0, 1.0, 1.0, 1.0, 1.0, 0.0, 1.0, 0.0, 1.0, 1.0, 0.0, 1.0, 1.0, 1.0, 1.0, 0.0, 1.0, 0.0, 0.0, 0.0, 0.0, 0.0, 0.0, 1.0, 0.0, 1.0, 1.0, 0.0, 0.0, 1.0, 0.0, 0.0, 1.0, 0.0, 0.0, 1.0, 1.0, 1.0, 0.0, 0.0, 1.0, 1.0, 1.0, 0.0, 1.0, 0.0, 0.0, 1.0, 1.0, 0.0, 1.0, 0.0, 0.0, 1.0, 1.0, 1.0, 1.0, 1.0, 0.0, 0.0, 0.0, 0.0, 1.0, 0.0, 0.0, 1.0, 1.0, 0.0, 0.0, 0.0, 1.0, 0.0, 0.0, 0.0, 1.0, 0.0, 1.0, 1.0, 0.0, 1.0, 1.0, 1.0, 0.0, 1.0, 1.0, 0.0, 1.0, 0.0, 1.0, 0.0, 0.0, 0.0, 1.0, 1.0, 1.0, 0.0, 0.0, 1.0, 1.0, 0.0, 0.0, 1.0, 1.0, 1.0, 0.0, 1.0, 0.0, 0.0, 0.0, 1.0, 1.0, 0.0, 0.0, 0.0, 1.0, 1.0, 1.0, 1.0, 1.0, 0.0, 1.0, 1.0, 1.0, 0.0, 0.0, 0.0, 0.0, 0.0, 0.0, 1.0, 1.0, 0.0, 1.0, 0.0, 1.0, 0.0, 1.0, 0.0, 0.0, 1.0, 1.0, 0.0, 1.0, 0.0, 1.0, 0.0, 1.0, 0.0, 0.0, 0.0, 0.0, 1.0, 1.0, 1.0, 0.0, 0.0, 1.0, 0.0, 0.0, 1.0, 0.0, 0.0, 0.0, 0.0, 0.0, 0.0, 1.0, 1.0, 1.0, 0.0, 0.0, 0.0, 0.0, 0.0, 1.0, 1.0, 1.0, 0.0, 1.0, 0.0, 1.0, 1.0, 1.0, 1.0, 0.0, 1.0, 0.0, 1.0, 1.0, 0.0, 1.0, 1.0, 1.0, 0.0, 1.0, 0.0, 1.0, 0.0, 0.0, 1.0, 1.0, 1.0, 0.0, 0.0, 1.0, 1.0, 0.0, 0.0, 1.0, 0.0, 0.0, 1.0, 1.0, 0.0, 0.0, 1.0, 0.0, 1.0, 0.0, 1.0, 1.0, 1.0, 1.0, 1.0, 1.0, 0.0, 1.0, 0.0, 1.0, 1.0, 0.0, 0.0, 0.0, 1.0, 0.0, 0.0, 0.0, 0.0, 0.0, 1.0, 1.0, 0.0, 1.0, 0.0, 0.0, 1.0, 1.0, 0.0, 1.0, 1.0, 1.0, 0.0, 0.0, 0.0, 1.0, 1.0, 0.0, 1.0, 1.0, 0.0, 0.0, 1.0, 1.0, 0.0, 0.0, 1.0, 1.0, 0.0, 1.0, 0.0, 0.0, 1.0, 0.0, 0.0, 1.0, 0.0, 1.0, 0.0, 0.0, 1.0, 0.0, 0.0, 1.0, 0.0, 1.0, 1.0, 0.0, 1.0, 0.0, 1.0, 1.0, 1.0, 1.0, 0.0, 1.0, 0.0, 0.0, 0.0, 0.0, 0.0, 0.0, 1.0, 1.0, 1.0, 0.0, 1.0, 1.0, 0.0, 1.0, 0.0, 1.0, 1.0, 0.0, 0.0, 1.0, 0.0, 1.0, 1.0, 0.0, 0.0, 0.0, 1.0, 0.0, 1.0, 1.0, 0.0, 1.0, 0.0, 1.0, 0.0, 0.0, 1.0, 1.0, 0.0, 1.0, 1.0, 1.0, 1.0, 0.0, 1.0, 0.0, 1.0, 1.0, 1.0, 1.0, 0.0, 0.0, 0.0, 0.0, 0.0, 1.0, 1.0, 0.0, 0.0, 1.0, 0.0, 0.0, 1.0, 1.0, 0.0, 1.0, 1.0, 1.0, 1.0, 1.0, 0.0, 1.0, 0.0, 0.0, 0.0, 1.0, 1.0, 1.0, 1.0, 1.0, 1.0, 0.0, 1.0, 0.0, 0.0, 1.0, 1.0, 1.0, 1.0, 0.0, 1.0, 1.0, 0.0, 0.0, 1.0, 0.0, 0.0, 0.0, 1.0, 1.0, 1.0, 0.0, 1.0, 1.0, 1.0, 0.0, 1.0, 1.0, 0.0, 0.0, 0.0, 0.0, 1.0, 1.0, 1.0, 1.0, 0.0, 1.0, 1.0, 0.0, 0.0, 1.0, 0.0, 0.0, 0.0, 1.0, 0.0, 1.0, 0.0, 0.0, 1.0, 1.0, 0.0, 0.0, 0.0, 0.0, 1.0, 1.0, 1.0, 1.0, 0.0, 0.0, 1.0, 1.0, 0.0, 0.0, 1.0, 1.0, 1.0, 1.0, 1.0, 0.0, 1.0, 0.0, 0.0, 1.0, 1.0, 0.0, 1.0, 0.0, 0.0, 1.0, 0.0, 0.0, 0.0, 0.0, 1.0, 1.0, 1.0, 0.0, 0.0, 1.0, 1.0, 1.0, 1.0, 1.0, 1.0, 1.0, 0.0, 1.0, 1.0, 0.0, 1.0, 1.0, 1.0, 0.0, 1.0, 1.0, 0.0, 1.0, 0.0, 1.0, 0.0, 1.0, 1.0, 1.0, 0.0, 1.0, 0.0, 1.0, 0.0, 0.0, 1.0, 1.0, 0.0, 0.0, 0.0, 0.0, 0.0, 1.0, 1.0, 0.0, 1.0, 1.0, 1.0, 1.0, 1.0, 1.0, 0.0, 1.0, 1.0, 0.0, 0.0, 1.0, 0.0, 0.0, 1.0, 0.0, 1.0, 1.0, 0.0, 0.0, 1.0, 1.0, 0.0, 0.0, 1.0, 0.0, 0.0, 0.0, 1.0, 0.0, 1.0, 1.0, 0.0, 1.0, 1.0, 0.0, 1.0, 1.0, 1.0, 1.0, 0.0, 1.0, 0.0, 0.0, 1.0, 0.0, 0.0, 0.0, 1.0, 0.0, 0.0, 1.0, 0.0, 0.0, 0.0, 0.0, 1.0, 1.0, 0.0, 0.0, 0.0, 0.0, 1.0, 1.0, 0.0, 0.0, 0.0, 0.0, 1.0, 1.0, 0.0, 0.0, 0.0, 0.0, 1.0, 1.0, 1.0, 1.0, 0.0, 0.0, 0.0, 0.0, 1.0, 0.0, 0.0, 0.0, 0.0, 0.0, 0.0, 0.0, 0.0, 0.0, 0.0, 0.0, 1.0, 0.0, 0.0, 0.0, 1.0, 1.0, 1.0, 0.0, 1.0, 1.0, 0.0, 0.0, 0.0, 0.0, 1.0, 1.0, 0.0, 0.0, 0.0, 1.0, 0.0, 1.0, 1.0, 1.0, 0.0, 1.0, 1.0, 1.0, 1.0, 1.0, 0.0, 0.0, 1.0, 0.0, 0.0, 1.0, 0.0, 1.0, 1.0, 0.0, 0.0, 1.0, 0.0, 0.0, 1.0, 0.0, 0.0, 1.0, 1.0, 0.0, 0.0, 1.0, 0.0, 0.0, 0.0, 1.0, 0.0, 1.0, 0.0, 0.0, 0.0, 1.0, 0.0, 0.0, 1.0, 0.0, 1.0, 0.0, 0.0, 0.0, 0.0, 0.0, 1.0, 1.0, 0.0, 1.0, 1.0, 1.0, 0.0, 0.0, 1.0, 1.0, 1.0, 0.0, 0.0, 1.0, 0.0, 0.0, 0.0, 0.0, 0.0, 1.0, 1.0, 1.0, 0.0, 0.0, 1.0, 1.0, 1.0, 0.0, 1.0, 0.0, 1.0, 0.0, 0.0, 0.0, 0.0, 1.0, 0.0, 0.0, 0.0, 0.0, 1.0, 0.0, 0.0, 1.0, 0.0, 0.0, 1.0, 1.0, 0.0, 0.0, 1.0, 1.0, 0.0, 1.0, 1.0, 0.0, 1.0, 1.0, 0.0, 0.0, 0.0, 0.0, 0.0, 1.0, 0.0, 1.0, 1.0, 0.0, 1.0, 1.0, 1.0, 0.0, 1.0, 0.0, 1.0, 1.0, 1.0, 1.0, 1.0, 1.0, 0.0, 1.0, 0.0, 0.0, 1.0, 0.0, 0.0, 1.0, 0.0, 0.0, 1.0, 1.0, 1.0, 0.0, 1.0, 0.0, 0.0, 1.0, 0.0, 0.0, 0.0, 0.0, 0.0, 0.0, 0.0, 0.0, 1.0, 1.0, 0.0, 0.0, 1.0, 0.0, 1.0, 1.0, 0.0, 1.0, 1.0, 1.0, 0.0, 0.0, 1.0, 1.0, 1.0, 0.0, 1.0, 1.0, 0.0, 0.0, 0.0, 1.0, 1.0, 0.0, 1.0, 1.0, 1.0, 1.0, 1.0, 0.0, 0.0, 1.0, 0.0, 0.0, 1.0, 0.0, 0.0, 1.0, 1.0, 1.0, 1.0, 1.0, 0.0, 1.0, 1.0, 1.0, 1.0, 1.0, 1.0, 0.0, 1.0, 0.0, 0.0, 0.0, 1.0, 0.0, 1.0, 0.0, 1.0, 1.0, 1.0, 1.0, 0.0, 1.0, 0.0, 0.0, 0.0, 1.0, 0.0, 1.0, 0.0, 1.0, 1.0, 0.0, 0.0, 0.0, 0.0, 1.0, 0.0, 1.0, 0.0, 0.0, 1.0, 0.0, 0.0, 1.0, 1.0, 0.0, 1.0, 1.0, 1.0, 1.0, 0.0, 1.0, 0.0, 1.0, 1.0, 0.0, 0.0, 1.0, 1.0, 0.0, 1.0, 1.0, 0.0, 1.0, 1.0, 1.0, 1.0, 1.0, 1.0, 0.0, 0.0, 0.0, 1.0, 0.0, 1.0, 1.0, 1.0, 1.0, 1.0, 1.0, 0.0, 0.0, 0.0, 1.0, 0.0, 0.0, 1.0, 1.0, 0.0, 1.0, 1.0, 0.0, 0.0, 0.0, 0.0, 1.0, 0.0, 0.0, 1.0, 0.0, 1.0, 1.0, 0.0, 0.0, 1.0, 0.0, 0.0, 0.0, 1.0, 1.0, 0.0, 0.0, 0.0, 1.0, 0.0, 0.0, 1.0, 1.0, 1.0, 1.0, 1.0, 1.0, 1.0, 0.0, 1.0, 1.0, 1.0, 1.0, 1.0, 0.0, 0.0, 0.0, 0.0, 0.0, 1.0, 1.0, 0.0, 0.0, 0.0, 1.0, 1.0, 1.0, 0.0, 0.0, 1.0, 1.0, 0.0, 0.0, 1.0, 1.0, 1.0, 0.0, 1.0, 1.0, 0.0, 0.0, 1.0, 1.0, 0.0, 1.0, 1.0, 1.0, 0.0, 0.0, 1.0, 1.0, 1.0, 0.0, 0.0, 0.0, 1.0, 1.0, 0.0, 0.0, 0.0, 1.0, 0.0, 1.0, 0.0, 1.0, 1.0, 1.0, 0.0, 0.0, 1.0, 1.0, 0.0, 0.0, 1.0, 0.0, 0.0, 0.0, 1.0, 1.0, 1.0, 1.0, 1.0, 0.0, 0.0, 1.0, 0.0, 0.0, 0.0, 1.0, 1.0, 1.0, 1.0, 0.0, 1.0, 1.0, 1.0, 0.0, 1.0, 1.0, 1.0, 1.0, 1.0, 0.0, 0.0, 0.0, 0.0, 1.0, 0.0, 1.0, 1.0, 1.0, 1.0, 1.0, 0.0, 0.0, 1.0, 1.0, 0.0, 0.0, 0.0, 0.0, 0.0, 1.0, 1.0, 1.0, 0.0, 0.0, 1.0, 1.0, 0.0, 0.0, 0.0, 0.0, 0.0, 1.0, 1.0, 1.0, 1.0, 0.0, 1.0, 0.0, 1.0, 1.0, 1.0, 0.0, 1.0, 0.0, 1.0, 0.0, 0.0, 1.0, 1.0, 0.0, 1.0, 1.0, 1.0, 0.0, 0.0, 1.0, 1.0, 0.0, 1.0, 0.0, 0.0, 1.0, 0.0, 1.0, 1.0, 0.0, 0.0, 0.0, 0.0, 0.0, 0.0, 0.0, 1.0, 1.0, 0.0, 1.0, 1.0, 0.0, 1.0, 1.0, 0.0, 1.0, 0.0, 0.0, 1.0, 0.0, 0.0, 1.0, 0.0, 1.0, 1.0, 1.0, 1.0, 0.0, 1.0, 0.0, 0.0, 1.0, 1.0, 1.0, 0.0, 1.0, 1.0, 1.0, 1.0, 0.0, 1.0, 1.0, 0.0, 1.0, 1.0, 0.0, 0.0, 0.0, 1.0, 0.0, 0.0, 1.0, 1.0, 1.0, 0.0, 0.0, 1.0, 1.0, 0.0, 1.0, 1.0, 0.0, 0.0, 0.0, 0.0, 0.0, 1.0, 0.0, 0.0, 1.0, 1.0, 1.0, 1.0, 0.0, 0.0, 1.0, 1.0, 0.0, 0.0, 1.0, 1.0, 1.0, 1.0, 0.0, 1.0, 1.0, 0.0, 1.0, 0.0, 1.0, 0.0, 1.0, 0.0, 0.0, 0.0, 0.0, 0.0, 0.0, 1.0, 0.0, 1.0, 0.0, 1.0, 0.0, 0.0, 1.0, 0.0, 1.0, 1.0, 0.0, 1.0, 1.0, 0.0, 1.0, 0.0, 0.0, 0.0, 1.0, 1.0, 0.0, 0.0, 0.0, 0.0, 1.0, 1.0, 1.0, 1.0, 1.0, 1.0, 1.0, 1.0, 0.0, 0.0, 1.0, 0.0, 0.0, 0.0, 0.0, 1.0, 1.0, 0.0, 1.0, 1.0, 0.0, 0.0, 0.0, 0.0, 1.0, 1.0, 1.0, 0.0, 0.0, 0.0, 1.0, 0.0, 1.0, 1.0, 0.0, 1.0, 1.0, 1.0, 1.0, 0.0, 0.0, 0.0, 0.0, 1.0, 0.0, 1.0, 0.0, 0.0, 1.0, 1.0, 1.0, 0.0, 1.0, 0.0, 1.0, 0.0, 0.0, 1.0, 1.0, 0.0, 1.0, 0.0, 0.0, 1.0, 1.0, 0.0, 1.0, 1.0, 1.0, 0.0, 1.0, 0.0, 0.0, 0.0, 1.0, 0.0, 0.0, 0.0, 0.0, 1.0, 0.0, 1.0, 0.0, 0.0, 1.0, 0.0, 1.0, 1.0, 0.0, 0.0, 0.0, 0.0, 0.0, 1.0, 1.0, 0.0, 1.0, 0.0, 0.0, 1.0, 0.0, 1.0, 0.0, 0.0, 1.0, 1.0, 1.0, 0.0, 1.0, 1.0, 0.0, 1.0, 0.0, 1.0, 0.0, 1.0, 1.0, 1.0, 0.0, 0.0, 0.0, 0.0, 1.0, 0.0, 1.0, 1.0, 0.0, 1.0, 0.0, 0.0, 1.0, 1.0, 0.0, 0.0, 1.0, 0.0, 1.0, 1.0, 1.0, 1.0, 0.0, 1.0, 0.0, 1.0, 1.0, 0.0, 1.0, 1.0, 0.0, 1.0, 1.0, 1.0, 0.0, 0.0, 0.0, 1.0, 1.0, 1.0, 1.0, 0.0, 1.0, 0.0, 1.0, 0.0, 1.0, 1.0, 0.0, 0.0, 0.0, 1.0, 1.0, 0.0, 1.0, 0.0, 1.0, 0.0, 1.0, 0.0, 0.0, 0.0, 0.0, 1.0, 1.0, 0.0, 1.0, 0.0, 1.0, 0.0, 1.0, 0.0, 1.0, 0.0, 0.0, 0.0, 0.0, 1.0, 0.0, 0.0, 1.0, 0.0, 1.0, 0.0, 1.0, 0.0, 1.0, 1.0, 1.0, 1.0, 0.0, 0.0, 1.0, 0.0, 0.0, 1.0, 1.0, 0.0, 0.0, 0.0, 0.0, 1.0, 0.0, 1.0, 1.0, 1.0, 1.0, 1.0, 0.0, 1.0, 1.0, 1.0, 0.0, 0.0, 1.0, 0.0, 1.0, 0.0, 0.0, 0.0, 0.0, 1.0, 1.0, 1.0, 0.0, 0.0, 0.0, 0.0, 1.0, 0.0, 1.0, 1.0, 1.0, 1.0, 1.0, 1.0, 1.0, 1.0, 0.0, 0.0, 1.0, 0.0, 0.0, 1.0, 1.0, 1.0, 1.0, 1.0, 0.0, 1.0, 0.0, 1.0, 1.0, 0.0, 0.0, 0.0, 0.0, 0.0, 0.0, 1.0, 1.0, 0.0, 0.0, 0.0, 0.0, 1.0, 0.0, 0.0, 1.0, 1.0, 1.0, 1.0, 0.0, 0.0, 1.0, 0.0, 1.0, 1.0, 0.0, 0.0, 0.0, 1.0, 1.0, 0.0, 1.0, 1.0, 0.0, 0.0, 0.0, 0.0, 0.0, 0.0, 1.0, 0.0, 0.0, 1.0, 1.0, 1.0, 0.0, 0.0, 1.0, 0.0, 1.0, 0.0, 1.0, 0.0, 0.0, 0.0, 0.0, 0.0, 0.0, 0.0, 0.0, 1.0, 0.0, 0.0, 0.0, 1.0, 0.0, 1.0, 0.0, 1.0, 1.0, 1.0, 1.0, 1.0, 1.0, 1.0, 1.0, 1.0, 1.0, 1.0, 1.0, 1.0, 1.0, 0.0, 1.0, 1.0, 1.0, 0.0, 0.0, 0.0, 0.0, 0.0, 1.0, 1.0, 0.0, 1.0, 1.0, 1.0, 1.0, 0.0, 1.0, 1.0, 0.0, 1.0, 0.0, 1.0, 1.0, 1.0, 0.0, 0.0, 0.0, 0.0, 1.0, 1.0, 0.0, 1.0, 0.0, 1.0, 0.0, 0.0, 0.0, 1.0, 0.0, 0.0, 1.0, 0.0, 0.0, 0.0, 0.0, 0.0, 1.0, 1.0, 0.0, 1.0, 1.0, 0.0, 0.0, 0.0, 0.0, 1.0, 1.0, 1.0, 0.0, 1.0, 0.0, 0.0, 1.0, 0.0, 0.0, 0.0, 1.0, 0.0, 1.0, 0.0, 0.0, 1.0, 0.0, 0.0, 1.0, 0.0, 1.0, 1.0, 0.0, 1.0, 1.0, 1.0, 0.0, 1.0, 1.0, 1.0, 1.0, 0.0, 1.0, 1.0, 1.0, 1.0, 0.0, 1.0, 0.0, 1.0, 1.0, 1.0, 0.0, 0.0, 1.0, 1.0, 1.0, 1.0, 0.0, 0.0, 0.0, 1.0, 0.0, 1.0, 1.0, 0.0, 1.0, 1.0, 1.0, 1.0, 1.0, 1.0, 0.0, 1.0, 1.0, 0.0, 1.0, 1.0, 0.0, 0.0, 1.0, 1.0, 0.0, 0.0, 1.0, 1.0, 1.0, 0.0, 0.0, 1.0, 0.0, 0.0, 0.0, 1.0, 0.0, 1.0, 1.0, 1.0, 1.0, 0.0, 1.0, 1.0, 0.0, 0.0, 1.0, 1.0, 1.0, 0.0, 0.0, 0.0, 1.0, 1.0, 0.0, 1.0, 0.0, 0.0, 1.0, 1.0, 0.0, 1.0, 0.0, 0.0, 1.0, 0.0, 1.0, 1.0, 1.0, 0.0, 1.0, 1.0, 0.0, 0.0, 0.0, 1.0, 1.0, 1.0, 0.0, 0.0, 1.0, 0.0, 0.0, 0.0, 0.0, 0.0, 0.0, 1.0, 1.0, 0.0, 0.0, 0.0, 0.0, 1.0, 0.0, 0.0, 1.0, 1.0, 0.0, 1.0, 1.0, 0.0, 0.0, 0.0, 1.0, 0.0, 0.0, 1.0, 0.0, 0.0, 1.0, 1.0, 1.0, 1.0, 0.0, 1.0, 0.0, 1.0, 1.0, 1.0, 0.0, 0.0, 1.0, 0.0, 0.0, 1.0, 1.0, 0.0, 0.0, 1.0, 1.0, 1.0, 1.0, 1.0, 0.0, 1.0, 1.0, 1.0, 0.0, 1.0, 1.0, 1.0, 0.0, 0.0, 0.0, 0.0, 1.0, 0.0, 1.0, 0.0, 0.0, 1.0, 1.0, 1.0, 0.0, 1.0, 0.0, 1.0, 0.0, 0.0, 1.0, 0.0, 1.0, 0.0, 0.0, 1.0, 1.0, 1.0, 1.0, 0.0, 1.0, 0.0, 0.0, 0.0, 0.0, 0.0, 0.0, 0.0, 1.0, 0.0, 0.0, 0.0, 0.0, 0.0, 1.0, 1.0, 0.0, 1.0, 1.0] [[  0   0   0 ...  15 199 241]\n",
            " [  0   0   0 ...   3 268 444]\n",
            " [  0   0   0 ...  20   7 847]\n",
            " ...\n",
            " [  0   0   0 ...   5   2 119]\n",
            " [  0   0   0 ...   2  50  91]\n",
            " [  0  19  22 ...   8   2 186]] ['/content/thumbnails/COCO_train2014_000000013362.jpg', '/content/thumbnails/COCO_train2014_000000529954.jpg', '/content/thumbnails/COCO_train2014_000000307757.jpg', '/content/thumbnails/COCO_train2014_000000004834.jpg', '/content/thumbnails/COCO_train2014_000000016206.jpg', '/content/thumbnails/COCO_train2014_000000538846.jpg', '/content/thumbnails/COCO_train2014_000000275831.jpg', '/content/thumbnails/COCO_train2014_000000248995.jpg', '/content/thumbnails/COCO_train2014_000000047347.jpg', '/content/thumbnails/COCO_train2014_000000011041.jpg', '/content/thumbnails/COCO_train2014_000000269174.jpg', '/content/thumbnails/COCO_train2014_000000535143.jpg', '/content/thumbnails/COCO_train2014_000000280721.jpg', '/content/thumbnails/COCO_train2014_000000280540.jpg', '/content/thumbnails/COCO_train2014_000000439402.jpg', '/content/thumbnails/COCO_train2014_000000438329.jpg', '/content/thumbnails/COCO_train2014_000000283383.jpg', '/content/thumbnails/COCO_train2014_000000281054.jpg', '/content/thumbnails/COCO_train2014_000000273159.jpg', '/content/thumbnails/COCO_train2014_000000528345.jpg', '/content/thumbnails/COCO_train2014_000000274763.jpg', '/content/thumbnails/COCO_train2014_000000230515.jpg', '/content/thumbnails/COCO_train2014_000000414001.jpg', '/content/thumbnails/COCO_train2014_000000543803.jpg', '/content/thumbnails/COCO_train2014_000000536237.jpg', '/content/thumbnails/COCO_train2014_000000018557.jpg', '/content/thumbnails/COCO_train2014_000000149237.jpg', '/content/thumbnails/COCO_train2014_000000406056.jpg', '/content/thumbnails/COCO_train2014_000000414022.jpg', '/content/thumbnails/COCO_train2014_000000007150.jpg', '/content/thumbnails/COCO_train2014_000000110459.jpg', '/content/thumbnails/COCO_train2014_000000544130.jpg', '/content/thumbnails/COCO_train2014_000000018792.jpg', '/content/thumbnails/COCO_train2014_000000015016.jpg', '/content/thumbnails/COCO_train2014_000000570317.jpg', '/content/thumbnails/COCO_train2014_000000276806.jpg', '/content/thumbnails/COCO_train2014_000000483288.jpg', '/content/thumbnails/COCO_train2014_000000577344.jpg', '/content/thumbnails/COCO_train2014_000000549559.jpg', '/content/thumbnails/COCO_train2014_000000543657.jpg', '/content/thumbnails/COCO_train2014_000000541797.jpg', '/content/thumbnails/COCO_train2014_000000144194.jpg', '/content/thumbnails/COCO_train2014_000000534000.jpg', '/content/thumbnails/COCO_train2014_000000397938.jpg', '/content/thumbnails/COCO_train2014_000000280764.jpg', '/content/thumbnails/COCO_train2014_000000021868.jpg', '/content/thumbnails/COCO_train2014_000000277653.jpg', '/content/thumbnails/COCO_train2014_000000007174.jpg', '/content/thumbnails/COCO_train2014_000000149166.jpg', '/content/thumbnails/COCO_train2014_000000138585.jpg', '/content/thumbnails/COCO_train2014_000000483453.jpg', '/content/thumbnails/COCO_train2014_000000148852.jpg', '/content/thumbnails/COCO_train2014_000000016142.jpg', '/content/thumbnails/COCO_train2014_000000408966.jpg', '/content/thumbnails/COCO_train2014_000000004714.jpg', '/content/thumbnails/COCO_train2014_000000019707.jpg', '/content/thumbnails/COCO_train2014_000000143624.jpg', '/content/thumbnails/COCO_train2014_000000024159.jpg', '/content/thumbnails/COCO_train2014_000000280024.jpg', '/content/thumbnails/COCO_train2014_000000352739.jpg', '/content/thumbnails/COCO_train2014_000000226151.jpg', '/content/thumbnails/COCO_train2014_000000351726.jpg', '/content/thumbnails/COCO_train2014_000000019146.jpg', '/content/thumbnails/COCO_train2014_000000019874.jpg', '/content/thumbnails/COCO_train2014_000000569678.jpg', '/content/thumbnails/COCO_train2014_000000024672.jpg', '/content/thumbnails/COCO_train2014_000000270070.jpg', '/content/thumbnails/COCO_train2014_000000530832.jpg', '/content/thumbnails/COCO_train2014_000000157610.jpg', '/content/thumbnails/COCO_train2014_000000282471.jpg', '/content/thumbnails/COCO_train2014_000000270906.jpg', '/content/thumbnails/COCO_train2014_000000110019.jpg', '/content/thumbnails/COCO_train2014_000000533715.jpg', '/content/thumbnails/COCO_train2014_000000144503.jpg', '/content/thumbnails/COCO_train2014_000000149305.jpg', '/content/thumbnails/COCO_train2014_000000412781.jpg', '/content/thumbnails/COCO_train2014_000000548933.jpg', '/content/thumbnails/COCO_train2014_000000397941.jpg', '/content/thumbnails/COCO_train2014_000000137386.jpg', '/content/thumbnails/COCO_train2014_000000449902.jpg', '/content/thumbnails/COCO_train2014_000000170309.jpg', '/content/thumbnails/COCO_train2014_000000404698.jpg', '/content/thumbnails/COCO_train2014_000000407460.jpg', '/content/thumbnails/COCO_train2014_000000020640.jpg', '/content/thumbnails/COCO_train2014_000000014970.jpg', '/content/thumbnails/COCO_train2014_000000277263.jpg', '/content/thumbnails/COCO_train2014_000000402779.jpg', '/content/thumbnails/COCO_train2014_000000416426.jpg', '/content/thumbnails/COCO_train2014_000000314558.jpg', '/content/thumbnails/COCO_train2014_000000013362.jpg', '/content/thumbnails/COCO_train2014_000000482363.jpg', '/content/thumbnails/COCO_train2014_000000411740.jpg', '/content/thumbnails/COCO_train2014_000000288707.jpg', '/content/thumbnails/COCO_train2014_000000005028.jpg', '/content/thumbnails/COCO_train2014_000000408722.jpg', '/content/thumbnails/COCO_train2014_000000277202.jpg', '/content/thumbnails/COCO_train2014_000000155839.jpg', '/content/thumbnails/COCO_train2014_000000016292.jpg', '/content/thumbnails/COCO_train2014_000000544728.jpg', '/content/thumbnails/COCO_train2014_000000025352.jpg', '/content/thumbnails/COCO_train2014_000000017420.jpg', '/content/thumbnails/COCO_train2014_000000044569.jpg', '/content/thumbnails/COCO_train2014_000000270024.jpg', '/content/thumbnails/COCO_train2014_000000275775.jpg', '/content/thumbnails/COCO_train2014_000000270315.jpg', '/content/thumbnails/COCO_train2014_000000399442.jpg', '/content/thumbnails/COCO_train2014_000000111673.jpg', '/content/thumbnails/COCO_train2014_000000440032.jpg', '/content/thumbnails/COCO_train2014_000000150331.jpg', '/content/thumbnails/COCO_train2014_000000001011.jpg', '/content/thumbnails/COCO_train2014_000000277150.jpg', '/content/thumbnails/COCO_train2014_000000274690.jpg', '/content/thumbnails/COCO_train2014_000000269947.jpg', '/content/thumbnails/COCO_train2014_000000283867.jpg', '/content/thumbnails/COCO_train2014_000000407992.jpg', '/content/thumbnails/COCO_train2014_000000014849.jpg', '/content/thumbnails/COCO_train2014_000000143436.jpg', '/content/thumbnails/COCO_train2014_000000144492.jpg', '/content/thumbnails/COCO_train2014_000000272747.jpg', '/content/thumbnails/COCO_train2014_000000138153.jpg', '/content/thumbnails/COCO_train2014_000000404698.jpg', '/content/thumbnails/COCO_train2014_000000138134.jpg', '/content/thumbnails/COCO_train2014_000000532631.jpg', '/content/thumbnails/COCO_train2014_000000403716.jpg', '/content/thumbnails/COCO_train2014_000000274254.jpg', '/content/thumbnails/COCO_train2014_000000268036.jpg', '/content/thumbnails/COCO_train2014_000000534965.jpg', '/content/thumbnails/COCO_train2014_000000402243.jpg', '/content/thumbnails/COCO_train2014_000000538857.jpg', '/content/thumbnails/COCO_train2014_000000541901.jpg', '/content/thumbnails/COCO_train2014_000000044060.jpg', '/content/thumbnails/COCO_train2014_000000127056.jpg', '/content/thumbnails/COCO_train2014_000000401711.jpg', '/content/thumbnails/COCO_train2014_000000087761.jpg', '/content/thumbnails/COCO_train2014_000000014801.jpg', '/content/thumbnails/COCO_train2014_000000133086.jpg', '/content/thumbnails/COCO_train2014_000000007420.jpg', '/content/thumbnails/COCO_train2014_000000411408.jpg', '/content/thumbnails/COCO_train2014_000000150385.jpg', '/content/thumbnails/COCO_train2014_000000019397.jpg', '/content/thumbnails/COCO_train2014_000000409208.jpg', '/content/thumbnails/COCO_train2014_000000542015.jpg', '/content/thumbnails/COCO_train2014_000000175805.jpg', '/content/thumbnails/COCO_train2014_000000137838.jpg', '/content/thumbnails/COCO_train2014_000000475808.jpg', '/content/thumbnails/COCO_train2014_000000543657.jpg', '/content/thumbnails/COCO_train2014_000000279450.jpg', '/content/thumbnails/COCO_train2014_000000365873.jpg', '/content/thumbnails/COCO_train2014_000000272051.jpg', '/content/thumbnails/COCO_train2014_000000458461.jpg', '/content/thumbnails/COCO_train2014_000000154301.jpg', '/content/thumbnails/COCO_train2014_000000398941.jpg', '/content/thumbnails/COCO_train2014_000000528903.jpg', '/content/thumbnails/COCO_train2014_000000414032.jpg', '/content/thumbnails/COCO_train2014_000000146454.jpg', '/content/thumbnails/COCO_train2014_000000534672.jpg', '/content/thumbnails/COCO_train2014_000000140044.jpg', '/content/thumbnails/COCO_train2014_000000276749.jpg', '/content/thumbnails/COCO_train2014_000000272033.jpg', '/content/thumbnails/COCO_train2014_000000402806.jpg', '/content/thumbnails/COCO_train2014_000000537422.jpg', '/content/thumbnails/COCO_train2014_000000143736.jpg', '/content/thumbnails/COCO_train2014_000000414032.jpg', '/content/thumbnails/COCO_train2014_000000503781.jpg', '/content/thumbnails/COCO_train2014_000000417016.jpg', '/content/thumbnails/COCO_train2014_000000532358.jpg', '/content/thumbnails/COCO_train2014_000000147506.jpg', '/content/thumbnails/COCO_train2014_000000528452.jpg', '/content/thumbnails/COCO_train2014_000000007616.jpg', '/content/thumbnails/COCO_train2014_000000537122.jpg', '/content/thumbnails/COCO_train2014_000000136849.jpg', '/content/thumbnails/COCO_train2014_000000410356.jpg', '/content/thumbnails/COCO_train2014_000000408233.jpg', '/content/thumbnails/COCO_train2014_000000135849.jpg', '/content/thumbnails/COCO_train2014_000000402715.jpg', '/content/thumbnails/COCO_train2014_000000140209.jpg', '/content/thumbnails/COCO_train2014_000000413556.jpg', '/content/thumbnails/COCO_train2014_000000021846.jpg', '/content/thumbnails/COCO_train2014_000000423881.jpg', '/content/thumbnails/COCO_train2014_000000535284.jpg', '/content/thumbnails/COCO_train2014_000000019093.jpg', '/content/thumbnails/COCO_train2014_000000274446.jpg', '/content/thumbnails/COCO_train2014_000000282978.jpg', '/content/thumbnails/COCO_train2014_000000539984.jpg', '/content/thumbnails/COCO_train2014_000000151523.jpg', '/content/thumbnails/COCO_train2014_000000530655.jpg', '/content/thumbnails/COCO_train2014_000000015175.jpg', '/content/thumbnails/COCO_train2014_000000403940.jpg', '/content/thumbnails/COCO_train2014_000000070735.jpg', '/content/thumbnails/COCO_train2014_000000275977.jpg', '/content/thumbnails/COCO_train2014_000000438314.jpg', '/content/thumbnails/COCO_train2014_000000142470.jpg', '/content/thumbnails/COCO_train2014_000000403716.jpg', '/content/thumbnails/COCO_train2014_000000411823.jpg', '/content/thumbnails/COCO_train2014_000000135772.jpg', '/content/thumbnails/COCO_train2014_000000276703.jpg', '/content/thumbnails/COCO_train2014_000000005326.jpg', '/content/thumbnails/COCO_train2014_000000402655.jpg', '/content/thumbnails/COCO_train2014_000000405435.jpg', '/content/thumbnails/COCO_train2014_000000177255.jpg', '/content/thumbnails/COCO_train2014_000000279697.jpg', '/content/thumbnails/COCO_train2014_000000140092.jpg', '/content/thumbnails/COCO_train2014_000000407926.jpg', '/content/thumbnails/COCO_train2014_000000136886.jpg', '/content/thumbnails/COCO_train2014_000000148938.jpg', '/content/thumbnails/COCO_train2014_000000008093.jpg', '/content/thumbnails/COCO_train2014_000000274970.jpg', '/content/thumbnails/COCO_train2014_000000532711.jpg', '/content/thumbnails/COCO_train2014_000000146901.jpg', '/content/thumbnails/COCO_train2014_000000270284.jpg', '/content/thumbnails/COCO_train2014_000000005263.jpg', '/content/thumbnails/COCO_train2014_000000150435.jpg', '/content/thumbnails/COCO_train2014_000000281112.jpg', '/content/thumbnails/COCO_train2014_000000576187.jpg', '/content/thumbnails/COCO_train2014_000000529087.jpg', '/content/thumbnails/COCO_train2014_000000278344.jpg', '/content/thumbnails/COCO_train2014_000000533808.jpg', '/content/thumbnails/COCO_train2014_000000011849.jpg', '/content/thumbnails/COCO_train2014_000000022529.jpg', '/content/thumbnails/COCO_train2014_000000410190.jpg', '/content/thumbnails/COCO_train2014_000000136286.jpg', '/content/thumbnails/COCO_train2014_000000015915.jpg', '/content/thumbnails/COCO_train2014_000000124067.jpg', '/content/thumbnails/COCO_train2014_000000538420.jpg', '/content/thumbnails/COCO_train2014_000000266108.jpg', '/content/thumbnails/COCO_train2014_000000403190.jpg', '/content/thumbnails/COCO_train2014_000000401826.jpg', '/content/thumbnails/COCO_train2014_000000144622.jpg', '/content/thumbnails/COCO_train2014_000000015427.jpg', '/content/thumbnails/COCO_train2014_000000005139.jpg', '/content/thumbnails/COCO_train2014_000000548979.jpg', '/content/thumbnails/COCO_train2014_000000372727.jpg', '/content/thumbnails/COCO_train2014_000000137407.jpg', '/content/thumbnails/COCO_train2014_000000141931.jpg', '/content/thumbnails/COCO_train2014_000000139403.jpg', '/content/thumbnails/COCO_train2014_000000398105.jpg', '/content/thumbnails/COCO_train2014_000000405964.jpg', '/content/thumbnails/COCO_train2014_000000400612.jpg', '/content/thumbnails/COCO_train2014_000000399885.jpg', '/content/thumbnails/COCO_train2014_000000118399.jpg', '/content/thumbnails/COCO_train2014_000000022012.jpg', '/content/thumbnails/COCO_train2014_000000274514.jpg', '/content/thumbnails/COCO_train2014_000000529019.jpg', '/content/thumbnails/COCO_train2014_000000530202.jpg', '/content/thumbnails/COCO_train2014_000000013352.jpg', '/content/thumbnails/COCO_train2014_000000021475.jpg', '/content/thumbnails/COCO_train2014_000000412901.jpg', '/content/thumbnails/COCO_train2014_000000271122.jpg', '/content/thumbnails/COCO_train2014_000000015062.jpg', '/content/thumbnails/COCO_train2014_000000330481.jpg', '/content/thumbnails/COCO_train2014_000000493888.jpg', '/content/thumbnails/COCO_train2014_000000417476.jpg', '/content/thumbnails/COCO_train2014_000000278486.jpg', '/content/thumbnails/COCO_train2014_000000269664.jpg', '/content/thumbnails/COCO_train2014_000000544691.jpg', '/content/thumbnails/COCO_train2014_000000092217.jpg', '/content/thumbnails/COCO_train2014_000000009851.jpg', '/content/thumbnails/COCO_train2014_000000017883.jpg', '/content/thumbnails/COCO_train2014_000000003270.jpg', '/content/thumbnails/COCO_train2014_000000026454.jpg', '/content/thumbnails/COCO_train2014_000000013106.jpg', '/content/thumbnails/COCO_train2014_000000409227.jpg', '/content/thumbnails/COCO_train2014_000000147398.jpg', '/content/thumbnails/COCO_train2014_000000136668.jpg', '/content/thumbnails/COCO_train2014_000000484278.jpg', '/content/thumbnails/COCO_train2014_000000005263.jpg', '/content/thumbnails/COCO_train2014_000000012416.jpg', '/content/thumbnails/COCO_train2014_000000013578.jpg', '/content/thumbnails/COCO_train2014_000000400953.jpg', '/content/thumbnails/COCO_train2014_000000276768.jpg', '/content/thumbnails/COCO_train2014_000000403306.jpg', '/content/thumbnails/COCO_train2014_000000081556.jpg', '/content/thumbnails/COCO_train2014_000000297168.jpg', '/content/thumbnails/COCO_train2014_000000301754.jpg', '/content/thumbnails/COCO_train2014_000000016060.jpg', '/content/thumbnails/COCO_train2014_000000523890.jpg', '/content/thumbnails/COCO_train2014_000000017715.jpg', '/content/thumbnails/COCO_train2014_000000015915.jpg', '/content/thumbnails/COCO_train2014_000000278907.jpg', '/content/thumbnails/COCO_train2014_000000415376.jpg', '/content/thumbnails/COCO_train2014_000000012475.jpg', '/content/thumbnails/COCO_train2014_000000218749.jpg', '/content/thumbnails/COCO_train2014_000000135820.jpg', '/content/thumbnails/COCO_train2014_000000537782.jpg', '/content/thumbnails/COCO_train2014_000000524366.jpg', '/content/thumbnails/COCO_train2014_000000275276.jpg', '/content/thumbnails/COCO_train2014_000000144670.jpg', '/content/thumbnails/COCO_train2014_000000025352.jpg', '/content/thumbnails/COCO_train2014_000000111673.jpg', '/content/thumbnails/COCO_train2014_000000402384.jpg', '/content/thumbnails/COCO_train2014_000000277722.jpg', '/content/thumbnails/COCO_train2014_000000529017.jpg', '/content/thumbnails/COCO_train2014_000000148299.jpg', '/content/thumbnails/COCO_train2014_000000148102.jpg', '/content/thumbnails/COCO_train2014_000000279243.jpg', '/content/thumbnails/COCO_train2014_000000000706.jpg', '/content/thumbnails/COCO_train2014_000000365873.jpg', '/content/thumbnails/COCO_train2014_000000393097.jpg', '/content/thumbnails/COCO_train2014_000000530972.jpg', '/content/thumbnails/COCO_train2014_000000008829.jpg', '/content/thumbnails/COCO_train2014_000000282835.jpg', '/content/thumbnails/COCO_train2014_000000530972.jpg', '/content/thumbnails/COCO_train2014_000000066005.jpg', '/content/thumbnails/COCO_train2014_000000011802.jpg', '/content/thumbnails/COCO_train2014_000000150698.jpg', '/content/thumbnails/COCO_train2014_000000013362.jpg', '/content/thumbnails/COCO_train2014_000000283985.jpg', '/content/thumbnails/COCO_train2014_000000526735.jpg', '/content/thumbnails/COCO_train2014_000000013471.jpg', '/content/thumbnails/COCO_train2014_000000414747.jpg', '/content/thumbnails/COCO_train2014_000000111556.jpg', '/content/thumbnails/COCO_train2014_000000531552.jpg', '/content/thumbnails/COCO_train2014_000000408672.jpg', '/content/thumbnails/COCO_train2014_000000402762.jpg', '/content/thumbnails/COCO_train2014_000000007455.jpg', '/content/thumbnails/COCO_train2014_000000531552.jpg', '/content/thumbnails/COCO_train2014_000000317935.jpg', '/content/thumbnails/COCO_train2014_000000540680.jpg', '/content/thumbnails/COCO_train2014_000000265622.jpg', '/content/thumbnails/COCO_train2014_000000265622.jpg', '/content/thumbnails/COCO_train2014_000000404545.jpg', '/content/thumbnails/COCO_train2014_000000007740.jpg', '/content/thumbnails/COCO_train2014_000000365817.jpg', '/content/thumbnails/COCO_train2014_000000272901.jpg', '/content/thumbnails/COCO_train2014_000000424337.jpg', '/content/thumbnails/COCO_train2014_000000147060.jpg', '/content/thumbnails/COCO_train2014_000000266360.jpg', '/content/thumbnails/COCO_train2014_000000542974.jpg', '/content/thumbnails/COCO_train2014_000000268892.jpg', '/content/thumbnails/COCO_train2014_000000269381.jpg', '/content/thumbnails/COCO_train2014_000000143017.jpg', '/content/thumbnails/COCO_train2014_000000067571.jpg', '/content/thumbnails/COCO_train2014_000000005360.jpg', '/content/thumbnails/COCO_train2014_000000266518.jpg', '/content/thumbnails/COCO_train2014_000000543466.jpg', '/content/thumbnails/COCO_train2014_000000015400.jpg', '/content/thumbnails/COCO_train2014_000000412267.jpg', '/content/thumbnails/COCO_train2014_000000282377.jpg', '/content/thumbnails/COCO_train2014_000000542060.jpg', '/content/thumbnails/COCO_train2014_000000144727.jpg', '/content/thumbnails/COCO_train2014_000000259088.jpg', '/content/thumbnails/COCO_train2014_000000276317.jpg', '/content/thumbnails/COCO_train2014_000000009488.jpg', '/content/thumbnails/COCO_train2014_000000142793.jpg', '/content/thumbnails/COCO_train2014_000000151339.jpg', '/content/thumbnails/COCO_train2014_000000140865.jpg', '/content/thumbnails/COCO_train2014_000000276124.jpg', '/content/thumbnails/COCO_train2014_000000035558.jpg', '/content/thumbnails/COCO_train2014_000000439274.jpg', '/content/thumbnails/COCO_train2014_000000373045.jpg', '/content/thumbnails/COCO_train2014_000000328427.jpg', '/content/thumbnails/COCO_train2014_000000267779.jpg', '/content/thumbnails/COCO_train2014_000000003911.jpg', '/content/thumbnails/COCO_train2014_000000148144.jpg', '/content/thumbnails/COCO_train2014_000000150636.jpg', '/content/thumbnails/COCO_train2014_000000019394.jpg', '/content/thumbnails/COCO_train2014_000000020384.jpg', '/content/thumbnails/COCO_train2014_000000010407.jpg', '/content/thumbnails/COCO_train2014_000000269054.jpg', '/content/thumbnails/COCO_train2014_000000013230.jpg', '/content/thumbnails/COCO_train2014_000000282456.jpg', '/content/thumbnails/COCO_train2014_000000273650.jpg', '/content/thumbnails/COCO_train2014_000000006990.jpg', '/content/thumbnails/COCO_train2014_000000090676.jpg', '/content/thumbnails/COCO_train2014_000000003911.jpg', '/content/thumbnails/COCO_train2014_000000277912.jpg', '/content/thumbnails/COCO_train2014_000000100827.jpg', '/content/thumbnails/COCO_train2014_000000279543.jpg', '/content/thumbnails/COCO_train2014_000000545891.jpg', '/content/thumbnails/COCO_train2014_000000152079.jpg', '/content/thumbnails/COCO_train2014_000000539493.jpg', '/content/thumbnails/COCO_train2014_000000268715.jpg', '/content/thumbnails/COCO_train2014_000000399183.jpg', '/content/thumbnails/COCO_train2014_000000006026.jpg', '/content/thumbnails/COCO_train2014_000000400190.jpg', '/content/thumbnails/COCO_train2014_000000279511.jpg', '/content/thumbnails/COCO_train2014_000000230515.jpg', '/content/thumbnails/COCO_train2014_000000214461.jpg', '/content/thumbnails/COCO_train2014_000000220124.jpg', '/content/thumbnails/COCO_train2014_000000046563.jpg', '/content/thumbnails/COCO_train2014_000000282669.jpg', '/content/thumbnails/COCO_train2014_000000148205.jpg', '/content/thumbnails/COCO_train2014_000000241058.jpg', '/content/thumbnails/COCO_train2014_000000135326.jpg', '/content/thumbnails/COCO_train2014_000000142561.jpg', '/content/thumbnails/COCO_train2014_000000402897.jpg', '/content/thumbnails/COCO_train2014_000000567518.jpg', '/content/thumbnails/COCO_train2014_000000380007.jpg', '/content/thumbnails/COCO_train2014_000000409455.jpg', '/content/thumbnails/COCO_train2014_000000273887.jpg', '/content/thumbnails/COCO_train2014_000000014954.jpg', '/content/thumbnails/COCO_train2014_000000532128.jpg', '/content/thumbnails/COCO_train2014_000000397479.jpg', '/content/thumbnails/COCO_train2014_000000275276.jpg', '/content/thumbnails/COCO_train2014_000000414471.jpg', '/content/thumbnails/COCO_train2014_000000541343.jpg', '/content/thumbnails/COCO_train2014_000000407065.jpg', '/content/thumbnails/COCO_train2014_000000414082.jpg', '/content/thumbnails/COCO_train2014_000000535174.jpg', '/content/thumbnails/COCO_train2014_000000535160.jpg', '/content/thumbnails/COCO_train2014_000000268444.jpg', '/content/thumbnails/COCO_train2014_000000279182.jpg', '/content/thumbnails/COCO_train2014_000000018647.jpg', '/content/thumbnails/COCO_train2014_000000145385.jpg', '/content/thumbnails/COCO_train2014_000000007503.jpg', '/content/thumbnails/COCO_train2014_000000528892.jpg', '/content/thumbnails/COCO_train2014_000000411445.jpg', '/content/thumbnails/COCO_train2014_000000142771.jpg', '/content/thumbnails/COCO_train2014_000000142746.jpg', '/content/thumbnails/COCO_train2014_000000024253.jpg', '/content/thumbnails/COCO_train2014_000000044913.jpg', '/content/thumbnails/COCO_train2014_000000151100.jpg', '/content/thumbnails/COCO_train2014_000000271324.jpg', '/content/thumbnails/COCO_train2014_000000437620.jpg', '/content/thumbnails/COCO_train2014_000000113199.jpg', '/content/thumbnails/COCO_train2014_000000135664.jpg', '/content/thumbnails/COCO_train2014_000000419406.jpg', '/content/thumbnails/COCO_train2014_000000535325.jpg', '/content/thumbnails/COCO_train2014_000000401842.jpg', '/content/thumbnails/COCO_train2014_000000024552.jpg', '/content/thumbnails/COCO_train2014_000000277653.jpg', '/content/thumbnails/COCO_train2014_000000413122.jpg', '/content/thumbnails/COCO_train2014_000000277918.jpg', '/content/thumbnails/COCO_train2014_000000010727.jpg', '/content/thumbnails/COCO_train2014_000000276716.jpg', '/content/thumbnails/COCO_train2014_000000404266.jpg', '/content/thumbnails/COCO_train2014_000000201273.jpg', '/content/thumbnails/COCO_train2014_000000242167.jpg', '/content/thumbnails/COCO_train2014_000000151264.jpg', '/content/thumbnails/COCO_train2014_000000146510.jpg', '/content/thumbnails/COCO_train2014_000000556954.jpg', '/content/thumbnails/COCO_train2014_000000475808.jpg', '/content/thumbnails/COCO_train2014_000000528198.jpg', '/content/thumbnails/COCO_train2014_000000301209.jpg', '/content/thumbnails/COCO_train2014_000000133573.jpg', '/content/thumbnails/COCO_train2014_000000410175.jpg', '/content/thumbnails/COCO_train2014_000000272421.jpg', '/content/thumbnails/COCO_train2014_000000088270.jpg', '/content/thumbnails/COCO_train2014_000000280206.jpg', '/content/thumbnails/COCO_train2014_000000402249.jpg', '/content/thumbnails/COCO_train2014_000000148474.jpg', '/content/thumbnails/COCO_train2014_000000006026.jpg', '/content/thumbnails/COCO_train2014_000000373532.jpg', '/content/thumbnails/COCO_train2014_000000007498.jpg', '/content/thumbnails/COCO_train2014_000000277827.jpg', '/content/thumbnails/COCO_train2014_000000428345.jpg', '/content/thumbnails/COCO_train2014_000000536570.jpg', '/content/thumbnails/COCO_train2014_000000401225.jpg', '/content/thumbnails/COCO_train2014_000000270574.jpg', '/content/thumbnails/COCO_train2014_000000281180.jpg', '/content/thumbnails/COCO_train2014_000000402779.jpg', '/content/thumbnails/COCO_train2014_000000541574.jpg', '/content/thumbnails/COCO_train2014_000000271633.jpg', '/content/thumbnails/COCO_train2014_000000266228.jpg', '/content/thumbnails/COCO_train2014_000000528870.jpg', '/content/thumbnails/COCO_train2014_000000177255.jpg', '/content/thumbnails/COCO_train2014_000000161958.jpg', '/content/thumbnails/COCO_train2014_000000012283.jpg', '/content/thumbnails/COCO_train2014_000000276582.jpg', '/content/thumbnails/COCO_train2014_000000004051.jpg', '/content/thumbnails/COCO_train2014_000000308222.jpg', '/content/thumbnails/COCO_train2014_000000405980.jpg', '/content/thumbnails/COCO_train2014_000000269827.jpg', '/content/thumbnails/COCO_train2014_000000419599.jpg', '/content/thumbnails/COCO_train2014_000000150283.jpg', '/content/thumbnails/COCO_train2014_000000096690.jpg', '/content/thumbnails/COCO_train2014_000000139359.jpg', '/content/thumbnails/COCO_train2014_000000090675.jpg', '/content/thumbnails/COCO_train2014_000000142806.jpg', '/content/thumbnails/COCO_train2014_000000567518.jpg', '/content/thumbnails/COCO_train2014_000000004189.jpg', '/content/thumbnails/COCO_train2014_000000269432.jpg', '/content/thumbnails/COCO_train2014_000000503479.jpg', '/content/thumbnails/COCO_train2014_000000580916.jpg', '/content/thumbnails/COCO_train2014_000000401551.jpg', '/content/thumbnails/COCO_train2014_000000288440.jpg', '/content/thumbnails/COCO_train2014_000000534965.jpg', '/content/thumbnails/COCO_train2014_000000150546.jpg', '/content/thumbnails/COCO_train2014_000000412491.jpg', '/content/thumbnails/COCO_train2014_000000559073.jpg', '/content/thumbnails/COCO_train2014_000000341100.jpg', '/content/thumbnails/COCO_train2014_000000403750.jpg', '/content/thumbnails/COCO_train2014_000000150184.jpg', '/content/thumbnails/COCO_train2014_000000403936.jpg', '/content/thumbnails/COCO_train2014_000000136609.jpg', '/content/thumbnails/COCO_train2014_000000045343.jpg', '/content/thumbnails/COCO_train2014_000000136836.jpg', '/content/thumbnails/COCO_train2014_000000272100.jpg', '/content/thumbnails/COCO_train2014_000000534548.jpg', '/content/thumbnails/COCO_train2014_000000140776.jpg', '/content/thumbnails/COCO_train2014_000000025274.jpg', '/content/thumbnails/COCO_train2014_000000144289.jpg', '/content/thumbnails/COCO_train2014_000000398177.jpg', '/content/thumbnails/COCO_train2014_000000004239.jpg', '/content/thumbnails/COCO_train2014_000000531313.jpg', '/content/thumbnails/COCO_train2014_000000543716.jpg', '/content/thumbnails/COCO_train2014_000000274467.jpg', '/content/thumbnails/COCO_train2014_000000528266.jpg', '/content/thumbnails/COCO_train2014_000000519506.jpg', '/content/thumbnails/COCO_train2014_000000005376.jpg', '/content/thumbnails/COCO_train2014_000000398925.jpg', '/content/thumbnails/COCO_train2014_000000146004.jpg', '/content/thumbnails/COCO_train2014_000000539977.jpg', '/content/thumbnails/COCO_train2014_000000416450.jpg', '/content/thumbnails/COCO_train2014_000000241465.jpg', '/content/thumbnails/COCO_train2014_000000146849.jpg', '/content/thumbnails/COCO_train2014_000000004785.jpg', '/content/thumbnails/COCO_train2014_000000154301.jpg', '/content/thumbnails/COCO_train2014_000000402665.jpg', '/content/thumbnails/COCO_train2014_000000009929.jpg', '/content/thumbnails/COCO_train2014_000000089943.jpg', '/content/thumbnails/COCO_train2014_000000409722.jpg', '/content/thumbnails/COCO_train2014_000000276711.jpg', '/content/thumbnails/COCO_train2014_000000460078.jpg', '/content/thumbnails/COCO_train2014_000000134294.jpg', '/content/thumbnails/COCO_train2014_000000142866.jpg', '/content/thumbnails/COCO_train2014_000000021330.jpg', '/content/thumbnails/COCO_train2014_000000569242.jpg', '/content/thumbnails/COCO_train2014_000000008414.jpg', '/content/thumbnails/COCO_train2014_000000012281.jpg', '/content/thumbnails/COCO_train2014_000000277764.jpg', '/content/thumbnails/COCO_train2014_000000150435.jpg', '/content/thumbnails/COCO_train2014_000000150184.jpg', '/content/thumbnails/COCO_train2014_000000219591.jpg', '/content/thumbnails/COCO_train2014_000000019542.jpg', '/content/thumbnails/COCO_train2014_000000415222.jpg', '/content/thumbnails/COCO_train2014_000000016069.jpg', '/content/thumbnails/COCO_train2014_000000264241.jpg', '/content/thumbnails/COCO_train2014_000000403882.jpg', '/content/thumbnails/COCO_train2014_000000459723.jpg', '/content/thumbnails/COCO_train2014_000000570721.jpg', '/content/thumbnails/COCO_train2014_000000003988.jpg', '/content/thumbnails/COCO_train2014_000000273276.jpg', '/content/thumbnails/COCO_train2014_000000270247.jpg', '/content/thumbnails/COCO_train2014_000000273197.jpg', '/content/thumbnails/COCO_train2014_000000006229.jpg', '/content/thumbnails/COCO_train2014_000000151074.jpg', '/content/thumbnails/COCO_train2014_000000012284.jpg', '/content/thumbnails/COCO_train2014_000000580916.jpg', '/content/thumbnails/COCO_train2014_000000148479.jpg', '/content/thumbnails/COCO_train2014_000000306511.jpg', '/content/thumbnails/COCO_train2014_000000401551.jpg', '/content/thumbnails/COCO_train2014_000000403716.jpg', '/content/thumbnails/COCO_train2014_000000403064.jpg', '/content/thumbnails/COCO_train2014_000000533757.jpg', '/content/thumbnails/COCO_train2014_000000179896.jpg', '/content/thumbnails/COCO_train2014_000000154068.jpg', '/content/thumbnails/COCO_train2014_000000543922.jpg', '/content/thumbnails/COCO_train2014_000000021257.jpg', '/content/thumbnails/COCO_train2014_000000411430.jpg', '/content/thumbnails/COCO_train2014_000000525124.jpg', '/content/thumbnails/COCO_train2014_000000541422.jpg', '/content/thumbnails/COCO_train2014_000000146317.jpg', '/content/thumbnails/COCO_train2014_000000415209.jpg', '/content/thumbnails/COCO_train2014_000000399191.jpg', '/content/thumbnails/COCO_train2014_000000546447.jpg', '/content/thumbnails/COCO_train2014_000000279479.jpg', '/content/thumbnails/COCO_train2014_000000211302.jpg', '/content/thumbnails/COCO_train2014_000000280540.jpg', '/content/thumbnails/COCO_train2014_000000006270.jpg', '/content/thumbnails/COCO_train2014_000000139416.jpg', '/content/thumbnails/COCO_train2014_000000151615.jpg', '/content/thumbnails/COCO_train2014_000000545948.jpg', '/content/thumbnails/COCO_train2014_000000538537.jpg', '/content/thumbnails/COCO_train2014_000000169003.jpg', '/content/thumbnails/COCO_train2014_000000530001.jpg', '/content/thumbnails/COCO_train2014_000000534791.jpg', '/content/thumbnails/COCO_train2014_000000535896.jpg', '/content/thumbnails/COCO_train2014_000000409889.jpg', '/content/thumbnails/COCO_train2014_000000140029.jpg', '/content/thumbnails/COCO_train2014_000000269434.jpg', '/content/thumbnails/COCO_train2014_000000024181.jpg', '/content/thumbnails/COCO_train2014_000000005643.jpg', '/content/thumbnails/COCO_train2014_000000005165.jpg', '/content/thumbnails/COCO_train2014_000000405312.jpg', '/content/thumbnails/COCO_train2014_000000045487.jpg', '/content/thumbnails/COCO_train2014_000000569203.jpg', '/content/thumbnails/COCO_train2014_000000542020.jpg', '/content/thumbnails/COCO_train2014_000000265622.jpg', '/content/thumbnails/COCO_train2014_000000282523.jpg', '/content/thumbnails/COCO_train2014_000000374860.jpg', '/content/thumbnails/COCO_train2014_000000007623.jpg', '/content/thumbnails/COCO_train2014_000000398419.jpg', '/content/thumbnails/COCO_train2014_000000399500.jpg', '/content/thumbnails/COCO_train2014_000000127240.jpg', '/content/thumbnails/COCO_train2014_000000007232.jpg', '/content/thumbnails/COCO_train2014_000000534958.jpg', '/content/thumbnails/COCO_train2014_000000399154.jpg', '/content/thumbnails/COCO_train2014_000000268195.jpg', '/content/thumbnails/COCO_train2014_000000004463.jpg', '/content/thumbnails/COCO_train2014_000000003911.jpg', '/content/thumbnails/COCO_train2014_000000282042.jpg', '/content/thumbnails/COCO_train2014_000000019725.jpg', '/content/thumbnails/COCO_train2014_000000530287.jpg', '/content/thumbnails/COCO_train2014_000000532769.jpg', '/content/thumbnails/COCO_train2014_000000005094.jpg', '/content/thumbnails/COCO_train2014_000000542713.jpg', '/content/thumbnails/COCO_train2014_000000398568.jpg', '/content/thumbnails/COCO_train2014_000000405291.jpg', '/content/thumbnails/COCO_train2014_000000138288.jpg', '/content/thumbnails/COCO_train2014_000000019793.jpg', '/content/thumbnails/COCO_train2014_000000284018.jpg', '/content/thumbnails/COCO_train2014_000000492492.jpg', '/content/thumbnails/COCO_train2014_000000536575.jpg', '/content/thumbnails/COCO_train2014_000000019695.jpg', '/content/thumbnails/COCO_train2014_000000282834.jpg', '/content/thumbnails/COCO_train2014_000000540838.jpg', '/content/thumbnails/COCO_train2014_000000416315.jpg', '/content/thumbnails/COCO_train2014_000000022218.jpg', '/content/thumbnails/COCO_train2014_000000533897.jpg', '/content/thumbnails/COCO_train2014_000000437883.jpg', '/content/thumbnails/COCO_train2014_000000306895.jpg', '/content/thumbnails/COCO_train2014_000000144275.jpg', '/content/thumbnails/COCO_train2014_000000200003.jpg', '/content/thumbnails/COCO_train2014_000000539023.jpg', '/content/thumbnails/COCO_train2014_000000273427.jpg', '/content/thumbnails/COCO_train2014_000000018994.jpg', '/content/thumbnails/COCO_train2014_000000476111.jpg', '/content/thumbnails/COCO_train2014_000000530745.jpg', '/content/thumbnails/COCO_train2014_000000147192.jpg', '/content/thumbnails/COCO_train2014_000000419599.jpg', '/content/thumbnails/COCO_train2014_000000483154.jpg', '/content/thumbnails/COCO_train2014_000000006481.jpg', '/content/thumbnails/COCO_train2014_000000281617.jpg', '/content/thumbnails/COCO_train2014_000000013916.jpg', '/content/thumbnails/COCO_train2014_000000480818.jpg', '/content/thumbnails/COCO_train2014_000000417090.jpg', '/content/thumbnails/COCO_train2014_000000405316.jpg', '/content/thumbnails/COCO_train2014_000000281855.jpg', '/content/thumbnails/COCO_train2014_000000533638.jpg', '/content/thumbnails/COCO_train2014_000000044060.jpg', '/content/thumbnails/COCO_train2014_000000297168.jpg', '/content/thumbnails/COCO_train2014_000000268227.jpg', '/content/thumbnails/COCO_train2014_000000161746.jpg', '/content/thumbnails/COCO_train2014_000000407065.jpg', '/content/thumbnails/COCO_train2014_000000020044.jpg', '/content/thumbnails/COCO_train2014_000000532501.jpg', '/content/thumbnails/COCO_train2014_000000417090.jpg', '/content/thumbnails/COCO_train2014_000000009910.jpg', '/content/thumbnails/COCO_train2014_000000411505.jpg', '/content/thumbnails/COCO_train2014_000000268276.jpg', '/content/thumbnails/COCO_train2014_000000142996.jpg', '/content/thumbnails/COCO_train2014_000000406732.jpg', '/content/thumbnails/COCO_train2014_000000534323.jpg', '/content/thumbnails/COCO_train2014_000000545478.jpg', '/content/thumbnails/COCO_train2014_000000533228.jpg', '/content/thumbnails/COCO_train2014_000000008311.jpg', '/content/thumbnails/COCO_train2014_000000147646.jpg', '/content/thumbnails/COCO_train2014_000000177085.jpg', '/content/thumbnails/COCO_train2014_000000152474.jpg', '/content/thumbnails/COCO_train2014_000000318644.jpg', '/content/thumbnails/COCO_train2014_000000066005.jpg', '/content/thumbnails/COCO_train2014_000000276711.jpg', '/content/thumbnails/COCO_train2014_000000411823.jpg', '/content/thumbnails/COCO_train2014_000000535685.jpg', '/content/thumbnails/COCO_train2014_000000283985.jpg', '/content/thumbnails/COCO_train2014_000000273602.jpg', '/content/thumbnails/COCO_train2014_000000401477.jpg', '/content/thumbnails/COCO_train2014_000000275663.jpg', '/content/thumbnails/COCO_train2014_000000398071.jpg', '/content/thumbnails/COCO_train2014_000000144337.jpg', '/content/thumbnails/COCO_train2014_000000533807.jpg', '/content/thumbnails/COCO_train2014_000000271577.jpg', '/content/thumbnails/COCO_train2014_000000412198.jpg', '/content/thumbnails/COCO_train2014_000000271120.jpg', '/content/thumbnails/COCO_train2014_000000411321.jpg', '/content/thumbnails/COCO_train2014_000000148361.jpg', '/content/thumbnails/COCO_train2014_000000539924.jpg', '/content/thumbnails/COCO_train2014_000000004208.jpg', '/content/thumbnails/COCO_train2014_000000010466.jpg', '/content/thumbnails/COCO_train2014_000000021260.jpg', '/content/thumbnails/COCO_train2014_000000272492.jpg', '/content/thumbnails/COCO_train2014_000000542070.jpg', '/content/thumbnails/COCO_train2014_000000274839.jpg', '/content/thumbnails/COCO_train2014_000000279697.jpg', '/content/thumbnails/COCO_train2014_000000136836.jpg', '/content/thumbnails/COCO_train2014_000000403394.jpg', '/content/thumbnails/COCO_train2014_000000402794.jpg', '/content/thumbnails/COCO_train2014_000000401822.jpg', '/content/thumbnails/COCO_train2014_000000408506.jpg', '/content/thumbnails/COCO_train2014_000000136338.jpg', '/content/thumbnails/COCO_train2014_000000530851.jpg', '/content/thumbnails/COCO_train2014_000000150440.jpg', '/content/thumbnails/COCO_train2014_000000006996.jpg', '/content/thumbnails/COCO_train2014_000000144283.jpg', '/content/thumbnails/COCO_train2014_000000151405.jpg', '/content/thumbnails/COCO_train2014_000000412868.jpg', '/content/thumbnails/COCO_train2014_000000280883.jpg', '/content/thumbnails/COCO_train2014_000000004575.jpg', '/content/thumbnails/COCO_train2014_000000539072.jpg', '/content/thumbnails/COCO_train2014_000000282671.jpg', '/content/thumbnails/COCO_train2014_000000533742.jpg', '/content/thumbnails/COCO_train2014_000000559073.jpg', '/content/thumbnails/COCO_train2014_000000403271.jpg', '/content/thumbnails/COCO_train2014_000000147392.jpg', '/content/thumbnails/COCO_train2014_000000531782.jpg', '/content/thumbnails/COCO_train2014_000000416368.jpg', '/content/thumbnails/COCO_train2014_000000407092.jpg', '/content/thumbnails/COCO_train2014_000000413623.jpg', '/content/thumbnails/COCO_train2014_000000138103.jpg', '/content/thumbnails/COCO_train2014_000000282737.jpg', '/content/thumbnails/COCO_train2014_000000428310.jpg', '/content/thumbnails/COCO_train2014_000000549407.jpg', '/content/thumbnails/COCO_train2014_000000132057.jpg', '/content/thumbnails/COCO_train2014_000000330208.jpg', '/content/thumbnails/COCO_train2014_000000285826.jpg', '/content/thumbnails/COCO_train2014_000000269160.jpg', '/content/thumbnails/COCO_train2014_000000538235.jpg', '/content/thumbnails/COCO_train2014_000000011075.jpg', '/content/thumbnails/COCO_train2014_000000008649.jpg', '/content/thumbnails/COCO_train2014_000000110058.jpg', '/content/thumbnails/COCO_train2014_000000138861.jpg', '/content/thumbnails/COCO_train2014_000000401201.jpg', '/content/thumbnails/COCO_train2014_000000411451.jpg', '/content/thumbnails/COCO_train2014_000000397973.jpg', '/content/thumbnails/COCO_train2014_000000537345.jpg', '/content/thumbnails/COCO_train2014_000000543254.jpg', '/content/thumbnails/COCO_train2014_000000268227.jpg', '/content/thumbnails/COCO_train2014_000000406422.jpg', '/content/thumbnails/COCO_train2014_000000022097.jpg', '/content/thumbnails/COCO_train2014_000000011272.jpg', '/content/thumbnails/COCO_train2014_000000026833.jpg', '/content/thumbnails/COCO_train2014_000000120601.jpg', '/content/thumbnails/COCO_train2014_000000270278.jpg', '/content/thumbnails/COCO_train2014_000000282840.jpg', '/content/thumbnails/COCO_train2014_000000136896.jpg', '/content/thumbnails/COCO_train2014_000000399528.jpg', '/content/thumbnails/COCO_train2014_000000148348.jpg', '/content/thumbnails/COCO_train2014_000000529273.jpg', '/content/thumbnails/COCO_train2014_000000410182.jpg', '/content/thumbnails/COCO_train2014_000000207715.jpg', '/content/thumbnails/COCO_train2014_000000531256.jpg', '/content/thumbnails/COCO_train2014_000000570874.jpg', '/content/thumbnails/COCO_train2014_000000274424.jpg', '/content/thumbnails/COCO_train2014_000000006560.jpg', '/content/thumbnails/COCO_train2014_000000542642.jpg', '/content/thumbnails/COCO_train2014_000000149996.jpg', '/content/thumbnails/COCO_train2014_000000541721.jpg', '/content/thumbnails/COCO_train2014_000000439057.jpg', '/content/thumbnails/COCO_train2014_000000006531.jpg', '/content/thumbnails/COCO_train2014_000000009945.jpg', '/content/thumbnails/COCO_train2014_000000136922.jpg', '/content/thumbnails/COCO_train2014_000000403666.jpg', '/content/thumbnails/COCO_train2014_000000144449.jpg', '/content/thumbnails/COCO_train2014_000000013146.jpg', '/content/thumbnails/COCO_train2014_000000282425.jpg', '/content/thumbnails/COCO_train2014_000000283018.jpg', '/content/thumbnails/COCO_train2014_000000403109.jpg', '/content/thumbnails/COCO_train2014_000000437435.jpg', '/content/thumbnails/COCO_train2014_000000147392.jpg', '/content/thumbnails/COCO_train2014_000000530906.jpg', '/content/thumbnails/COCO_train2014_000000266108.jpg', '/content/thumbnails/COCO_train2014_000000151289.jpg', '/content/thumbnails/COCO_train2014_000000145502.jpg', '/content/thumbnails/COCO_train2014_000000530851.jpg', '/content/thumbnails/COCO_train2014_000000455704.jpg', '/content/thumbnails/COCO_train2014_000000543795.jpg', '/content/thumbnails/COCO_train2014_000000145767.jpg', '/content/thumbnails/COCO_train2014_000000019558.jpg', '/content/thumbnails/COCO_train2014_000000282264.jpg', '/content/thumbnails/COCO_train2014_000000267688.jpg', '/content/thumbnails/COCO_train2014_000000266422.jpg', '/content/thumbnails/COCO_train2014_000000532631.jpg', '/content/thumbnails/COCO_train2014_000000544156.jpg', '/content/thumbnails/COCO_train2014_000000134294.jpg', '/content/thumbnails/COCO_train2014_000000535917.jpg', '/content/thumbnails/COCO_train2014_000000278171.jpg', '/content/thumbnails/COCO_train2014_000000528230.jpg', '/content/thumbnails/COCO_train2014_000000413918.jpg', '/content/thumbnails/COCO_train2014_000000147103.jpg', '/content/thumbnails/COCO_train2014_000000276711.jpg', '/content/thumbnails/COCO_train2014_000000413869.jpg', '/content/thumbnails/COCO_train2014_000000538709.jpg', '/content/thumbnails/COCO_train2014_000000141448.jpg', '/content/thumbnails/COCO_train2014_000000005991.jpg', '/content/thumbnails/COCO_train2014_000000542213.jpg', '/content/thumbnails/COCO_train2014_000000025193.jpg', '/content/thumbnails/COCO_train2014_000000017715.jpg', '/content/thumbnails/COCO_train2014_000000410261.jpg', '/content/thumbnails/COCO_train2014_000000393924.jpg', '/content/thumbnails/COCO_train2014_000000410409.jpg', '/content/thumbnails/COCO_train2014_000000048035.jpg', '/content/thumbnails/COCO_train2014_000000044962.jpg', '/content/thumbnails/COCO_train2014_000000309168.jpg', '/content/thumbnails/COCO_train2014_000000272670.jpg', '/content/thumbnails/COCO_train2014_000000529532.jpg', '/content/thumbnails/COCO_train2014_000000272544.jpg', '/content/thumbnails/COCO_train2014_000000022012.jpg', '/content/thumbnails/COCO_train2014_000000024899.jpg', '/content/thumbnails/COCO_train2014_000000012178.jpg', '/content/thumbnails/COCO_train2014_000000503479.jpg', '/content/thumbnails/COCO_train2014_000000270106.jpg', '/content/thumbnails/COCO_train2014_000000407216.jpg', '/content/thumbnails/COCO_train2014_000000007625.jpg', '/content/thumbnails/COCO_train2014_000000532753.jpg', '/content/thumbnails/COCO_train2014_000000541343.jpg', '/content/thumbnails/COCO_train2014_000000403474.jpg', '/content/thumbnails/COCO_train2014_000000006512.jpg', '/content/thumbnails/COCO_train2014_000000432448.jpg', '/content/thumbnails/COCO_train2014_000000541258.jpg', '/content/thumbnails/COCO_train2014_000000461414.jpg', '/content/thumbnails/COCO_train2014_000000327695.jpg', '/content/thumbnails/COCO_train2014_000000140209.jpg', '/content/thumbnails/COCO_train2014_000000016188.jpg', '/content/thumbnails/COCO_train2014_000000150374.jpg', '/content/thumbnails/COCO_train2014_000000139568.jpg', '/content/thumbnails/COCO_train2014_000000538309.jpg', '/content/thumbnails/COCO_train2014_000000013800.jpg', '/content/thumbnails/COCO_train2014_000000111556.jpg', '/content/thumbnails/COCO_train2014_000000009820.jpg', '/content/thumbnails/COCO_train2014_000000400309.jpg', '/content/thumbnails/COCO_train2014_000000079076.jpg', '/content/thumbnails/COCO_train2014_000000384362.jpg', '/content/thumbnails/COCO_train2014_000000139958.jpg', '/content/thumbnails/COCO_train2014_000000276711.jpg', '/content/thumbnails/COCO_train2014_000000541314.jpg', '/content/thumbnails/COCO_train2014_000000537074.jpg', '/content/thumbnails/COCO_train2014_000000410175.jpg', '/content/thumbnails/COCO_train2014_000000141510.jpg', '/content/thumbnails/COCO_train2014_000000273650.jpg', '/content/thumbnails/COCO_train2014_000000380259.jpg', '/content/thumbnails/COCO_train2014_000000529283.jpg', '/content/thumbnails/COCO_train2014_000000395396.jpg', '/content/thumbnails/COCO_train2014_000000408824.jpg', '/content/thumbnails/COCO_train2014_000000397173.jpg', '/content/thumbnails/COCO_train2014_000000005142.jpg', '/content/thumbnails/COCO_train2014_000000133281.jpg', '/content/thumbnails/COCO_train2014_000000148810.jpg', '/content/thumbnails/COCO_train2014_000000273491.jpg', '/content/thumbnails/COCO_train2014_000000395281.jpg', '/content/thumbnails/COCO_train2014_000000404964.jpg', '/content/thumbnails/COCO_train2014_000000282515.jpg', '/content/thumbnails/COCO_train2014_000000406196.jpg', '/content/thumbnails/COCO_train2014_000000135984.jpg', '/content/thumbnails/COCO_train2014_000000018078.jpg', '/content/thumbnails/COCO_train2014_000000007143.jpg', '/content/thumbnails/COCO_train2014_000000275758.jpg', '/content/thumbnails/COCO_train2014_000000275565.jpg', '/content/thumbnails/COCO_train2014_000000406296.jpg', '/content/thumbnails/COCO_train2014_000000006627.jpg', '/content/thumbnails/COCO_train2014_000000244671.jpg', '/content/thumbnails/COCO_train2014_000000414463.jpg', '/content/thumbnails/COCO_train2014_000000149060.jpg', '/content/thumbnails/COCO_train2014_000000399752.jpg', '/content/thumbnails/COCO_train2014_000000401622.jpg', '/content/thumbnails/COCO_train2014_000000330878.jpg', '/content/thumbnails/COCO_train2014_000000137203.jpg', '/content/thumbnails/COCO_train2014_000000005219.jpg', '/content/thumbnails/COCO_train2014_000000284362.jpg', '/content/thumbnails/COCO_train2014_000000088605.jpg', '/content/thumbnails/COCO_train2014_000000544018.jpg', '/content/thumbnails/COCO_train2014_000000170309.jpg', '/content/thumbnails/COCO_train2014_000000149253.jpg', '/content/thumbnails/COCO_train2014_000000280122.jpg', '/content/thumbnails/COCO_train2014_000000535732.jpg', '/content/thumbnails/COCO_train2014_000000017751.jpg', '/content/thumbnails/COCO_train2014_000000008432.jpg', '/content/thumbnails/COCO_train2014_000000409512.jpg', '/content/thumbnails/COCO_train2014_000000268993.jpg', '/content/thumbnails/COCO_train2014_000000177394.jpg', '/content/thumbnails/COCO_train2014_000000278240.jpg', '/content/thumbnails/COCO_train2014_000000139355.jpg', '/content/thumbnails/COCO_train2014_000000399672.jpg', '/content/thumbnails/COCO_train2014_000000004794.jpg', '/content/thumbnails/COCO_train2014_000000330575.jpg', '/content/thumbnails/COCO_train2014_000000276760.jpg', '/content/thumbnails/COCO_train2014_000000139336.jpg', '/content/thumbnails/COCO_train2014_000000374181.jpg', '/content/thumbnails/COCO_train2014_000000504259.jpg', '/content/thumbnails/COCO_train2014_000000338535.jpg', '/content/thumbnails/COCO_train2014_000000148983.jpg', '/content/thumbnails/COCO_train2014_000000270789.jpg', '/content/thumbnails/COCO_train2014_000000403571.jpg', '/content/thumbnails/COCO_train2014_000000542060.jpg', '/content/thumbnails/COCO_train2014_000000569561.jpg', '/content/thumbnails/COCO_train2014_000000532769.jpg', '/content/thumbnails/COCO_train2014_000000016483.jpg', '/content/thumbnails/COCO_train2014_000000019193.jpg', '/content/thumbnails/COCO_train2014_000000555308.jpg', '/content/thumbnails/COCO_train2014_000000412491.jpg', '/content/thumbnails/COCO_train2014_000000398568.jpg', '/content/thumbnails/COCO_train2014_000000153224.jpg', '/content/thumbnails/COCO_train2014_000000022044.jpg', '/content/thumbnails/COCO_train2014_000000288580.jpg', '/content/thumbnails/COCO_train2014_000000268918.jpg', '/content/thumbnails/COCO_train2014_000000146047.jpg', '/content/thumbnails/COCO_train2014_000000400134.jpg', '/content/thumbnails/COCO_train2014_000000009060.jpg', '/content/thumbnails/COCO_train2014_000000279511.jpg', '/content/thumbnails/COCO_train2014_000000009474.jpg', '/content/thumbnails/COCO_train2014_000000274514.jpg', '/content/thumbnails/COCO_train2014_000000272007.jpg', '/content/thumbnails/COCO_train2014_000000536798.jpg', '/content/thumbnails/COCO_train2014_000000140130.jpg', '/content/thumbnails/COCO_train2014_000000006287.jpg', '/content/thumbnails/COCO_train2014_000000409199.jpg', '/content/thumbnails/COCO_train2014_000000143989.jpg', '/content/thumbnails/COCO_train2014_000000010969.jpg', '/content/thumbnails/COCO_train2014_000000281091.jpg', '/content/thumbnails/COCO_train2014_000000541463.jpg', '/content/thumbnails/COCO_train2014_000000406659.jpg', '/content/thumbnails/COCO_train2014_000000569725.jpg', '/content/thumbnails/COCO_train2014_000000439141.jpg', '/content/thumbnails/COCO_train2014_000000271324.jpg', '/content/thumbnails/COCO_train2014_000000014707.jpg', '/content/thumbnails/COCO_train2014_000000284014.jpg', '/content/thumbnails/COCO_train2014_000000284014.jpg', '/content/thumbnails/COCO_train2014_000000398191.jpg', '/content/thumbnails/COCO_train2014_000000438331.jpg', '/content/thumbnails/COCO_train2014_000000275604.jpg', '/content/thumbnails/COCO_train2014_000000275830.jpg', '/content/thumbnails/COCO_train2014_000000414982.jpg', '/content/thumbnails/COCO_train2014_000000269621.jpg', '/content/thumbnails/COCO_train2014_000000411446.jpg', '/content/thumbnails/COCO_train2014_000000009983.jpg', '/content/thumbnails/COCO_train2014_000000282368.jpg', '/content/thumbnails/COCO_train2014_000000276753.jpg', '/content/thumbnails/COCO_train2014_000000013675.jpg', '/content/thumbnails/COCO_train2014_000000404471.jpg', '/content/thumbnails/COCO_train2014_000000406004.jpg', '/content/thumbnails/COCO_train2014_000000273979.jpg', '/content/thumbnails/COCO_train2014_000000491525.jpg', '/content/thumbnails/COCO_train2014_000000412194.jpg', '/content/thumbnails/COCO_train2014_000000275502.jpg', '/content/thumbnails/COCO_train2014_000000278425.jpg', '/content/thumbnails/COCO_train2014_000000284454.jpg', '/content/thumbnails/COCO_train2014_000000559073.jpg', '/content/thumbnails/COCO_train2014_000000534332.jpg', '/content/thumbnails/COCO_train2014_000000352767.jpg', '/content/thumbnails/COCO_train2014_000000145361.jpg', '/content/thumbnails/COCO_train2014_000000011801.jpg', '/content/thumbnails/COCO_train2014_000000401963.jpg', '/content/thumbnails/COCO_train2014_000000271714.jpg', '/content/thumbnails/COCO_train2014_000000400436.jpg', '/content/thumbnails/COCO_train2014_000000285195.jpg', '/content/thumbnails/COCO_train2014_000000244844.jpg', '/content/thumbnails/COCO_train2014_000000046267.jpg', '/content/thumbnails/COCO_train2014_000000535896.jpg', '/content/thumbnails/COCO_train2014_000000146004.jpg', '/content/thumbnails/COCO_train2014_000000272101.jpg', '/content/thumbnails/COCO_train2014_000000284448.jpg', '/content/thumbnails/COCO_train2014_000000400913.jpg', '/content/thumbnails/COCO_train2014_000000326511.jpg', '/content/thumbnails/COCO_train2014_000000439402.jpg', '/content/thumbnails/COCO_train2014_000000135749.jpg', '/content/thumbnails/COCO_train2014_000000402936.jpg', '/content/thumbnails/COCO_train2014_000000400560.jpg', '/content/thumbnails/COCO_train2014_000000544325.jpg', '/content/thumbnails/COCO_train2014_000000144582.jpg', '/content/thumbnails/COCO_train2014_000000281887.jpg', '/content/thumbnails/COCO_train2014_000000150435.jpg', '/content/thumbnails/COCO_train2014_000000271484.jpg', '/content/thumbnails/COCO_train2014_000000358265.jpg', '/content/thumbnails/COCO_train2014_000000398674.jpg', '/content/thumbnails/COCO_train2014_000000009248.jpg', '/content/thumbnails/COCO_train2014_000000405316.jpg', '/content/thumbnails/COCO_train2014_000000538744.jpg', '/content/thumbnails/COCO_train2014_000000414828.jpg', '/content/thumbnails/COCO_train2014_000000143286.jpg', '/content/thumbnails/COCO_train2014_000000437889.jpg', '/content/thumbnails/COCO_train2014_000000545238.jpg', '/content/thumbnails/COCO_train2014_000000410388.jpg', '/content/thumbnails/COCO_train2014_000000409872.jpg', '/content/thumbnails/COCO_train2014_000000011737.jpg', '/content/thumbnails/COCO_train2014_000000147646.jpg', '/content/thumbnails/COCO_train2014_000000417261.jpg', '/content/thumbnails/COCO_train2014_000000538779.jpg', '/content/thumbnails/COCO_train2014_000000147551.jpg', '/content/thumbnails/COCO_train2014_000000393016.jpg', '/content/thumbnails/COCO_train2014_000000366975.jpg', '/content/thumbnails/COCO_train2014_000000540586.jpg', '/content/thumbnails/COCO_train2014_000000025352.jpg', '/content/thumbnails/COCO_train2014_000000284218.jpg', '/content/thumbnails/COCO_train2014_000000141842.jpg', '/content/thumbnails/COCO_train2014_000000399480.jpg', '/content/thumbnails/COCO_train2014_000000019413.jpg', '/content/thumbnails/COCO_train2014_000000001947.jpg', '/content/thumbnails/COCO_train2014_000000148398.jpg', '/content/thumbnails/COCO_train2014_000000406666.jpg', '/content/thumbnails/COCO_train2014_000000262984.jpg', '/content/thumbnails/COCO_train2014_000000142970.jpg', '/content/thumbnails/COCO_train2014_000000417701.jpg', '/content/thumbnails/COCO_train2014_000000274763.jpg', '/content/thumbnails/COCO_train2014_000000267350.jpg', '/content/thumbnails/COCO_train2014_000000403162.jpg', '/content/thumbnails/COCO_train2014_000000151741.jpg', '/content/thumbnails/COCO_train2014_000000213902.jpg', '/content/thumbnails/COCO_train2014_000000272309.jpg', '/content/thumbnails/COCO_train2014_000000110314.jpg', '/content/thumbnails/COCO_train2014_000000278238.jpg', '/content/thumbnails/COCO_train2014_000000408190.jpg', '/content/thumbnails/COCO_train2014_000000068403.jpg', '/content/thumbnails/COCO_train2014_000000012460.jpg', '/content/thumbnails/COCO_train2014_000000143054.jpg', '/content/thumbnails/COCO_train2014_000000230515.jpg', '/content/thumbnails/COCO_train2014_000000010689.jpg', '/content/thumbnails/COCO_train2014_000000412986.jpg', '/content/thumbnails/COCO_train2014_000000460915.jpg', '/content/thumbnails/COCO_train2014_000000015347.jpg', '/content/thumbnails/COCO_train2014_000000266029.jpg', '/content/thumbnails/COCO_train2014_000000406328.jpg', '/content/thumbnails/COCO_train2014_000000330907.jpg', '/content/thumbnails/COCO_train2014_000000280959.jpg', '/content/thumbnails/COCO_train2014_000000015610.jpg', '/content/thumbnails/COCO_train2014_000000013800.jpg', '/content/thumbnails/COCO_train2014_000000544371.jpg', '/content/thumbnails/COCO_train2014_000000011401.jpg', '/content/thumbnails/COCO_train2014_000000104919.jpg', '/content/thumbnails/COCO_train2014_000000375425.jpg', '/content/thumbnails/COCO_train2014_000000412734.jpg', '/content/thumbnails/COCO_train2014_000000015610.jpg', '/content/thumbnails/COCO_train2014_000000019781.jpg', '/content/thumbnails/COCO_train2014_000000144772.jpg', '/content/thumbnails/COCO_train2014_000000282042.jpg', '/content/thumbnails/COCO_train2014_000000241281.jpg', '/content/thumbnails/COCO_train2014_000000439970.jpg', '/content/thumbnails/COCO_train2014_000000413354.jpg', '/content/thumbnails/COCO_train2014_000000268094.jpg', '/content/thumbnails/COCO_train2014_000000399973.jpg', '/content/thumbnails/COCO_train2014_000000396835.jpg', '/content/thumbnails/COCO_train2014_000000178440.jpg', '/content/thumbnails/COCO_train2014_000000540428.jpg', '/content/thumbnails/COCO_train2014_000000133086.jpg', '/content/thumbnails/COCO_train2014_000000144449.jpg', '/content/thumbnails/COCO_train2014_000000142970.jpg', '/content/thumbnails/COCO_train2014_000000279753.jpg', '/content/thumbnails/COCO_train2014_000000409722.jpg', '/content/thumbnails/COCO_train2014_000000002989.jpg', '/content/thumbnails/COCO_train2014_000000200910.jpg', '/content/thumbnails/COCO_train2014_000000018432.jpg', '/content/thumbnails/COCO_train2014_000000273103.jpg', '/content/thumbnails/COCO_train2014_000000273363.jpg', '/content/thumbnails/COCO_train2014_000000402590.jpg', '/content/thumbnails/COCO_train2014_000000283267.jpg', '/content/thumbnails/COCO_train2014_000000017472.jpg', '/content/thumbnails/COCO_train2014_000000532638.jpg', '/content/thumbnails/COCO_train2014_000000012497.jpg', '/content/thumbnails/COCO_train2014_000000432448.jpg', '/content/thumbnails/COCO_train2014_000000400999.jpg', '/content/thumbnails/COCO_train2014_000000275997.jpg', '/content/thumbnails/COCO_train2014_000000147846.jpg', '/content/thumbnails/COCO_train2014_000000008043.jpg', '/content/thumbnails/COCO_train2014_000000198953.jpg', '/content/thumbnails/COCO_train2014_000000015346.jpg', '/content/thumbnails/COCO_train2014_000000440623.jpg', '/content/thumbnails/COCO_train2014_000000531037.jpg', '/content/thumbnails/COCO_train2014_000000541229.jpg', '/content/thumbnails/COCO_train2014_000000536973.jpg', '/content/thumbnails/COCO_train2014_000000009935.jpg', '/content/thumbnails/COCO_train2014_000000397210.jpg', '/content/thumbnails/COCO_train2014_000000277507.jpg', '/content/thumbnails/COCO_train2014_000000410123.jpg', '/content/thumbnails/COCO_train2014_000000544752.jpg', '/content/thumbnails/COCO_train2014_000000418653.jpg', '/content/thumbnails/COCO_train2014_000000535278.jpg', '/content/thumbnails/COCO_train2014_000000111807.jpg', '/content/thumbnails/COCO_train2014_000000267531.jpg', '/content/thumbnails/COCO_train2014_000000543468.jpg', '/content/thumbnails/COCO_train2014_000000399973.jpg', '/content/thumbnails/COCO_train2014_000000403423.jpg', '/content/thumbnails/COCO_train2014_000000016827.jpg', '/content/thumbnails/COCO_train2014_000000406250.jpg', '/content/thumbnails/COCO_train2014_000000142746.jpg', '/content/thumbnails/COCO_train2014_000000013279.jpg', '/content/thumbnails/COCO_train2014_000000414603.jpg', '/content/thumbnails/COCO_train2014_000000284670.jpg', '/content/thumbnails/COCO_train2014_000000401670.jpg', '/content/thumbnails/COCO_train2014_000000025167.jpg', '/content/thumbnails/COCO_train2014_000000532638.jpg', '/content/thumbnails/COCO_train2014_000000532030.jpg', '/content/thumbnails/COCO_train2014_000000269827.jpg', '/content/thumbnails/COCO_train2014_000000140588.jpg', '/content/thumbnails/COCO_train2014_000000225251.jpg', '/content/thumbnails/COCO_train2014_000000048209.jpg', '/content/thumbnails/COCO_train2014_000000148747.jpg', '/content/thumbnails/COCO_train2014_000000142746.jpg', '/content/thumbnails/COCO_train2014_000000543803.jpg', '/content/thumbnails/COCO_train2014_000000143256.jpg', '/content/thumbnails/COCO_train2014_000000438448.jpg', '/content/thumbnails/COCO_train2014_000000007035.jpg', '/content/thumbnails/COCO_train2014_000000411885.jpg', '/content/thumbnails/COCO_train2014_000000282431.jpg', '/content/thumbnails/COCO_train2014_000000277127.jpg', '/content/thumbnails/COCO_train2014_000000406226.jpg', '/content/thumbnails/COCO_train2014_000000352670.jpg', '/content/thumbnails/COCO_train2014_000000110175.jpg', '/content/thumbnails/COCO_train2014_000000088270.jpg', '/content/thumbnails/COCO_train2014_000000011052.jpg', '/content/thumbnails/COCO_train2014_000000398924.jpg', '/content/thumbnails/COCO_train2014_000000140351.jpg', '/content/thumbnails/COCO_train2014_000000284639.jpg', '/content/thumbnails/COCO_train2014_000000281632.jpg', '/content/thumbnails/COCO_train2014_000000401842.jpg', '/content/thumbnails/COCO_train2014_000000227503.jpg', '/content/thumbnails/COCO_train2014_000000267568.jpg', '/content/thumbnails/COCO_train2014_000000544348.jpg', '/content/thumbnails/COCO_train2014_000000410687.jpg', '/content/thumbnails/COCO_train2014_000000532304.jpg', '/content/thumbnails/COCO_train2014_000000408204.jpg', '/content/thumbnails/COCO_train2014_000000543728.jpg', '/content/thumbnails/COCO_train2014_000000176032.jpg', '/content/thumbnails/COCO_train2014_000000269592.jpg', '/content/thumbnails/COCO_train2014_000000014801.jpg', '/content/thumbnails/COCO_train2014_000000280338.jpg', '/content/thumbnails/COCO_train2014_000000142322.jpg', '/content/thumbnails/COCO_train2014_000000264539.jpg', '/content/thumbnails/COCO_train2014_000000400599.jpg', '/content/thumbnails/COCO_train2014_000000308143.jpg', '/content/thumbnails/COCO_train2014_000000146030.jpg', '/content/thumbnails/COCO_train2014_000000483033.jpg', '/content/thumbnails/COCO_train2014_000000503643.jpg', '/content/thumbnails/COCO_train2014_000000401759.jpg', '/content/thumbnails/COCO_train2014_000000145497.jpg', '/content/thumbnails/COCO_train2014_000000528157.jpg', '/content/thumbnails/COCO_train2014_000000412901.jpg', '/content/thumbnails/COCO_train2014_000000151927.jpg', '/content/thumbnails/COCO_train2014_000000008781.jpg', '/content/thumbnails/COCO_train2014_000000136233.jpg', '/content/thumbnails/COCO_train2014_000000407441.jpg', '/content/thumbnails/COCO_train2014_000000143277.jpg', '/content/thumbnails/COCO_train2014_000000375054.jpg', '/content/thumbnails/COCO_train2014_000000268161.jpg', '/content/thumbnails/COCO_train2014_000000012460.jpg', '/content/thumbnails/COCO_train2014_000000403394.jpg', '/content/thumbnails/COCO_train2014_000000110169.jpg', '/content/thumbnails/COCO_train2014_000000399548.jpg', '/content/thumbnails/COCO_train2014_000000329841.jpg', '/content/thumbnails/COCO_train2014_000000148215.jpg', '/content/thumbnails/COCO_train2014_000000550324.jpg', '/content/thumbnails/COCO_train2014_000000526758.jpg', '/content/thumbnails/COCO_train2014_000000536010.jpg', '/content/thumbnails/COCO_train2014_000000279025.jpg', '/content/thumbnails/COCO_train2014_000000068648.jpg', '/content/thumbnails/COCO_train2014_000000264504.jpg', '/content/thumbnails/COCO_train2014_000000018299.jpg', '/content/thumbnails/COCO_train2014_000000314904.jpg', '/content/thumbnails/COCO_train2014_000000266299.jpg', '/content/thumbnails/COCO_train2014_000000281027.jpg', '/content/thumbnails/COCO_train2014_000000306703.jpg', '/content/thumbnails/COCO_train2014_000000001810.jpg', '/content/thumbnails/COCO_train2014_000000271890.jpg', '/content/thumbnails/COCO_train2014_000000137042.jpg', '/content/thumbnails/COCO_train2014_000000143636.jpg', '/content/thumbnails/COCO_train2014_000000272034.jpg', '/content/thumbnails/COCO_train2014_000000351203.jpg', '/content/thumbnails/COCO_train2014_000000134543.jpg', '/content/thumbnails/COCO_train2014_000000527228.jpg', '/content/thumbnails/COCO_train2014_000000541832.jpg', '/content/thumbnails/COCO_train2014_000000411225.jpg', '/content/thumbnails/COCO_train2014_000000281910.jpg', '/content/thumbnails/COCO_train2014_000000010981.jpg', '/content/thumbnails/COCO_train2014_000000410992.jpg', '/content/thumbnails/COCO_train2014_000000015175.jpg', '/content/thumbnails/COCO_train2014_000000405316.jpg', '/content/thumbnails/COCO_train2014_000000154547.jpg', '/content/thumbnails/COCO_train2014_000000532461.jpg', '/content/thumbnails/COCO_train2014_000000438060.jpg', '/content/thumbnails/COCO_train2014_000000528940.jpg', '/content/thumbnails/COCO_train2014_000000353098.jpg', '/content/thumbnails/COCO_train2014_000000542713.jpg', '/content/thumbnails/COCO_train2014_000000148099.jpg', '/content/thumbnails/COCO_train2014_000000395592.jpg', '/content/thumbnails/COCO_train2014_000000410960.jpg', '/content/thumbnails/COCO_train2014_000000401551.jpg', '/content/thumbnails/COCO_train2014_000000531550.jpg', '/content/thumbnails/COCO_train2014_000000533551.jpg', '/content/thumbnails/COCO_train2014_000000005620.jpg', '/content/thumbnails/COCO_train2014_000000140817.jpg', '/content/thumbnails/COCO_train2014_000000542824.jpg', '/content/thumbnails/COCO_train2014_000000402213.jpg', '/content/thumbnails/COCO_train2014_000000148004.jpg', '/content/thumbnails/COCO_train2014_000000402271.jpg', '/content/thumbnails/COCO_train2014_000000089124.jpg', '/content/thumbnails/COCO_train2014_000000023641.jpg', '/content/thumbnails/COCO_train2014_000000401778.jpg', '/content/thumbnails/COCO_train2014_000000413665.jpg', '/content/thumbnails/COCO_train2014_000000278737.jpg', '/content/thumbnails/COCO_train2014_000000005219.jpg', '/content/thumbnails/COCO_train2014_000000428440.jpg', '/content/thumbnails/COCO_train2014_000000015915.jpg', '/content/thumbnails/COCO_train2014_000000139754.jpg', '/content/thumbnails/COCO_train2014_000000275758.jpg', '/content/thumbnails/COCO_train2014_000000270938.jpg', '/content/thumbnails/COCO_train2014_000000310163.jpg', '/content/thumbnails/COCO_train2014_000000530403.jpg', '/content/thumbnails/COCO_train2014_000000404222.jpg', '/content/thumbnails/COCO_train2014_000000542832.jpg', '/content/thumbnails/COCO_train2014_000000272441.jpg', '/content/thumbnails/COCO_train2014_000000242061.jpg', '/content/thumbnails/COCO_train2014_000000270070.jpg', '/content/thumbnails/COCO_train2014_000000001810.jpg', '/content/thumbnails/COCO_train2014_000000536938.jpg', '/content/thumbnails/COCO_train2014_000000142123.jpg', '/content/thumbnails/COCO_train2014_000000415376.jpg', '/content/thumbnails/COCO_train2014_000000412356.jpg', '/content/thumbnails/COCO_train2014_000000351973.jpg', '/content/thumbnails/COCO_train2014_000000401416.jpg', '/content/thumbnails/COCO_train2014_000000535661.jpg', '/content/thumbnails/COCO_train2014_000000017460.jpg', '/content/thumbnails/COCO_train2014_000000530851.jpg', '/content/thumbnails/COCO_train2014_000000199460.jpg', '/content/thumbnails/COCO_train2014_000000137075.jpg', '/content/thumbnails/COCO_train2014_000000018041.jpg', '/content/thumbnails/COCO_train2014_000000017392.jpg', '/content/thumbnails/COCO_train2014_000000134907.jpg', '/content/thumbnails/COCO_train2014_000000411581.jpg', '/content/thumbnails/COCO_train2014_000000539072.jpg', '/content/thumbnails/COCO_train2014_000000275830.jpg', '/content/thumbnails/COCO_train2014_000000374072.jpg', '/content/thumbnails/COCO_train2014_000000541709.jpg', '/content/thumbnails/COCO_train2014_000000535804.jpg', '/content/thumbnails/COCO_train2014_000000264076.jpg', '/content/thumbnails/COCO_train2014_000000266228.jpg', '/content/thumbnails/COCO_train2014_000000140460.jpg', '/content/thumbnails/COCO_train2014_000000412535.jpg', '/content/thumbnails/COCO_train2014_000000417476.jpg', '/content/thumbnails/COCO_train2014_000000134430.jpg', '/content/thumbnails/COCO_train2014_000000395768.jpg', '/content/thumbnails/COCO_train2014_000000137847.jpg', '/content/thumbnails/COCO_train2014_000000152293.jpg', '/content/thumbnails/COCO_train2014_000000401743.jpg', '/content/thumbnails/COCO_train2014_000000401842.jpg', '/content/thumbnails/COCO_train2014_000000147122.jpg', '/content/thumbnails/COCO_train2014_000000397075.jpg', '/content/thumbnails/COCO_train2014_000000395822.jpg', '/content/thumbnails/COCO_train2014_000000460915.jpg', '/content/thumbnails/COCO_train2014_000000397769.jpg', '/content/thumbnails/COCO_train2014_000000529061.jpg', '/content/thumbnails/COCO_train2014_000000147646.jpg', '/content/thumbnails/COCO_train2014_000000268213.jpg', '/content/thumbnails/COCO_train2014_000000147930.jpg', '/content/thumbnails/COCO_train2014_000000409155.jpg', '/content/thumbnails/COCO_train2014_000000534855.jpg', '/content/thumbnails/COCO_train2014_000000287223.jpg', '/content/thumbnails/COCO_train2014_000000200988.jpg', '/content/thumbnails/COCO_train2014_000000149996.jpg', '/content/thumbnails/COCO_train2014_000000276006.jpg', '/content/thumbnails/COCO_train2014_000000147211.jpg', '/content/thumbnails/COCO_train2014_000000003860.jpg', '/content/thumbnails/COCO_train2014_000000022012.jpg', '/content/thumbnails/COCO_train2014_000000545500.jpg', '/content/thumbnails/COCO_train2014_000000531998.jpg', '/content/thumbnails/COCO_train2014_000000280422.jpg', '/content/thumbnails/COCO_train2014_000000531944.jpg', '/content/thumbnails/COCO_train2014_000000401507.jpg', '/content/thumbnails/COCO_train2014_000000412794.jpg', '/content/thumbnails/COCO_train2014_000000280169.jpg', '/content/thumbnails/COCO_train2014_000000423777.jpg', '/content/thumbnails/COCO_train2014_000000148348.jpg', '/content/thumbnails/COCO_train2014_000000281910.jpg', '/content/thumbnails/COCO_train2014_000000536103.jpg', '/content/thumbnails/COCO_train2014_000000537461.jpg', '/content/thumbnails/COCO_train2014_000000543183.jpg', '/content/thumbnails/COCO_train2014_000000569495.jpg', '/content/thumbnails/COCO_train2014_000000270865.jpg', '/content/thumbnails/COCO_train2014_000000273363.jpg', '/content/thumbnails/COCO_train2014_000000145912.jpg', '/content/thumbnails/COCO_train2014_000000427915.jpg', '/content/thumbnails/COCO_train2014_000000010881.jpg', '/content/thumbnails/COCO_train2014_000000540716.jpg', '/content/thumbnails/COCO_train2014_000000530396.jpg', '/content/thumbnails/COCO_train2014_000000018792.jpg', '/content/thumbnails/COCO_train2014_000000143711.jpg', '/content/thumbnails/COCO_train2014_000000012999.jpg', '/content/thumbnails/COCO_train2014_000000016111.jpg', '/content/thumbnails/COCO_train2014_000000017047.jpg', '/content/thumbnails/COCO_train2014_000000014319.jpg', '/content/thumbnails/COCO_train2014_000000480495.jpg', '/content/thumbnails/COCO_train2014_000000401551.jpg', '/content/thumbnails/COCO_train2014_000000439057.jpg', '/content/thumbnails/COCO_train2014_000000265051.jpg', '/content/thumbnails/COCO_train2014_000000015002.jpg', '/content/thumbnails/COCO_train2014_000000403547.jpg', '/content/thumbnails/COCO_train2014_000000141931.jpg', '/content/thumbnails/COCO_train2014_000000015830.jpg', '/content/thumbnails/COCO_train2014_000000282946.jpg', '/content/thumbnails/COCO_train2014_000000414001.jpg', '/content/thumbnails/COCO_train2014_000000150939.jpg', '/content/thumbnails/COCO_train2014_000000241305.jpg', '/content/thumbnails/COCO_train2014_000000380420.jpg', '/content/thumbnails/COCO_train2014_000000503781.jpg', '/content/thumbnails/COCO_train2014_000000398419.jpg', '/content/thumbnails/COCO_train2014_000000402715.jpg', '/content/thumbnails/COCO_train2014_000000279661.jpg', '/content/thumbnails/COCO_train2014_000000413572.jpg', '/content/thumbnails/COCO_train2014_000000332270.jpg', '/content/thumbnails/COCO_train2014_000000539924.jpg', '/content/thumbnails/COCO_train2014_000000277267.jpg', '/content/thumbnails/COCO_train2014_000000413776.jpg', '/content/thumbnails/COCO_train2014_000000284256.jpg', '/content/thumbnails/COCO_train2014_000000529823.jpg', '/content/thumbnails/COCO_train2014_000000397673.jpg', '/content/thumbnails/COCO_train2014_000000004971.jpg', '/content/thumbnails/COCO_train2014_000000139590.jpg', '/content/thumbnails/COCO_train2014_000000153923.jpg', '/content/thumbnails/COCO_train2014_000000397645.jpg', '/content/thumbnails/COCO_train2014_000000416368.jpg', '/content/thumbnails/COCO_train2014_000000132183.jpg', '/content/thumbnails/COCO_train2014_000000276218.jpg', '/content/thumbnails/COCO_train2014_000000147060.jpg', '/content/thumbnails/COCO_train2014_000000144357.jpg', '/content/thumbnails/COCO_train2014_000000137154.jpg', '/content/thumbnails/COCO_train2014_000000421106.jpg', '/content/thumbnails/COCO_train2014_000000535019.jpg', '/content/thumbnails/COCO_train2014_000000535685.jpg', '/content/thumbnails/COCO_train2014_000000445621.jpg', '/content/thumbnails/COCO_train2014_000000370177.jpg', '/content/thumbnails/COCO_train2014_000000537479.jpg', '/content/thumbnails/COCO_train2014_000000404322.jpg', '/content/thumbnails/COCO_train2014_000000414082.jpg', '/content/thumbnails/COCO_train2014_000000538691.jpg', '/content/thumbnails/COCO_train2014_000000400953.jpg', '/content/thumbnails/COCO_train2014_000000262997.jpg', '/content/thumbnails/COCO_train2014_000000014209.jpg', '/content/thumbnails/COCO_train2014_000000280422.jpg', '/content/thumbnails/COCO_train2014_000000139878.jpg', '/content/thumbnails/COCO_train2014_000000543222.jpg', '/content/thumbnails/COCO_train2014_000000010337.jpg', '/content/thumbnails/COCO_train2014_000000545213.jpg', '/content/thumbnails/COCO_train2014_000000268008.jpg', '/content/thumbnails/COCO_train2014_000000554597.jpg', '/content/thumbnails/COCO_train2014_000000138081.jpg', '/content/thumbnails/COCO_train2014_000000543275.jpg', '/content/thumbnails/COCO_train2014_000000151110.jpg', '/content/thumbnails/COCO_train2014_000000147505.jpg', '/content/thumbnails/COCO_train2014_000000540656.jpg', '/content/thumbnails/COCO_train2014_000000409120.jpg', '/content/thumbnails/COCO_train2014_000000137730.jpg', '/content/thumbnails/COCO_train2014_000000138435.jpg', '/content/thumbnails/COCO_train2014_000000275199.jpg', '/content/thumbnails/COCO_train2014_000000413382.jpg', '/content/thumbnails/COCO_train2014_000000191350.jpg', '/content/thumbnails/COCO_train2014_000000151289.jpg', '/content/thumbnails/COCO_train2014_000000277085.jpg', '/content/thumbnails/COCO_train2014_000000144033.jpg', '/content/thumbnails/COCO_train2014_000000559073.jpg', '/content/thumbnails/COCO_train2014_000000403687.jpg', '/content/thumbnails/COCO_train2014_000000146004.jpg', '/content/thumbnails/COCO_train2014_000000542988.jpg', '/content/thumbnails/COCO_train2014_000000009018.jpg', '/content/thumbnails/COCO_train2014_000000374597.jpg', '/content/thumbnails/COCO_train2014_000000264723.jpg', '/content/thumbnails/COCO_train2014_000000264170.jpg', '/content/thumbnails/COCO_train2014_000000014844.jpg', '/content/thumbnails/COCO_train2014_000000148114.jpg', '/content/thumbnails/COCO_train2014_000000146317.jpg', '/content/thumbnails/COCO_train2014_000000016980.jpg', '/content/thumbnails/COCO_train2014_000000361417.jpg', '/content/thumbnails/COCO_train2014_000000142958.jpg', '/content/thumbnails/COCO_train2014_000000541721.jpg', '/content/thumbnails/COCO_train2014_000000405013.jpg', '/content/thumbnails/COCO_train2014_000000009025.jpg', '/content/thumbnails/COCO_train2014_000000271395.jpg', '/content/thumbnails/COCO_train2014_000000544238.jpg', '/content/thumbnails/COCO_train2014_000000279580.jpg', '/content/thumbnails/COCO_train2014_000000020769.jpg', '/content/thumbnails/COCO_train2014_000000542974.jpg', '/content/thumbnails/COCO_train2014_000000535143.jpg', '/content/thumbnails/COCO_train2014_000000097724.jpg', '/content/thumbnails/COCO_train2014_000000533889.jpg', '/content/thumbnails/COCO_train2014_000000273324.jpg', '/content/thumbnails/COCO_train2014_000000150640.jpg', '/content/thumbnails/COCO_train2014_000000154212.jpg', '/content/thumbnails/COCO_train2014_000000403306.jpg', '/content/thumbnails/COCO_train2014_000000143392.jpg', '/content/thumbnails/COCO_train2014_000000272343.jpg', '/content/thumbnails/COCO_train2014_000000327758.jpg', '/content/thumbnails/COCO_train2014_000000009983.jpg', '/content/thumbnails/COCO_train2014_000000131884.jpg', '/content/thumbnails/COCO_train2014_000000268523.jpg', '/content/thumbnails/COCO_train2014_000000150184.jpg', '/content/thumbnails/COCO_train2014_000000274514.jpg', '/content/thumbnails/COCO_train2014_000000015518.jpg', '/content/thumbnails/COCO_train2014_000000141659.jpg', '/content/thumbnails/COCO_train2014_000000403955.jpg', '/content/thumbnails/COCO_train2014_000000277998.jpg', '/content/thumbnails/COCO_train2014_000000155749.jpg', '/content/thumbnails/COCO_train2014_000000406139.jpg', '/content/thumbnails/COCO_train2014_000000013678.jpg', '/content/thumbnails/COCO_train2014_000000541721.jpg', '/content/thumbnails/COCO_train2014_000000282440.jpg', '/content/thumbnails/COCO_train2014_000000403329.jpg', '/content/thumbnails/COCO_train2014_000000057427.jpg', '/content/thumbnails/COCO_train2014_000000131913.jpg', '/content/thumbnails/COCO_train2014_000000016210.jpg', '/content/thumbnails/COCO_train2014_000000336457.jpg', '/content/thumbnails/COCO_train2014_000000272412.jpg', '/content/thumbnails/COCO_train2014_000000020308.jpg', '/content/thumbnails/COCO_train2014_000000273379.jpg', '/content/thumbnails/COCO_train2014_000000218601.jpg', '/content/thumbnails/COCO_train2014_000000018751.jpg', '/content/thumbnails/COCO_train2014_000000201273.jpg', '/content/thumbnails/COCO_train2014_000000405057.jpg', '/content/thumbnails/COCO_train2014_000000400592.jpg', '/content/thumbnails/COCO_train2014_000000550642.jpg', '/content/thumbnails/COCO_train2014_000000533316.jpg', '/content/thumbnails/COCO_train2014_000000140512.jpg', '/content/thumbnails/COCO_train2014_000000397543.jpg', '/content/thumbnails/COCO_train2014_000000141482.jpg', '/content/thumbnails/COCO_train2014_000000018171.jpg', '/content/thumbnails/COCO_train2014_000000031524.jpg', '/content/thumbnails/COCO_train2014_000000408048.jpg', '/content/thumbnails/COCO_train2014_000000409120.jpg', '/content/thumbnails/COCO_train2014_000000006075.jpg', '/content/thumbnails/COCO_train2014_000000327682.jpg', '/content/thumbnails/COCO_train2014_000000538480.jpg', '/content/thumbnails/COCO_train2014_000000528868.jpg', '/content/thumbnails/COCO_train2014_000000576421.jpg', '/content/thumbnails/COCO_train2014_000000336457.jpg', '/content/thumbnails/COCO_train2014_000000280254.jpg', '/content/thumbnails/COCO_train2014_000000538420.jpg', '/content/thumbnails/COCO_train2014_000000155749.jpg', '/content/thumbnails/COCO_train2014_000000528315.jpg', '/content/thumbnails/COCO_train2014_000000532457.jpg', '/content/thumbnails/COCO_train2014_000000009872.jpg', '/content/thumbnails/COCO_train2014_000000271043.jpg', '/content/thumbnails/COCO_train2014_000000400606.jpg', '/content/thumbnails/COCO_train2014_000000538518.jpg', '/content/thumbnails/COCO_train2014_000000141400.jpg', '/content/thumbnails/COCO_train2014_000000004970.jpg', '/content/thumbnails/COCO_train2014_000000006428.jpg', '/content/thumbnails/COCO_train2014_000000278097.jpg', '/content/thumbnails/COCO_train2014_000000045459.jpg', '/content/thumbnails/COCO_train2014_000000308621.jpg', '/content/thumbnails/COCO_train2014_000000421639.jpg', '/content/thumbnails/COCO_train2014_000000408426.jpg', '/content/thumbnails/COCO_train2014_000000483736.jpg', '/content/thumbnails/COCO_train2014_000000022116.jpg', '/content/thumbnails/COCO_train2014_000000146186.jpg', '/content/thumbnails/COCO_train2014_000000528550.jpg', '/content/thumbnails/COCO_train2014_000000533551.jpg', '/content/thumbnails/COCO_train2014_000000534694.jpg', '/content/thumbnails/COCO_train2014_000000539632.jpg', '/content/thumbnails/COCO_train2014_000000281700.jpg', '/content/thumbnails/COCO_train2014_000000274986.jpg', '/content/thumbnails/COCO_train2014_000000283500.jpg', '/content/thumbnails/COCO_train2014_000000284170.jpg', '/content/thumbnails/COCO_train2014_000000310128.jpg', '/content/thumbnails/COCO_train2014_000000271736.jpg', '/content/thumbnails/COCO_train2014_000000400094.jpg', '/content/thumbnails/COCO_train2014_000000409155.jpg', '/content/thumbnails/COCO_train2014_000000019013.jpg', '/content/thumbnails/COCO_train2014_000000532461.jpg', '/content/thumbnails/COCO_train2014_000000272219.jpg', '/content/thumbnails/COCO_train2014_000000412868.jpg', '/content/thumbnails/COCO_train2014_000000281246.jpg', '/content/thumbnails/COCO_train2014_000000137203.jpg', '/content/thumbnails/COCO_train2014_000000407761.jpg', '/content/thumbnails/COCO_train2014_000000544294.jpg', '/content/thumbnails/COCO_train2014_000000331105.jpg', '/content/thumbnails/COCO_train2014_000000401194.jpg', '/content/thumbnails/COCO_train2014_000000148306.jpg', '/content/thumbnails/COCO_train2014_000000461211.jpg', '/content/thumbnails/COCO_train2014_000000539198.jpg', '/content/thumbnails/COCO_train2014_000000536318.jpg', '/content/thumbnails/COCO_train2014_000000280442.jpg', '/content/thumbnails/COCO_train2014_000000504052.jpg', '/content/thumbnails/COCO_train2014_000000145411.jpg', '/content/thumbnails/COCO_train2014_000000135938.jpg', '/content/thumbnails/COCO_train2014_000000280767.jpg', '/content/thumbnails/COCO_train2014_000000274763.jpg', '/content/thumbnails/COCO_train2014_000000413115.jpg', '/content/thumbnails/COCO_train2014_000000281194.jpg', '/content/thumbnails/COCO_train2014_000000281080.jpg', '/content/thumbnails/COCO_train2014_000000185151.jpg', '/content/thumbnails/COCO_train2014_000000536318.jpg', '/content/thumbnails/COCO_train2014_000000281779.jpg', '/content/thumbnails/COCO_train2014_000000219935.jpg', '/content/thumbnails/COCO_train2014_000000401477.jpg', '/content/thumbnails/COCO_train2014_000000147959.jpg', '/content/thumbnails/COCO_train2014_000000438154.jpg', '/content/thumbnails/COCO_train2014_000000403525.jpg', '/content/thumbnails/COCO_train2014_000000482451.jpg', '/content/thumbnails/COCO_train2014_000000007921.jpg', '/content/thumbnails/COCO_train2014_000000400737.jpg', '/content/thumbnails/COCO_train2014_000000118296.jpg', '/content/thumbnails/COCO_train2014_000000151741.jpg', '/content/thumbnails/COCO_train2014_000000150374.jpg', '/content/thumbnails/COCO_train2014_000000414959.jpg', '/content/thumbnails/COCO_train2014_000000573184.jpg', '/content/thumbnails/COCO_train2014_000000397819.jpg', '/content/thumbnails/COCO_train2014_000000135322.jpg', '/content/thumbnails/COCO_train2014_000000403080.jpg', '/content/thumbnails/COCO_train2014_000000014768.jpg', '/content/thumbnails/COCO_train2014_000000543217.jpg', '/content/thumbnails/COCO_train2014_000000351726.jpg', '/content/thumbnails/COCO_train2014_000000352670.jpg', '/content/thumbnails/COCO_train2014_000000199169.jpg', '/content/thumbnails/COCO_train2014_000000014090.jpg', '/content/thumbnails/COCO_train2014_000000144502.jpg', '/content/thumbnails/COCO_train2014_000000568725.jpg', '/content/thumbnails/COCO_train2014_000000142123.jpg', '/content/thumbnails/COCO_train2014_000000275895.jpg', '/content/thumbnails/COCO_train2014_000000538709.jpg', '/content/thumbnails/COCO_train2014_000000276763.jpg', '/content/thumbnails/COCO_train2014_000000276247.jpg', '/content/thumbnails/COCO_train2014_000000004239.jpg', '/content/thumbnails/COCO_train2014_000000406786.jpg', '/content/thumbnails/COCO_train2014_000000534419.jpg', '/content/thumbnails/COCO_train2014_000000399227.jpg', '/content/thumbnails/COCO_train2014_000000272162.jpg', '/content/thumbnails/COCO_train2014_000000541771.jpg', '/content/thumbnails/COCO_train2014_000000498218.jpg', '/content/thumbnails/COCO_train2014_000000399191.jpg', '/content/thumbnails/COCO_train2014_000000280024.jpg', '/content/thumbnails/COCO_train2014_000000011591.jpg', '/content/thumbnails/COCO_train2014_000000276763.jpg', '/content/thumbnails/COCO_train2014_000000532504.jpg', '/content/thumbnails/COCO_train2014_000000398070.jpg', '/content/thumbnails/COCO_train2014_000000410005.jpg', '/content/thumbnails/COCO_train2014_000000284406.jpg', '/content/thumbnails/COCO_train2014_000000532958.jpg', '/content/thumbnails/COCO_train2014_000000538108.jpg', '/content/thumbnails/COCO_train2014_000000025352.jpg', '/content/thumbnails/COCO_train2014_000000268603.jpg', '/content/thumbnails/COCO_train2014_000000409182.jpg', '/content/thumbnails/COCO_train2014_000000016173.jpg', '/content/thumbnails/COCO_train2014_000000407899.jpg', '/content/thumbnails/COCO_train2014_000000266001.jpg', '/content/thumbnails/COCO_train2014_000000268900.jpg', '/content/thumbnails/COCO_train2014_000000199119.jpg', '/content/thumbnails/COCO_train2014_000000395822.jpg', '/content/thumbnails/COCO_train2014_000000308143.jpg', '/content/thumbnails/COCO_train2014_000000398712.jpg', '/content/thumbnails/COCO_train2014_000000147772.jpg', '/content/thumbnails/COCO_train2014_000000088382.jpg', '/content/thumbnails/COCO_train2014_000000399784.jpg', '/content/thumbnails/COCO_train2014_000000406422.jpg', '/content/thumbnails/COCO_train2014_000000147115.jpg', '/content/thumbnails/COCO_train2014_000000398053.jpg', '/content/thumbnails/COCO_train2014_000000136993.jpg', '/content/thumbnails/COCO_train2014_000000282926.jpg', '/content/thumbnails/COCO_train2014_000000065984.jpg', '/content/thumbnails/COCO_train2014_000000020769.jpg', '/content/thumbnails/COCO_train2014_000000279777.jpg', '/content/thumbnails/COCO_train2014_000000137056.jpg', '/content/thumbnails/COCO_train2014_000000519506.jpg', '/content/thumbnails/COCO_train2014_000000405435.jpg', '/content/thumbnails/COCO_train2014_000000223139.jpg', '/content/thumbnails/COCO_train2014_000000529322.jpg', '/content/thumbnails/COCO_train2014_000000110748.jpg', '/content/thumbnails/COCO_train2014_000000535561.jpg', '/content/thumbnails/COCO_train2014_000000537122.jpg', '/content/thumbnails/COCO_train2014_000000179896.jpg', '/content/thumbnails/COCO_train2014_000000088609.jpg', '/content/thumbnails/COCO_train2014_000000008592.jpg', '/content/thumbnails/COCO_train2014_000000484158.jpg', '/content/thumbnails/COCO_train2014_000000576771.jpg', '/content/thumbnails/COCO_train2014_000000283257.jpg', '/content/thumbnails/COCO_train2014_000000134924.jpg', '/content/thumbnails/COCO_train2014_000000132826.jpg', '/content/thumbnails/COCO_train2014_000000134447.jpg', '/content/thumbnails/COCO_train2014_000000537213.jpg', '/content/thumbnails/COCO_train2014_000000140865.jpg', '/content/thumbnails/COCO_train2014_000000284018.jpg', '/content/thumbnails/COCO_train2014_000000224395.jpg', '/content/thumbnails/COCO_train2014_000000005906.jpg', '/content/thumbnails/COCO_train2014_000000148196.jpg', '/content/thumbnails/COCO_train2014_000000503479.jpg', '/content/thumbnails/COCO_train2014_000000135453.jpg', '/content/thumbnails/COCO_train2014_000000529902.jpg', '/content/thumbnails/COCO_train2014_000000541450.jpg', '/content/thumbnails/COCO_train2014_000000528345.jpg', '/content/thumbnails/COCO_train2014_000000023779.jpg', '/content/thumbnails/COCO_train2014_000000419497.jpg', '/content/thumbnails/COCO_train2014_000000530187.jpg', '/content/thumbnails/COCO_train2014_000000138064.jpg', '/content/thumbnails/COCO_train2014_000000015404.jpg', '/content/thumbnails/COCO_train2014_000000532638.jpg', '/content/thumbnails/COCO_train2014_000000406056.jpg', '/content/thumbnails/COCO_train2014_000000398142.jpg', '/content/thumbnails/COCO_train2014_000000110493.jpg', '/content/thumbnails/COCO_train2014_000000010727.jpg', '/content/thumbnails/COCO_train2014_000000011554.jpg', '/content/thumbnails/COCO_train2014_000000414010.jpg', '/content/thumbnails/COCO_train2014_000000278418.jpg', '/content/thumbnails/COCO_train2014_000000414961.jpg', '/content/thumbnails/COCO_train2014_000000542988.jpg', '/content/thumbnails/COCO_train2014_000000538299.jpg', '/content/thumbnails/COCO_train2014_000000278692.jpg', '/content/thumbnails/COCO_train2014_000000282692.jpg', '/content/thumbnails/COCO_train2014_000000007535.jpg', '/content/thumbnails/COCO_train2014_000000138153.jpg', '/content/thumbnails/COCO_train2014_000000549810.jpg', '/content/thumbnails/COCO_train2014_000000530851.jpg', '/content/thumbnails/COCO_train2014_000000402776.jpg', '/content/thumbnails/COCO_train2014_000000012156.jpg', '/content/thumbnails/COCO_train2014_000000150435.jpg', '/content/thumbnails/COCO_train2014_000000401822.jpg', '/content/thumbnails/COCO_train2014_000000366975.jpg', '/content/thumbnails/COCO_train2014_000000407770.jpg', '/content/thumbnails/COCO_train2014_000000271324.jpg', '/content/thumbnails/COCO_train2014_000000140671.jpg', '/content/thumbnails/COCO_train2014_000000275760.jpg', '/content/thumbnails/COCO_train2014_000000020456.jpg', '/content/thumbnails/COCO_train2014_000000532128.jpg', '/content/thumbnails/COCO_train2014_000000004956.jpg', '/content/thumbnails/COCO_train2014_000000118356.jpg', '/content/thumbnails/COCO_train2014_000000533224.jpg', '/content/thumbnails/COCO_train2014_000000019694.jpg', '/content/thumbnails/COCO_train2014_000000271324.jpg', '/content/thumbnails/COCO_train2014_000000301754.jpg', '/content/thumbnails/COCO_train2014_000000147103.jpg', '/content/thumbnails/COCO_train2014_000000017047.jpg', '/content/thumbnails/COCO_train2014_000000273276.jpg', '/content/thumbnails/COCO_train2014_000000268444.jpg', '/content/thumbnails/COCO_train2014_000000009885.jpg', '/content/thumbnails/COCO_train2014_000000282707.jpg', '/content/thumbnails/COCO_train2014_000000280740.jpg', '/content/thumbnails/COCO_train2014_000000396890.jpg', '/content/thumbnails/COCO_train2014_000000151273.jpg', '/content/thumbnails/COCO_train2014_000000399054.jpg', '/content/thumbnails/COCO_train2014_000000133517.jpg', '/content/thumbnails/COCO_train2014_000000146256.jpg', '/content/thumbnails/COCO_train2014_000000399946.jpg', '/content/thumbnails/COCO_train2014_000000544294.jpg', '/content/thumbnails/COCO_train2014_000000006287.jpg', '/content/thumbnails/COCO_train2014_000000011579.jpg', '/content/thumbnails/COCO_train2014_000000010981.jpg', '/content/thumbnails/COCO_train2014_000000147983.jpg', '/content/thumbnails/COCO_train2014_000000404403.jpg', '/content/thumbnails/COCO_train2014_000000142191.jpg', '/content/thumbnails/COCO_train2014_000000276711.jpg', '/content/thumbnails/COCO_train2014_000000139166.jpg', '/content/thumbnails/COCO_train2014_000000273035.jpg', '/content/thumbnails/COCO_train2014_000000405121.jpg', '/content/thumbnails/COCO_train2014_000000135278.jpg', '/content/thumbnails/COCO_train2014_000000412826.jpg', '/content/thumbnails/COCO_train2014_000000423777.jpg', '/content/thumbnails/COCO_train2014_000000550338.jpg', '/content/thumbnails/COCO_train2014_000000411446.jpg', '/content/thumbnails/COCO_train2014_000000543447.jpg', '/content/thumbnails/COCO_train2014_000000269338.jpg', '/content/thumbnails/COCO_train2014_000000416167.jpg', '/content/thumbnails/COCO_train2014_000000281327.jpg', '/content/thumbnails/COCO_train2014_000000489107.jpg', '/content/thumbnails/COCO_train2014_000000539716.jpg', '/content/thumbnails/COCO_train2014_000000533897.jpg', '/content/thumbnails/COCO_train2014_000000088270.jpg', '/content/thumbnails/COCO_train2014_000000528129.jpg', '/content/thumbnails/COCO_train2014_000000013678.jpg', '/content/thumbnails/COCO_train2014_000000409651.jpg', '/content/thumbnails/COCO_train2014_000000529408.jpg', '/content/thumbnails/COCO_train2014_000000153267.jpg', '/content/thumbnails/COCO_train2014_000000399054.jpg', '/content/thumbnails/COCO_train2014_000000407768.jpg', '/content/thumbnails/COCO_train2014_000000140690.jpg', '/content/thumbnails/COCO_train2014_000000275893.jpg', '/content/thumbnails/COCO_train2014_000000528687.jpg', '/content/thumbnails/COCO_train2014_000000403966.jpg', '/content/thumbnails/COCO_train2014_000000144224.jpg', '/content/thumbnails/COCO_train2014_000000143624.jpg', '/content/thumbnails/COCO_train2014_000000404005.jpg', '/content/thumbnails/COCO_train2014_000000150799.jpg', '/content/thumbnails/COCO_train2014_000000398225.jpg', '/content/thumbnails/COCO_train2014_000000279444.jpg', '/content/thumbnails/COCO_train2014_000000401670.jpg', '/content/thumbnails/COCO_train2014_000000277550.jpg', '/content/thumbnails/COCO_train2014_000000403190.jpg', '/content/thumbnails/COCO_train2014_000000142561.jpg', '/content/thumbnails/COCO_train2014_000000244844.jpg', '/content/thumbnails/COCO_train2014_000000410758.jpg', '/content/thumbnails/COCO_train2014_000000400094.jpg', '/content/thumbnails/COCO_train2014_000000016210.jpg', '/content/thumbnails/COCO_train2014_000000419599.jpg', '/content/thumbnails/COCO_train2014_000000531964.jpg', '/content/thumbnails/COCO_train2014_000000399276.jpg', '/content/thumbnails/COCO_train2014_000000536576.jpg', '/content/thumbnails/COCO_train2014_000000191879.jpg', '/content/thumbnails/COCO_train2014_000000136360.jpg', '/content/thumbnails/COCO_train2014_000000262997.jpg', '/content/thumbnails/COCO_train2014_000000459868.jpg', '/content/thumbnails/COCO_train2014_000000045475.jpg', '/content/thumbnails/COCO_train2014_000000266108.jpg', '/content/thumbnails/COCO_train2014_000000110142.jpg', '/content/thumbnails/COCO_train2014_000000111556.jpg', '/content/thumbnails/COCO_train2014_000000397212.jpg', '/content/thumbnails/COCO_train2014_000000529376.jpg', '/content/thumbnails/COCO_train2014_000000544884.jpg', '/content/thumbnails/COCO_train2014_000000142646.jpg', '/content/thumbnails/COCO_train2014_000000148251.jpg', '/content/thumbnails/COCO_train2014_000000015297.jpg', '/content/thumbnails/COCO_train2014_000000404852.jpg', '/content/thumbnails/COCO_train2014_000000399615.jpg', '/content/thumbnails/COCO_train2014_000000414112.jpg', '/content/thumbnails/COCO_train2014_000000288440.jpg', '/content/thumbnails/COCO_train2014_000000150919.jpg', '/content/thumbnails/COCO_train2014_000000146492.jpg', '/content/thumbnails/COCO_train2014_000000268518.jpg', '/content/thumbnails/COCO_train2014_000000273425.jpg', '/content/thumbnails/COCO_train2014_000000145911.jpg', '/content/thumbnails/COCO_train2014_000000018432.jpg', '/content/thumbnails/COCO_train2014_000000408405.jpg', '/content/thumbnails/COCO_train2014_000000408722.jpg', '/content/thumbnails/COCO_train2014_000000143499.jpg', '/content/thumbnails/COCO_train2014_000000279182.jpg', '/content/thumbnails/COCO_train2014_000000403423.jpg', '/content/thumbnails/COCO_train2014_000000010069.jpg', '/content/thumbnails/COCO_train2014_000000269888.jpg', '/content/thumbnails/COCO_train2014_000000103726.jpg', '/content/thumbnails/COCO_train2014_000000179454.jpg', '/content/thumbnails/COCO_train2014_000000398514.jpg', '/content/thumbnails/COCO_train2014_000000279263.jpg', '/content/thumbnails/COCO_train2014_000000406056.jpg', '/content/thumbnails/COCO_train2014_000000569142.jpg', '/content/thumbnails/COCO_train2014_000000142958.jpg', '/content/thumbnails/COCO_train2014_000000141702.jpg', '/content/thumbnails/COCO_train2014_000000535448.jpg', '/content/thumbnails/COCO_train2014_000000412947.jpg', '/content/thumbnails/COCO_train2014_000000143425.jpg', '/content/thumbnails/COCO_train2014_000000402880.jpg', '/content/thumbnails/COCO_train2014_000000277088.jpg', '/content/thumbnails/COCO_train2014_000000528452.jpg', '/content/thumbnails/COCO_train2014_000000269355.jpg', '/content/thumbnails/COCO_train2014_000000017954.jpg', '/content/thumbnails/COCO_train2014_000000008856.jpg', '/content/thumbnails/COCO_train2014_000000138749.jpg', '/content/thumbnails/COCO_train2014_000000135820.jpg', '/content/thumbnails/COCO_train2014_000000529956.jpg', '/content/thumbnails/COCO_train2014_000000540680.jpg', '/content/thumbnails/COCO_train2014_000000016253.jpg', '/content/thumbnails/COCO_train2014_000000265622.jpg', '/content/thumbnails/COCO_train2014_000000006151.jpg', '/content/thumbnails/COCO_train2014_000000271122.jpg', '/content/thumbnails/COCO_train2014_000000068657.jpg', '/content/thumbnails/COCO_train2014_000000147270.jpg', '/content/thumbnails/COCO_train2014_000000415933.jpg', '/content/thumbnails/COCO_train2014_000000005277.jpg', '/content/thumbnails/COCO_train2014_000000151573.jpg', '/content/thumbnails/COCO_train2014_000000131884.jpg', '/content/thumbnails/COCO_train2014_000000279511.jpg', '/content/thumbnails/COCO_train2014_000000015496.jpg', '/content/thumbnails/COCO_train2014_000000278910.jpg', '/content/thumbnails/COCO_train2014_000000006155.jpg', '/content/thumbnails/COCO_train2014_000000541676.jpg', '/content/thumbnails/COCO_train2014_000000278280.jpg', '/content/thumbnails/COCO_train2014_000000280731.jpg', '/content/thumbnails/COCO_train2014_000000138450.jpg', '/content/thumbnails/COCO_train2014_000000009677.jpg', '/content/thumbnails/COCO_train2014_000000545181.jpg', '/content/thumbnails/COCO_train2014_000000269174.jpg', '/content/thumbnails/COCO_train2014_000000413115.jpg', '/content/thumbnails/COCO_train2014_000000541506.jpg', '/content/thumbnails/COCO_train2014_000000011146.jpg', '/content/thumbnails/COCO_train2014_000000267780.jpg', '/content/thumbnails/COCO_train2014_000000283323.jpg', '/content/thumbnails/COCO_train2014_000000403720.jpg', '/content/thumbnails/COCO_train2014_000000539915.jpg', '/content/thumbnails/COCO_train2014_000000528127.jpg', '/content/thumbnails/COCO_train2014_000000136721.jpg', '/content/thumbnails/COCO_train2014_000000272223.jpg', '/content/thumbnails/COCO_train2014_000000529300.jpg', '/content/thumbnails/COCO_train2014_000000104919.jpg', '/content/thumbnails/COCO_train2014_000000401085.jpg', '/content/thumbnails/COCO_train2014_000000140522.jpg', '/content/thumbnails/COCO_train2014_000000266600.jpg', '/content/thumbnails/COCO_train2014_000000528299.jpg', '/content/thumbnails/COCO_train2014_000000020389.jpg', '/content/thumbnails/COCO_train2014_000000404759.jpg', '/content/thumbnails/COCO_train2014_000000018748.jpg', '/content/thumbnails/COCO_train2014_000000409808.jpg', '/content/thumbnails/COCO_train2014_000000423881.jpg', '/content/thumbnails/COCO_train2014_000000044358.jpg', '/content/thumbnails/COCO_train2014_000000401670.jpg', '/content/thumbnails/COCO_train2014_000000011496.jpg', '/content/thumbnails/COCO_train2014_000000266442.jpg', '/content/thumbnails/COCO_train2014_000000018601.jpg', '/content/thumbnails/COCO_train2014_000000074477.jpg', '/content/thumbnails/COCO_train2014_000000198001.jpg', '/content/thumbnails/COCO_train2014_000000016670.jpg', '/content/thumbnails/COCO_train2014_000000372625.jpg', '/content/thumbnails/COCO_train2014_000000406732.jpg', '/content/thumbnails/COCO_train2014_000000275988.jpg', '/content/thumbnails/COCO_train2014_000000137052.jpg', '/content/thumbnails/COCO_train2014_000000150636.jpg', '/content/thumbnails/COCO_train2014_000000013969.jpg', '/content/thumbnails/COCO_train2014_000000536010.jpg', '/content/thumbnails/COCO_train2014_000000143736.jpg', '/content/thumbnails/COCO_train2014_000000275263.jpg', '/content/thumbnails/COCO_train2014_000000544396.jpg', '/content/thumbnails/COCO_train2014_000000015915.jpg', '/content/thumbnails/COCO_train2014_000000177809.jpg', '/content/thumbnails/COCO_train2014_000000401822.jpg', '/content/thumbnails/COCO_train2014_000000400706.jpg', '/content/thumbnails/COCO_train2014_000000536474.jpg', '/content/thumbnails/COCO_train2014_000000538872.jpg', '/content/thumbnails/COCO_train2014_000000459914.jpg', '/content/thumbnails/COCO_train2014_000000398999.jpg', '/content/thumbnails/COCO_train2014_000000535042.jpg', '/content/thumbnails/COCO_train2014_000000262997.jpg', '/content/thumbnails/COCO_train2014_000000274763.jpg', '/content/thumbnails/COCO_train2014_000000067496.jpg', '/content/thumbnails/COCO_train2014_000000502466.jpg', '/content/thumbnails/COCO_train2014_000000531614.jpg', '/content/thumbnails/COCO_train2014_000000271441.jpg', '/content/thumbnails/COCO_train2014_000000541050.jpg', '/content/thumbnails/COCO_train2014_000000012475.jpg', '/content/thumbnails/COCO_train2014_000000230404.jpg', '/content/thumbnails/COCO_train2014_000000541105.jpg', '/content/thumbnails/COCO_train2014_000000537924.jpg', '/content/thumbnails/COCO_train2014_000000534284.jpg', '/content/thumbnails/COCO_train2014_000000269232.jpg', '/content/thumbnails/COCO_train2014_000000407685.jpg', '/content/thumbnails/COCO_train2014_000000278347.jpg', '/content/thumbnails/COCO_train2014_000000279288.jpg', '/content/thumbnails/COCO_train2014_000000537497.jpg', '/content/thumbnails/COCO_train2014_000000273979.jpg', '/content/thumbnails/COCO_train2014_000000018495.jpg', '/content/thumbnails/COCO_train2014_000000148506.jpg', '/content/thumbnails/COCO_train2014_000000541911.jpg', '/content/thumbnails/COCO_train2014_000000504052.jpg', '/content/thumbnails/COCO_train2014_000000016292.jpg', '/content/thumbnails/COCO_train2014_000000275977.jpg', '/content/thumbnails/COCO_train2014_000000010981.jpg', '/content/thumbnails/COCO_train2014_000000533638.jpg', '/content/thumbnails/COCO_train2014_000000140666.jpg', '/content/thumbnails/COCO_train2014_000000007615.jpg', '/content/thumbnails/COCO_train2014_000000399672.jpg', '/content/thumbnails/COCO_train2014_000000021197.jpg', '/content/thumbnails/COCO_train2014_000000088270.jpg', '/content/thumbnails/COCO_train2014_000000281505.jpg', '/content/thumbnails/COCO_train2014_000000546620.jpg', '/content/thumbnails/COCO_train2014_000000281994.jpg', '/content/thumbnails/COCO_train2014_000000544053.jpg', '/content/thumbnails/COCO_train2014_000000011258.jpg', '/content/thumbnails/COCO_train2014_000000532638.jpg', '/content/thumbnails/COCO_train2014_000000135327.jpg', '/content/thumbnails/COCO_train2014_000000281327.jpg', '/content/thumbnails/COCO_train2014_000000011737.jpg', '/content/thumbnails/COCO_train2014_000000419599.jpg', '/content/thumbnails/COCO_train2014_000000007996.jpg', '/content/thumbnails/COCO_train2014_000000399042.jpg', '/content/thumbnails/COCO_train2014_000000274839.jpg', '/content/thumbnails/COCO_train2014_000000272510.jpg', '/content/thumbnails/COCO_train2014_000000423881.jpg', '/content/thumbnails/COCO_train2014_000000546228.jpg', '/content/thumbnails/COCO_train2014_000000538814.jpg', '/content/thumbnails/COCO_train2014_000000384395.jpg', '/content/thumbnails/COCO_train2014_000000414961.jpg', '/content/thumbnails/COCO_train2014_000000151307.jpg', '/content/thumbnails/COCO_train2014_000000412855.jpg', '/content/thumbnails/COCO_train2014_000000011701.jpg', '/content/thumbnails/COCO_train2014_000000142034.jpg', '/content/thumbnails/COCO_train2014_000000530649.jpg', '/content/thumbnails/COCO_train2014_000000401251.jpg', '/content/thumbnails/COCO_train2014_000000531983.jpg', '/content/thumbnails/COCO_train2014_000000143382.jpg', '/content/thumbnails/COCO_train2014_000000399781.jpg', '/content/thumbnails/COCO_train2014_000000151077.jpg', '/content/thumbnails/COCO_train2014_000000399835.jpg', '/content/thumbnails/COCO_train2014_000000137757.jpg', '/content/thumbnails/COCO_train2014_000000397938.jpg', '/content/thumbnails/COCO_train2014_000000545791.jpg', '/content/thumbnails/COCO_train2014_000000398878.jpg', '/content/thumbnails/COCO_train2014_000000275211.jpg', '/content/thumbnails/COCO_train2014_000000413602.jpg', '/content/thumbnails/COCO_train2014_000000414117.jpg', '/content/thumbnails/COCO_train2014_000000400298.jpg', '/content/thumbnails/COCO_train2014_000000410388.jpg', '/content/thumbnails/COCO_train2014_000000542937.jpg', '/content/thumbnails/COCO_train2014_000000462062.jpg', '/content/thumbnails/COCO_train2014_000000405133.jpg', '/content/thumbnails/COCO_train2014_000000003461.jpg', '/content/thumbnails/COCO_train2014_000000353009.jpg', '/content/thumbnails/COCO_train2014_000000011461.jpg', '/content/thumbnails/COCO_train2014_000000118173.jpg', '/content/thumbnails/COCO_train2014_000000265622.jpg', '/content/thumbnails/COCO_train2014_000000297175.jpg', '/content/thumbnails/COCO_train2014_000000542786.jpg', '/content/thumbnails/COCO_train2014_000000276572.jpg', '/content/thumbnails/COCO_train2014_000000541832.jpg', '/content/thumbnails/COCO_train2014_000000480495.jpg', '/content/thumbnails/COCO_train2014_000000269004.jpg', '/content/thumbnails/COCO_train2014_000000282286.jpg', '/content/thumbnails/COCO_train2014_000000543454.jpg', '/content/thumbnails/COCO_train2014_000000540030.jpg', '/content/thumbnails/COCO_train2014_000000540664.jpg', '/content/thumbnails/COCO_train2014_000000280923.jpg', '/content/thumbnails/COCO_train2014_000000351972.jpg', '/content/thumbnails/COCO_train2014_000000152084.jpg', '/content/thumbnails/COCO_train2014_000000568725.jpg', '/content/thumbnails/COCO_train2014_000000278913.jpg', '/content/thumbnails/COCO_train2014_000000104426.jpg', '/content/thumbnails/COCO_train2014_000000018601.jpg', '/content/thumbnails/COCO_train2014_000000096684.jpg', '/content/thumbnails/COCO_train2014_000000006481.jpg', '/content/thumbnails/COCO_train2014_000000413804.jpg', '/content/thumbnails/COCO_train2014_000000534058.jpg', '/content/thumbnails/COCO_train2014_000000402040.jpg', '/content/thumbnails/COCO_train2014_000000267870.jpg', '/content/thumbnails/COCO_train2014_000000018333.jpg', '/content/thumbnails/COCO_train2014_000000282692.jpg', '/content/thumbnails/COCO_train2014_000000018089.jpg', '/content/thumbnails/COCO_train2014_000000278265.jpg', '/content/thumbnails/COCO_train2014_000000281176.jpg', '/content/thumbnails/COCO_train2014_000000531646.jpg', '/content/thumbnails/COCO_train2014_000000270325.jpg', '/content/thumbnails/COCO_train2014_000000009248.jpg', '/content/thumbnails/COCO_train2014_000000544414.jpg', '/content/thumbnails/COCO_train2014_000000406926.jpg', '/content/thumbnails/COCO_train2014_000000336167.jpg', '/content/thumbnails/COCO_train2014_000000411824.jpg', '/content/thumbnails/COCO_train2014_000000020164.jpg', '/content/thumbnails/COCO_train2014_000000198001.jpg', '/content/thumbnails/COCO_train2014_000000281180.jpg', '/content/thumbnails/COCO_train2014_000000531014.jpg', '/content/thumbnails/COCO_train2014_000000402542.jpg', '/content/thumbnails/COCO_train2014_000000146769.jpg', '/content/thumbnails/COCO_train2014_000000141448.jpg', '/content/thumbnails/COCO_train2014_000000145128.jpg', '/content/thumbnails/COCO_train2014_000000007772.jpg', '/content/thumbnails/COCO_train2014_000000271641.jpg', '/content/thumbnails/COCO_train2014_000000104919.jpg', '/content/thumbnails/COCO_train2014_000000137042.jpg', '/content/thumbnails/COCO_train2014_000000402447.jpg', '/content/thumbnails/COCO_train2014_000000544686.jpg', '/content/thumbnails/COCO_train2014_000000138276.jpg', '/content/thumbnails/COCO_train2014_000000141664.jpg', '/content/thumbnails/COCO_train2014_000000019528.jpg', '/content/thumbnails/COCO_train2014_000000269434.jpg', '/content/thumbnails/COCO_train2014_000000399016.jpg', '/content/thumbnails/COCO_train2014_000000026625.jpg', '/content/thumbnails/COCO_train2014_000000531614.jpg', '/content/thumbnails/COCO_train2014_000000277145.jpg', '/content/thumbnails/COCO_train2014_000000544215.jpg', '/content/thumbnails/COCO_train2014_000000010489.jpg', '/content/thumbnails/COCO_train2014_000000015733.jpg', '/content/thumbnails/COCO_train2014_000000010624.jpg', '/content/thumbnails/COCO_train2014_000000297043.jpg', '/content/thumbnails/COCO_train2014_000000352739.jpg', '/content/thumbnails/COCO_train2014_000000280866.jpg', '/content/thumbnails/COCO_train2014_000000276849.jpg', '/content/thumbnails/COCO_train2014_000000534900.jpg', '/content/thumbnails/COCO_train2014_000000403720.jpg', '/content/thumbnails/COCO_train2014_000000402221.jpg', '/content/thumbnails/COCO_train2014_000000274286.jpg', '/content/thumbnails/COCO_train2014_000000402406.jpg', '/content/thumbnails/COCO_train2014_000000009910.jpg', '/content/thumbnails/COCO_train2014_000000270284.jpg', '/content/thumbnails/COCO_train2014_000000482451.jpg', '/content/thumbnails/COCO_train2014_000000530030.jpg', '/content/thumbnails/COCO_train2014_000000213902.jpg', '/content/thumbnails/COCO_train2014_000000135744.jpg', '/content/thumbnails/COCO_train2014_000000153716.jpg', '/content/thumbnails/COCO_train2014_000000146096.jpg', '/content/thumbnails/COCO_train2014_000000266418.jpg', '/content/thumbnails/COCO_train2014_000000467720.jpg', '/content/thumbnails/COCO_train2014_000000504178.jpg', '/content/thumbnails/COCO_train2014_000000231845.jpg', '/content/thumbnails/COCO_train2014_000000397941.jpg', '/content/thumbnails/COCO_train2014_000000403074.jpg', '/content/thumbnails/COCO_train2014_000000364992.jpg', '/content/thumbnails/COCO_train2014_000000406362.jpg', '/content/thumbnails/COCO_train2014_000000279182.jpg', '/content/thumbnails/COCO_train2014_000000135475.jpg', '/content/thumbnails/COCO_train2014_000000327682.jpg', '/content/thumbnails/COCO_train2014_000000270686.jpg', '/content/thumbnails/COCO_train2014_000000545361.jpg', '/content/thumbnails/COCO_train2014_000000529345.jpg', '/content/thumbnails/COCO_train2014_000000274682.jpg', '/content/thumbnails/COCO_train2014_000000401416.jpg', '/content/thumbnails/COCO_train2014_000000187929.jpg', '/content/thumbnails/COCO_train2014_000000220124.jpg', '/content/thumbnails/COCO_train2014_000000111148.jpg', '/content/thumbnails/COCO_train2014_000000400200.jpg', '/content/thumbnails/COCO_train2014_000000035558.jpg', '/content/thumbnails/COCO_train2014_000000270574.jpg', '/content/thumbnails/COCO_train2014_000000249141.jpg', '/content/thumbnails/COCO_train2014_000000013969.jpg', '/content/thumbnails/COCO_train2014_000000278639.jpg', '/content/thumbnails/COCO_train2014_000000401917.jpg', '/content/thumbnails/COCO_train2014_000000529273.jpg', '/content/thumbnails/COCO_train2014_000000019964.jpg', '/content/thumbnails/COCO_train2014_000000142510.jpg', '/content/thumbnails/COCO_train2014_000000276572.jpg', '/content/thumbnails/COCO_train2014_000000275046.jpg', '/content/thumbnails/COCO_train2014_000000150374.jpg', '/content/thumbnails/COCO_train2014_000000242564.jpg', '/content/thumbnails/COCO_train2014_000000393487.jpg', '/content/thumbnails/COCO_train2014_000000139892.jpg', '/content/thumbnails/COCO_train2014_000000544347.jpg', '/content/thumbnails/COCO_train2014_000000554952.jpg', '/content/thumbnails/COCO_train2014_000000220124.jpg', '/content/thumbnails/COCO_train2014_000000407687.jpg', '/content/thumbnails/COCO_train2014_000000268668.jpg', '/content/thumbnails/COCO_train2014_000000147970.jpg', '/content/thumbnails/COCO_train2014_000000271301.jpg', '/content/thumbnails/COCO_train2014_000000531033.jpg', '/content/thumbnails/COCO_train2014_000000306511.jpg', '/content/thumbnails/COCO_train2014_000000140666.jpg', '/content/thumbnails/COCO_train2014_000000405581.jpg', '/content/thumbnails/COCO_train2014_000000543447.jpg', '/content/thumbnails/COCO_train2014_000000010714.jpg', '/content/thumbnails/COCO_train2014_000000019202.jpg', '/content/thumbnails/COCO_train2014_000000398665.jpg', '/content/thumbnails/COCO_train2014_000000532638.jpg', '/content/thumbnails/COCO_train2014_000000143789.jpg', '/content/thumbnails/COCO_train2014_000000409438.jpg', '/content/thumbnails/COCO_train2014_000000286042.jpg', '/content/thumbnails/COCO_train2014_000000150435.jpg', '/content/thumbnails/COCO_train2014_000000149434.jpg', '/content/thumbnails/COCO_train2014_000000022691.jpg', '/content/thumbnails/COCO_train2014_000000400199.jpg', '/content/thumbnails/COCO_train2014_000000284274.jpg', '/content/thumbnails/COCO_train2014_000000398962.jpg', '/content/thumbnails/COCO_train2014_000000270912.jpg', '/content/thumbnails/COCO_train2014_000000417384.jpg', '/content/thumbnails/COCO_train2014_000000124067.jpg', '/content/thumbnails/COCO_train2014_000000559073.jpg', '/content/thumbnails/COCO_train2014_000000091696.jpg', '/content/thumbnails/COCO_train2014_000000088270.jpg', '/content/thumbnails/COCO_train2014_000000409208.jpg', '/content/thumbnails/COCO_train2014_000000410123.jpg', '/content/thumbnails/COCO_train2014_000000284362.jpg', '/content/thumbnails/COCO_train2014_000000024242.jpg', '/content/thumbnails/COCO_train2014_000000018775.jpg', '/content/thumbnails/COCO_train2014_000000146760.jpg', '/content/thumbnails/COCO_train2014_000000016412.jpg', '/content/thumbnails/COCO_train2014_000000016935.jpg', '/content/thumbnails/COCO_train2014_000000021751.jpg', '/content/thumbnails/COCO_train2014_000000270070.jpg', '/content/thumbnails/COCO_train2014_000000437562.jpg', '/content/thumbnails/COCO_train2014_000000139144.jpg', '/content/thumbnails/COCO_train2014_000000533989.jpg', '/content/thumbnails/COCO_train2014_000000399615.jpg', '/content/thumbnails/COCO_train2014_000000578793.jpg', '/content/thumbnails/COCO_train2014_000000281496.jpg', '/content/thumbnails/COCO_train2014_000000407770.jpg', '/content/thumbnails/COCO_train2014_000000537862.jpg', '/content/thumbnails/COCO_train2014_000000406326.jpg', '/content/thumbnails/COCO_train2014_000000409209.jpg', '/content/thumbnails/COCO_train2014_000000402531.jpg', '/content/thumbnails/COCO_train2014_000000406233.jpg', '/content/thumbnails/COCO_train2014_000000140210.jpg', '/content/thumbnails/COCO_train2014_000000538779.jpg', '/content/thumbnails/COCO_train2014_000000539026.jpg', '/content/thumbnails/COCO_train2014_000000006792.jpg', '/content/thumbnails/COCO_train2014_000000541298.jpg', '/content/thumbnails/COCO_train2014_000000269126.jpg', '/content/thumbnails/COCO_train2014_000000286611.jpg', '/content/thumbnails/COCO_train2014_000000408386.jpg', '/content/thumbnails/COCO_train2014_000000412267.jpg', '/content/thumbnails/COCO_train2014_000000144176.jpg', '/content/thumbnails/COCO_train2014_000000544414.jpg', '/content/thumbnails/COCO_train2014_000000139907.jpg', '/content/thumbnails/COCO_train2014_000000003911.jpg', '/content/thumbnails/COCO_train2014_000000141236.jpg', '/content/thumbnails/COCO_train2014_000000143269.jpg', '/content/thumbnails/COCO_train2014_000000274682.jpg', '/content/thumbnails/COCO_train2014_000000270650.jpg', '/content/thumbnails/COCO_train2014_000000015089.jpg', '/content/thumbnails/COCO_train2014_000000012460.jpg', '/content/thumbnails/COCO_train2014_000000272901.jpg', '/content/thumbnails/COCO_train2014_000000142047.jpg', '/content/thumbnails/COCO_train2014_000000530030.jpg', '/content/thumbnails/COCO_train2014_000000248995.jpg', '/content/thumbnails/COCO_train2014_000000372727.jpg', '/content/thumbnails/COCO_train2014_000000166813.jpg', '/content/thumbnails/COCO_train2014_000000504259.jpg', '/content/thumbnails/COCO_train2014_000000524273.jpg', '/content/thumbnails/COCO_train2014_000000416815.jpg', '/content/thumbnails/COCO_train2014_000000009872.jpg', '/content/thumbnails/COCO_train2014_000000534024.jpg', '/content/thumbnails/COCO_train2014_000000244671.jpg', '/content/thumbnails/COCO_train2014_000000529376.jpg', '/content/thumbnails/COCO_train2014_000000178208.jpg', '/content/thumbnails/COCO_train2014_000000530030.jpg', '/content/thumbnails/COCO_train2014_000000413556.jpg', '/content/thumbnails/COCO_train2014_000000175033.jpg', '/content/thumbnails/COCO_train2014_000000407634.jpg', '/content/thumbnails/COCO_train2014_000000439560.jpg', '/content/thumbnails/COCO_train2014_000000145502.jpg', '/content/thumbnails/COCO_train2014_000000111636.jpg', '/content/thumbnails/COCO_train2014_000000401231.jpg', '/content/thumbnails/COCO_train2014_000000149834.jpg', '/content/thumbnails/COCO_train2014_000000153154.jpg', '/content/thumbnails/COCO_train2014_000000412874.jpg', '/content/thumbnails/COCO_train2014_000000151609.jpg', '/content/thumbnails/COCO_train2014_000000272132.jpg', '/content/thumbnails/COCO_train2014_000000013986.jpg', '/content/thumbnails/COCO_train2014_000000149712.jpg', '/content/thumbnails/COCO_train2014_000000005906.jpg', '/content/thumbnails/COCO_train2014_000000007625.jpg', '/content/thumbnails/COCO_train2014_000000409126.jpg', '/content/thumbnails/COCO_train2014_000000020308.jpg', '/content/thumbnails/COCO_train2014_000000532495.jpg', '/content/thumbnails/COCO_train2014_000000532769.jpg', '/content/thumbnails/COCO_train2014_000000539705.jpg', '/content/thumbnails/COCO_train2014_000000314626.jpg', '/content/thumbnails/COCO_train2014_000000393121.jpg', '/content/thumbnails/COCO_train2014_000000161746.jpg', '/content/thumbnails/COCO_train2014_000000275821.jpg', '/content/thumbnails/COCO_train2014_000000277047.jpg', '/content/thumbnails/COCO_train2014_000000282957.jpg', '/content/thumbnails/COCO_train2014_000000014283.jpg', '/content/thumbnails/COCO_train2014_000000276711.jpg', '/content/thumbnails/COCO_train2014_000000045526.jpg', '/content/thumbnails/COCO_train2014_000000149179.jpg', '/content/thumbnails/COCO_train2014_000000528748.jpg', '/content/thumbnails/COCO_train2014_000000139984.jpg', '/content/thumbnails/COCO_train2014_000000415539.jpg', '/content/thumbnails/COCO_train2014_000000539247.jpg', '/content/thumbnails/COCO_train2014_000000150435.jpg', '/content/thumbnails/COCO_train2014_000000146098.jpg', '/content/thumbnails/COCO_train2014_000000132104.jpg', '/content/thumbnails/COCO_train2014_000000068648.jpg', '/content/thumbnails/COCO_train2014_000000279762.jpg', '/content/thumbnails/COCO_train2014_000000134907.jpg', '/content/thumbnails/COCO_train2014_000000399650.jpg', '/content/thumbnails/COCO_train2014_000000271034.jpg', '/content/thumbnails/COCO_train2014_000000161958.jpg', '/content/thumbnails/COCO_train2014_000000218601.jpg', '/content/thumbnails/COCO_train2014_000000144353.jpg', '/content/thumbnails/COCO_train2014_000000399288.jpg', '/content/thumbnails/COCO_train2014_000000001323.jpg', '/content/thumbnails/COCO_train2014_000000409897.jpg', '/content/thumbnails/COCO_train2014_000000542316.jpg', '/content/thumbnails/COCO_train2014_000000405800.jpg', '/content/thumbnails/COCO_train2014_000000144492.jpg', '/content/thumbnails/COCO_train2014_000000150435.jpg', '/content/thumbnails/COCO_train2014_000000150164.jpg', '/content/thumbnails/COCO_train2014_000000407768.jpg', '/content/thumbnails/COCO_train2014_000000150148.jpg', '/content/thumbnails/COCO_train2014_000000529030.jpg', '/content/thumbnails/COCO_train2014_000000152397.jpg', '/content/thumbnails/COCO_train2014_000000279697.jpg', '/content/thumbnails/COCO_train2014_000000283388.jpg', '/content/thumbnails/COCO_train2014_000000005832.jpg', '/content/thumbnails/COCO_train2014_000000272544.jpg', '/content/thumbnails/COCO_train2014_000000275499.jpg', '/content/thumbnails/COCO_train2014_000000406988.jpg', '/content/thumbnails/COCO_train2014_000000277575.jpg', '/content/thumbnails/COCO_train2014_000000165086.jpg', '/content/thumbnails/COCO_train2014_000000138760.jpg', '/content/thumbnails/COCO_train2014_000000401829.jpg', '/content/thumbnails/COCO_train2014_000000404282.jpg', '/content/thumbnails/COCO_train2014_000000403306.jpg', '/content/thumbnails/COCO_train2014_000000276168.jpg', '/content/thumbnails/COCO_train2014_000000221241.jpg', '/content/thumbnails/COCO_train2014_000000560511.jpg', '/content/thumbnails/COCO_train2014_000000281910.jpg', '/content/thumbnails/COCO_train2014_000000012475.jpg', '/content/thumbnails/COCO_train2014_000000398941.jpg', '/content/thumbnails/COCO_train2014_000000399615.jpg', '/content/thumbnails/COCO_train2014_000000404612.jpg', '/content/thumbnails/COCO_train2014_000000559073.jpg', '/content/thumbnails/COCO_train2014_000000268826.jpg', '/content/thumbnails/COCO_train2014_000000139380.jpg', '/content/thumbnails/COCO_train2014_000000401067.jpg', '/content/thumbnails/COCO_train2014_000000504284.jpg', '/content/thumbnails/COCO_train2014_000000015518.jpg', '/content/thumbnails/COCO_train2014_000000397543.jpg', '/content/thumbnails/COCO_train2014_000000364561.jpg', '/content/thumbnails/COCO_train2014_000000531396.jpg', '/content/thumbnails/COCO_train2014_000000008592.jpg', '/content/thumbnails/COCO_train2014_000000016084.jpg', '/content/thumbnails/COCO_train2014_000000273516.jpg', '/content/thumbnails/COCO_train2014_000000007596.jpg', '/content/thumbnails/COCO_train2014_000000282482.jpg', '/content/thumbnails/COCO_train2014_000000220894.jpg', '/content/thumbnails/COCO_train2014_000000365363.jpg', '/content/thumbnails/COCO_train2014_000000532789.jpg', '/content/thumbnails/COCO_train2014_000000403028.jpg', '/content/thumbnails/COCO_train2014_000000213902.jpg', '/content/thumbnails/COCO_train2014_000000410995.jpg', '/content/thumbnails/COCO_train2014_000000277426.jpg', '/content/thumbnails/COCO_train2014_000000269726.jpg', '/content/thumbnails/COCO_train2014_000000272797.jpg', '/content/thumbnails/COCO_train2014_000000090843.jpg', '/content/thumbnails/COCO_train2014_000000281246.jpg', '/content/thumbnails/COCO_train2014_000000013908.jpg', '/content/thumbnails/COCO_train2014_000000541528.jpg', '/content/thumbnails/COCO_train2014_000000524273.jpg', '/content/thumbnails/COCO_train2014_000000412922.jpg', '/content/thumbnails/COCO_train2014_000000413472.jpg', '/content/thumbnails/COCO_train2014_000000142970.jpg', '/content/thumbnails/COCO_train2014_000000351968.jpg', '/content/thumbnails/COCO_train2014_000000219443.jpg', '/content/thumbnails/COCO_train2014_000000545478.jpg', '/content/thumbnails/COCO_train2014_000000139665.jpg', '/content/thumbnails/COCO_train2014_000000537875.jpg', '/content/thumbnails/COCO_train2014_000000487665.jpg', '/content/thumbnails/COCO_train2014_000000398083.jpg', '/content/thumbnails/COCO_train2014_000000009774.jpg', '/content/thumbnails/COCO_train2014_000000403882.jpg', '/content/thumbnails/COCO_train2014_000000398713.jpg', '/content/thumbnails/COCO_train2014_000000543284.jpg', '/content/thumbnails/COCO_train2014_000000144560.jpg', '/content/thumbnails/COCO_train2014_000000414416.jpg', '/content/thumbnails/COCO_train2014_000000146705.jpg', '/content/thumbnails/COCO_train2014_000000271736.jpg', '/content/thumbnails/COCO_train2014_000000011075.jpg', '/content/thumbnails/COCO_train2014_000000135982.jpg', '/content/thumbnails/COCO_train2014_000000268798.jpg', '/content/thumbnails/COCO_train2014_000000147270.jpg', '/content/thumbnails/COCO_train2014_000000046473.jpg', '/content/thumbnails/COCO_train2014_000000409367.jpg', '/content/thumbnails/COCO_train2014_000000156156.jpg', '/content/thumbnails/COCO_train2014_000000528748.jpg', '/content/thumbnails/COCO_train2014_000000400343.jpg', '/content/thumbnails/COCO_train2014_000000146440.jpg', '/content/thumbnails/COCO_train2014_000000018647.jpg', '/content/thumbnails/COCO_train2014_000000016206.jpg', '/content/thumbnails/COCO_train2014_000000007205.jpg', '/content/thumbnails/COCO_train2014_000000528412.jpg', '/content/thumbnails/COCO_train2014_000000285093.jpg', '/content/thumbnails/COCO_train2014_000000413892.jpg', '/content/thumbnails/COCO_train2014_000000014388.jpg', '/content/thumbnails/COCO_train2014_000000531987.jpg', '/content/thumbnails/COCO_train2014_000000276798.jpg', '/content/thumbnails/COCO_train2014_000000006996.jpg', '/content/thumbnails/COCO_train2014_000000020202.jpg', '/content/thumbnails/COCO_train2014_000000138742.jpg', '/content/thumbnails/COCO_train2014_000000531377.jpg', '/content/thumbnails/COCO_train2014_000000006295.jpg', '/content/thumbnails/COCO_train2014_000000270984.jpg', '/content/thumbnails/COCO_train2014_000000145497.jpg', '/content/thumbnails/COCO_train2014_000000272282.jpg', '/content/thumbnails/COCO_train2014_000000267014.jpg', '/content/thumbnails/COCO_train2014_000000532495.jpg', '/content/thumbnails/COCO_train2014_000000021718.jpg', '/content/thumbnails/COCO_train2014_000000397462.jpg', '/content/thumbnails/COCO_train2014_000000147970.jpg', '/content/thumbnails/COCO_train2014_000000493853.jpg', '/content/thumbnails/COCO_train2014_000000402665.jpg', '/content/thumbnails/COCO_train2014_000000528315.jpg', '/content/thumbnails/COCO_train2014_000000067320.jpg', '/content/thumbnails/COCO_train2014_000000537803.jpg', '/content/thumbnails/COCO_train2014_000000402531.jpg', '/content/thumbnails/COCO_train2014_000000150435.jpg', '/content/thumbnails/COCO_train2014_000000409351.jpg', '/content/thumbnails/COCO_train2014_000000019714.jpg', '/content/thumbnails/COCO_train2014_000000009488.jpg', '/content/thumbnails/COCO_train2014_000000282380.jpg', '/content/thumbnails/COCO_train2014_000000532013.jpg', '/content/thumbnails/COCO_train2014_000000404696.jpg', '/content/thumbnails/COCO_train2014_000000483453.jpg', '/content/thumbnails/COCO_train2014_000000421106.jpg', '/content/thumbnails/COCO_train2014_000000137283.jpg', '/content/thumbnails/COCO_train2014_000000560511.jpg', '/content/thumbnails/COCO_train2014_000000020489.jpg', '/content/thumbnails/COCO_train2014_000000009451.jpg', '/content/thumbnails/COCO_train2014_000000203433.jpg', '/content/thumbnails/COCO_train2014_000000281678.jpg', '/content/thumbnails/COCO_train2014_000000570598.jpg', '/content/thumbnails/COCO_train2014_000000097724.jpg', '/content/thumbnails/COCO_train2014_000000403882.jpg', '/content/thumbnails/COCO_train2014_000000533677.jpg', '/content/thumbnails/COCO_train2014_000000395281.jpg', '/content/thumbnails/COCO_train2014_000000401551.jpg', '/content/thumbnails/COCO_train2014_000000273650.jpg', '/content/thumbnails/COCO_train2014_000000409966.jpg', '/content/thumbnails/COCO_train2014_000000283388.jpg', '/content/thumbnails/COCO_train2014_000000270604.jpg', '/content/thumbnails/COCO_train2014_000000537345.jpg', '/content/thumbnails/COCO_train2014_000000397181.jpg', '/content/thumbnails/COCO_train2014_000000145502.jpg', '/content/thumbnails/COCO_train2014_000000546211.jpg', '/content/thumbnails/COCO_train2014_000000384302.jpg', '/content/thumbnails/COCO_train2014_000000145113.jpg', '/content/thumbnails/COCO_train2014_000000020436.jpg', '/content/thumbnails/COCO_train2014_000000014766.jpg', '/content/thumbnails/COCO_train2014_000000190087.jpg', '/content/thumbnails/COCO_train2014_000000537825.jpg', '/content/thumbnails/COCO_train2014_000000137984.jpg', '/content/thumbnails/COCO_train2014_000000149871.jpg', '/content/thumbnails/COCO_train2014_000000399337.jpg', '/content/thumbnails/COCO_train2014_000000140152.jpg', '/content/thumbnails/COCO_train2014_000000013294.jpg', '/content/thumbnails/COCO_train2014_000000413892.jpg', '/content/thumbnails/COCO_train2014_000000372727.jpg', '/content/thumbnails/COCO_train2014_000000147826.jpg', '/content/thumbnails/COCO_train2014_000000281029.jpg', '/content/thumbnails/COCO_train2014_000000458804.jpg', '/content/thumbnails/COCO_train2014_000000240331.jpg', '/content/thumbnails/COCO_train2014_000000545632.jpg', '/content/thumbnails/COCO_train2014_000000045840.jpg', '/content/thumbnails/COCO_train2014_000000268900.jpg', '/content/thumbnails/COCO_train2014_000000149179.jpg', '/content/thumbnails/COCO_train2014_000000016037.jpg', '/content/thumbnails/COCO_train2014_000000269355.jpg', '/content/thumbnails/COCO_train2014_000000137386.jpg', '/content/thumbnails/COCO_train2014_000000139403.jpg', '/content/thumbnails/COCO_train2014_000000534312.jpg', '/content/thumbnails/COCO_train2014_000000273548.jpg', '/content/thumbnails/COCO_train2014_000000244844.jpg', '/content/thumbnails/COCO_train2014_000000138922.jpg', '/content/thumbnails/COCO_train2014_000000530851.jpg', '/content/thumbnails/COCO_train2014_000000143382.jpg', '/content/thumbnails/COCO_train2014_000000407063.jpg', '/content/thumbnails/COCO_train2014_000000568060.jpg', '/content/thumbnails/COCO_train2014_000000045701.jpg', '/content/thumbnails/COCO_train2014_000000408672.jpg', '/content/thumbnails/COCO_train2014_000000273158.jpg', '/content/thumbnails/COCO_train2014_000000103687.jpg', '/content/thumbnails/COCO_train2014_000000504492.jpg', '/content/thumbnails/COCO_train2014_000000406342.jpg', '/content/thumbnails/COCO_train2014_000000535464.jpg', '/content/thumbnails/COCO_train2014_000000141056.jpg', '/content/thumbnails/COCO_train2014_000000002691.jpg', '/content/thumbnails/COCO_train2014_000000407770.jpg', '/content/thumbnails/COCO_train2014_000000265622.jpg', '/content/thumbnails/COCO_train2014_000000538435.jpg', '/content/thumbnails/COCO_train2014_000000277681.jpg', '/content/thumbnails/COCO_train2014_000000014025.jpg', '/content/thumbnails/COCO_train2014_000000531948.jpg', '/content/thumbnails/COCO_train2014_000000549407.jpg', '/content/thumbnails/COCO_train2014_000000297157.jpg', '/content/thumbnails/COCO_train2014_000000544215.jpg', '/content/thumbnails/COCO_train2014_000000136663.jpg', '/content/thumbnails/COCO_train2014_000000528555.jpg', '/content/thumbnails/COCO_train2014_000000281180.jpg', '/content/thumbnails/COCO_train2014_000000272846.jpg', '/content/thumbnails/COCO_train2014_000000137115.jpg', '/content/thumbnails/COCO_train2014_000000142418.jpg', '/content/thumbnails/COCO_train2014_000000012497.jpg', '/content/thumbnails/COCO_train2014_000000482671.jpg', '/content/thumbnails/COCO_train2014_000000280941.jpg', '/content/thumbnails/COCO_train2014_000000282994.jpg', '/content/thumbnails/COCO_train2014_000000570569.jpg', '/content/thumbnails/COCO_train2014_000000504492.jpg', '/content/thumbnails/COCO_train2014_000000417016.jpg', '/content/thumbnails/COCO_train2014_000000068167.jpg', '/content/thumbnails/COCO_train2014_000000020742.jpg', '/content/thumbnails/COCO_train2014_000000544113.jpg', '/content/thumbnails/COCO_train2014_000000307371.jpg', '/content/thumbnails/COCO_train2014_000000019202.jpg', '/content/thumbnails/COCO_train2014_000000414787.jpg', '/content/thumbnails/COCO_train2014_000000018072.jpg', '/content/thumbnails/COCO_train2014_000000008471.jpg', '/content/thumbnails/COCO_train2014_000000401440.jpg', '/content/thumbnails/COCO_train2014_000000406226.jpg', '/content/thumbnails/COCO_train2014_000000264043.jpg', '/content/thumbnails/COCO_train2014_000000065884.jpg', '/content/thumbnails/COCO_train2014_000000409933.jpg', '/content/thumbnails/COCO_train2014_000000402908.jpg', '/content/thumbnails/COCO_train2014_000000145699.jpg', '/content/thumbnails/COCO_train2014_000000541721.jpg', '/content/thumbnails/COCO_train2014_000000279763.jpg', '/content/thumbnails/COCO_train2014_000000003911.jpg', '/content/thumbnails/COCO_train2014_000000145587.jpg', '/content/thumbnails/COCO_train2014_000000536280.jpg', '/content/thumbnails/COCO_train2014_000000402702.jpg', '/content/thumbnails/COCO_train2014_000000044962.jpg', '/content/thumbnails/COCO_train2014_000000276739.jpg', '/content/thumbnails/COCO_train2014_000000280721.jpg', '/content/thumbnails/COCO_train2014_000000504284.jpg', '/content/thumbnails/COCO_train2014_000000544577.jpg', '/content/thumbnails/COCO_train2014_000000124067.jpg', '/content/thumbnails/COCO_train2014_000000413784.jpg', '/content/thumbnails/COCO_train2014_000000481943.jpg', '/content/thumbnails/COCO_train2014_000000403754.jpg', '/content/thumbnails/COCO_train2014_000000544250.jpg', '/content/thumbnails/COCO_train2014_000000350987.jpg', '/content/thumbnails/COCO_train2014_000000135336.jpg', '/content/thumbnails/COCO_train2014_000000002309.jpg', '/content/thumbnails/COCO_train2014_000000306621.jpg', '/content/thumbnails/COCO_train2014_000000014044.jpg', '/content/thumbnails/COCO_train2014_000000009248.jpg', '/content/thumbnails/COCO_train2014_000000143286.jpg', '/content/thumbnails/COCO_train2014_000000154352.jpg', '/content/thumbnails/COCO_train2014_000000014622.jpg', '/content/thumbnails/COCO_train2014_000000281160.jpg', '/content/thumbnails/COCO_train2014_000000096213.jpg', '/content/thumbnails/COCO_train2014_000000409199.jpg', '/content/thumbnails/COCO_train2014_000000458574.jpg', '/content/thumbnails/COCO_train2014_000000012875.jpg', '/content/thumbnails/COCO_train2014_000000408111.jpg', '/content/thumbnails/COCO_train2014_000000570569.jpg', '/content/thumbnails/COCO_train2014_000000009425.jpg', '/content/thumbnails/COCO_train2014_000000438446.jpg', '/content/thumbnails/COCO_train2014_000000402671.jpg', '/content/thumbnails/COCO_train2014_000000428163.jpg', '/content/thumbnails/COCO_train2014_000000406282.jpg', '/content/thumbnails/COCO_train2014_000000046303.jpg', '/content/thumbnails/COCO_train2014_000000401822.jpg', '/content/thumbnails/COCO_train2014_000000132307.jpg', '/content/thumbnails/COCO_train2014_000000146215.jpg', '/content/thumbnails/COCO_train2014_000000542011.jpg', '/content/thumbnails/COCO_train2014_000000406250.jpg', '/content/thumbnails/COCO_train2014_000000265355.jpg', '/content/thumbnails/COCO_train2014_000000406982.jpg', '/content/thumbnails/COCO_train2014_000000138064.jpg', '/content/thumbnails/COCO_train2014_000000534663.jpg', '/content/thumbnails/COCO_train2014_000000274270.jpg', '/content/thumbnails/COCO_train2014_000000271577.jpg', '/content/thumbnails/COCO_train2014_000000139865.jpg', '/content/thumbnails/COCO_train2014_000000145280.jpg', '/content/thumbnails/COCO_train2014_000000149381.jpg', '/content/thumbnails/COCO_train2014_000000135442.jpg', '/content/thumbnails/COCO_train2014_000000138081.jpg', '/content/thumbnails/COCO_train2014_000000406074.jpg', '/content/thumbnails/COCO_train2014_000000402221.jpg', '/content/thumbnails/COCO_train2014_000000268516.jpg', '/content/thumbnails/COCO_train2014_000000176148.jpg', '/content/thumbnails/COCO_train2014_000000277145.jpg', '/content/thumbnails/COCO_train2014_000000267898.jpg', '/content/thumbnails/COCO_train2014_000000399203.jpg', '/content/thumbnails/COCO_train2014_000000534771.jpg', '/content/thumbnails/COCO_train2014_000000019781.jpg', '/content/thumbnails/COCO_train2014_000000008414.jpg', '/content/thumbnails/COCO_train2014_000000542431.jpg', '/content/thumbnails/COCO_train2014_000000539746.jpg', '/content/thumbnails/COCO_train2014_000000538470.jpg', '/content/thumbnails/COCO_train2014_000000402387.jpg', '/content/thumbnails/COCO_train2014_000000397701.jpg', '/content/thumbnails/COCO_train2014_000000004189.jpg', '/content/thumbnails/COCO_train2014_000000016343.jpg', '/content/thumbnails/COCO_train2014_000000149871.jpg', '/content/thumbnails/COCO_train2014_000000012183.jpg', '/content/thumbnails/COCO_train2014_000000149833.jpg', '/content/thumbnails/COCO_train2014_000000141608.jpg', '/content/thumbnails/COCO_train2014_000000525405.jpg', '/content/thumbnails/COCO_train2014_000000530906.jpg', '/content/thumbnails/COCO_train2014_000000399899.jpg', '/content/thumbnails/COCO_train2014_000000005703.jpg', '/content/thumbnails/COCO_train2014_000000145135.jpg', '/content/thumbnails/COCO_train2014_000000531033.jpg', '/content/thumbnails/COCO_train2014_000000412857.jpg', '/content/thumbnails/COCO_train2014_000000132104.jpg', '/content/thumbnails/COCO_train2014_000000407030.jpg', '/content/thumbnails/COCO_train2014_000000243728.jpg', '/content/thumbnails/COCO_train2014_000000270035.jpg', '/content/thumbnails/COCO_train2014_000000406699.jpg', '/content/thumbnails/COCO_train2014_000000565769.jpg', '/content/thumbnails/COCO_train2014_000000266168.jpg', '/content/thumbnails/COCO_train2014_000000005010.jpg', '/content/thumbnails/COCO_train2014_000000268276.jpg', '/content/thumbnails/COCO_train2014_000000012833.jpg', '/content/thumbnails/COCO_train2014_000000268192.jpg', '/content/thumbnails/COCO_train2014_000000134948.jpg', '/content/thumbnails/COCO_train2014_000000114879.jpg', '/content/thumbnails/COCO_train2014_000000004189.jpg', '/content/thumbnails/COCO_train2014_000000010856.jpg', '/content/thumbnails/COCO_train2014_000000268785.jpg', '/content/thumbnails/COCO_train2014_000000534791.jpg', '/content/thumbnails/COCO_train2014_000000018464.jpg', '/content/thumbnails/COCO_train2014_000000148983.jpg', '/content/thumbnails/COCO_train2014_000000534347.jpg', '/content/thumbnails/COCO_train2014_000000276749.jpg', '/content/thumbnails/COCO_train2014_000000011297.jpg', '/content/thumbnails/COCO_train2014_000000538857.jpg', '/content/thumbnails/COCO_train2014_000000404754.jpg', '/content/thumbnails/COCO_train2014_000000538247.jpg', '/content/thumbnails/COCO_train2014_000000139586.jpg', '/content/thumbnails/COCO_train2014_000000009060.jpg', '/content/thumbnails/COCO_train2014_000000545214.jpg', '/content/thumbnails/COCO_train2014_000000276006.jpg', '/content/thumbnails/COCO_train2014_000000273650.jpg', '/content/thumbnails/COCO_train2014_000000537617.jpg', '/content/thumbnails/COCO_train2014_000000151741.jpg', '/content/thumbnails/COCO_train2014_000000136962.jpg', '/content/thumbnails/COCO_train2014_000000541702.jpg', '/content/thumbnails/COCO_train2014_000000411767.jpg', '/content/thumbnails/COCO_train2014_000000176194.jpg', '/content/thumbnails/COCO_train2014_000000414961.jpg', '/content/thumbnails/COCO_train2014_000000403666.jpg', '/content/thumbnails/COCO_train2014_000000476785.jpg', '/content/thumbnails/COCO_train2014_000000008999.jpg', '/content/thumbnails/COCO_train2014_000000018792.jpg', '/content/thumbnails/COCO_train2014_000000016063.jpg', '/content/thumbnails/COCO_train2014_000000266914.jpg', '/content/thumbnails/COCO_train2014_000000138310.jpg', '/content/thumbnails/COCO_train2014_000000023419.jpg', '/content/thumbnails/COCO_train2014_000000148994.jpg', '/content/thumbnails/COCO_train2014_000000144502.jpg', '/content/thumbnails/COCO_train2014_000000270315.jpg', '/content/thumbnails/COCO_train2014_000000282675.jpg', '/content/thumbnails/COCO_train2014_000000221187.jpg', '/content/thumbnails/COCO_train2014_000000017392.jpg', '/content/thumbnails/COCO_train2014_000000274323.jpg', '/content/thumbnails/COCO_train2014_000000272068.jpg', '/content/thumbnails/COCO_train2014_000000007124.jpg', '/content/thumbnails/COCO_train2014_000000535049.jpg', '/content/thumbnails/COCO_train2014_000000146111.jpg', '/content/thumbnails/COCO_train2014_000000020720.jpg', '/content/thumbnails/COCO_train2014_000000014849.jpg', '/content/thumbnails/COCO_train2014_000000542181.jpg', '/content/thumbnails/COCO_train2014_000000278639.jpg', '/content/thumbnails/COCO_train2014_000000412146.jpg', '/content/thumbnails/COCO_train2014_000000407381.jpg', '/content/thumbnails/COCO_train2014_000000398568.jpg', '/content/thumbnails/COCO_train2014_000000535464.jpg', '/content/thumbnails/COCO_train2014_000000021070.jpg', '/content/thumbnails/COCO_train2014_000000580629.jpg', '/content/thumbnails/COCO_train2014_000000529019.jpg', '/content/thumbnails/COCO_train2014_000000538398.jpg', '/content/thumbnails/COCO_train2014_000000010981.jpg', '/content/thumbnails/COCO_train2014_000000277550.jpg', '/content/thumbnails/COCO_train2014_000000133543.jpg', '/content/thumbnails/COCO_train2014_000000140092.jpg', '/content/thumbnails/COCO_train2014_000000157610.jpg', '/content/thumbnails/COCO_train2014_000000176763.jpg', '/content/thumbnails/COCO_train2014_000000278486.jpg', '/content/thumbnails/COCO_train2014_000000408405.jpg', '/content/thumbnails/COCO_train2014_000000141857.jpg', '/content/thumbnails/COCO_train2014_000000268603.jpg', '/content/thumbnails/COCO_train2014_000000153159.jpg', '/content/thumbnails/COCO_train2014_000000538682.jpg', '/content/thumbnails/COCO_train2014_000000277790.jpg', '/content/thumbnails/COCO_train2014_000000145699.jpg', '/content/thumbnails/COCO_train2014_000000157610.jpg', '/content/thumbnails/COCO_train2014_000000412086.jpg', '/content/thumbnails/COCO_train2014_000000504191.jpg', '/content/thumbnails/COCO_train2014_000000281583.jpg', '/content/thumbnails/COCO_train2014_000000282158.jpg', '/content/thumbnails/COCO_train2014_000000406250.jpg', '/content/thumbnails/COCO_train2014_000000576307.jpg', '/content/thumbnails/COCO_train2014_000000410755.jpg', '/content/thumbnails/COCO_train2014_000000393333.jpg', '/content/thumbnails/COCO_train2014_000000013731.jpg', '/content/thumbnails/COCO_train2014_000000012424.jpg', '/content/thumbnails/COCO_train2014_000000157603.jpg', '/content/thumbnails/COCO_train2014_000000139042.jpg', '/content/thumbnails/COCO_train2014_000000166536.jpg', '/content/thumbnails/COCO_train2014_000000013969.jpg', '/content/thumbnails/COCO_train2014_000000390260.jpg', '/content/thumbnails/COCO_train2014_000000408925.jpg', '/content/thumbnails/COCO_train2014_000000569203.jpg', '/content/thumbnails/COCO_train2014_000000005312.jpg', '/content/thumbnails/COCO_train2014_000000283803.jpg', '/content/thumbnails/COCO_train2014_000000278064.jpg', '/content/thumbnails/COCO_train2014_000000378872.jpg', '/content/thumbnails/COCO_train2014_000000277998.jpg', '/content/thumbnails/COCO_train2014_000000141862.jpg', '/content/thumbnails/COCO_train2014_000000019023.jpg', '/content/thumbnails/COCO_train2014_000000135463.jpg', '/content/thumbnails/COCO_train2014_000000004578.jpg', '/content/thumbnails/COCO_train2014_000000150502.jpg', '/content/thumbnails/COCO_train2014_000000407253.jpg', '/content/thumbnails/COCO_train2014_000000415203.jpg', '/content/thumbnails/COCO_train2014_000000017352.jpg', '/content/thumbnails/COCO_train2014_000000410144.jpg', '/content/thumbnails/COCO_train2014_000000281125.jpg', '/content/thumbnails/COCO_train2014_000000532239.jpg', '/content/thumbnails/COCO_train2014_000000397673.jpg', '/content/thumbnails/COCO_train2014_000000407768.jpg', '/content/thumbnails/COCO_train2014_000000272282.jpg', '/content/thumbnails/COCO_train2014_000000282840.jpg', '/content/thumbnails/COCO_train2014_000000396835.jpg', '/content/thumbnails/COCO_train2014_000000135539.jpg', '/content/thumbnails/COCO_train2014_000000269229.jpg', '/content/thumbnails/COCO_train2014_000000140029.jpg', '/content/thumbnails/COCO_train2014_000000501947.jpg', '/content/thumbnails/COCO_train2014_000000147290.jpg', '/content/thumbnails/COCO_train2014_000000010489.jpg', '/content/thumbnails/COCO_train2014_000000068167.jpg', '/content/thumbnails/COCO_train2014_000000139355.jpg', '/content/thumbnails/COCO_train2014_000000532220.jpg', '/content/thumbnails/COCO_train2014_000000279588.jpg', '/content/thumbnails/COCO_train2014_000000279753.jpg', '/content/thumbnails/COCO_train2014_000000534722.jpg', '/content/thumbnails/COCO_train2014_000000404322.jpg', '/content/thumbnails/COCO_train2014_000000015859.jpg', '/content/thumbnails/COCO_train2014_000000010600.jpg', '/content/thumbnails/COCO_train2014_000000137777.jpg', '/content/thumbnails/COCO_train2014_000000267015.jpg', '/content/thumbnails/COCO_train2014_000000373664.jpg', '/content/thumbnails/COCO_train2014_000000409468.jpg', '/content/thumbnails/COCO_train2014_000000372615.jpg', '/content/thumbnails/COCO_train2014_000000015002.jpg', '/content/thumbnails/COCO_train2014_000000569242.jpg', '/content/thumbnails/COCO_train2014_000000003911.jpg', '/content/thumbnails/COCO_train2014_000000529227.jpg', '/content/thumbnails/COCO_train2014_000000552575.jpg', '/content/thumbnails/COCO_train2014_000000019901.jpg', '/content/thumbnails/COCO_train2014_000000539820.jpg', '/content/thumbnails/COCO_train2014_000000007498.jpg', '/content/thumbnails/COCO_train2014_000000143959.jpg', '/content/thumbnails/COCO_train2014_000000540814.jpg', '/content/thumbnails/COCO_train2014_000000269947.jpg', '/content/thumbnails/COCO_train2014_000000405418.jpg', '/content/thumbnails/COCO_train2014_000000341100.jpg', '/content/thumbnails/COCO_train2014_000000407053.jpg', '/content/thumbnails/COCO_train2014_000000141038.jpg', '/content/thumbnails/COCO_train2014_000000133329.jpg', '/content/thumbnails/COCO_train2014_000000413533.jpg', '/content/thumbnails/COCO_train2014_000000269381.jpg', '/content/thumbnails/COCO_train2014_000000268577.jpg', '/content/thumbnails/COCO_train2014_000000270017.jpg', '/content/thumbnails/COCO_train2014_000000438965.jpg', '/content/thumbnails/COCO_train2014_000000404554.jpg', '/content/thumbnails/COCO_train2014_000000338535.jpg', '/content/thumbnails/COCO_train2014_000000271994.jpg', '/content/thumbnails/COCO_train2014_000000404905.jpg', '/content/thumbnails/COCO_train2014_000000151434.jpg', '/content/thumbnails/COCO_train2014_000000135790.jpg', '/content/thumbnails/COCO_train2014_000000407113.jpg', '/content/thumbnails/COCO_train2014_000000372303.jpg', '/content/thumbnails/COCO_train2014_000000153270.jpg', '/content/thumbnails/COCO_train2014_000000151307.jpg', '/content/thumbnails/COCO_train2014_000000044039.jpg', '/content/thumbnails/COCO_train2014_000000141659.jpg', '/content/thumbnails/COCO_train2014_000000410580.jpg', '/content/thumbnails/COCO_train2014_000000270844.jpg', '/content/thumbnails/COCO_train2014_000000545476.jpg', '/content/thumbnails/COCO_train2014_000000537782.jpg', '/content/thumbnails/COCO_train2014_000000266825.jpg', '/content/thumbnails/COCO_train2014_000000402081.jpg', '/content/thumbnails/COCO_train2014_000000405441.jpg', '/content/thumbnails/COCO_train2014_000000536103.jpg', '/content/thumbnails/COCO_train2014_000000278491.jpg', '/content/thumbnails/COCO_train2014_000000279584.jpg', '/content/thumbnails/COCO_train2014_000000136819.jpg', '/content/thumbnails/COCO_train2014_000000540210.jpg', '/content/thumbnails/COCO_train2014_000000538916.jpg', '/content/thumbnails/COCO_train2014_000000135749.jpg', '/content/thumbnails/COCO_train2014_000000414499.jpg', '/content/thumbnails/COCO_train2014_000000007420.jpg', '/content/thumbnails/COCO_train2014_000000156043.jpg', '/content/thumbnails/COCO_train2014_000000400752.jpg', '/content/thumbnails/COCO_train2014_000000268444.jpg', '/content/thumbnails/COCO_train2014_000000400613.jpg', '/content/thumbnails/COCO_train2014_000000020291.jpg', '/content/thumbnails/COCO_train2014_000000218601.jpg', '/content/thumbnails/COCO_train2014_000000242081.jpg', '/content/thumbnails/COCO_train2014_000000526680.jpg', '/content/thumbnails/COCO_train2014_000000278922.jpg', '/content/thumbnails/COCO_train2014_000000541880.jpg', '/content/thumbnails/COCO_train2014_000000282002.jpg', '/content/thumbnails/COCO_train2014_000000419406.jpg', '/content/thumbnails/COCO_train2014_000000020720.jpg', '/content/thumbnails/COCO_train2014_000000541721.jpg', '/content/thumbnails/COCO_train2014_000000277243.jpg', '/content/thumbnails/COCO_train2014_000000007205.jpg', '/content/thumbnails/COCO_train2014_000000139065.jpg', '/content/thumbnails/COCO_train2014_000000404905.jpg', '/content/thumbnails/COCO_train2014_000000281505.jpg', '/content/thumbnails/COCO_train2014_000000016335.jpg', '/content/thumbnails/COCO_train2014_000000137483.jpg', '/content/thumbnails/COCO_train2014_000000270071.jpg', '/content/thumbnails/COCO_train2014_000000006539.jpg', '/content/thumbnails/COCO_train2014_000000142779.jpg', '/content/thumbnails/COCO_train2014_000000280926.jpg', '/content/thumbnails/COCO_train2014_000000141874.jpg', '/content/thumbnails/COCO_train2014_000000409058.jpg', '/content/thumbnails/COCO_train2014_000000008006.jpg', '/content/thumbnails/COCO_train2014_000000532778.jpg', '/content/thumbnails/COCO_train2014_000000393121.jpg', '/content/thumbnails/COCO_train2014_000000541721.jpg', '/content/thumbnails/COCO_train2014_000000282464.jpg', '/content/thumbnails/COCO_train2014_000000272412.jpg', '/content/thumbnails/COCO_train2014_000000278612.jpg', '/content/thumbnails/COCO_train2014_000000532257.jpg', '/content/thumbnails/COCO_train2014_000000413374.jpg', '/content/thumbnails/COCO_train2014_000000537924.jpg', '/content/thumbnails/COCO_train2014_000000534058.jpg', '/content/thumbnails/COCO_train2014_000000276871.jpg', '/content/thumbnails/COCO_train2014_000000089943.jpg', '/content/thumbnails/COCO_train2014_000000068403.jpg', '/content/thumbnails/COCO_train2014_000000307662.jpg', '/content/thumbnails/COCO_train2014_000000411913.jpg', '/content/thumbnails/COCO_train2014_000000410388.jpg', '/content/thumbnails/COCO_train2014_000000531396.jpg', '/content/thumbnails/COCO_train2014_000000412664.jpg', '/content/thumbnails/COCO_train2014_000000536494.jpg', '/content/thumbnails/COCO_train2014_000000070296.jpg', '/content/thumbnails/COCO_train2014_000000400599.jpg', '/content/thumbnails/COCO_train2014_000000539746.jpg', '/content/thumbnails/COCO_train2014_000000276798.jpg', '/content/thumbnails/COCO_train2014_000000403789.jpg', '/content/thumbnails/COCO_train2014_000000141003.jpg', '/content/thumbnails/COCO_train2014_000000351972.jpg', '/content/thumbnails/COCO_train2014_000000006200.jpg', '/content/thumbnails/COCO_train2014_000000398448.jpg', '/content/thumbnails/COCO_train2014_000000020613.jpg', '/content/thumbnails/COCO_train2014_000000266715.jpg', '/content/thumbnails/COCO_train2014_000000145174.jpg', '/content/thumbnails/COCO_train2014_000000067445.jpg', '/content/thumbnails/COCO_train2014_000000279511.jpg', '/content/thumbnails/COCO_train2014_000000274986.jpg', '/content/thumbnails/COCO_train2014_000000142985.jpg', '/content/thumbnails/COCO_train2014_000000277435.jpg', '/content/thumbnails/COCO_train2014_000000483786.jpg', '/content/thumbnails/COCO_train2014_000000012750.jpg', '/content/thumbnails/COCO_train2014_000000537135.jpg', '/content/thumbnails/COCO_train2014_000000410182.jpg', '/content/thumbnails/COCO_train2014_000000407216.jpg', '/content/thumbnails/COCO_train2014_000000531575.jpg', '/content/thumbnails/COCO_train2014_000000017047.jpg', '/content/thumbnails/COCO_train2014_000000412955.jpg', '/content/thumbnails/COCO_train2014_000000284025.jpg', '/content/thumbnails/COCO_train2014_000000395822.jpg', '/content/thumbnails/COCO_train2014_000000411740.jpg', '/content/thumbnails/COCO_train2014_000000278528.jpg', '/content/thumbnails/COCO_train2014_000000542855.jpg', '/content/thumbnails/COCO_train2014_000000013670.jpg', '/content/thumbnails/COCO_train2014_000000014034.jpg', '/content/thumbnails/COCO_train2014_000000398544.jpg', '/content/thumbnails/COCO_train2014_000000409811.jpg', '/content/thumbnails/COCO_train2014_000000279803.jpg', '/content/thumbnails/COCO_train2014_000000281632.jpg', '/content/thumbnails/COCO_train2014_000000140690.jpg', '/content/thumbnails/COCO_train2014_000000016805.jpg', '/content/thumbnails/COCO_train2014_000000003264.jpg', '/content/thumbnails/COCO_train2014_000000088176.jpg', '/content/thumbnails/COCO_train2014_000000537656.jpg', '/content/thumbnails/COCO_train2014_000000534468.jpg', '/content/thumbnails/COCO_train2014_000000111777.jpg', '/content/thumbnails/COCO_train2014_000000149763.jpg', '/content/thumbnails/COCO_train2014_000000554643.jpg', '/content/thumbnails/COCO_train2014_000000568725.jpg', '/content/thumbnails/COCO_train2014_000000530284.jpg', '/content/thumbnails/COCO_train2014_000000280999.jpg', '/content/thumbnails/COCO_train2014_000000137109.jpg', '/content/thumbnails/COCO_train2014_000000148361.jpg', '/content/thumbnails/COCO_train2014_000000395311.jpg', '/content/thumbnails/COCO_train2014_000000398949.jpg', '/content/thumbnails/COCO_train2014_000000394104.jpg', '/content/thumbnails/COCO_train2014_000000138579.jpg', '/content/thumbnails/COCO_train2014_000000270070.jpg', '/content/thumbnails/COCO_train2014_000000529952.jpg', '/content/thumbnails/COCO_train2014_000000405441.jpg', '/content/thumbnails/COCO_train2014_000000399165.jpg', '/content/thumbnails/COCO_train2014_000000018290.jpg', '/content/thumbnails/COCO_train2014_000000400953.jpg', '/content/thumbnails/COCO_train2014_000000045459.jpg', '/content/thumbnails/COCO_train2014_000000541050.jpg', '/content/thumbnails/COCO_train2014_000000532439.jpg', '/content/thumbnails/COCO_train2014_000000146841.jpg', '/content/thumbnails/COCO_train2014_000000045280.jpg', '/content/thumbnails/COCO_train2014_000000147959.jpg', '/content/thumbnails/COCO_train2014_000000017472.jpg', '/content/thumbnails/COCO_train2014_000000402908.jpg', '/content/thumbnails/COCO_train2014_000000531834.jpg', '/content/thumbnails/COCO_train2014_000000282834.jpg', '/content/thumbnails/COCO_train2014_000000138585.jpg', '/content/thumbnails/COCO_train2014_000000403270.jpg', '/content/thumbnails/COCO_train2014_000000267067.jpg', '/content/thumbnails/COCO_train2014_000000008320.jpg', '/content/thumbnails/COCO_train2014_000000016233.jpg', '/content/thumbnails/COCO_train2014_000000278265.jpg', '/content/thumbnails/COCO_train2014_000000220156.jpg', '/content/thumbnails/COCO_train2014_000000147856.jpg', '/content/thumbnails/COCO_train2014_000000408324.jpg', '/content/thumbnails/COCO_train2014_000000269183.jpg', '/content/thumbnails/COCO_train2014_000000542988.jpg', '/content/thumbnails/COCO_train2014_000000271058.jpg', '/content/thumbnails/COCO_train2014_000000439502.jpg', '/content/thumbnails/COCO_train2014_000000406601.jpg', '/content/thumbnails/COCO_train2014_000000112444.jpg', '/content/thumbnails/COCO_train2014_000000540520.jpg', '/content/thumbnails/COCO_train2014_000000281701.jpg', '/content/thumbnails/COCO_train2014_000000392058.jpg', '/content/thumbnails/COCO_train2014_000000281180.jpg', '/content/thumbnails/COCO_train2014_000000068130.jpg', '/content/thumbnails/COCO_train2014_000000099548.jpg', '/content/thumbnails/COCO_train2014_000000010689.jpg', '/content/thumbnails/COCO_train2014_000000361417.jpg', '/content/thumbnails/COCO_train2014_000000276848.jpg', '/content/thumbnails/COCO_train2014_000000415376.jpg', '/content/thumbnails/COCO_train2014_000000410388.jpg', '/content/thumbnails/COCO_train2014_000000012424.jpg', '/content/thumbnails/COCO_train2014_000000150772.jpg', '/content/thumbnails/COCO_train2014_000000402759.jpg', '/content/thumbnails/COCO_train2014_000000467564.jpg', '/content/thumbnails/COCO_train2014_000000277426.jpg', '/content/thumbnails/COCO_train2014_000000285253.jpg', '/content/thumbnails/COCO_train2014_000000030820.jpg', '/content/thumbnails/COCO_train2014_000000110493.jpg', '/content/thumbnails/COCO_train2014_000000221241.jpg', '/content/thumbnails/COCO_train2014_000000504030.jpg', '/content/thumbnails/COCO_train2014_000000412330.jpg', '/content/thumbnails/COCO_train2014_000000137583.jpg', '/content/thumbnails/COCO_train2014_000000219987.jpg', '/content/thumbnails/COCO_train2014_000000088825.jpg', '/content/thumbnails/COCO_train2014_000000281952.jpg', '/content/thumbnails/COCO_train2014_000000016578.jpg', '/content/thumbnails/COCO_train2014_000000535593.jpg', '/content/thumbnails/COCO_train2014_000000403737.jpg', '/content/thumbnails/COCO_train2014_000000013916.jpg', '/content/thumbnails/COCO_train2014_000000147211.jpg', '/content/thumbnails/COCO_train2014_000000397959.jpg', '/content/thumbnails/COCO_train2014_000000110934.jpg', '/content/thumbnails/COCO_train2014_000000412194.jpg', '/content/thumbnails/COCO_train2014_000000151050.jpg', '/content/thumbnails/COCO_train2014_000000308621.jpg', '/content/thumbnails/COCO_train2014_000000484044.jpg', '/content/thumbnails/COCO_train2014_000000407820.jpg', '/content/thumbnails/COCO_train2014_000000138585.jpg', '/content/thumbnails/COCO_train2014_000000462208.jpg', '/content/thumbnails/COCO_train2014_000000411225.jpg', '/content/thumbnails/COCO_train2014_000000026833.jpg', '/content/thumbnails/COCO_train2014_000000111831.jpg', '/content/thumbnails/COCO_train2014_000000018748.jpg', '/content/thumbnails/COCO_train2014_000000152782.jpg', '/content/thumbnails/COCO_train2014_000000151050.jpg', '/content/thumbnails/COCO_train2014_000000485131.jpg', '/content/thumbnails/COCO_train2014_000000395396.jpg', '/content/thumbnails/COCO_train2014_000000018333.jpg', '/content/thumbnails/COCO_train2014_000000018584.jpg', '/content/thumbnails/COCO_train2014_000000014168.jpg', '/content/thumbnails/COCO_train2014_000000482631.jpg', '/content/thumbnails/COCO_train2014_000000096690.jpg', '/content/thumbnails/COCO_train2014_000000074574.jpg', '/content/thumbnails/COCO_train2014_000000445327.jpg', '/content/thumbnails/COCO_train2014_000000281656.jpg', '/content/thumbnails/COCO_train2014_000000151277.jpg', '/content/thumbnails/COCO_train2014_000000398053.jpg', '/content/thumbnails/COCO_train2014_000000136951.jpg', '/content/thumbnails/COCO_train2014_000000483547.jpg', '/content/thumbnails/COCO_train2014_000000146440.jpg', '/content/thumbnails/COCO_train2014_000000547594.jpg', '/content/thumbnails/COCO_train2014_000000145288.jpg', '/content/thumbnails/COCO_train2014_000000398986.jpg', '/content/thumbnails/COCO_train2014_000000137847.jpg', '/content/thumbnails/COCO_train2014_000000541343.jpg', '/content/thumbnails/COCO_train2014_000000014861.jpg', '/content/thumbnails/COCO_train2014_000000134128.jpg', '/content/thumbnails/COCO_train2014_000000044358.jpg', '/content/thumbnails/COCO_train2014_000000276077.jpg', '/content/thumbnails/COCO_train2014_000000148010.jpg', '/content/thumbnails/COCO_train2014_000000318644.jpg', '/content/thumbnails/COCO_train2014_000000271505.jpg', '/content/thumbnails/COCO_train2014_000000145736.jpg', '/content/thumbnails/COCO_train2014_000000461073.jpg', '/content/thumbnails/COCO_train2014_000000273886.jpg', '/content/thumbnails/COCO_train2014_000000403307.jpg', '/content/thumbnails/COCO_train2014_000000192929.jpg', '/content/thumbnails/COCO_train2014_000000544746.jpg', '/content/thumbnails/COCO_train2014_000000537497.jpg', '/content/thumbnails/COCO_train2014_000000394115.jpg', '/content/thumbnails/COCO_train2014_000000155749.jpg', '/content/thumbnails/COCO_train2014_000000407806.jpg', '/content/thumbnails/COCO_train2014_000000503479.jpg', '/content/thumbnails/COCO_train2014_000000274286.jpg', '/content/thumbnails/COCO_train2014_000000271890.jpg', '/content/thumbnails/COCO_train2014_000000540617.jpg', '/content/thumbnails/COCO_train2014_000000374845.jpg', '/content/thumbnails/COCO_train2014_000000533949.jpg', '/content/thumbnails/COCO_train2014_000000266168.jpg', '/content/thumbnails/COCO_train2014_000000269829.jpg', '/content/thumbnails/COCO_train2014_000000532263.jpg', '/content/thumbnails/COCO_train2014_000000166207.jpg', '/content/thumbnails/COCO_train2014_000000275817.jpg', '/content/thumbnails/COCO_train2014_000000541528.jpg', '/content/thumbnails/COCO_train2014_000000140627.jpg', '/content/thumbnails/COCO_train2014_000000413602.jpg', '/content/thumbnails/COCO_train2014_000000397543.jpg', '/content/thumbnails/COCO_train2014_000000046591.jpg', '/content/thumbnails/COCO_train2014_000000413560.jpg', '/content/thumbnails/COCO_train2014_000000412955.jpg', '/content/thumbnails/COCO_train2014_000000272026.jpg', '/content/thumbnails/COCO_train2014_000000148144.jpg', '/content/thumbnails/COCO_train2014_000000019994.jpg', '/content/thumbnails/COCO_train2014_000000533402.jpg', '/content/thumbnails/COCO_train2014_000000530832.jpg', '/content/thumbnails/COCO_train2014_000000283753.jpg', '/content/thumbnails/COCO_train2014_000000532769.jpg', '/content/thumbnails/COCO_train2014_000000544348.jpg', '/content/thumbnails/COCO_train2014_000000002309.jpg', '/content/thumbnails/COCO_train2014_000000276806.jpg', '/content/thumbnails/COCO_train2014_000000273665.jpg', '/content/thumbnails/COCO_train2014_000000067771.jpg', '/content/thumbnails/COCO_train2014_000000005692.jpg', '/content/thumbnails/COCO_train2014_000000483288.jpg', '/content/thumbnails/COCO_train2014_000000137730.jpg', '/content/thumbnails/COCO_train2014_000000020512.jpg', '/content/thumbnails/COCO_train2014_000000405441.jpg', '/content/thumbnails/COCO_train2014_000000281910.jpg', '/content/thumbnails/COCO_train2014_000000540999.jpg', '/content/thumbnails/COCO_train2014_000000019959.jpg', '/content/thumbnails/COCO_train2014_000000535786.jpg', '/content/thumbnails/COCO_train2014_000000277998.jpg', '/content/thumbnails/COCO_train2014_000000144196.jpg', '/content/thumbnails/COCO_train2014_000000280450.jpg', '/content/thumbnails/COCO_train2014_000000273120.jpg', '/content/thumbnails/COCO_train2014_000000136123.jpg', '/content/thumbnails/COCO_train2014_000000402708.jpg', '/content/thumbnails/COCO_train2014_000000067571.jpg', '/content/thumbnails/COCO_train2014_000000154068.jpg', '/content/thumbnails/COCO_train2014_000000462023.jpg', '/content/thumbnails/COCO_train2014_000000136917.jpg', '/content/thumbnails/COCO_train2014_000000400216.jpg', '/content/thumbnails/COCO_train2014_000000438306.jpg', '/content/thumbnails/COCO_train2014_000000113772.jpg', '/content/thumbnails/COCO_train2014_000000515341.jpg', '/content/thumbnails/COCO_train2014_000000533799.jpg', '/content/thumbnails/COCO_train2014_000000012138.jpg', '/content/thumbnails/COCO_train2014_000000276716.jpg', '/content/thumbnails/COCO_train2014_000000406543.jpg', '/content/thumbnails/COCO_train2014_000000407216.jpg', '/content/thumbnails/COCO_train2014_000000140204.jpg', '/content/thumbnails/COCO_train2014_000000141965.jpg', '/content/thumbnails/COCO_train2014_000000412208.jpg', '/content/thumbnails/COCO_train2014_000000011196.jpg', '/content/thumbnails/COCO_train2014_000000308783.jpg', '/content/thumbnails/COCO_train2014_000000066005.jpg', '/content/thumbnails/COCO_train2014_000000271043.jpg', '/content/thumbnails/COCO_train2014_000000279117.jpg', '/content/thumbnails/COCO_train2014_000000009451.jpg', '/content/thumbnails/COCO_train2014_000000410887.jpg', '/content/thumbnails/COCO_train2014_000000533128.jpg', '/content/thumbnails/COCO_train2014_000000400940.jpg', '/content/thumbnails/COCO_train2014_000000003860.jpg', '/content/thumbnails/COCO_train2014_000000536540.jpg', '/content/thumbnails/COCO_train2014_000000404296.jpg', '/content/thumbnails/COCO_train2014_000000534107.jpg', '/content/thumbnails/COCO_train2014_000000140909.jpg', '/content/thumbnails/COCO_train2014_000000394481.jpg', '/content/thumbnails/COCO_train2014_000000111148.jpg', '/content/thumbnails/COCO_train2014_000000220156.jpg', '/content/thumbnails/COCO_train2014_000000398214.jpg', '/content/thumbnails/COCO_train2014_000000003461.jpg', '/content/thumbnails/COCO_train2014_000000150435.jpg', '/content/thumbnails/COCO_train2014_000000149356.jpg', '/content/thumbnails/COCO_train2014_000000445306.jpg', '/content/thumbnails/COCO_train2014_000000012070.jpg', '/content/thumbnails/COCO_train2014_000000283213.jpg', '/content/thumbnails/COCO_train2014_000000533799.jpg', '/content/thumbnails/COCO_train2014_000000149221.jpg', '/content/thumbnails/COCO_train2014_000000148646.jpg', '/content/thumbnails/COCO_train2014_000000004208.jpg', '/content/thumbnails/COCO_train2014_000000338535.jpg', '/content/thumbnails/COCO_train2014_000000065869.jpg', '/content/thumbnails/COCO_train2014_000000166207.jpg', '/content/thumbnails/COCO_train2014_000000352670.jpg', '/content/thumbnails/COCO_train2014_000000570742.jpg', '/content/thumbnails/COCO_train2014_000000154212.jpg', '/content/thumbnails/COCO_train2014_000000409722.jpg', '/content/thumbnails/COCO_train2014_000000017545.jpg', '/content/thumbnails/COCO_train2014_000000020512.jpg', '/content/thumbnails/COCO_train2014_000000535856.jpg', '/content/thumbnails/COCO_train2014_000000409736.jpg', '/content/thumbnails/COCO_train2014_000000413121.jpg', '/content/thumbnails/COCO_train2014_000000013230.jpg', '/content/thumbnails/COCO_train2014_000000265840.jpg', '/content/thumbnails/COCO_train2014_000000138482.jpg', '/content/thumbnails/COCO_train2014_000000009929.jpg', '/content/thumbnails/COCO_train2014_000000014017.jpg', '/content/thumbnails/COCO_train2014_000000537412.jpg', '/content/thumbnails/COCO_train2014_000000143470.jpg', '/content/thumbnails/COCO_train2014_000000266010.jpg', '/content/thumbnails/COCO_train2014_000000404403.jpg', '/content/thumbnails/COCO_train2014_000000151414.jpg', '/content/thumbnails/COCO_train2014_000000022278.jpg', '/content/thumbnails/COCO_train2014_000000148184.jpg', '/content/thumbnails/COCO_train2014_000000044388.jpg', '/content/thumbnails/COCO_train2014_000000532629.jpg', '/content/thumbnails/COCO_train2014_000000199243.jpg', '/content/thumbnails/COCO_train2014_000000006586.jpg', '/content/thumbnails/COCO_train2014_000000271301.jpg', '/content/thumbnails/COCO_train2014_000000146256.jpg', '/content/thumbnails/COCO_train2014_000000414723.jpg', '/content/thumbnails/COCO_train2014_000000137995.jpg', '/content/thumbnails/COCO_train2014_000000278799.jpg', '/content/thumbnails/COCO_train2014_000000524273.jpg', '/content/thumbnails/COCO_train2014_000000020418.jpg', '/content/thumbnails/COCO_train2014_000000013703.jpg', '/content/thumbnails/COCO_train2014_000000529630.jpg', '/content/thumbnails/COCO_train2014_000000130142.jpg', '/content/thumbnails/COCO_train2014_000000528699.jpg', '/content/thumbnails/COCO_train2014_000000280767.jpg', '/content/thumbnails/COCO_train2014_000000148144.jpg', '/content/thumbnails/COCO_train2014_000000278043.jpg', '/content/thumbnails/COCO_train2014_000000403666.jpg', '/content/thumbnails/COCO_train2014_000000396661.jpg', '/content/thumbnails/COCO_train2014_000000402243.jpg', '/content/thumbnails/COCO_train2014_000000282372.jpg', '/content/thumbnails/COCO_train2014_000000149973.jpg', '/content/thumbnails/COCO_train2014_000000401440.jpg', '/content/thumbnails/COCO_train2014_000000139907.jpg', '/content/thumbnails/COCO_train2014_000000542725.jpg', '/content/thumbnails/COCO_train2014_000000017356.jpg', '/content/thumbnails/COCO_train2014_000000276739.jpg', '/content/thumbnails/COCO_train2014_000000012418.jpg', '/content/thumbnails/COCO_train2014_000000404545.jpg', '/content/thumbnails/COCO_train2014_000000545278.jpg', '/content/thumbnails/COCO_train2014_000000329150.jpg', '/content/thumbnails/COCO_train2014_000000403899.jpg', '/content/thumbnails/COCO_train2014_000000535464.jpg', '/content/thumbnails/COCO_train2014_000000405934.jpg', '/content/thumbnails/COCO_train2014_000000483955.jpg', '/content/thumbnails/COCO_train2014_000000397593.jpg', '/content/thumbnails/COCO_train2014_000000401312.jpg', '/content/thumbnails/COCO_train2014_000000236318.jpg', '/content/thumbnails/COCO_train2014_000000134912.jpg', '/content/thumbnails/COCO_train2014_000000149280.jpg', '/content/thumbnails/COCO_train2014_000000273732.jpg', '/content/thumbnails/COCO_train2014_000000403955.jpg', '/content/thumbnails/COCO_train2014_000000544347.jpg', '/content/thumbnails/COCO_train2014_000000144552.jpg', '/content/thumbnails/COCO_train2014_000000265622.jpg', '/content/thumbnails/COCO_train2014_000000530851.jpg', '/content/thumbnails/COCO_train2014_000000543454.jpg', '/content/thumbnails/COCO_train2014_000000006026.jpg', '/content/thumbnails/COCO_train2014_000000141862.jpg', '/content/thumbnails/COCO_train2014_000000016837.jpg', '/content/thumbnails/COCO_train2014_000000016706.jpg', '/content/thumbnails/COCO_train2014_000000437435.jpg', '/content/thumbnails/COCO_train2014_000000276124.jpg', '/content/thumbnails/COCO_train2014_000000147829.jpg', '/content/thumbnails/COCO_train2014_000000008453.jpg', '/content/thumbnails/COCO_train2014_000000148394.jpg', '/content/thumbnails/COCO_train2014_000000023107.jpg', '/content/thumbnails/COCO_train2014_000000531715.jpg', '/content/thumbnails/COCO_train2014_000000408041.jpg', '/content/thumbnails/COCO_train2014_000000404684.jpg', '/content/thumbnails/COCO_train2014_000000275982.jpg', '/content/thumbnails/COCO_train2014_000000439596.jpg', '/content/thumbnails/COCO_train2014_000000539848.jpg', '/content/thumbnails/COCO_train2014_000000015183.jpg', '/content/thumbnails/COCO_train2014_000000534016.jpg', '/content/thumbnails/COCO_train2014_000000113199.jpg', '/content/thumbnails/COCO_train2014_000000541147.jpg', '/content/thumbnails/COCO_train2014_000000141931.jpg', '/content/thumbnails/COCO_train2014_000000540795.jpg', '/content/thumbnails/COCO_train2014_000000220124.jpg', '/content/thumbnails/COCO_train2014_000000413115.jpg', '/content/thumbnails/COCO_train2014_000000283809.jpg', '/content/thumbnails/COCO_train2014_000000065984.jpg', '/content/thumbnails/COCO_train2014_000000409833.jpg', '/content/thumbnails/COCO_train2014_000000150435.jpg', '/content/thumbnails/COCO_train2014_000000014862.jpg', '/content/thumbnails/COCO_train2014_000000280764.jpg', '/content/thumbnails/COCO_train2014_000000276539.jpg', '/content/thumbnails/COCO_train2014_000000277267.jpg', '/content/thumbnails/COCO_train2014_000000529910.jpg', '/content/thumbnails/COCO_train2014_000000404533.jpg', '/content/thumbnails/COCO_train2014_000000151364.jpg', '/content/thumbnails/COCO_train2014_000000285249.jpg', '/content/thumbnails/COCO_train2014_000000270035.jpg', '/content/thumbnails/COCO_train2014_000000134008.jpg', '/content/thumbnails/COCO_train2014_000000402420.jpg', '/content/thumbnails/COCO_train2014_000000010787.jpg', '/content/thumbnails/COCO_train2014_000000004404.jpg', '/content/thumbnails/COCO_train2014_000000277998.jpg', '/content/thumbnails/COCO_train2014_000000104898.jpg', '/content/thumbnails/COCO_train2014_000000022796.jpg', '/content/thumbnails/COCO_train2014_000000351972.jpg', '/content/thumbnails/COCO_train2014_000000271385.jpg', '/content/thumbnails/COCO_train2014_000000268982.jpg', '/content/thumbnails/COCO_train2014_000000539710.jpg', '/content/thumbnails/COCO_train2014_000000397819.jpg', '/content/thumbnails/COCO_train2014_000000483118.jpg', '/content/thumbnails/COCO_train2014_000000410622.jpg', '/content/thumbnails/COCO_train2014_000000015881.jpg', '/content/thumbnails/COCO_train2014_000000144449.jpg', '/content/thumbnails/COCO_train2014_000000148348.jpg', '/content/thumbnails/COCO_train2014_000000177011.jpg', '/content/thumbnails/COCO_train2014_000000265622.jpg', '/content/thumbnails/COCO_train2014_000000269160.jpg', '/content/thumbnails/COCO_train2014_000000467647.jpg', '/content/thumbnails/COCO_train2014_000000014402.jpg', '/content/thumbnails/COCO_train2014_000000397543.jpg', '/content/thumbnails/COCO_train2014_000000414113.jpg', '/content/thumbnails/COCO_train2014_000000009075.jpg', '/content/thumbnails/COCO_train2014_000000014630.jpg', '/content/thumbnails/COCO_train2014_000000017946.jpg', '/content/thumbnails/COCO_train2014_000000013714.jpg', '/content/thumbnails/COCO_train2014_000000004331.jpg', '/content/thumbnails/COCO_train2014_000000220124.jpg', '/content/thumbnails/COCO_train2014_000000138922.jpg', '/content/thumbnails/COCO_train2014_000000410190.jpg', '/content/thumbnails/COCO_train2014_000000003860.jpg', '/content/thumbnails/COCO_train2014_000000009488.jpg', '/content/thumbnails/COCO_train2014_000000141682.jpg', '/content/thumbnails/COCO_train2014_000000535732.jpg', '/content/thumbnails/COCO_train2014_000000541702.jpg', '/content/thumbnails/COCO_train2014_000000263515.jpg', '/content/thumbnails/COCO_train2014_000000150435.jpg', '/content/thumbnails/COCO_train2014_000000532635.jpg', '/content/thumbnails/COCO_train2014_000000183982.jpg', '/content/thumbnails/COCO_train2014_000000529866.jpg', '/content/thumbnails/COCO_train2014_000000330775.jpg', '/content/thumbnails/COCO_train2014_000000398349.jpg', '/content/thumbnails/COCO_train2014_000000476802.jpg', '/content/thumbnails/COCO_train2014_000000270650.jpg', '/content/thumbnails/COCO_train2014_000000148398.jpg', '/content/thumbnails/COCO_train2014_000000008369.jpg', '/content/thumbnails/COCO_train2014_000000268123.jpg', '/content/thumbnails/COCO_train2014_000000537656.jpg', '/content/thumbnails/COCO_train2014_000000278301.jpg', '/content/thumbnails/COCO_train2014_000000013144.jpg', '/content/thumbnails/COCO_train2014_000000544414.jpg', '/content/thumbnails/COCO_train2014_000000090146.jpg', '/content/thumbnails/COCO_train2014_000000280024.jpg', '/content/thumbnails/COCO_train2014_000000328881.jpg', '/content/thumbnails/COCO_train2014_000000267898.jpg', '/content/thumbnails/COCO_train2014_000000273808.jpg', '/content/thumbnails/COCO_train2014_000000274676.jpg', '/content/thumbnails/COCO_train2014_000000414148.jpg', '/content/thumbnails/COCO_train2014_000000271500.jpg', '/content/thumbnails/COCO_train2014_000000441361.jpg', '/content/thumbnails/COCO_train2014_000000100827.jpg', '/content/thumbnails/COCO_train2014_000000017474.jpg', '/content/thumbnails/COCO_train2014_000000127073.jpg', '/content/thumbnails/COCO_train2014_000000279457.jpg', '/content/thumbnails/COCO_train2014_000000532635.jpg', '/content/thumbnails/COCO_train2014_000000019013.jpg', '/content/thumbnails/COCO_train2014_000000009872.jpg', '/content/thumbnails/COCO_train2014_000000277550.jpg', '/content/thumbnails/COCO_train2014_000000019901.jpg', '/content/thumbnails/COCO_train2014_000000401477.jpg', '/content/thumbnails/COCO_train2014_000000270871.jpg', '/content/thumbnails/COCO_train2014_000000280310.jpg', '/content/thumbnails/COCO_train2014_000000399899.jpg', '/content/thumbnails/COCO_train2014_000000532589.jpg', '/content/thumbnails/COCO_train2014_000000285131.jpg', '/content/thumbnails/COCO_train2014_000000004490.jpg', '/content/thumbnails/COCO_train2014_000000275199.jpg', '/content/thumbnails/COCO_train2014_000000270769.jpg', '/content/thumbnails/COCO_train2014_000000274514.jpg', '/content/thumbnails/COCO_train2014_000000413290.jpg', '/content/thumbnails/COCO_train2014_000000544325.jpg', '/content/thumbnails/COCO_train2014_000000543560.jpg', '/content/thumbnails/COCO_train2014_000000007838.jpg', '/content/thumbnails/COCO_train2014_000000098395.jpg', '/content/thumbnails/COCO_train2014_000000309260.jpg', '/content/thumbnails/COCO_train2014_000000531404.jpg', '/content/thumbnails/COCO_train2014_000000068662.jpg', '/content/thumbnails/COCO_train2014_000000004477.jpg', '/content/thumbnails/COCO_train2014_000000001323.jpg', '/content/thumbnails/COCO_train2014_000000136373.jpg', '/content/thumbnails/COCO_train2014_000000148144.jpg', '/content/thumbnails/COCO_train2014_000000278525.jpg', '/content/thumbnails/COCO_train2014_000000146098.jpg', '/content/thumbnails/COCO_train2014_000000266469.jpg', '/content/thumbnails/COCO_train2014_000000413367.jpg', '/content/thumbnails/COCO_train2014_000000014630.jpg', '/content/thumbnails/COCO_train2014_000000405057.jpg', '/content/thumbnails/COCO_train2014_000000003911.jpg', '/content/thumbnails/COCO_train2014_000000006990.jpg', '/content/thumbnails/COCO_train2014_000000415265.jpg', '/content/thumbnails/COCO_train2014_000000266120.jpg', '/content/thumbnails/COCO_train2014_000000141608.jpg', '/content/thumbnails/COCO_train2014_000000405729.jpg', '/content/thumbnails/COCO_train2014_000000544780.jpg', '/content/thumbnails/COCO_train2014_000000275970.jpg', '/content/thumbnails/COCO_train2014_000000406233.jpg', '/content/thumbnails/COCO_train2014_000000267731.jpg', '/content/thumbnails/COCO_train2014_000000270651.jpg', '/content/thumbnails/COCO_train2014_000000407806.jpg', '/content/thumbnails/COCO_train2014_000000372247.jpg', '/content/thumbnails/COCO_train2014_000000150435.jpg', '/content/thumbnails/COCO_train2014_000000400599.jpg', '/content/thumbnails/COCO_train2014_000000270871.jpg', '/content/thumbnails/COCO_train2014_000000482631.jpg', '/content/thumbnails/COCO_train2014_000000414733.jpg', '/content/thumbnails/COCO_train2014_000000016706.jpg', '/content/thumbnails/COCO_train2014_000000336457.jpg', '/content/thumbnails/COCO_train2014_000000002672.jpg', '/content/thumbnails/COCO_train2014_000000489107.jpg', '/content/thumbnails/COCO_train2014_000000267848.jpg', '/content/thumbnails/COCO_train2014_000000249384.jpg', '/content/thumbnails/COCO_train2014_000000274386.jpg', '/content/thumbnails/COCO_train2014_000000540838.jpg', '/content/thumbnails/COCO_train2014_000000141842.jpg', '/content/thumbnails/COCO_train2014_000000280765.jpg', '/content/thumbnails/COCO_train2014_000000528116.jpg', '/content/thumbnails/COCO_train2014_000000140655.jpg', '/content/thumbnails/COCO_train2014_000000011631.jpg', '/content/thumbnails/COCO_train2014_000000143989.jpg', '/content/thumbnails/COCO_train2014_000000276931.jpg', '/content/thumbnails/COCO_train2014_000000530030.jpg', '/content/thumbnails/COCO_train2014_000000134430.jpg', '/content/thumbnails/COCO_train2014_000000504259.jpg', '/content/thumbnails/COCO_train2014_000000148931.jpg', '/content/thumbnails/COCO_train2014_000000016243.jpg', '/content/thumbnails/COCO_train2014_000000005692.jpg', '/content/thumbnails/COCO_train2014_000000539705.jpg', '/content/thumbnails/COCO_train2014_000000403258.jpg', '/content/thumbnails/COCO_train2014_000000531290.jpg', '/content/thumbnails/COCO_train2014_000000268008.jpg', '/content/thumbnails/COCO_train2014_000000141510.jpg', '/content/thumbnails/COCO_train2014_000000541491.jpg', '/content/thumbnails/COCO_train2014_000000531033.jpg', '/content/thumbnails/COCO_train2014_000000505469.jpg', '/content/thumbnails/COCO_train2014_000000402531.jpg', '/content/thumbnails/COCO_train2014_000000407806.jpg', '/content/thumbnails/COCO_train2014_000000024498.jpg', '/content/thumbnails/COCO_train2014_000000016683.jpg', '/content/thumbnails/COCO_train2014_000000414975.jpg', '/content/thumbnails/COCO_train2014_000000410845.jpg', '/content/thumbnails/COCO_train2014_000000142649.jpg', '/content/thumbnails/COCO_train2014_000000010327.jpg', '/content/thumbnails/COCO_train2014_000000403080.jpg', '/content/thumbnails/COCO_train2014_000000351973.jpg', '/content/thumbnails/COCO_train2014_000000401416.jpg', '/content/thumbnails/COCO_train2014_000000486035.jpg', '/content/thumbnails/COCO_train2014_000000009865.jpg', '/content/thumbnails/COCO_train2014_000000400134.jpg', '/content/thumbnails/COCO_train2014_000000274047.jpg', '/content/thumbnails/COCO_train2014_000000021685.jpg', '/content/thumbnails/COCO_train2014_000000545278.jpg', '/content/thumbnails/COCO_train2014_000000021089.jpg', '/content/thumbnails/COCO_train2014_000000138747.jpg', '/content/thumbnails/COCO_train2014_000000542854.jpg', '/content/thumbnails/COCO_train2014_000000025105.jpg', '/content/thumbnails/COCO_train2014_000000548153.jpg', '/content/thumbnails/COCO_train2014_000000483118.jpg', '/content/thumbnails/COCO_train2014_000000019431.jpg', '/content/thumbnails/COCO_train2014_000000542642.jpg', '/content/thumbnails/COCO_train2014_000000061351.jpg', '/content/thumbnails/COCO_train2014_000000009797.jpg', '/content/thumbnails/COCO_train2014_000000421106.jpg', '/content/thumbnails/COCO_train2014_000000349530.jpg', '/content/thumbnails/COCO_train2014_000000007167.jpg', '/content/thumbnails/COCO_train2014_000000009446.jpg', '/content/thumbnails/COCO_train2014_000000526663.jpg', '/content/thumbnails/COCO_train2014_000000009248.jpg', '/content/thumbnails/COCO_train2014_000000504178.jpg', '/content/thumbnails/COCO_train2014_000000534672.jpg', '/content/thumbnails/COCO_train2014_000000270269.jpg', '/content/thumbnails/COCO_train2014_000000398099.jpg', '/content/thumbnails/COCO_train2014_000000537499.jpg', '/content/thumbnails/COCO_train2014_000000541094.jpg', '/content/thumbnails/COCO_train2014_000000277145.jpg', '/content/thumbnails/COCO_train2014_000000147873.jpg', '/content/thumbnails/COCO_train2014_000000139336.jpg', '/content/thumbnails/COCO_train2014_000000532543.jpg', '/content/thumbnails/COCO_train2014_000000016255.jpg', '/content/thumbnails/COCO_train2014_000000131665.jpg', '/content/thumbnails/COCO_train2014_000000133281.jpg', '/content/thumbnails/COCO_train2014_000000404612.jpg', '/content/thumbnails/COCO_train2014_000000018775.jpg', '/content/thumbnails/COCO_train2014_000000278491.jpg', '/content/thumbnails/COCO_train2014_000000272544.jpg', '/content/thumbnails/COCO_train2014_000000018952.jpg', '/content/thumbnails/COCO_train2014_000000353902.jpg', '/content/thumbnails/COCO_train2014_000000565716.jpg', '/content/thumbnails/COCO_train2014_000000532457.jpg', '/content/thumbnails/COCO_train2014_000000278411.jpg', '/content/thumbnails/COCO_train2014_000000057005.jpg', '/content/thumbnails/COCO_train2014_000000253532.jpg', '/content/thumbnails/COCO_train2014_000000401842.jpg', '/content/thumbnails/COCO_train2014_000000292585.jpg', '/content/thumbnails/COCO_train2014_000000534060.jpg', '/content/thumbnails/COCO_train2014_000000010600.jpg', '/content/thumbnails/COCO_train2014_000000531644.jpg', '/content/thumbnails/COCO_train2014_000000143342.jpg', '/content/thumbnails/COCO_train2014_000000404283.jpg', '/content/thumbnails/COCO_train2014_000000403190.jpg', '/content/thumbnails/COCO_train2014_000000140130.jpg', '/content/thumbnails/COCO_train2014_000000267556.jpg', '/content/thumbnails/COCO_train2014_000000529391.jpg', '/content/thumbnails/COCO_train2014_000000320508.jpg', '/content/thumbnails/COCO_train2014_000000006753.jpg', '/content/thumbnails/COCO_train2014_000000273650.jpg', '/content/thumbnails/COCO_train2014_000000467720.jpg', '/content/thumbnails/COCO_train2014_000000002672.jpg', '/content/thumbnails/COCO_train2014_000000404159.jpg', '/content/thumbnails/COCO_train2014_000000282158.jpg', '/content/thumbnails/COCO_train2014_000000537497.jpg', '/content/thumbnails/COCO_train2014_000000136360.jpg', '/content/thumbnails/COCO_train2014_000000008432.jpg', '/content/thumbnails/COCO_train2014_000000274337.jpg', '/content/thumbnails/COCO_train2014_000000176442.jpg', '/content/thumbnails/COCO_train2014_000000409444.jpg', '/content/thumbnails/COCO_train2014_000000019994.jpg', '/content/thumbnails/COCO_train2014_000000141922.jpg', '/content/thumbnails/COCO_train2014_000000111436.jpg', '/content/thumbnails/COCO_train2014_000000198001.jpg', '/content/thumbnails/COCO_train2014_000000018292.jpg', '/content/thumbnails/COCO_train2014_000000011294.jpg', '/content/thumbnails/COCO_train2014_000000152328.jpg', '/content/thumbnails/COCO_train2014_000000409155.jpg', '/content/thumbnails/COCO_train2014_000000400593.jpg', '/content/thumbnails/COCO_train2014_000000185151.jpg', '/content/thumbnails/COCO_train2014_000000539247.jpg', '/content/thumbnails/COCO_train2014_000000405327.jpg', '/content/thumbnails/COCO_train2014_000000280338.jpg', '/content/thumbnails/COCO_train2014_000000274213.jpg', '/content/thumbnails/COCO_train2014_000000016950.jpg', '/content/thumbnails/COCO_train2014_000000271122.jpg', '/content/thumbnails/COCO_train2014_000000139426.jpg', '/content/thumbnails/COCO_train2014_000000143952.jpg', '/content/thumbnails/COCO_train2014_000000542786.jpg', '/content/thumbnails/COCO_train2014_000000007794.jpg', '/content/thumbnails/COCO_train2014_000000412615.jpg', '/content/thumbnails/COCO_train2014_000000147975.jpg', '/content/thumbnails/COCO_train2014_000000148525.jpg', '/content/thumbnails/COCO_train2014_000000149087.jpg', '/content/thumbnails/COCO_train2014_000000143286.jpg', '/content/thumbnails/COCO_train2014_000000534980.jpg', '/content/thumbnails/COCO_train2014_000000277055.jpg', '/content/thumbnails/COCO_train2014_000000272365.jpg', '/content/thumbnails/COCO_train2014_000000405181.jpg', '/content/thumbnails/COCO_train2014_000000015518.jpg', '/content/thumbnails/COCO_train2014_000000140080.jpg', '/content/thumbnails/COCO_train2014_000000149087.jpg', '/content/thumbnails/COCO_train2014_000000020971.jpg', '/content/thumbnails/COCO_train2014_000000273808.jpg', '/content/thumbnails/COCO_train2014_000000002284.jpg', '/content/thumbnails/COCO_train2014_000000012178.jpg', '/content/thumbnails/COCO_train2014_000000176871.jpg', '/content/thumbnails/COCO_train2014_000000021693.jpg', '/content/thumbnails/COCO_train2014_000000413088.jpg', '/content/thumbnails/COCO_train2014_000000146706.jpg', '/content/thumbnails/COCO_train2014_000000458807.jpg', '/content/thumbnails/COCO_train2014_000000537803.jpg', '/content/thumbnails/COCO_train2014_000000393155.jpg', '/content/thumbnails/COCO_train2014_000000544215.jpg', '/content/thumbnails/COCO_train2014_000000010327.jpg', '/content/thumbnails/COCO_train2014_000000397479.jpg', '/content/thumbnails/COCO_train2014_000000265622.jpg', '/content/thumbnails/COCO_train2014_000000005005.jpg', '/content/thumbnails/COCO_train2014_000000268682.jpg', '/content/thumbnails/COCO_train2014_000000277918.jpg', '/content/thumbnails/COCO_train2014_000000544692.jpg', '/content/thumbnails/COCO_train2014_000000142996.jpg', '/content/thumbnails/COCO_train2014_000000083430.jpg', '/content/thumbnails/COCO_train2014_000000274731.jpg', '/content/thumbnails/COCO_train2014_000000531944.jpg', '/content/thumbnails/COCO_train2014_000000413472.jpg', '/content/thumbnails/COCO_train2014_000000020512.jpg', '/content/thumbnails/COCO_train2014_000000149180.jpg', '/content/thumbnails/COCO_train2014_000000006026.jpg', '/content/thumbnails/COCO_train2014_000000282428.jpg', '/content/thumbnails/COCO_train2014_000000273677.jpg', '/content/thumbnails/COCO_train2014_000000414828.jpg', '/content/thumbnails/COCO_train2014_000000012930.jpg', '/content/thumbnails/COCO_train2014_000000528931.jpg', '/content/thumbnails/COCO_train2014_000000529529.jpg', '/content/thumbnails/COCO_train2014_000000200003.jpg', '/content/thumbnails/COCO_train2014_000000410256.jpg', '/content/thumbnails/COCO_train2014_000000395396.jpg', '/content/thumbnails/COCO_train2014_000000005021.jpg', '/content/thumbnails/COCO_train2014_000000526680.jpg', '/content/thumbnails/COCO_train2014_000000131534.jpg', '/content/thumbnails/COCO_train2014_000000535856.jpg', '/content/thumbnails/COCO_train2014_000000532916.jpg', '/content/thumbnails/COCO_train2014_000000193287.jpg', '/content/thumbnails/COCO_train2014_000000533601.jpg', '/content/thumbnails/COCO_train2014_000000013800.jpg', '/content/thumbnails/COCO_train2014_000000136701.jpg', '/content/thumbnails/COCO_train2014_000000148004.jpg', '/content/thumbnails/COCO_train2014_000000010179.jpg', '/content/thumbnails/COCO_train2014_000000265292.jpg', '/content/thumbnails/COCO_train2014_000000418042.jpg', '/content/thumbnails/COCO_train2014_000000411408.jpg', '/content/thumbnails/COCO_train2014_000000220124.jpg', '/content/thumbnails/COCO_train2014_000000279530.jpg', '/content/thumbnails/COCO_train2014_000000401551.jpg', '/content/thumbnails/COCO_train2014_000000155749.jpg', '/content/thumbnails/COCO_train2014_000000003911.jpg', '/content/thumbnails/COCO_train2014_000000268260.jpg', '/content/thumbnails/COCO_train2014_000000352523.jpg', '/content/thumbnails/COCO_train2014_000000571554.jpg', '/content/thumbnails/COCO_train2014_000000148938.jpg', '/content/thumbnails/COCO_train2014_000000402655.jpg', '/content/thumbnails/COCO_train2014_000000141346.jpg', '/content/thumbnails/COCO_train2014_000000417693.jpg', '/content/thumbnails/COCO_train2014_000000528996.jpg', '/content/thumbnails/COCO_train2014_000000280622.jpg', '/content/thumbnails/COCO_train2014_000000149871.jpg', '/content/thumbnails/COCO_train2014_000000007623.jpg', '/content/thumbnails/COCO_train2014_000000285639.jpg', '/content/thumbnails/COCO_train2014_000000148644.jpg', '/content/thumbnails/COCO_train2014_000000404283.jpg', '/content/thumbnails/COCO_train2014_000000401416.jpg', '/content/thumbnails/COCO_train2014_000000537335.jpg', '/content/thumbnails/COCO_train2014_000000276539.jpg', '/content/thumbnails/COCO_train2014_000000137134.jpg', '/content/thumbnails/COCO_train2014_000000008564.jpg', '/content/thumbnails/COCO_train2014_000000398177.jpg', '/content/thumbnails/COCO_train2014_000000139595.jpg', '/content/thumbnails/COCO_train2014_000000018375.jpg', '/content/thumbnails/COCO_train2014_000000005326.jpg', '/content/thumbnails/COCO_train2014_000000414961.jpg', '/content/thumbnails/COCO_train2014_000000151054.jpg', '/content/thumbnails/COCO_train2014_000000149338.jpg', '/content/thumbnails/COCO_train2014_000000459794.jpg', '/content/thumbnails/COCO_train2014_000000536649.jpg', '/content/thumbnails/COCO_train2014_000000020436.jpg', '/content/thumbnails/COCO_train2014_000000147772.jpg', '/content/thumbnails/COCO_train2014_000000016101.jpg', '/content/thumbnails/COCO_train2014_000000199332.jpg', '/content/thumbnails/COCO_train2014_000000005359.jpg', '/content/thumbnails/COCO_train2014_000000010478.jpg', '/content/thumbnails/COCO_train2014_000000249141.jpg', '/content/thumbnails/COCO_train2014_000000412491.jpg', '/content/thumbnails/COCO_train2014_000000099548.jpg', '/content/thumbnails/COCO_train2014_000000401551.jpg', '/content/thumbnails/COCO_train2014_000000542587.jpg', '/content/thumbnails/COCO_train2014_000000024507.jpg', '/content/thumbnails/COCO_train2014_000000134008.jpg', '/content/thumbnails/COCO_train2014_000000268403.jpg', '/content/thumbnails/COCO_train2014_000000019542.jpg', '/content/thumbnails/COCO_train2014_000000398130.jpg', '/content/thumbnails/COCO_train2014_000000019146.jpg', '/content/thumbnails/COCO_train2014_000000404468.jpg', '/content/thumbnails/COCO_train2014_000000534286.jpg', '/content/thumbnails/COCO_train2014_000000024657.jpg', '/content/thumbnails/COCO_train2014_000000275276.jpg', '/content/thumbnails/COCO_train2014_000000406514.jpg', '/content/thumbnails/COCO_train2014_000000567973.jpg', '/content/thumbnails/COCO_train2014_000000539734.jpg', '/content/thumbnails/COCO_train2014_000000266939.jpg', '/content/thumbnails/COCO_train2014_000000530912.jpg', '/content/thumbnails/COCO_train2014_000000277284.jpg', '/content/thumbnails/COCO_train2014_000000329878.jpg', '/content/thumbnails/COCO_train2014_000000538422.jpg', '/content/thumbnails/COCO_train2014_000000005219.jpg', '/content/thumbnails/COCO_train2014_000000404204.jpg', '/content/thumbnails/COCO_train2014_000000529389.jpg', '/content/thumbnails/COCO_train2014_000000143756.jpg', '/content/thumbnails/COCO_train2014_000000535174.jpg', '/content/thumbnails/COCO_train2014_000000056961.jpg', '/content/thumbnails/COCO_train2014_000000013675.jpg', '/content/thumbnails/COCO_train2014_000000530406.jpg', '/content/thumbnails/COCO_train2014_000000540347.jpg', '/content/thumbnails/COCO_train2014_000000281160.jpg', '/content/thumbnails/COCO_train2014_000000268212.jpg', '/content/thumbnails/COCO_train2014_000000277141.jpg', '/content/thumbnails/COCO_train2014_000000564848.jpg', '/content/thumbnails/COCO_train2014_000000411740.jpg', '/content/thumbnails/COCO_train2014_000000538422.jpg', '/content/thumbnails/COCO_train2014_000000481627.jpg', '/content/thumbnails/COCO_train2014_000000278715.jpg', '/content/thumbnails/COCO_train2014_000000539848.jpg', '/content/thumbnails/COCO_train2014_000000012983.jpg', '/content/thumbnails/COCO_train2014_000000005142.jpg', '/content/thumbnails/COCO_train2014_000000269232.jpg', '/content/thumbnails/COCO_train2014_000000067320.jpg', '/content/thumbnails/COCO_train2014_000000542751.jpg', '/content/thumbnails/COCO_train2014_000000023315.jpg', '/content/thumbnails/COCO_train2014_000000546140.jpg', '/content/thumbnails/COCO_train2014_000000467311.jpg', '/content/thumbnails/COCO_train2014_000000275532.jpg', '/content/thumbnails/COCO_train2014_000000278097.jpg', '/content/thumbnails/COCO_train2014_000000570409.jpg', '/content/thumbnails/COCO_train2014_000000281488.jpg', '/content/thumbnails/COCO_train2014_000000133275.jpg', '/content/thumbnails/COCO_train2014_000000413804.jpg', '/content/thumbnails/COCO_train2014_000000137564.jpg', '/content/thumbnails/COCO_train2014_000000432448.jpg', '/content/thumbnails/COCO_train2014_000000005086.jpg', '/content/thumbnails/COCO_train2014_000000505028.jpg', '/content/thumbnails/COCO_train2014_000000281160.jpg', '/content/thumbnails/COCO_train2014_000000145699.jpg', '/content/thumbnails/COCO_train2014_000000534286.jpg', '/content/thumbnails/COCO_train2014_000000272335.jpg', '/content/thumbnails/COCO_train2014_000000268682.jpg', '/content/thumbnails/COCO_train2014_000000150435.jpg', '/content/thumbnails/COCO_train2014_000000068662.jpg', '/content/thumbnails/COCO_train2014_000000276870.jpg', '/content/thumbnails/COCO_train2014_000000020456.jpg', '/content/thumbnails/COCO_train2014_000000330727.jpg', '/content/thumbnails/COCO_train2014_000000271038.jpg', '/content/thumbnails/COCO_train2014_000000277576.jpg', '/content/thumbnails/COCO_train2014_000000231374.jpg', '/content/thumbnails/COCO_train2014_000000408719.jpg', '/content/thumbnails/COCO_train2014_000000267531.jpg', '/content/thumbnails/COCO_train2014_000000001810.jpg', '/content/thumbnails/COCO_train2014_000000134294.jpg', '/content/thumbnails/COCO_train2014_000000022087.jpg', '/content/thumbnails/COCO_train2014_000000111447.jpg', '/content/thumbnails/COCO_train2014_000000026625.jpg', '/content/thumbnails/COCO_train2014_000000541856.jpg', '/content/thumbnails/COCO_train2014_000000542312.jpg', '/content/thumbnails/COCO_train2014_000000144353.jpg', '/content/thumbnails/COCO_train2014_000000019725.jpg', '/content/thumbnails/COCO_train2014_000000280622.jpg', '/content/thumbnails/COCO_train2014_000000283451.jpg', '/content/thumbnails/COCO_train2014_000000559073.jpg', '/content/thumbnails/COCO_train2014_000000541491.jpg', '/content/thumbnails/COCO_train2014_000000150942.jpg', '/content/thumbnails/COCO_train2014_000000177809.jpg', '/content/thumbnails/COCO_train2014_000000134650.jpg', '/content/thumbnails/COCO_train2014_000000019719.jpg', '/content/thumbnails/COCO_train2014_000000541705.jpg', '/content/thumbnails/COCO_train2014_000000544107.jpg', '/content/thumbnails/COCO_train2014_000000146563.jpg', '/content/thumbnails/COCO_train2014_000000139157.jpg', '/content/thumbnails/COCO_train2014_000000138507.jpg', '/content/thumbnails/COCO_train2014_000000313979.jpg', '/content/thumbnails/COCO_train2014_000000529019.jpg', '/content/thumbnails/COCO_train2014_000000004761.jpg', '/content/thumbnails/COCO_train2014_000000535786.jpg', '/content/thumbnails/COCO_train2014_000000221187.jpg', '/content/thumbnails/COCO_train2014_000000019964.jpg', '/content/thumbnails/COCO_train2014_000000118379.jpg', '/content/thumbnails/COCO_train2014_000000010248.jpg', '/content/thumbnails/COCO_train2014_000000270605.jpg', '/content/thumbnails/COCO_train2014_000000012440.jpg', '/content/thumbnails/COCO_train2014_000000118379.jpg', '/content/thumbnails/COCO_train2014_000000538537.jpg', '/content/thumbnails/COCO_train2014_000000139144.jpg', '/content/thumbnails/COCO_train2014_000000144533.jpg', '/content/thumbnails/COCO_train2014_000000400913.jpg', '/content/thumbnails/COCO_train2014_000000400809.jpg', '/content/thumbnails/COCO_train2014_000000017703.jpg', '/content/thumbnails/COCO_train2014_000000014432.jpg', '/content/thumbnails/COCO_train2014_000000144503.jpg', '/content/thumbnails/COCO_train2014_000000436844.jpg', '/content/thumbnails/COCO_train2014_000000537422.jpg', '/content/thumbnails/COCO_train2014_000000398962.jpg', '/content/thumbnails/COCO_train2014_000000271122.jpg', '/content/thumbnails/COCO_train2014_000000243986.jpg', '/content/thumbnails/COCO_train2014_000000399392.jpg', '/content/thumbnails/COCO_train2014_000000016827.jpg', '/content/thumbnails/COCO_train2014_000000545274.jpg', '/content/thumbnails/COCO_train2014_000000414001.jpg', '/content/thumbnails/COCO_train2014_000000114185.jpg', '/content/thumbnails/COCO_train2014_000000273425.jpg', '/content/thumbnails/COCO_train2014_000000437630.jpg', '/content/thumbnails/COCO_train2014_000000012825.jpg', '/content/thumbnails/COCO_train2014_000000576752.jpg', '/content/thumbnails/COCO_train2014_000000399885.jpg', '/content/thumbnails/COCO_train2014_000000412519.jpg', '/content/thumbnails/COCO_train2014_000000137564.jpg', '/content/thumbnails/COCO_train2014_000000437883.jpg', '/content/thumbnails/COCO_train2014_000000067571.jpg', '/content/thumbnails/COCO_train2014_000000271505.jpg', '/content/thumbnails/COCO_train2014_000000276069.jpg', '/content/thumbnails/COCO_train2014_000000145313.jpg', '/content/thumbnails/COCO_train2014_000000270947.jpg', '/content/thumbnails/COCO_train2014_000000576581.jpg', '/content/thumbnails/COCO_train2014_000000007921.jpg', '/content/thumbnails/COCO_train2014_000000438888.jpg', '/content/thumbnails/COCO_train2014_000000418653.jpg', '/content/thumbnails/COCO_train2014_000000138585.jpg', '/content/thumbnails/COCO_train2014_000000146583.jpg', '/content/thumbnails/COCO_train2014_000000267116.jpg', '/content/thumbnails/COCO_train2014_000000532789.jpg', '/content/thumbnails/COCO_train2014_000000016963.jpg', '/content/thumbnails/COCO_train2014_000000401512.jpg', '/content/thumbnails/COCO_train2014_000000143629.jpg', '/content/thumbnails/COCO_train2014_000000404701.jpg', '/content/thumbnails/COCO_train2014_000000406699.jpg', '/content/thumbnails/COCO_train2014_000000278612.jpg', '/content/thumbnails/COCO_train2014_000000540146.jpg', '/content/thumbnails/COCO_train2014_000000006146.jpg', '/content/thumbnails/COCO_train2014_000000138116.jpg', '/content/thumbnails/COCO_train2014_000000023914.jpg', '/content/thumbnails/COCO_train2014_000000265051.jpg', '/content/thumbnails/COCO_train2014_000000279530.jpg', '/content/thumbnails/COCO_train2014_000000532748.jpg', '/content/thumbnails/COCO_train2014_000000143331.jpg', '/content/thumbnails/COCO_train2014_000000278528.jpg', '/content/thumbnails/COCO_train2014_000000384395.jpg', '/content/thumbnails/COCO_train2014_000000275760.jpg', '/content/thumbnails/COCO_train2014_000000018751.jpg', '/content/thumbnails/COCO_train2014_000000413248.jpg', '/content/thumbnails/COCO_train2014_000000011737.jpg', '/content/thumbnails/COCO_train2014_000000530286.jpg', '/content/thumbnails/COCO_train2014_000000438448.jpg', '/content/thumbnails/COCO_train2014_000000548732.jpg', '/content/thumbnails/COCO_train2014_000000011029.jpg', '/content/thumbnails/COCO_train2014_000000410356.jpg', '/content/thumbnails/COCO_train2014_000000005237.jpg', '/content/thumbnails/COCO_train2014_000000529376.jpg', '/content/thumbnails/COCO_train2014_000000268014.jpg', '/content/thumbnails/COCO_train2014_000000111148.jpg', '/content/thumbnails/COCO_train2014_000000274213.jpg', '/content/thumbnails/COCO_train2014_000000150435.jpg', '/content/thumbnails/COCO_train2014_000000267794.jpg', '/content/thumbnails/COCO_train2014_000000544826.jpg', '/content/thumbnails/COCO_train2014_000000046891.jpg', '/content/thumbnails/COCO_train2014_000000531658.jpg', '/content/thumbnails/COCO_train2014_000000349846.jpg', '/content/thumbnails/COCO_train2014_000000419599.jpg', '/content/thumbnails/COCO_train2014_000000021698.jpg', '/content/thumbnails/COCO_train2014_000000270407.jpg', '/content/thumbnails/COCO_train2014_000000536949.jpg', '/content/thumbnails/COCO_train2014_000000267780.jpg', '/content/thumbnails/COCO_train2014_000000151577.jpg', '/content/thumbnails/COCO_train2014_000000399288.jpg', '/content/thumbnails/COCO_train2014_000000336457.jpg', '/content/thumbnails/COCO_train2014_000000136970.jpg', '/content/thumbnails/COCO_train2014_000000407102.jpg', '/content/thumbnails/COCO_train2014_000000147170.jpg', '/content/thumbnails/COCO_train2014_000000068030.jpg', '/content/thumbnails/COCO_train2014_000000020137.jpg', '/content/thumbnails/COCO_train2014_000000393989.jpg', '/content/thumbnails/COCO_train2014_000000149253.jpg', '/content/thumbnails/COCO_train2014_000000403454.jpg', '/content/thumbnails/COCO_train2014_000000528230.jpg', '/content/thumbnails/COCO_train2014_000000284783.jpg', '/content/thumbnails/COCO_train2014_000000535019.jpg', '/content/thumbnails/COCO_train2014_000000221241.jpg', '/content/thumbnails/COCO_train2014_000000407131.jpg', '/content/thumbnails/COCO_train2014_000000270315.jpg', '/content/thumbnails/COCO_train2014_000000398702.jpg', '/content/thumbnails/COCO_train2014_000000539819.jpg', '/content/thumbnails/COCO_train2014_000000274516.jpg', '/content/thumbnails/COCO_train2014_000000143499.jpg', '/content/thumbnails/COCO_train2014_000000280926.jpg', '/content/thumbnails/COCO_train2014_000000273904.jpg', '/content/thumbnails/COCO_train2014_000000402040.jpg', '/content/thumbnails/COCO_train2014_000000409199.jpg', '/content/thumbnails/COCO_train2014_000000242167.jpg', '/content/thumbnails/COCO_train2014_000000279322.jpg', '/content/thumbnails/COCO_train2014_000000543814.jpg', '/content/thumbnails/COCO_train2014_000000414463.jpg', '/content/thumbnails/COCO_train2014_000000413289.jpg', '/content/thumbnails/COCO_train2014_000000267699.jpg', '/content/thumbnails/COCO_train2014_000000534974.jpg', '/content/thumbnails/COCO_train2014_000000018792.jpg', '/content/thumbnails/COCO_train2014_000000280866.jpg', '/content/thumbnails/COCO_train2014_000000014385.jpg', '/content/thumbnails/COCO_train2014_000000012015.jpg', '/content/thumbnails/COCO_train2014_000000528151.jpg', '/content/thumbnails/COCO_train2014_000000537475.jpg', '/content/thumbnails/COCO_train2014_000000046372.jpg', '/content/thumbnails/COCO_train2014_000000137109.jpg', '/content/thumbnails/COCO_train2014_000000178440.jpg', '/content/thumbnails/COCO_train2014_000000280119.jpg', '/content/thumbnails/COCO_train2014_000000012424.jpg', '/content/thumbnails/COCO_train2014_000000403306.jpg', '/content/thumbnails/COCO_train2014_000000145623.jpg', '/content/thumbnails/COCO_train2014_000000399227.jpg', '/content/thumbnails/COCO_train2014_000000148931.jpg', '/content/thumbnails/COCO_train2014_000000153262.jpg', '/content/thumbnails/COCO_train2014_000000122584.jpg', '/content/thumbnails/COCO_train2014_000000144196.jpg', '/content/thumbnails/COCO_train2014_000000401842.jpg', '/content/thumbnails/COCO_train2014_000000484227.jpg', '/content/thumbnails/COCO_train2014_000000118173.jpg', '/content/thumbnails/COCO_train2014_000000271580.jpg', '/content/thumbnails/COCO_train2014_000000400606.jpg', '/content/thumbnails/COCO_train2014_000000016243.jpg', '/content/thumbnails/COCO_train2014_000000276711.jpg', '/content/thumbnails/COCO_train2014_000000015496.jpg', '/content/thumbnails/COCO_train2014_000000274376.jpg', '/content/thumbnails/COCO_train2014_000000010489.jpg', '/content/thumbnails/COCO_train2014_000000358265.jpg', '/content/thumbnails/COCO_train2014_000000538857.jpg', '/content/thumbnails/COCO_train2014_000000529095.jpg', '/content/thumbnails/COCO_train2014_000000142352.jpg', '/content/thumbnails/COCO_train2014_000000274585.jpg', '/content/thumbnails/COCO_train2014_000000014475.jpg', '/content/thumbnails/COCO_train2014_000000481829.jpg', '/content/thumbnails/COCO_train2014_000000460005.jpg', '/content/thumbnails/COCO_train2014_000000407369.jpg', '/content/thumbnails/COCO_train2014_000000242029.jpg', '/content/thumbnails/COCO_train2014_000000397173.jpg', '/content/thumbnails/COCO_train2014_000000274514.jpg', '/content/thumbnails/COCO_train2014_000000144444.jpg', '/content/thumbnails/COCO_train2014_000000533006.jpg', '/content/thumbnails/COCO_train2014_000000398925.jpg', '/content/thumbnails/COCO_train2014_000000007174.jpg', '/content/thumbnails/COCO_train2014_000000017352.jpg', '/content/thumbnails/COCO_train2014_000000407301.jpg', '/content/thumbnails/COCO_train2014_000000183980.jpg', '/content/thumbnails/COCO_train2014_000000283171.jpg', '/content/thumbnails/COCO_train2014_000000534001.jpg', '/content/thumbnails/COCO_train2014_000000309260.jpg', '/content/thumbnails/COCO_train2014_000000415174.jpg', '/content/thumbnails/COCO_train2014_000000281194.jpg', '/content/thumbnails/COCO_train2014_000000401512.jpg', '/content/thumbnails/COCO_train2014_000000535464.jpg', '/content/thumbnails/COCO_train2014_000000144388.jpg', '/content/thumbnails/COCO_train2014_000000460055.jpg', '/content/thumbnails/COCO_train2014_000000205334.jpg', '/content/thumbnails/COCO_train2014_000000005785.jpg', '/content/thumbnails/COCO_train2014_000000136310.jpg', '/content/thumbnails/COCO_train2014_000000404673.jpg', '/content/thumbnails/COCO_train2014_000000548322.jpg', '/content/thumbnails/COCO_train2014_000000018584.jpg', '/content/thumbnails/COCO_train2014_000000008536.jpg', '/content/thumbnails/COCO_train2014_000000241126.jpg', '/content/thumbnails/COCO_train2014_000000272026.jpg', '/content/thumbnails/COCO_train2014_000000440032.jpg', '/content/thumbnails/COCO_train2014_000000012283.jpg', '/content/thumbnails/COCO_train2014_000000024507.jpg', '/content/thumbnails/COCO_train2014_000000544614.jpg', '/content/thumbnails/COCO_train2014_000000537422.jpg', '/content/thumbnails/COCO_train2014_000000544884.jpg', '/content/thumbnails/COCO_train2014_000000147635.jpg', '/content/thumbnails/COCO_train2014_000000146722.jpg', '/content/thumbnails/COCO_train2014_000000265622.jpg', '/content/thumbnails/COCO_train2014_000000544595.jpg', '/content/thumbnails/COCO_train2014_000000010654.jpg', '/content/thumbnails/COCO_train2014_000000372727.jpg', '/content/thumbnails/COCO_train2014_000000283867.jpg', '/content/thumbnails/COCO_train2014_000000529353.jpg', '/content/thumbnails/COCO_train2014_000000571779.jpg', '/content/thumbnails/COCO_train2014_000000275917.jpg', '/content/thumbnails/COCO_train2014_000000135822.jpg', '/content/thumbnails/COCO_train2014_000000409754.jpg', '/content/thumbnails/COCO_train2014_000000267290.jpg', '/content/thumbnails/COCO_train2014_000000023163.jpg', '/content/thumbnails/COCO_train2014_000000512961.jpg', '/content/thumbnails/COCO_train2014_000000530287.jpg', '/content/thumbnails/COCO_train2014_000000014969.jpg', '/content/thumbnails/COCO_train2014_000000277085.jpg', '/content/thumbnails/COCO_train2014_000000177255.jpg', '/content/thumbnails/COCO_train2014_000000275608.jpg', '/content/thumbnails/COCO_train2014_000000012460.jpg', '/content/thumbnails/COCO_train2014_000000018994.jpg', '/content/thumbnails/COCO_train2014_000000351972.jpg', '/content/thumbnails/COCO_train2014_000000019060.jpg', '/content/thumbnails/COCO_train2014_000000267863.jpg', '/content/thumbnails/COCO_train2014_000000549490.jpg', '/content/thumbnails/COCO_train2014_000000533619.jpg', '/content/thumbnails/COCO_train2014_000000403374.jpg', '/content/thumbnails/COCO_train2014_000000400204.jpg', '/content/thumbnails/COCO_train2014_000000460078.jpg', '/content/thumbnails/COCO_train2014_000000267048.jpg', '/content/thumbnails/COCO_train2014_000000006146.jpg', '/content/thumbnails/COCO_train2014_000000135806.jpg', '/content/thumbnails/COCO_train2014_000000406579.jpg', '/content/thumbnails/COCO_train2014_000000400379.jpg', '/content/thumbnails/COCO_train2014_000000022278.jpg', '/content/thumbnails/COCO_train2014_000000278260.jpg', '/content/thumbnails/COCO_train2014_000000577344.jpg', '/content/thumbnails/COCO_train2014_000000271873.jpg', '/content/thumbnails/COCO_train2014_000000461073.jpg', '/content/thumbnails/COCO_train2014_000000404108.jpg', '/content/thumbnails/COCO_train2014_000000001941.jpg', '/content/thumbnails/COCO_train2014_000000149993.jpg', '/content/thumbnails/COCO_train2014_000000270778.jpg', '/content/thumbnails/COCO_train2014_000000140984.jpg', '/content/thumbnails/COCO_train2014_000000286247.jpg', '/content/thumbnails/COCO_train2014_000000127100.jpg', '/content/thumbnails/COCO_train2014_000000015745.jpg', '/content/thumbnails/COCO_train2014_000000004694.jpg', '/content/thumbnails/COCO_train2014_000000140627.jpg', '/content/thumbnails/COCO_train2014_000000147187.jpg', '/content/thumbnails/COCO_train2014_000000413623.jpg', '/content/thumbnails/COCO_train2014_000000407606.jpg', '/content/thumbnails/COCO_train2014_000000395396.jpg', '/content/thumbnails/COCO_train2014_000000139915.jpg', '/content/thumbnails/COCO_train2014_000000151273.jpg', '/content/thumbnails/COCO_train2014_000000137838.jpg', '/content/thumbnails/COCO_train2014_000000066373.jpg', '/content/thumbnails/COCO_train2014_000000543284.jpg', '/content/thumbnails/COCO_train2014_000000528408.jpg', '/content/thumbnails/COCO_train2014_000000054192.jpg', '/content/thumbnails/COCO_train2014_000000013540.jpg', '/content/thumbnails/COCO_train2014_000000413472.jpg', '/content/thumbnails/COCO_train2014_000000135499.jpg', '/content/thumbnails/COCO_train2014_000000004714.jpg', '/content/thumbnails/COCO_train2014_000000012999.jpg', '/content/thumbnails/COCO_train2014_000000398071.jpg', '/content/thumbnails/COCO_train2014_000000399710.jpg', '/content/thumbnails/COCO_train2014_000000067748.jpg', '/content/thumbnails/COCO_train2014_000000005683.jpg', '/content/thumbnails/COCO_train2014_000000545253.jpg', '/content/thumbnails/COCO_train2014_000000005684.jpg', '/content/thumbnails/COCO_train2014_000000275988.jpg', '/content/thumbnails/COCO_train2014_000000241305.jpg', '/content/thumbnails/COCO_train2014_000000461236.jpg', '/content/thumbnails/COCO_train2014_000000274047.jpg', '/content/thumbnails/COCO_train2014_000000165169.jpg', '/content/thumbnails/COCO_train2014_000000177394.jpg', '/content/thumbnails/COCO_train2014_000000244844.jpg', '/content/thumbnails/COCO_train2014_000000437892.jpg', '/content/thumbnails/COCO_train2014_000000266108.jpg', '/content/thumbnails/COCO_train2014_000000413391.jpg', '/content/thumbnails/COCO_train2014_000000282228.jpg', '/content/thumbnails/COCO_train2014_000000009060.jpg', '/content/thumbnails/COCO_train2014_000000007740.jpg', '/content/thumbnails/COCO_train2014_000000309404.jpg', '/content/thumbnails/COCO_train2014_000000268793.jpg', '/content/thumbnails/COCO_train2014_000000266556.jpg', '/content/thumbnails/COCO_train2014_000000542343.jpg', '/content/thumbnails/COCO_train2014_000000013352.jpg', '/content/thumbnails/COCO_train2014_000000278060.jpg', '/content/thumbnails/COCO_train2014_000000144449.jpg', '/content/thumbnails/COCO_train2014_000000548979.jpg', '/content/thumbnails/COCO_train2014_000000283240.jpg', '/content/thumbnails/COCO_train2014_000000407814.jpg', '/content/thumbnails/COCO_train2014_000000152003.jpg', '/content/thumbnails/COCO_train2014_000000541027.jpg', '/content/thumbnails/COCO_train2014_000000269245.jpg', '/content/thumbnails/COCO_train2014_000000413996.jpg', '/content/thumbnails/COCO_train2014_000000141862.jpg', '/content/thumbnails/COCO_train2014_000000543754.jpg', '/content/thumbnails/COCO_train2014_000000461236.jpg', '/content/thumbnails/COCO_train2014_000000143992.jpg', '/content/thumbnails/COCO_train2014_000000400560.jpg', '/content/thumbnails/COCO_train2014_000000279025.jpg', '/content/thumbnails/COCO_train2014_000000273204.jpg', '/content/thumbnails/COCO_train2014_000000008093.jpg', '/content/thumbnails/COCO_train2014_000000008553.jpg', '/content/thumbnails/COCO_train2014_000000150435.jpg', '/content/thumbnails/COCO_train2014_000000352523.jpg', '/content/thumbnails/COCO_train2014_000000418034.jpg', '/content/thumbnails/COCO_train2014_000000141348.jpg', '/content/thumbnails/COCO_train2014_000000017183.jpg', '/content/thumbnails/COCO_train2014_000000008999.jpg', '/content/thumbnails/COCO_train2014_000000011968.jpg', '/content/thumbnails/COCO_train2014_000000015792.jpg', '/content/thumbnails/COCO_train2014_000000540378.jpg', '/content/thumbnails/COCO_train2014_000000397974.jpg', '/content/thumbnails/COCO_train2014_000000559073.jpg', '/content/thumbnails/COCO_train2014_000000145736.jpg', '/content/thumbnails/COCO_train2014_000000534000.jpg', '/content/thumbnails/COCO_train2014_000000399191.jpg', '/content/thumbnails/COCO_train2014_000000397462.jpg', '/content/thumbnails/COCO_train2014_000000090676.jpg', '/content/thumbnails/COCO_train2014_000000144224.jpg', '/content/thumbnails/COCO_train2014_000000308575.jpg', '/content/thumbnails/COCO_train2014_000000012156.jpg', '/content/thumbnails/COCO_train2014_000000282706.jpg', '/content/thumbnails/COCO_train2014_000000024351.jpg', '/content/thumbnails/COCO_train2014_000000015269.jpg', '/content/thumbnails/COCO_train2014_000000505469.jpg', '/content/thumbnails/COCO_train2014_000000532744.jpg', '/content/thumbnails/COCO_train2014_000000546515.jpg', '/content/thumbnails/COCO_train2014_000000270071.jpg', '/content/thumbnails/COCO_train2014_000000530038.jpg', '/content/thumbnails/COCO_train2014_000000408177.jpg', '/content/thumbnails/COCO_train2014_000000144079.jpg', '/content/thumbnails/COCO_train2014_000000274213.jpg', '/content/thumbnails/COCO_train2014_000000533638.jpg', '/content/thumbnails/COCO_train2014_000000007040.jpg', '/content/thumbnails/COCO_train2014_000000538931.jpg', '/content/thumbnails/COCO_train2014_000000007740.jpg', '/content/thumbnails/COCO_train2014_000000030401.jpg', '/content/thumbnails/COCO_train2014_000000140155.jpg', '/content/thumbnails/COCO_train2014_000000277918.jpg', '/content/thumbnails/COCO_train2014_000000016063.jpg', '/content/thumbnails/COCO_train2014_000000399488.jpg', '/content/thumbnails/COCO_train2014_000000271488.jpg', '/content/thumbnails/COCO_train2014_000000017450.jpg', '/content/thumbnails/COCO_train2014_000000393333.jpg', '/content/thumbnails/COCO_train2014_000000533228.jpg', '/content/thumbnails/COCO_train2014_000000267454.jpg', '/content/thumbnails/COCO_train2014_000000279025.jpg', '/content/thumbnails/COCO_train2014_000000137278.jpg', '/content/thumbnails/COCO_train2014_000000143256.jpg', '/content/thumbnails/COCO_train2014_000000403666.jpg', '/content/thumbnails/COCO_train2014_000000278907.jpg', '/content/thumbnails/COCO_train2014_000000283999.jpg', '/content/thumbnails/COCO_train2014_000000407566.jpg', '/content/thumbnails/COCO_train2014_000000017305.jpg', '/content/thumbnails/COCO_train2014_000000350413.jpg', '/content/thumbnails/COCO_train2014_000000536317.jpg', '/content/thumbnails/COCO_train2014_000000088176.jpg', '/content/thumbnails/COCO_train2014_000000010414.jpg', '/content/thumbnails/COCO_train2014_000000015190.jpg', '/content/thumbnails/COCO_train2014_000000264539.jpg', '/content/thumbnails/COCO_train2014_000000018751.jpg', '/content/thumbnails/COCO_train2014_000000151414.jpg', '/content/thumbnails/COCO_train2014_000000279584.jpg', '/content/thumbnails/COCO_train2014_000000532819.jpg', '/content/thumbnails/COCO_train2014_000000531277.jpg', '/content/thumbnails/COCO_train2014_000000140053.jpg', '/content/thumbnails/COCO_train2014_000000150773.jpg', '/content/thumbnails/COCO_train2014_000000429892.jpg', '/content/thumbnails/COCO_train2014_000000132307.jpg', '/content/thumbnails/COCO_train2014_000000134924.jpg', '/content/thumbnails/COCO_train2014_000000407372.jpg', '/content/thumbnails/COCO_train2014_000000539830.jpg', '/content/thumbnails/COCO_train2014_000000399165.jpg', '/content/thumbnails/COCO_train2014_000000148871.jpg', '/content/thumbnails/COCO_train2014_000000279457.jpg', '/content/thumbnails/COCO_train2014_000000330907.jpg', '/content/thumbnails/COCO_train2014_000000530701.jpg', '/content/thumbnails/COCO_train2014_000000268260.jpg', '/content/thumbnails/COCO_train2014_000000533800.jpg', '/content/thumbnails/COCO_train2014_000000135772.jpg', '/content/thumbnails/COCO_train2014_000000004173.jpg', '/content/thumbnails/COCO_train2014_000000147846.jpg', '/content/thumbnails/COCO_train2014_000000537479.jpg', '/content/thumbnails/COCO_train2014_000000019374.jpg', '/content/thumbnails/COCO_train2014_000000410498.jpg', '/content/thumbnails/COCO_train2014_000000146030.jpg', '/content/thumbnails/COCO_train2014_000000025352.jpg', '/content/thumbnails/COCO_train2014_000000014252.jpg', '/content/thumbnails/COCO_train2014_000000148479.jpg', '/content/thumbnails/COCO_train2014_000000279588.jpg', '/content/thumbnails/COCO_train2014_000000272365.jpg', '/content/thumbnails/COCO_train2014_000000148541.jpg', '/content/thumbnails/COCO_train2014_000000373613.jpg', '/content/thumbnails/COCO_train2014_000000413868.jpg', '/content/thumbnails/COCO_train2014_000000285093.jpg', '/content/thumbnails/COCO_train2014_000000540347.jpg', '/content/thumbnails/COCO_train2014_000000270688.jpg', '/content/thumbnails/COCO_train2014_000000529203.jpg', '/content/thumbnails/COCO_train2014_000000531828.jpg', '/content/thumbnails/COCO_train2014_000000134294.jpg', '/content/thumbnails/COCO_train2014_000000440611.jpg', '/content/thumbnails/COCO_train2014_000000153716.jpg', '/content/thumbnails/COCO_train2014_000000141931.jpg', '/content/thumbnails/COCO_train2014_000000482563.jpg', '/content/thumbnails/COCO_train2014_000000272758.jpg', '/content/thumbnails/COCO_train2014_000000402776.jpg', '/content/thumbnails/COCO_train2014_000000021780.jpg', '/content/thumbnails/COCO_train2014_000000013000.jpg', '/content/thumbnails/COCO_train2014_000000407806.jpg', '/content/thumbnails/COCO_train2014_000000013106.jpg', '/content/thumbnails/COCO_train2014_000000406699.jpg', '/content/thumbnails/COCO_train2014_000000281700.jpg', '/content/thumbnails/COCO_train2014_000000393241.jpg', '/content/thumbnails/COCO_train2014_000000143110.jpg', '/content/thumbnails/COCO_train2014_000000531171.jpg', '/content/thumbnails/COCO_train2014_000000006146.jpg', '/content/thumbnails/COCO_train2014_000000013188.jpg', '/content/thumbnails/COCO_train2014_000000005142.jpg', '/content/thumbnails/COCO_train2014_000000242113.jpg', '/content/thumbnails/COCO_train2014_000000005005.jpg', '/content/thumbnails/COCO_train2014_000000136461.jpg', '/content/thumbnails/COCO_train2014_000000548702.jpg', '/content/thumbnails/COCO_train2014_000000275412.jpg', '/content/thumbnails/COCO_train2014_000000538615.jpg', '/content/thumbnails/COCO_train2014_000000405061.jpg', '/content/thumbnails/COCO_train2014_000000404585.jpg', '/content/thumbnails/COCO_train2014_000000268231.jpg', '/content/thumbnails/COCO_train2014_000000276575.jpg', '/content/thumbnails/COCO_train2014_000000269245.jpg', '/content/thumbnails/COCO_train2014_000000137886.jpg', '/content/thumbnails/COCO_train2014_000000308892.jpg', '/content/thumbnails/COCO_train2014_000000400286.jpg', '/content/thumbnails/COCO_train2014_000000308905.jpg', '/content/thumbnails/COCO_train2014_000000378872.jpg', '/content/thumbnails/COCO_train2014_000000003911.jpg', '/content/thumbnails/COCO_train2014_000000274130.jpg', '/content/thumbnails/COCO_train2014_000000015089.jpg', '/content/thumbnails/COCO_train2014_000000402213.jpg', '/content/thumbnails/COCO_train2014_000000541999.jpg', '/content/thumbnails/COCO_train2014_000000538916.jpg', '/content/thumbnails/COCO_train2014_000000527228.jpg', '/content/thumbnails/COCO_train2014_000000539819.jpg', '/content/thumbnails/COCO_train2014_000000091696.jpg', '/content/thumbnails/COCO_train2014_000000074477.jpg', '/content/thumbnails/COCO_train2014_000000405283.jpg', '/content/thumbnails/COCO_train2014_000000009960.jpg', '/content/thumbnails/COCO_train2014_000000141348.jpg', '/content/thumbnails/COCO_train2014_000000571934.jpg', '/content/thumbnails/COCO_train2014_000000149157.jpg', '/content/thumbnails/COCO_train2014_000000012103.jpg', '/content/thumbnails/COCO_train2014_000000138536.jpg', '/content/thumbnails/COCO_train2014_000000397292.jpg', '/content/thumbnails/COCO_train2014_000000278238.jpg', '/content/thumbnails/COCO_train2014_000000580741.jpg', '/content/thumbnails/COCO_train2014_000000461073.jpg', '/content/thumbnails/COCO_train2014_000000411015.jpg', '/content/thumbnails/COCO_train2014_000000048559.jpg', '/content/thumbnails/COCO_train2014_000000148004.jpg', '/content/thumbnails/COCO_train2014_000000142123.jpg', '/content/thumbnails/COCO_train2014_000000169003.jpg', '/content/thumbnails/COCO_train2014_000000009935.jpg', '/content/thumbnails/COCO_train2014_000000281779.jpg', '/content/thumbnails/COCO_train2014_000000308758.jpg', '/content/thumbnails/COCO_train2014_000000267950.jpg', '/content/thumbnails/COCO_train2014_000000405057.jpg', '/content/thumbnails/COCO_train2014_000000065685.jpg', '/content/thumbnails/COCO_train2014_000000524317.jpg', '/content/thumbnails/COCO_train2014_000000439386.jpg', '/content/thumbnails/COCO_train2014_000000414027.jpg', '/content/thumbnails/COCO_train2014_000000144817.jpg', '/content/thumbnails/COCO_train2014_000000140776.jpg', '/content/thumbnails/COCO_train2014_000000283018.jpg', '/content/thumbnails/COCO_train2014_000000145845.jpg', '/content/thumbnails/COCO_train2014_000000012213.jpg', '/content/thumbnails/COCO_train2014_000000438306.jpg', '/content/thumbnails/COCO_train2014_000000461211.jpg', '/content/thumbnails/COCO_train2014_000000273516.jpg', '/content/thumbnails/COCO_train2014_000000280206.jpg', '/content/thumbnails/COCO_train2014_000000018316.jpg', '/content/thumbnails/COCO_train2014_000000274514.jpg', '/content/thumbnails/COCO_train2014_000000135475.jpg', '/content/thumbnails/COCO_train2014_000000282889.jpg', '/content/thumbnails/COCO_train2014_000000017481.jpg', '/content/thumbnails/COCO_train2014_000000374666.jpg', '/content/thumbnails/COCO_train2014_000000410687.jpg', '/content/thumbnails/COCO_train2014_000000375654.jpg', '/content/thumbnails/COCO_train2014_000000010818.jpg', '/content/thumbnails/COCO_train2014_000000268993.jpg', '/content/thumbnails/COCO_train2014_000000264539.jpg', '/content/thumbnails/COCO_train2014_000000404537.jpg', '/content/thumbnails/COCO_train2014_000000533551.jpg', '/content/thumbnails/COCO_train2014_000000268845.jpg', '/content/thumbnails/COCO_train2014_000000179454.jpg', '/content/thumbnails/COCO_train2014_000000145845.jpg', '/content/thumbnails/COCO_train2014_000000011282.jpg', '/content/thumbnails/COCO_train2014_000000537986.jpg', '/content/thumbnails/COCO_train2014_000000531396.jpg', '/content/thumbnails/COCO_train2014_000000418354.jpg', '/content/thumbnails/COCO_train2014_000000004239.jpg', '/content/thumbnails/COCO_train2014_000000279182.jpg', '/content/thumbnails/COCO_train2014_000000012756.jpg', '/content/thumbnails/COCO_train2014_000000024181.jpg', '/content/thumbnails/COCO_train2014_000000148773.jpg', '/content/thumbnails/COCO_train2014_000000402794.jpg', '/content/thumbnails/COCO_train2014_000000011576.jpg', '/content/thumbnails/COCO_train2014_000000152434.jpg', '/content/thumbnails/COCO_train2014_000000275832.jpg', '/content/thumbnails/COCO_train2014_000000533316.jpg', '/content/thumbnails/COCO_train2014_000000004322.jpg', '/content/thumbnails/COCO_train2014_000000045701.jpg', '/content/thumbnails/COCO_train2014_000000147926.jpg', '/content/thumbnails/COCO_train2014_000000270836.jpg', '/content/thumbnails/COCO_train2014_000000537925.jpg', '/content/thumbnails/COCO_train2014_000000005991.jpg', '/content/thumbnails/COCO_train2014_000000266418.jpg', '/content/thumbnails/COCO_train2014_000000406292.jpg', '/content/thumbnails/COCO_train2014_000000372727.jpg', '/content/thumbnails/COCO_train2014_000000406391.jpg', '/content/thumbnails/COCO_train2014_000000534808.jpg', '/content/thumbnails/COCO_train2014_000000150435.jpg', '/content/thumbnails/COCO_train2014_000000401768.jpg', '/content/thumbnails/COCO_train2014_000000016870.jpg', '/content/thumbnails/COCO_train2014_000000137275.jpg', '/content/thumbnails/COCO_train2014_000000406056.jpg', '/content/thumbnails/COCO_train2014_000000533846.jpg', '/content/thumbnails/COCO_train2014_000000398733.jpg', '/content/thumbnails/COCO_train2014_000000135822.jpg', '/content/thumbnails/COCO_train2014_000000025105.jpg', '/content/thumbnails/COCO_train2014_000000014969.jpg', '/content/thumbnails/COCO_train2014_000000416315.jpg', '/content/thumbnails/COCO_train2014_000000403718.jpg', '/content/thumbnails/COCO_train2014_000000274839.jpg', '/content/thumbnails/COCO_train2014_000000398713.jpg', '/content/thumbnails/COCO_train2014_000000483489.jpg']\n",
            "<PrefetchDataset shapes: (<unknown>, <unknown>, <unknown>, <unknown>), types: (tf.float32, tf.int32, tf.float32, tf.string)>\n"
          ],
          "name": "stdout"
        }
      ]
    },
    {
      "cell_type": "markdown",
      "metadata": {
        "colab_type": "text",
        "id": "AA3D5qNfVWSs"
      },
      "source": [
        "### Sanity check (optional)\n",
        "That dataset creation method is complicated. Write a block of code that demonstrates how to use the dataset (e.g., retrieve a batch of activations, questions, answeres, and images paths) and verify they look as expected."
      ]
    },
    {
      "cell_type": "code",
      "metadata": {
        "colab_type": "code",
        "id": "bS0KjlYM7UKV",
        "outputId": "fe3ab5a9-f87b-4172-b65f-f56d2ad5ba48",
        "colab": {
          "base_uri": "https://localhost:8080/",
          "height": 1000
        }
      },
      "source": [
        "# Your code here (optional)\n",
        "# Verify your datasets are working properly\n",
        "\n",
        "# Here is code you can use to quickly retrieve a batch of data\n",
        "\n",
        "# my_iterator = iter(train_ds)\n",
        "# activations_batch, questions_batch, answers_batch, paths_batch = next(my_iterator)\n",
        "\n",
        "# print(activations_batch.shape, \n",
        "#       questions_batch.shape, \n",
        "#       answers_batch.shape, \n",
        "#       paths_batch.shape)\n",
        "\n",
        "# print(activations_batch, \n",
        "#       questions_batch, \n",
        "#       answers_batch, \n",
        "#       paths_batch)\n",
        "\n",
        "\n",
        "my_iterator = iter(train_ds)\n",
        "activations_batch, questions_batch, answers_batch, paths_batch = next(my_iterator)\n",
        "\n",
        "print(activations_batch.shape, \n",
        "      questions_batch.shape, \n",
        "      answers_batch.shape, \n",
        "      paths_batch.shape)\n",
        "\n",
        "print(activations_batch, \n",
        "      questions_batch, \n",
        "      answers_batch, \n",
        "      paths_batch)"
      ],
      "execution_count": 43,
      "outputs": [
        {
          "output_type": "stream",
          "text": [
            "(32, 8, 8, 2048) (32, 10) (32,) (32,)\n",
            "tf.Tensor(\n",
            "[[[[3.10553908e-01 8.48808289e-02 0.00000000e+00 ... 1.13643384e+00\n",
            "    0.00000000e+00 0.00000000e+00]\n",
            "   [4.01812434e-01 1.61091298e-01 7.85101280e-02 ... 1.68627501e+00\n",
            "    0.00000000e+00 0.00000000e+00]\n",
            "   [4.93463576e-01 6.42248869e-01 0.00000000e+00 ... 1.76270807e+00\n",
            "    0.00000000e+00 0.00000000e+00]\n",
            "   ...\n",
            "   [3.22935790e-01 0.00000000e+00 2.36551628e-01 ... 4.23784763e-01\n",
            "    2.49926731e-01 2.26527214e-01]\n",
            "   [0.00000000e+00 0.00000000e+00 0.00000000e+00 ... 0.00000000e+00\n",
            "    2.21400037e-01 1.06036082e-01]\n",
            "   [5.18902957e-01 1.37579286e+00 0.00000000e+00 ... 0.00000000e+00\n",
            "    0.00000000e+00 1.92117617e-01]]\n",
            "\n",
            "  [[3.15455168e-01 0.00000000e+00 2.14872554e-01 ... 1.58837712e+00\n",
            "    0.00000000e+00 0.00000000e+00]\n",
            "   [1.17853332e+00 6.53952122e-01 4.70342517e-01 ... 1.95374727e+00\n",
            "    0.00000000e+00 0.00000000e+00]\n",
            "   [2.56170034e+00 0.00000000e+00 1.49369335e+00 ... 1.73388600e+00\n",
            "    0.00000000e+00 0.00000000e+00]\n",
            "   ...\n",
            "   [5.04931331e-01 4.01405990e-01 9.36874747e-02 ... 9.21859890e-02\n",
            "    2.02436447e-01 4.42938715e-01]\n",
            "   [1.06649864e+00 2.89170947e-02 0.00000000e+00 ... 0.00000000e+00\n",
            "    7.68579096e-02 3.02533925e-01]\n",
            "   [1.04120576e+00 0.00000000e+00 1.24706231e-01 ... 0.00000000e+00\n",
            "    0.00000000e+00 3.28797221e-01]]\n",
            "\n",
            "  [[9.62537169e-01 0.00000000e+00 5.65715611e-01 ... 2.53294969e+00\n",
            "    0.00000000e+00 6.57008648e-01]\n",
            "   [9.99791205e-01 0.00000000e+00 1.52759933e+00 ... 2.63456941e+00\n",
            "    0.00000000e+00 2.93669462e-01]\n",
            "   [1.47240770e+00 0.00000000e+00 1.95517349e+00 ... 2.13247871e+00\n",
            "    0.00000000e+00 0.00000000e+00]\n",
            "   ...\n",
            "   [7.98613250e-01 0.00000000e+00 0.00000000e+00 ... 0.00000000e+00\n",
            "    5.31013012e-01 1.11163414e+00]\n",
            "   [7.81455636e-01 0.00000000e+00 0.00000000e+00 ... 1.00832470e-01\n",
            "    0.00000000e+00 9.77929711e-01]\n",
            "   [1.19451535e+00 0.00000000e+00 3.65855962e-01 ... 1.04565710e-01\n",
            "    0.00000000e+00 1.14586353e+00]]\n",
            "\n",
            "  ...\n",
            "\n",
            "  [[9.53386545e-01 0.00000000e+00 0.00000000e+00 ... 1.33389503e-01\n",
            "    0.00000000e+00 7.31411874e-02]\n",
            "   [0.00000000e+00 0.00000000e+00 3.92096192e-01 ... 0.00000000e+00\n",
            "    0.00000000e+00 3.77179027e-01]\n",
            "   [3.30775172e-01 1.23390019e+00 0.00000000e+00 ... 0.00000000e+00\n",
            "    3.04535747e-01 6.57661557e-01]\n",
            "   ...\n",
            "   [4.95804369e-01 0.00000000e+00 0.00000000e+00 ... 0.00000000e+00\n",
            "    0.00000000e+00 5.31317532e-01]\n",
            "   [1.09633100e+00 5.23216188e-01 0.00000000e+00 ... 0.00000000e+00\n",
            "    3.65738243e-01 2.41234750e-01]\n",
            "   [0.00000000e+00 6.18363500e-01 8.89490783e-01 ... 0.00000000e+00\n",
            "    6.08869255e-01 2.80851334e-01]]\n",
            "\n",
            "  [[3.44668180e-01 0.00000000e+00 0.00000000e+00 ... 0.00000000e+00\n",
            "    9.32045504e-02 0.00000000e+00]\n",
            "   [8.64478528e-01 2.69122213e-01 5.91012761e-02 ... 0.00000000e+00\n",
            "    4.10023928e-01 0.00000000e+00]\n",
            "   [9.11107302e-01 1.78488243e+00 0.00000000e+00 ... 0.00000000e+00\n",
            "    4.22369003e-01 8.16261470e-01]\n",
            "   ...\n",
            "   [0.00000000e+00 6.82590663e-01 0.00000000e+00 ... 0.00000000e+00\n",
            "    3.16831738e-01 2.69699872e-01]\n",
            "   [0.00000000e+00 7.00037777e-01 0.00000000e+00 ... 0.00000000e+00\n",
            "    7.73415148e-01 0.00000000e+00]\n",
            "   [2.37032473e-02 1.73499501e+00 2.58834004e-01 ... 8.59777164e-03\n",
            "    9.49593663e-01 0.00000000e+00]]\n",
            "\n",
            "  [[0.00000000e+00 0.00000000e+00 2.51742434e-02 ... 0.00000000e+00\n",
            "    4.22986150e-01 0.00000000e+00]\n",
            "   [0.00000000e+00 3.16635549e-01 1.62281168e+00 ... 0.00000000e+00\n",
            "    8.58692527e-01 0.00000000e+00]\n",
            "   [6.51747823e-01 1.74711537e+00 0.00000000e+00 ... 0.00000000e+00\n",
            "    8.48570585e-01 8.68429124e-01]\n",
            "   ...\n",
            "   [0.00000000e+00 5.71216822e-01 0.00000000e+00 ... 0.00000000e+00\n",
            "    5.64896047e-01 6.07445240e-01]\n",
            "   [0.00000000e+00 3.92567849e+00 2.65724599e-01 ... 7.83282593e-02\n",
            "    1.02334368e+00 0.00000000e+00]\n",
            "   [0.00000000e+00 7.47645617e+00 0.00000000e+00 ... 1.87122956e-01\n",
            "    1.36456287e+00 0.00000000e+00]]]\n",
            "\n",
            "\n",
            " [[[0.00000000e+00 0.00000000e+00 0.00000000e+00 ... 0.00000000e+00\n",
            "    0.00000000e+00 1.18362939e+00]\n",
            "   [0.00000000e+00 0.00000000e+00 1.03158496e-01 ... 0.00000000e+00\n",
            "    0.00000000e+00 7.53348470e-01]\n",
            "   [0.00000000e+00 2.16772899e-01 0.00000000e+00 ... 0.00000000e+00\n",
            "    0.00000000e+00 3.89446877e-02]\n",
            "   ...\n",
            "   [1.04020089e-01 4.11627740e-01 4.96373475e-01 ... 0.00000000e+00\n",
            "    0.00000000e+00 0.00000000e+00]\n",
            "   [1.02168001e-01 5.99919736e-01 1.06082845e+00 ... 0.00000000e+00\n",
            "    0.00000000e+00 0.00000000e+00]\n",
            "   [0.00000000e+00 4.35128546e+00 4.10806596e-01 ... 0.00000000e+00\n",
            "    0.00000000e+00 0.00000000e+00]]\n",
            "\n",
            "  [[4.74265337e-01 1.43053412e-01 5.46528637e-01 ... 0.00000000e+00\n",
            "    0.00000000e+00 8.28591704e-01]\n",
            "   [4.32098433e-02 0.00000000e+00 4.81551826e-01 ... 0.00000000e+00\n",
            "    0.00000000e+00 6.43358052e-01]\n",
            "   [0.00000000e+00 0.00000000e+00 0.00000000e+00 ... 0.00000000e+00\n",
            "    0.00000000e+00 2.09332421e-01]\n",
            "   ...\n",
            "   [8.52254689e-01 2.87234873e-01 9.47253525e-01 ... 1.67481437e-01\n",
            "    0.00000000e+00 0.00000000e+00]\n",
            "   [0.00000000e+00 1.21097338e+00 2.76566839e+00 ... 1.81217954e-01\n",
            "    0.00000000e+00 0.00000000e+00]\n",
            "   [0.00000000e+00 1.90290928e+00 1.15630865e+00 ... 0.00000000e+00\n",
            "    0.00000000e+00 0.00000000e+00]]\n",
            "\n",
            "  [[0.00000000e+00 0.00000000e+00 0.00000000e+00 ... 0.00000000e+00\n",
            "    2.54440248e-01 0.00000000e+00]\n",
            "   [0.00000000e+00 0.00000000e+00 0.00000000e+00 ... 6.48917705e-02\n",
            "    5.31797647e-01 0.00000000e+00]\n",
            "   [0.00000000e+00 0.00000000e+00 0.00000000e+00 ... 3.56498122e-01\n",
            "    1.00710678e+00 0.00000000e+00]\n",
            "   ...\n",
            "   [0.00000000e+00 2.18228269e+00 0.00000000e+00 ... 4.19639140e-01\n",
            "    0.00000000e+00 0.00000000e+00]\n",
            "   [0.00000000e+00 3.38423443e+00 7.61629164e-01 ... 9.14198160e-01\n",
            "    0.00000000e+00 0.00000000e+00]\n",
            "   [1.16074955e+00 9.83440220e-01 4.76378798e-01 ... 1.01159251e+00\n",
            "    0.00000000e+00 0.00000000e+00]]\n",
            "\n",
            "  ...\n",
            "\n",
            "  [[0.00000000e+00 1.83899236e+00 0.00000000e+00 ... 7.37670302e-01\n",
            "    6.17906928e-01 2.00167909e-01]\n",
            "   [1.80170313e-01 3.57568073e+00 2.82197475e-01 ... 7.56516814e-01\n",
            "    1.05752528e+00 1.19252756e-01]\n",
            "   [6.82233453e-01 1.69504941e+00 0.00000000e+00 ... 9.98478651e-01\n",
            "    1.18256545e+00 4.40025292e-02]\n",
            "   ...\n",
            "   [0.00000000e+00 1.96830344e+00 0.00000000e+00 ... 3.21911365e-01\n",
            "    5.84738433e-01 0.00000000e+00]\n",
            "   [0.00000000e+00 4.32724237e+00 0.00000000e+00 ... 5.31979263e-01\n",
            "    4.08998817e-01 0.00000000e+00]\n",
            "   [0.00000000e+00 1.49975550e+00 0.00000000e+00 ... 5.86496413e-01\n",
            "    2.13888034e-01 0.00000000e+00]]\n",
            "\n",
            "  [[0.00000000e+00 2.34431601e+00 0.00000000e+00 ... 1.81842759e-01\n",
            "    4.14090782e-01 0.00000000e+00]\n",
            "   [0.00000000e+00 2.67215991e+00 0.00000000e+00 ... 2.91511834e-01\n",
            "    5.67908525e-01 3.87213752e-02]\n",
            "   [1.29154986e-02 2.96888995e+00 1.33429006e-01 ... 6.43909752e-01\n",
            "    4.75510210e-01 5.70711076e-01]\n",
            "   ...\n",
            "   [2.28375662e-02 3.54215527e+00 0.00000000e+00 ... 3.15181196e-01\n",
            "    0.00000000e+00 0.00000000e+00]\n",
            "   [0.00000000e+00 2.96267605e+00 0.00000000e+00 ... 5.69311321e-01\n",
            "    0.00000000e+00 0.00000000e+00]\n",
            "   [0.00000000e+00 5.73536158e-01 0.00000000e+00 ... 6.57500327e-01\n",
            "    0.00000000e+00 0.00000000e+00]]\n",
            "\n",
            "  [[0.00000000e+00 1.85239971e+00 0.00000000e+00 ... 0.00000000e+00\n",
            "    2.38485917e-01 0.00000000e+00]\n",
            "   [0.00000000e+00 1.87542224e+00 4.82553765e-02 ... 0.00000000e+00\n",
            "    3.41256648e-01 0.00000000e+00]\n",
            "   [0.00000000e+00 6.47385478e-01 8.50429088e-02 ... 9.98468921e-02\n",
            "    3.96797121e-01 2.64453918e-01]\n",
            "   ...\n",
            "   [0.00000000e+00 5.37956178e-01 0.00000000e+00 ... 0.00000000e+00\n",
            "    0.00000000e+00 9.04697180e-02]\n",
            "   [0.00000000e+00 4.07995015e-01 0.00000000e+00 ... 3.61138195e-01\n",
            "    0.00000000e+00 0.00000000e+00]\n",
            "   [0.00000000e+00 0.00000000e+00 0.00000000e+00 ... 4.60492045e-01\n",
            "    0.00000000e+00 0.00000000e+00]]]\n",
            "\n",
            "\n",
            " [[[0.00000000e+00 0.00000000e+00 0.00000000e+00 ... 0.00000000e+00\n",
            "    0.00000000e+00 0.00000000e+00]\n",
            "   [0.00000000e+00 2.87589192e-01 0.00000000e+00 ... 0.00000000e+00\n",
            "    0.00000000e+00 0.00000000e+00]\n",
            "   [0.00000000e+00 0.00000000e+00 0.00000000e+00 ... 0.00000000e+00\n",
            "    0.00000000e+00 0.00000000e+00]\n",
            "   ...\n",
            "   [0.00000000e+00 0.00000000e+00 3.99495661e-01 ... 2.62240708e-01\n",
            "    0.00000000e+00 6.64853081e-02]\n",
            "   [0.00000000e+00 0.00000000e+00 8.35142016e-01 ... 7.54391313e-01\n",
            "    5.52580476e-01 0.00000000e+00]\n",
            "   [1.70305282e-01 0.00000000e+00 1.83487892e+00 ... 9.77919996e-01\n",
            "    1.00264728e+00 0.00000000e+00]]\n",
            "\n",
            "  [[0.00000000e+00 0.00000000e+00 0.00000000e+00 ... 0.00000000e+00\n",
            "    3.36010784e-01 0.00000000e+00]\n",
            "   [0.00000000e+00 0.00000000e+00 0.00000000e+00 ... 0.00000000e+00\n",
            "    7.94174448e-02 0.00000000e+00]\n",
            "   [0.00000000e+00 1.66135747e-02 0.00000000e+00 ... 1.20370416e-02\n",
            "    0.00000000e+00 0.00000000e+00]\n",
            "   ...\n",
            "   [0.00000000e+00 0.00000000e+00 2.46309102e-01 ... 0.00000000e+00\n",
            "    1.37278736e-01 0.00000000e+00]\n",
            "   [1.60225734e-01 0.00000000e+00 9.59770143e-01 ... 3.68680358e-01\n",
            "    7.71499872e-01 0.00000000e+00]\n",
            "   [4.18180764e-01 0.00000000e+00 1.59621084e+00 ... 5.75074315e-01\n",
            "    1.15004241e+00 0.00000000e+00]]\n",
            "\n",
            "  [[0.00000000e+00 0.00000000e+00 6.51124179e-01 ... 2.32270241e-01\n",
            "    7.18289614e-01 0.00000000e+00]\n",
            "   [0.00000000e+00 0.00000000e+00 5.88806987e-01 ... 2.66834915e-01\n",
            "    4.20513988e-01 0.00000000e+00]\n",
            "   [0.00000000e+00 0.00000000e+00 2.64155269e-01 ... 1.61990747e-01\n",
            "    3.21690172e-01 0.00000000e+00]\n",
            "   ...\n",
            "   [4.37168218e-02 0.00000000e+00 0.00000000e+00 ... 0.00000000e+00\n",
            "    9.97269154e-01 0.00000000e+00]\n",
            "   [7.41566837e-01 0.00000000e+00 0.00000000e+00 ... 4.10998687e-02\n",
            "    1.22803020e+00 0.00000000e+00]\n",
            "   [4.49421048e-01 0.00000000e+00 0.00000000e+00 ... 1.75585419e-01\n",
            "    1.46966863e+00 0.00000000e+00]]\n",
            "\n",
            "  ...\n",
            "\n",
            "  [[1.95446778e-02 0.00000000e+00 2.29140595e-01 ... 1.29908130e-01\n",
            "    7.01008081e-01 0.00000000e+00]\n",
            "   [3.60056609e-01 0.00000000e+00 1.36655018e-01 ... 1.73827857e-01\n",
            "    5.30163467e-01 0.00000000e+00]\n",
            "   [3.01163912e-01 0.00000000e+00 0.00000000e+00 ... 3.31045330e-01\n",
            "    5.49150050e-01 0.00000000e+00]\n",
            "   ...\n",
            "   [3.55770476e-02 0.00000000e+00 2.43936241e-01 ... 0.00000000e+00\n",
            "    8.25849056e-01 0.00000000e+00]\n",
            "   [2.41633758e-01 1.97506115e-01 1.01182163e+00 ... 0.00000000e+00\n",
            "    7.04745293e-01 0.00000000e+00]\n",
            "   [0.00000000e+00 1.72590822e-01 1.01594114e+00 ... 0.00000000e+00\n",
            "    6.40575886e-01 0.00000000e+00]]\n",
            "\n",
            "  [[0.00000000e+00 3.49478185e-01 3.78955454e-01 ... 0.00000000e+00\n",
            "    2.94996351e-02 0.00000000e+00]\n",
            "   [4.15381305e-02 1.88671827e-01 3.16360265e-01 ... 0.00000000e+00\n",
            "    1.40773803e-01 0.00000000e+00]\n",
            "   [3.48413616e-01 0.00000000e+00 8.60587358e-01 ... 0.00000000e+00\n",
            "    3.38696063e-01 1.12108827e-01]\n",
            "   ...\n",
            "   [2.33693972e-01 1.30913883e-01 2.00977191e-01 ... 0.00000000e+00\n",
            "    2.00246766e-01 0.00000000e+00]\n",
            "   [2.59033114e-01 5.10832947e-03 2.72219211e-01 ... 0.00000000e+00\n",
            "    0.00000000e+00 0.00000000e+00]\n",
            "   [0.00000000e+00 8.98603722e-02 3.71820420e-01 ... 0.00000000e+00\n",
            "    0.00000000e+00 0.00000000e+00]]\n",
            "\n",
            "  [[0.00000000e+00 0.00000000e+00 0.00000000e+00 ... 0.00000000e+00\n",
            "    0.00000000e+00 0.00000000e+00]\n",
            "   [0.00000000e+00 0.00000000e+00 0.00000000e+00 ... 0.00000000e+00\n",
            "    2.30684012e-01 0.00000000e+00]\n",
            "   [0.00000000e+00 1.52066022e-01 1.26475823e+00 ... 0.00000000e+00\n",
            "    5.82153082e-01 3.30762595e-01]\n",
            "   ...\n",
            "   [7.38630652e-01 0.00000000e+00 8.68236542e-01 ... 0.00000000e+00\n",
            "    1.25201985e-01 0.00000000e+00]\n",
            "   [0.00000000e+00 0.00000000e+00 1.23632097e+00 ... 0.00000000e+00\n",
            "    0.00000000e+00 0.00000000e+00]\n",
            "   [0.00000000e+00 0.00000000e+00 1.51880515e+00 ... 0.00000000e+00\n",
            "    0.00000000e+00 0.00000000e+00]]]\n",
            "\n",
            "\n",
            " ...\n",
            "\n",
            "\n",
            " [[[1.77162424e-01 0.00000000e+00 1.62158430e-01 ... 0.00000000e+00\n",
            "    0.00000000e+00 3.46540511e-01]\n",
            "   [1.51429445e-01 0.00000000e+00 4.60335463e-01 ... 0.00000000e+00\n",
            "    0.00000000e+00 2.73548156e-01]\n",
            "   [6.38044596e-01 0.00000000e+00 9.53743815e-01 ... 0.00000000e+00\n",
            "    3.15875858e-01 3.64300400e-01]\n",
            "   ...\n",
            "   [5.45571029e-01 0.00000000e+00 4.03845459e-01 ... 0.00000000e+00\n",
            "    9.88126576e-01 1.28764820e+00]\n",
            "   [5.06458223e-01 4.01126631e-02 0.00000000e+00 ... 0.00000000e+00\n",
            "    4.64699119e-01 1.21336615e+00]\n",
            "   [1.03387642e+00 0.00000000e+00 0.00000000e+00 ... 0.00000000e+00\n",
            "    3.00885528e-01 1.09323323e+00]]\n",
            "\n",
            "  [[4.55725878e-01 0.00000000e+00 9.23912168e-01 ... 0.00000000e+00\n",
            "    0.00000000e+00 4.97792959e-01]\n",
            "   [9.98428166e-01 0.00000000e+00 7.49596894e-01 ... 0.00000000e+00\n",
            "    0.00000000e+00 4.68289346e-01]\n",
            "   [1.13218904e+00 0.00000000e+00 8.06291699e-01 ... 0.00000000e+00\n",
            "    0.00000000e+00 8.14808607e-01]\n",
            "   ...\n",
            "   [0.00000000e+00 0.00000000e+00 9.33581829e-01 ... 0.00000000e+00\n",
            "    8.73394966e-01 1.09523118e+00]\n",
            "   [8.20965827e-01 0.00000000e+00 6.52284980e-01 ... 0.00000000e+00\n",
            "    3.78738344e-01 6.73687637e-01]\n",
            "   [5.27434707e-01 0.00000000e+00 7.35293746e-01 ... 0.00000000e+00\n",
            "    6.23699278e-02 4.83335286e-01]]\n",
            "\n",
            "  [[1.04208124e+00 0.00000000e+00 9.53547001e-01 ... 0.00000000e+00\n",
            "    0.00000000e+00 5.92444122e-01]\n",
            "   [8.74697924e-01 0.00000000e+00 1.07825482e+00 ... 0.00000000e+00\n",
            "    0.00000000e+00 7.85806298e-01]\n",
            "   [0.00000000e+00 0.00000000e+00 1.55324197e+00 ... 0.00000000e+00\n",
            "    0.00000000e+00 1.41527653e+00]\n",
            "   ...\n",
            "   [5.11868894e-01 0.00000000e+00 9.56952393e-01 ... 0.00000000e+00\n",
            "    6.72059238e-01 9.89946127e-01]\n",
            "   [2.69202232e-01 0.00000000e+00 6.03116930e-01 ... 0.00000000e+00\n",
            "    6.50415301e-01 2.11434588e-01]\n",
            "   [5.16544044e-01 0.00000000e+00 0.00000000e+00 ... 0.00000000e+00\n",
            "    3.89395565e-01 3.08525320e-02]]\n",
            "\n",
            "  ...\n",
            "\n",
            "  [[0.00000000e+00 0.00000000e+00 1.35734773e+00 ... 0.00000000e+00\n",
            "    6.56714261e-01 2.58099407e-01]\n",
            "   [2.88885564e-01 0.00000000e+00 1.75349987e+00 ... 0.00000000e+00\n",
            "    8.15316141e-01 3.18534523e-01]\n",
            "   [1.34514451e-01 0.00000000e+00 1.51908672e+00 ... 0.00000000e+00\n",
            "    9.08360243e-01 2.84717023e-01]\n",
            "   ...\n",
            "   [1.42361224e-01 0.00000000e+00 4.37077731e-01 ... 0.00000000e+00\n",
            "    1.15995264e+00 0.00000000e+00]\n",
            "   [2.89526999e-01 0.00000000e+00 0.00000000e+00 ... 0.00000000e+00\n",
            "    8.81502211e-01 0.00000000e+00]\n",
            "   [0.00000000e+00 0.00000000e+00 0.00000000e+00 ... 0.00000000e+00\n",
            "    6.98563159e-01 0.00000000e+00]]\n",
            "\n",
            "  [[0.00000000e+00 0.00000000e+00 0.00000000e+00 ... 0.00000000e+00\n",
            "    3.51928651e-01 0.00000000e+00]\n",
            "   [0.00000000e+00 0.00000000e+00 2.73206264e-01 ... 0.00000000e+00\n",
            "    8.12493682e-01 0.00000000e+00]\n",
            "   [1.69183075e-01 0.00000000e+00 1.03044007e-02 ... 0.00000000e+00\n",
            "    1.27377462e+00 0.00000000e+00]\n",
            "   ...\n",
            "   [0.00000000e+00 0.00000000e+00 7.28626847e-01 ... 0.00000000e+00\n",
            "    1.75394654e+00 0.00000000e+00]\n",
            "   [0.00000000e+00 0.00000000e+00 0.00000000e+00 ... 0.00000000e+00\n",
            "    1.24848664e+00 0.00000000e+00]\n",
            "   [0.00000000e+00 0.00000000e+00 0.00000000e+00 ... 0.00000000e+00\n",
            "    7.32207060e-01 0.00000000e+00]]\n",
            "\n",
            "  [[0.00000000e+00 0.00000000e+00 0.00000000e+00 ... 0.00000000e+00\n",
            "    4.47444379e-01 0.00000000e+00]\n",
            "   [0.00000000e+00 0.00000000e+00 0.00000000e+00 ... 0.00000000e+00\n",
            "    9.31253254e-01 0.00000000e+00]\n",
            "   [0.00000000e+00 0.00000000e+00 0.00000000e+00 ... 0.00000000e+00\n",
            "    1.45078313e+00 0.00000000e+00]\n",
            "   ...\n",
            "   [0.00000000e+00 0.00000000e+00 0.00000000e+00 ... 0.00000000e+00\n",
            "    2.00726104e+00 0.00000000e+00]\n",
            "   [0.00000000e+00 0.00000000e+00 0.00000000e+00 ... 0.00000000e+00\n",
            "    1.41918468e+00 0.00000000e+00]\n",
            "   [0.00000000e+00 0.00000000e+00 0.00000000e+00 ... 0.00000000e+00\n",
            "    1.01715410e+00 0.00000000e+00]]]\n",
            "\n",
            "\n",
            " [[[7.68846571e-02 0.00000000e+00 0.00000000e+00 ... 0.00000000e+00\n",
            "    2.38713455e+00 6.53249085e-01]\n",
            "   [0.00000000e+00 0.00000000e+00 0.00000000e+00 ... 0.00000000e+00\n",
            "    2.17210770e+00 7.75113106e-01]\n",
            "   [0.00000000e+00 0.00000000e+00 0.00000000e+00 ... 0.00000000e+00\n",
            "    1.54542112e+00 6.44346356e-01]\n",
            "   ...\n",
            "   [6.95945203e-01 0.00000000e+00 0.00000000e+00 ... 1.47973728e+00\n",
            "    0.00000000e+00 0.00000000e+00]\n",
            "   [0.00000000e+00 0.00000000e+00 0.00000000e+00 ... 1.20002770e+00\n",
            "    0.00000000e+00 0.00000000e+00]\n",
            "   [0.00000000e+00 0.00000000e+00 1.29978642e-01 ... 7.16927588e-01\n",
            "    0.00000000e+00 0.00000000e+00]]\n",
            "\n",
            "  [[0.00000000e+00 0.00000000e+00 3.54521722e-01 ... 0.00000000e+00\n",
            "    2.90856719e+00 1.34119117e+00]\n",
            "   [0.00000000e+00 0.00000000e+00 0.00000000e+00 ... 0.00000000e+00\n",
            "    2.88223696e+00 1.63911331e+00]\n",
            "   [0.00000000e+00 0.00000000e+00 0.00000000e+00 ... 0.00000000e+00\n",
            "    2.48152709e+00 1.67723083e+00]\n",
            "   ...\n",
            "   [4.47694689e-01 0.00000000e+00 0.00000000e+00 ... 1.11798549e+00\n",
            "    0.00000000e+00 0.00000000e+00]\n",
            "   [0.00000000e+00 0.00000000e+00 0.00000000e+00 ... 1.04511583e+00\n",
            "    0.00000000e+00 0.00000000e+00]\n",
            "   [0.00000000e+00 0.00000000e+00 0.00000000e+00 ... 7.08630383e-01\n",
            "    0.00000000e+00 0.00000000e+00]]\n",
            "\n",
            "  [[0.00000000e+00 0.00000000e+00 0.00000000e+00 ... 4.99444485e-01\n",
            "    2.88543487e+00 2.60807490e+00]\n",
            "   [0.00000000e+00 0.00000000e+00 0.00000000e+00 ... 3.54410321e-01\n",
            "    3.05416727e+00 3.06730318e+00]\n",
            "   [0.00000000e+00 0.00000000e+00 0.00000000e+00 ... 0.00000000e+00\n",
            "    2.87270951e+00 3.26340556e+00]\n",
            "   ...\n",
            "   [2.54818618e-01 0.00000000e+00 0.00000000e+00 ... 7.92885005e-01\n",
            "    0.00000000e+00 9.16514277e-01]\n",
            "   [1.54057428e-01 0.00000000e+00 0.00000000e+00 ... 1.22724175e+00\n",
            "    0.00000000e+00 3.56506914e-01]\n",
            "   [4.09813374e-01 0.00000000e+00 0.00000000e+00 ... 1.09882748e+00\n",
            "    0.00000000e+00 0.00000000e+00]]\n",
            "\n",
            "  ...\n",
            "\n",
            "  [[4.61026043e-01 0.00000000e+00 0.00000000e+00 ... 1.35302210e+00\n",
            "    1.09674215e+00 1.47748220e+00]\n",
            "   [0.00000000e+00 7.42644489e-01 0.00000000e+00 ... 1.41871428e+00\n",
            "    9.50963140e-01 1.42339420e+00]\n",
            "   [0.00000000e+00 1.76035449e-01 0.00000000e+00 ... 1.23217273e+00\n",
            "    8.16256404e-01 6.45698369e-01]\n",
            "   ...\n",
            "   [0.00000000e+00 4.11182791e-01 0.00000000e+00 ... 1.61431897e+00\n",
            "    2.60868996e-01 2.74677962e-01]\n",
            "   [0.00000000e+00 7.61323422e-02 3.76523793e-01 ... 1.55611575e+00\n",
            "    2.02780724e-01 2.42683180e-02]\n",
            "   [0.00000000e+00 0.00000000e+00 2.57551861e+00 ... 8.81771863e-01\n",
            "    3.98095213e-02 0.00000000e+00]]\n",
            "\n",
            "  [[6.80033863e-03 0.00000000e+00 0.00000000e+00 ... 8.35576952e-01\n",
            "    8.85004044e-01 7.48738110e-01]\n",
            "   [2.25096703e-01 3.34985435e-01 1.39124617e-01 ... 1.09651434e+00\n",
            "    1.08534765e+00 9.20900524e-01]\n",
            "   [4.88032609e-01 1.96906364e+00 6.53790534e-01 ... 1.33596253e+00\n",
            "    1.21436822e+00 4.51284200e-01]\n",
            "   ...\n",
            "   [0.00000000e+00 1.73872960e+00 5.94412029e-01 ... 2.13043785e+00\n",
            "    6.63373411e-01 2.35839322e-01]\n",
            "   [0.00000000e+00 8.88233244e-01 0.00000000e+00 ... 1.79616606e+00\n",
            "    3.56934667e-01 0.00000000e+00]\n",
            "   [0.00000000e+00 0.00000000e+00 3.14660072e+00 ... 1.20631683e+00\n",
            "    1.47297442e-01 0.00000000e+00]]\n",
            "\n",
            "  [[9.87780571e-01 1.83883414e-01 0.00000000e+00 ... 3.17462981e-01\n",
            "    8.05793643e-01 3.36011529e-01]\n",
            "   [5.65953970e-01 0.00000000e+00 0.00000000e+00 ... 7.21332312e-01\n",
            "    1.09829640e+00 5.69314599e-01]\n",
            "   [1.60586968e-01 4.34273779e-01 0.00000000e+00 ... 1.16786468e+00\n",
            "    1.40866840e+00 4.67976570e-01]\n",
            "   ...\n",
            "   [0.00000000e+00 6.46747947e-01 1.46813199e-01 ... 2.36659884e+00\n",
            "    7.97376812e-01 3.64726096e-01]\n",
            "   [0.00000000e+00 6.24159396e-01 0.00000000e+00 ... 1.83674181e+00\n",
            "    5.81144273e-01 0.00000000e+00]\n",
            "   [0.00000000e+00 0.00000000e+00 2.01230693e+00 ... 1.22593439e+00\n",
            "    4.27962810e-01 0.00000000e+00]]]\n",
            "\n",
            "\n",
            " [[[6.28361583e-01 0.00000000e+00 0.00000000e+00 ... 0.00000000e+00\n",
            "    4.45605397e-01 1.88384578e-01]\n",
            "   [3.83720636e-01 9.20124054e-01 0.00000000e+00 ... 9.09012705e-02\n",
            "    3.55188847e-01 5.60882501e-02]\n",
            "   [0.00000000e+00 1.34947348e+00 0.00000000e+00 ... 7.86792397e-01\n",
            "    2.88699329e-01 3.27252209e-01]\n",
            "   ...\n",
            "   [0.00000000e+00 7.15745389e-01 0.00000000e+00 ... 8.05062950e-01\n",
            "    8.17768514e-01 8.24801803e-01]\n",
            "   [8.15328509e-02 1.08572185e+00 0.00000000e+00 ... 3.77314329e-01\n",
            "    7.34852254e-01 4.42637324e-01]\n",
            "   [0.00000000e+00 6.14823937e-01 0.00000000e+00 ... 6.63078964e-01\n",
            "    3.04423958e-01 5.49008191e-01]]\n",
            "\n",
            "  [[9.22654390e-01 0.00000000e+00 0.00000000e+00 ... 0.00000000e+00\n",
            "    7.94855356e-02 4.78208750e-01]\n",
            "   [0.00000000e+00 0.00000000e+00 0.00000000e+00 ... 0.00000000e+00\n",
            "    0.00000000e+00 4.40541059e-01]\n",
            "   [0.00000000e+00 4.62732077e-01 0.00000000e+00 ... 2.47276291e-01\n",
            "    0.00000000e+00 7.70231009e-01]\n",
            "   ...\n",
            "   [0.00000000e+00 1.40494078e-01 0.00000000e+00 ... 5.30979455e-01\n",
            "    0.00000000e+00 1.00262439e+00]\n",
            "   [0.00000000e+00 1.06112766e+00 7.08142161e-01 ... 1.88324273e-01\n",
            "    0.00000000e+00 5.07081807e-01]\n",
            "   [0.00000000e+00 5.18542767e-01 0.00000000e+00 ... 3.72555375e-01\n",
            "    0.00000000e+00 5.13421476e-01]]\n",
            "\n",
            "  [[0.00000000e+00 0.00000000e+00 3.41944247e-01 ... 0.00000000e+00\n",
            "    0.00000000e+00 6.88081264e-01]\n",
            "   [3.92610021e-02 0.00000000e+00 2.69936442e-01 ... 0.00000000e+00\n",
            "    0.00000000e+00 1.16038370e+00]\n",
            "   [0.00000000e+00 0.00000000e+00 3.30988616e-01 ... 0.00000000e+00\n",
            "    0.00000000e+00 2.09832978e+00]\n",
            "   ...\n",
            "   [0.00000000e+00 0.00000000e+00 1.47123122e+00 ... 0.00000000e+00\n",
            "    0.00000000e+00 2.03248644e+00]\n",
            "   [0.00000000e+00 0.00000000e+00 4.80770081e-01 ... 0.00000000e+00\n",
            "    0.00000000e+00 1.28665352e+00]\n",
            "   [0.00000000e+00 0.00000000e+00 1.40028700e-01 ... 0.00000000e+00\n",
            "    0.00000000e+00 9.67411339e-01]]\n",
            "\n",
            "  ...\n",
            "\n",
            "  [[0.00000000e+00 0.00000000e+00 2.15765643e+00 ... 0.00000000e+00\n",
            "    0.00000000e+00 9.52802360e-01]\n",
            "   [0.00000000e+00 8.49441513e-02 2.64987135e+00 ... 0.00000000e+00\n",
            "    0.00000000e+00 5.86571157e-01]\n",
            "   [0.00000000e+00 1.83923513e-01 3.50183211e-02 ... 0.00000000e+00\n",
            "    0.00000000e+00 2.97498494e-01]\n",
            "   ...\n",
            "   [0.00000000e+00 2.10725284e+00 0.00000000e+00 ... 0.00000000e+00\n",
            "    0.00000000e+00 5.63162088e-01]\n",
            "   [0.00000000e+00 1.74647605e+00 0.00000000e+00 ... 0.00000000e+00\n",
            "    8.62628147e-02 2.29792327e-01]\n",
            "   [0.00000000e+00 1.20574355e+00 0.00000000e+00 ... 0.00000000e+00\n",
            "    2.96954930e-01 0.00000000e+00]]\n",
            "\n",
            "  [[0.00000000e+00 0.00000000e+00 2.92358971e+00 ... 4.80660833e-02\n",
            "    0.00000000e+00 2.44792059e-01]\n",
            "   [0.00000000e+00 1.73370636e+00 2.68194270e+00 ... 1.32239297e-01\n",
            "    0.00000000e+00 0.00000000e+00]\n",
            "   [0.00000000e+00 9.52996969e-01 4.79375124e-01 ... 0.00000000e+00\n",
            "    0.00000000e+00 0.00000000e+00]\n",
            "   ...\n",
            "   [0.00000000e+00 1.83204794e+00 0.00000000e+00 ... 8.06148648e-01\n",
            "    0.00000000e+00 0.00000000e+00]\n",
            "   [0.00000000e+00 1.50449884e+00 3.29240084e-01 ... 7.61536121e-01\n",
            "    0.00000000e+00 0.00000000e+00]\n",
            "   [0.00000000e+00 1.27014482e+00 0.00000000e+00 ... 6.52527452e-01\n",
            "    0.00000000e+00 0.00000000e+00]]\n",
            "\n",
            "  [[0.00000000e+00 8.89223456e-01 8.27867925e-01 ... 6.67745948e-01\n",
            "    0.00000000e+00 1.71528421e-02]\n",
            "   [0.00000000e+00 1.25504780e+00 9.17857289e-01 ... 5.94420612e-01\n",
            "    0.00000000e+00 0.00000000e+00]\n",
            "   [0.00000000e+00 1.28320232e-01 1.10422231e-01 ... 0.00000000e+00\n",
            "    1.44969663e-02 0.00000000e+00]\n",
            "   ...\n",
            "   [0.00000000e+00 7.31620729e-01 2.70717978e-01 ... 8.78910720e-01\n",
            "    0.00000000e+00 0.00000000e+00]\n",
            "   [0.00000000e+00 1.21127641e+00 5.61388910e-01 ... 1.00022781e+00\n",
            "    0.00000000e+00 0.00000000e+00]\n",
            "   [0.00000000e+00 3.83764863e-01 0.00000000e+00 ... 9.41979945e-01\n",
            "    0.00000000e+00 0.00000000e+00]]]], shape=(32, 8, 8, 2048), dtype=float32) tf.Tensor(\n",
            "[[   0    0    0    0    0    1   33    3  312   98]\n",
            " [   0    0    0    0    5    6  272    8    2   88]\n",
            " [   0    0    0    0    0    0    0    5   14  272]\n",
            " [   0    0    0    0    0    1    2  786  348  114]\n",
            " [ 154   20  230  365   86    2  137   87  625   11]\n",
            " [   0    0    0    0    0    0    1    4   41  101]\n",
            " [   0    0    0    0    0    1    2  332  205  362]\n",
            " [   0    0    0    0    0    0    1    4   12   68]\n",
            " [   0    0    0    0    0    0    0    1   11  802]\n",
            " [   0    0    0    0    0    0    1    4    3 2691]\n",
            " [   0    0    0    0    0    1    4    3 1361  313]\n",
            " [   0    0    0    0    0    0    1    6    3 2028]\n",
            " [   0    0    0    1    6   18  969    7    2   72]\n",
            " [   0    0    0    1    6    3 1364    8   66  972]\n",
            " [   0    0    0    0    0    5    2   20  127 1374]\n",
            " [   0    0    0    0    0    0    5    2 1953  140]\n",
            " [   0    0    0    1    6    3  134   55   69   98]\n",
            " [   0    0    0    0    0    0    1    4   41  101]\n",
            " [   0    0    0    1    6  633  506  107    2   35]\n",
            " [   0    0    0    0    0    1    2  141    3 2711]\n",
            " [   0    0    0    1    2   50    7  179  217  437]\n",
            " [   0    0    0    1    6    3  104    8    2 2820]\n",
            " [   0    0    0    1    6  333  730   13  492    4]\n",
            " [   0    0    0    0    0    0    0    1   11  175]\n",
            " [   0    0    0    0    0    0    1    2  168   91]\n",
            " [   0    0    0    0    0    0    0    1   11  260]\n",
            " [   0    0    0    0    0    1    4   92   55   69]\n",
            " [   0    0    0    0    5    2   42  211    2  137]\n",
            " [   0    0    1   48   10    2  316   15    3 2735]\n",
            " [   0    0    0    0    0    0    1    4    3 1638]\n",
            " [   0    0    0    0    0    0    5    2 1988   85]\n",
            " [   0    0    0    0    0    0    5    2  244  345]], shape=(32, 10), dtype=int32) tf.Tensor(\n",
            "[1. 0. 1. 0. 1. 0. 0. 1. 1. 1. 1. 0. 1. 0. 0. 0. 0. 1. 1. 0. 0. 0. 1. 1.\n",
            " 1. 0. 1. 1. 0. 0. 0. 1.], shape=(32,), dtype=float32) tf.Tensor(\n",
            "[b'/content/thumbnails/COCO_train2014_000000142014.jpg'\n",
            " b'/content/thumbnails/COCO_train2014_000000003911.jpg'\n",
            " b'/content/thumbnails/COCO_train2014_000000143470.jpg'\n",
            " b'/content/thumbnails/COCO_train2014_000000008024.jpg'\n",
            " b'/content/thumbnails/COCO_train2014_000000243986.jpg'\n",
            " b'/content/thumbnails/COCO_train2014_000000278963.jpg'\n",
            " b'/content/thumbnails/COCO_train2014_000000136661.jpg'\n",
            " b'/content/thumbnails/COCO_train2014_000000114185.jpg'\n",
            " b'/content/thumbnails/COCO_train2014_000000267454.jpg'\n",
            " b'/content/thumbnails/COCO_train2014_000000272132.jpg'\n",
            " b'/content/thumbnails/COCO_train2014_000000546379.jpg'\n",
            " b'/content/thumbnails/COCO_train2014_000000399581.jpg'\n",
            " b'/content/thumbnails/COCO_train2014_000000406531.jpg'\n",
            " b'/content/thumbnails/COCO_train2014_000000281617.jpg'\n",
            " b'/content/thumbnails/COCO_train2014_000000330403.jpg'\n",
            " b'/content/thumbnails/COCO_train2014_000000542070.jpg'\n",
            " b'/content/thumbnails/COCO_train2014_000000570569.jpg'\n",
            " b'/content/thumbnails/COCO_train2014_000000025167.jpg'\n",
            " b'/content/thumbnails/COCO_train2014_000000131978.jpg'\n",
            " b'/content/thumbnails/COCO_train2014_000000541832.jpg'\n",
            " b'/content/thumbnails/COCO_train2014_000000535651.jpg'\n",
            " b'/content/thumbnails/COCO_train2014_000000147290.jpg'\n",
            " b'/content/thumbnails/COCO_train2014_000000308892.jpg'\n",
            " b'/content/thumbnails/COCO_train2014_000000020839.jpg'\n",
            " b'/content/thumbnails/COCO_train2014_000000009709.jpg'\n",
            " b'/content/thumbnails/COCO_train2014_000000277697.jpg'\n",
            " b'/content/thumbnails/COCO_train2014_000000020579.jpg'\n",
            " b'/content/thumbnails/COCO_train2014_000000525513.jpg'\n",
            " b'/content/thumbnails/COCO_train2014_000000419599.jpg'\n",
            " b'/content/thumbnails/COCO_train2014_000000402632.jpg'\n",
            " b'/content/thumbnails/COCO_train2014_000000408829.jpg'\n",
            " b'/content/thumbnails/COCO_train2014_000000234949.jpg'], shape=(32,), dtype=string)\n"
          ],
          "name": "stdout"
        }
      ]
    },
    {
      "cell_type": "markdown",
      "metadata": {
        "colab_type": "text",
        "id": "9Z7a9VExmj_5"
      },
      "source": [
        "### Define your VQA model\n",
        "\n",
        "You can base your code off the example give toward bottom of this [guide](https://keras.io/getting-started/functional-api-guide/) (but use a smaller model to start). Aim for a couple hundred thousand parameters or so"
      ]
    },
    {
      "cell_type": "code",
      "metadata": {
        "colab_type": "code",
        "id": "vIjyol_olOxx",
        "colab": {}
      },
      "source": [
        "from tensorflow.keras.layers import Dense, Embedding, Flatten, Input, LSTM\n",
        "from tensorflow.keras.models import Model, Sequential"
      ],
      "execution_count": 0,
      "outputs": []
    },
    {
      "cell_type": "code",
      "metadata": {
        "colab_type": "code",
        "id": "bUOdkiOemwPZ",
        "colab": {}
      },
      "source": [
        "# Your code here\n",
        "# Below is starter code for your model for you to complete.\n",
        "# See https://keras.io/getting-started/functional-api-guide/ for the idea.\n",
        "# The vision model is written for you. You will need to write the question\n",
        "# model.\n",
        "\n",
        "# Input to your vision model (activations from Inception-V3,\n",
        "# loaded off disk disk by the dataset above).\n",
        "\n",
        "image_input = Input(shape=(8, 8, 2048)) \n",
        "vision_model = Sequential()\n",
        "# Used to reduce the number of parameters (rather using a dense layer here).\n",
        "vision_model.add(tf.keras.layers.GlobalAveragePooling2D())\n",
        "# Output of your vision model\n",
        "encoded_image = vision_model(image_input) \n",
        "\n",
        "# Your code here\n",
        "# Write your test processing model that takes the vectorized and padded\n",
        "# question as input.\n",
        "# As in the guide above, you will want to produce an `encoded_question`\n",
        "# as output\n",
        "question_input = Input(shape=(MAX_SEQ_LEN,), dtype='int32') # your code\n",
        "embedded_question = Embedding(input_dim=4770, output_dim=256, input_length=MAX_SEQ_LEN)(question_input) # your code\n",
        "encoded_question =  LSTM(256)(embedded_question) # your code\n",
        "\n",
        "# Concatenate the encoded image and question\n",
        "merged = tf.keras.layers.concatenate([encoded_image, encoded_question])\n",
        "\n",
        "# Optionally, add a small dense layer\n",
        "# ...\n",
        "dense = Dense(32, activation='relu')(merged)\n",
        "# Next, add a binary classifier on top\n",
        "output = Dense(1, activation='sigmoid')(dense)\n",
        "\n",
        "# Your final model\n",
        "model = Model(inputs=[image_input, question_input], outputs=output)"
      ],
      "execution_count": 0,
      "outputs": []
    },
    {
      "cell_type": "code",
      "metadata": {
        "colab_type": "code",
        "id": "Bc5OEmXsp4CH",
        "outputId": "4354f07e-49d5-41a7-987b-ea0fc574e196",
        "colab": {
          "base_uri": "https://localhost:8080/",
          "height": 467
        }
      },
      "source": [
        "model.summary()"
      ],
      "execution_count": 46,
      "outputs": [
        {
          "output_type": "stream",
          "text": [
            "Model: \"model_1\"\n",
            "__________________________________________________________________________________________________\n",
            "Layer (type)                    Output Shape         Param #     Connected to                     \n",
            "==================================================================================================\n",
            "input_3 (InputLayer)            [(None, 10)]         0                                            \n",
            "__________________________________________________________________________________________________\n",
            "input_2 (InputLayer)            [(None, 8, 8, 2048)] 0                                            \n",
            "__________________________________________________________________________________________________\n",
            "embedding (Embedding)           (None, 10, 256)      1221120     input_3[0][0]                    \n",
            "__________________________________________________________________________________________________\n",
            "sequential (Sequential)         (None, 2048)         0           input_2[0][0]                    \n",
            "__________________________________________________________________________________________________\n",
            "lstm (LSTM)                     (None, 256)          525312      embedding[0][0]                  \n",
            "__________________________________________________________________________________________________\n",
            "concatenate_2 (Concatenate)     (None, 2304)         0           sequential[0][0]                 \n",
            "                                                                 lstm[0][0]                       \n",
            "__________________________________________________________________________________________________\n",
            "dense (Dense)                   (None, 32)           73760       concatenate_2[0][0]              \n",
            "__________________________________________________________________________________________________\n",
            "dense_1 (Dense)                 (None, 1)            33          dense[0][0]                      \n",
            "==================================================================================================\n",
            "Total params: 1,820,225\n",
            "Trainable params: 1,820,225\n",
            "Non-trainable params: 0\n",
            "__________________________________________________________________________________________________\n"
          ],
          "name": "stdout"
        }
      ]
    },
    {
      "cell_type": "code",
      "metadata": {
        "colab_type": "code",
        "id": "-XcTtLlPoHjR",
        "colab": {}
      },
      "source": [
        "model.compile(optimizer='adam', \n",
        "              loss='binary_crossentropy',\n",
        "              metrics=['accuracy'])"
      ],
      "execution_count": 0,
      "outputs": []
    },
    {
      "cell_type": "markdown",
      "metadata": {
        "colab_type": "text",
        "id": "cITtsogNXvgp"
      },
      "source": [
        "### Plot your model\n",
        "Create a schematic that shows the graph of your model, using [plot_model](https://keras.io/visualization/). This can be helpful to ensure the vision and question paths look at expected (it's also super cool, and more informative than .summary)."
      ]
    },
    {
      "cell_type": "code",
      "metadata": {
        "colab_type": "code",
        "id": "tPYyzzf2XxbX",
        "outputId": "91a0bc14-f05b-478e-85cc-2910929a592a",
        "colab": {
          "base_uri": "https://localhost:8080/",
          "height": 564
        }
      },
      "source": [
        "# You should not need to modify this.\n",
        "from tensorflow.keras.utils import plot_model\n",
        "plot_model(model, to_file='model.png')"
      ],
      "execution_count": 48,
      "outputs": [
        {
          "output_type": "execute_result",
          "data": {
            "image/png": "[encoded data removed]",
            "text/plain": [
              "<IPython.core.display.Image object>"
            ]
          },
          "metadata": {
            "tags": []
          },
          "execution_count": 48
        }
      ]
    },
    {
      "cell_type": "markdown",
      "metadata": {
        "colab_type": "text",
        "id": "WytdlCrO6iaq"
      },
      "source": [
        "### Fit your model on a single batch\n",
        "Before training on your entire dataset, a helpful first step is to train repeatedly on a single batch, and verify the loss goes to zero. If your model is working properly, it should be able to memorize a batch of data. We will use ```model.train_on_batch``` for this."
      ]
    },
    {
      "cell_type": "code",
      "metadata": {
        "colab_type": "code",
        "id": "hvpBQv9Z9HlH",
        "colab": {}
      },
      "source": [
        "# You should not nee to modify this.\n",
        "# Retrieve a batch of data from your train dataset\n",
        "activations_batch, questions_batch, answers_batch, paths_batch = next(iter(train_ds))"
      ],
      "execution_count": 0,
      "outputs": []
    },
    {
      "cell_type": "code",
      "metadata": {
        "colab_type": "code",
        "id": "vE-qMn5dgeYq",
        "outputId": "e5876c54-f6e5-4d8c-d698-485dbb93cb00",
        "colab": {
          "base_uri": "https://localhost:8080/",
          "height": 1000
        }
      },
      "source": [
        "# Your code here\n",
        "\n",
        "# Train them model repeatedly using model.train_on_batch\n",
        "# Verify the loss goes to zero after +/- 100 training steps.\n",
        "# If it does not, now would be a great time to debug \n",
        "# before proceeding further.\n",
        "\n",
        "# e.g.\n",
        "# metrics = model.train_on_batch ....\n",
        "# metrics is a list (loss is metrics[0], accuracy is metrics[1])\n",
        "epoch = 100\n",
        "metrics = []\n",
        "for i in range(epoch):\n",
        "  metrics = model.train_on_batch(x=[activations_batch, questions_batch],y = answers_batch)\n",
        "  print(\"loss: \", metrics[0],\" accuracy: \",metrics[1])"
      ],
      "execution_count": 50,
      "outputs": [
        {
          "output_type": "stream",
          "text": [
            "loss:  0.8532269  accuracy:  0.40625\n",
            "loss:  0.810351  accuracy:  0.59375\n",
            "loss:  0.6547785  accuracy:  0.59375\n",
            "loss:  0.5829287  accuracy:  0.71875\n",
            "loss:  0.557281  accuracy:  0.84375\n",
            "loss:  0.49863502  accuracy:  1.0\n",
            "loss:  0.4330272  accuracy:  0.96875\n",
            "loss:  0.3892429  accuracy:  0.875\n",
            "loss:  0.34506702  accuracy:  0.875\n",
            "loss:  0.29407302  accuracy:  0.96875\n",
            "loss:  0.2488859  accuracy:  1.0\n",
            "loss:  0.21726109  accuracy:  1.0\n",
            "loss:  0.18688796  accuracy:  1.0\n",
            "loss:  0.14962804  accuracy:  1.0\n",
            "loss:  0.12273705  accuracy:  1.0\n",
            "loss:  0.10308243  accuracy:  1.0\n",
            "loss:  0.08332911  accuracy:  1.0\n",
            "loss:  0.069098234  accuracy:  1.0\n",
            "loss:  0.056952238  accuracy:  1.0\n",
            "loss:  0.04441441  accuracy:  1.0\n",
            "loss:  0.037125483  accuracy:  1.0\n",
            "loss:  0.029473865  accuracy:  1.0\n",
            "loss:  0.022680633  accuracy:  1.0\n",
            "loss:  0.019045286  accuracy:  1.0\n",
            "loss:  0.015196964  accuracy:  1.0\n",
            "loss:  0.011718181  accuracy:  1.0\n",
            "loss:  0.009976899  accuracy:  1.0\n",
            "loss:  0.008485679  accuracy:  1.0\n",
            "loss:  0.006688848  accuracy:  1.0\n",
            "loss:  0.0054237638  accuracy:  1.0\n",
            "loss:  0.0049012434  accuracy:  1.0\n",
            "loss:  0.0042524235  accuracy:  1.0\n",
            "loss:  0.0034114332  accuracy:  1.0\n",
            "loss:  0.0029866481  accuracy:  1.0\n",
            "loss:  0.0028270301  accuracy:  1.0\n",
            "loss:  0.002512828  accuracy:  1.0\n",
            "loss:  0.002087939  accuracy:  1.0\n",
            "loss:  0.0018598955  accuracy:  1.0\n",
            "loss:  0.0018209995  accuracy:  1.0\n",
            "loss:  0.0016622478  accuracy:  1.0\n",
            "loss:  0.0014156798  accuracy:  1.0\n",
            "loss:  0.0013123513  accuracy:  1.0\n",
            "loss:  0.0013006822  accuracy:  1.0\n",
            "loss:  0.0012139603  accuracy:  1.0\n",
            "loss:  0.0010660994  accuracy:  1.0\n",
            "loss:  0.0009867506  accuracy:  1.0\n",
            "loss:  0.0009845782  accuracy:  1.0\n",
            "loss:  0.0009403072  accuracy:  1.0\n",
            "loss:  0.0008448607  accuracy:  1.0\n",
            "loss:  0.00079475704  accuracy:  1.0\n",
            "loss:  0.0007917143  accuracy:  1.0\n",
            "loss:  0.0007676558  accuracy:  1.0\n",
            "loss:  0.0007097525  accuracy:  1.0\n",
            "loss:  0.0006674417  accuracy:  1.0\n",
            "loss:  0.0006613008  accuracy:  1.0\n",
            "loss:  0.000651019  accuracy:  1.0\n",
            "loss:  0.00061416265  accuracy:  1.0\n",
            "loss:  0.00058247213  accuracy:  1.0\n",
            "loss:  0.0005745197  accuracy:  1.0\n",
            "loss:  0.0005688401  accuracy:  1.0\n",
            "loss:  0.0005473149  accuracy:  1.0\n",
            "loss:  0.0005225605  accuracy:  1.0\n",
            "loss:  0.0005119124  accuracy:  1.0\n",
            "loss:  0.0005085092  accuracy:  1.0\n",
            "loss:  0.0004957529  accuracy:  1.0\n",
            "loss:  0.000477573  accuracy:  1.0\n",
            "loss:  0.000467168  accuracy:  1.0\n",
            "loss:  0.0004633989  accuracy:  1.0\n",
            "loss:  0.00045566203  accuracy:  1.0\n",
            "loss:  0.0004428893  accuracy:  1.0\n",
            "loss:  0.00043293787  accuracy:  1.0\n",
            "loss:  0.00042838784  accuracy:  1.0\n",
            "loss:  0.00042334214  accuracy:  1.0\n",
            "loss:  0.00041440668  accuracy:  1.0\n",
            "loss:  0.0004056885  accuracy:  1.0\n",
            "loss:  0.00040066158  accuracy:  1.0\n",
            "loss:  0.00039665203  accuracy:  1.0\n",
            "loss:  0.00039031976  accuracy:  1.0\n",
            "loss:  0.00038302137  accuracy:  1.0\n",
            "loss:  0.00037776437  accuracy:  1.0\n",
            "loss:  0.000374081  accuracy:  1.0\n",
            "loss:  0.0003693145  accuracy:  1.0\n",
            "loss:  0.00036337593  accuracy:  1.0\n",
            "loss:  0.000358345  accuracy:  1.0\n",
            "loss:  0.00035470314  accuracy:  1.0\n",
            "loss:  0.00035079205  accuracy:  1.0\n",
            "loss:  0.00034596107  accuracy:  1.0\n",
            "loss:  0.00034131572  accuracy:  1.0\n",
            "loss:  0.00033767943  accuracy:  1.0\n",
            "loss:  0.00033424018  accuracy:  1.0\n",
            "loss:  0.00033017018  accuracy:  1.0\n",
            "loss:  0.00032600298  accuracy:  1.0\n",
            "loss:  0.00032251558  accuracy:  1.0\n",
            "loss:  0.00031931238  accuracy:  1.0\n",
            "loss:  0.000315787  accuracy:  1.0\n",
            "loss:  0.00031206314  accuracy:  1.0\n",
            "loss:  0.00030871242  accuracy:  1.0\n",
            "loss:  0.00030567846  accuracy:  1.0\n",
            "loss:  0.00030250955  accuracy:  1.0\n",
            "loss:  0.0002991781  accuracy:  1.0\n"
          ],
          "name": "stdout"
        }
      ]
    },
    {
      "cell_type": "markdown",
      "metadata": {
        "colab_type": "text",
        "id": "02reDBJKtCk8"
      },
      "source": [
        "### Use your model to make predictions on the same batch above\n",
        "Compare the predicted answer to the label. Verify they match."
      ]
    },
    {
      "cell_type": "code",
      "metadata": {
        "colab_type": "code",
        "id": "yaIEX9AJnRTn",
        "outputId": "e2f9fbea-371d-4330-9cb3-d8670ad2460b",
        "colab": {
          "base_uri": "https://localhost:8080/",
          "height": 593
        }
      },
      "source": [
        "# You should not need to modify this, but you will want to \n",
        "# carefully inspect the output.\n",
        "for prediction, answer in zip(model.predict(x=[activations_batch, questions_batch]), answers_batch):\n",
        "  print(prediction, answer.numpy())"
      ],
      "execution_count": 51,
      "outputs": [
        {
          "output_type": "stream",
          "text": [
            "[0.9997353] 1.0\n",
            "[0.99991953] 1.0\n",
            "[0.99989897] 1.0\n",
            "[1.6391277e-05] 0.0\n",
            "[1.5616417e-05] 0.0\n",
            "[2.3007393e-05] 0.0\n",
            "[0.9999959] 1.0\n",
            "[1.6450882e-05] 0.0\n",
            "[1.1622906e-06] 0.0\n",
            "[0.00010762] 0.0\n",
            "[4.23193e-06] 0.0\n",
            "[2.1457672e-06] 0.0\n",
            "[0.00010809] 0.0\n",
            "[5.2571297e-05] 0.0\n",
            "[0.99998677] 1.0\n",
            "[0.99998283] 1.0\n",
            "[3.2007694e-05] 0.0\n",
            "[0.00012416] 0.0\n",
            "[0.9999973] 1.0\n",
            "[3.2782555e-05] 0.0\n",
            "[5.659461e-05] 0.0\n",
            "[0.99999714] 1.0\n",
            "[0.9999143] 1.0\n",
            "[1.9788742e-05] 0.0\n",
            "[1.6599894e-05] 0.0\n",
            "[0.9972536] 1.0\n",
            "[4.0084124e-05] 0.0\n",
            "[0.9988662] 1.0\n",
            "[0.9998393] 1.0\n",
            "[0.0041503] 0.0\n",
            "[1.4126301e-05] 0.0\n",
            "[0.99998343] 1.0\n"
          ],
          "name": "stdout"
        }
      ]
    },
    {
      "cell_type": "markdown",
      "metadata": {
        "colab_type": "text",
        "id": "sDqSu9Ym04nR"
      },
      "source": [
        "### Create a checkpoints directory\n",
        "\n",
        "Once you have been able to train your model on a single batch, it's time to begin training on your training dataset. It may take a while to train for a single epoch, and it would be unfortunate if Colab disconnected after training for a while, and you lost your progress.\n",
        "\n",
        "* After each training epoch, save the model's weights in a checkpoint file. You can learn more about how to create checkpoints [here](https://www.tensorflow.org/guide/keras/save_and_serialize). \n",
        "\n",
        "* To resume training, load the latest checkpoint from disk. This will restore the latest weights and resume your progress. If it does not exist, begin training from scratch.\n",
        "\n",
        "* As a tip, you may want to store your checkpoints in Google Drive, so you'll still have access to them if Colab disconnects. \n",
        "\n",
        "Note that running long jobs is not what Colab is intended for. Normally, you could simple save your checkpoints on the machine you're working on. Saving to drive adds an extra step, but it's worthwhile learning how to do.\n",
        "\n",
        "Tip: after mounting Drive, **do not** programmatically run any commands to delete files from your checkpoints folder or elsewhere (e.g., by using ```!rm -rf```) in Colab. If you're not careful, you may accidentally wipe out your entire drive if you make a programming mistake. \n",
        "\n",
        "* Instead, if you need to delete checkpoints, do so manually through the drive user interface. Note that files deleted through the UI may take a minute or so to \"actually\" be deleted as reflected by ```!ls``` commands run from Colab."
      ]
    },
    {
      "cell_type": "code",
      "metadata": {
        "colab_type": "code",
        "id": "9DhXkN3i06TY",
        "outputId": "c9110152-4d3d-4737-e458-052480db783b",
        "colab": {
          "base_uri": "https://localhost:8080/",
          "height": 35
        }
      },
      "source": [
        "# Mount drive\n",
        "drive.mount('/gdrive')\n",
        "drive_root = '/gdrive/My Drive/'"
      ],
      "execution_count": 52,
      "outputs": [
        {
          "output_type": "stream",
          "text": [
            "Mounted at /gdrive\n"
          ],
          "name": "stdout"
        }
      ]
    },
    {
      "cell_type": "code",
      "metadata": {
        "colab_type": "code",
        "id": "CMzFtWcJy8eC",
        "colab": {}
      },
      "source": [
        "# If you'd like to save checkpoints in drive, you will need to uncomment\n",
        "# the code below. Alternatively, you can modify it to save\n",
        "# checkpoints in Colab (these will not persist if your instance is terminated,\n",
        "# but you can manually download them if you like).\n",
        "checkpoint_dir = os.path.join(drive_root, \"checkpoints\")\n",
        "checkpoint_dir = os.path.join(checkpoint_dir, \"hw4\")\n",
        "\n",
        "# Used for formatting\n",
        "checkpoint_path = os.path.join(checkpoint_dir, \"cp-{epoch:08d}.ckpt\")"
      ],
      "execution_count": 0,
      "outputs": []
    },
    {
      "cell_type": "code",
      "metadata": {
        "colab_type": "code",
        "id": "JcLFRePmatah",
        "outputId": "fb1255c4-59e4-47dc-f70d-47a2a83ec1e6",
        "colab": {
          "base_uri": "https://localhost:8080/",
          "height": 53
        }
      },
      "source": [
        "# Your code here\n",
        "# Uncomment this if you'd like to create a checkpoints folder in your drive\n",
        "print(\"Checkpoints directory is\", checkpoint_dir)\n",
        "if os.path.exists(checkpoint_dir):\n",
        "  print(\"Checkpoints folder already exists\")\n",
        "else:\n",
        "  print(\"Creating a checkpoints directory\")\n",
        "  os.makedirs(checkpoint_dir)"
      ],
      "execution_count": 54,
      "outputs": [
        {
          "output_type": "stream",
          "text": [
            "Checkpoints directory is /gdrive/My Drive/checkpoints/hw4\n",
            "Checkpoints folder already exists\n"
          ],
          "name": "stdout"
        }
      ]
    },
    {
      "cell_type": "markdown",
      "metadata": {
        "colab_type": "text",
        "id": "nF_e7Sf1awnH"
      },
      "source": [
        "### Restore the latest checkpoint (if it exists)."
      ]
    },
    {
      "cell_type": "code",
      "metadata": {
        "colab_type": "code",
        "id": "jCDBhc4XnnGJ",
        "outputId": "18e0f7bb-8fac-4187-c797-50555a381e91",
        "colab": {
          "base_uri": "https://localhost:8080/",
          "height": 35
        }
      },
      "source": [
        "# You should not need to modify this code.\n",
        "latest = tf.train.latest_checkpoint(checkpoint_dir)\n",
        "if latest != None:\n",
        "  print(\"Loading weights from\", latest)\n",
        "  model.load_weights(latest)\n",
        "else:\n",
        "  print(\"Checkpoint not found. Starting from scratch\")"
      ],
      "execution_count": 55,
      "outputs": [
        {
          "output_type": "stream",
          "text": [
            "Checkpoint not found. Starting from scratch\n"
          ],
          "name": "stdout"
        }
      ]
    },
    {
      "cell_type": "markdown",
      "metadata": {
        "colab_type": "text",
        "id": "mVCezYfDa6n_"
      },
      "source": [
        "### Metrics"
      ]
    },
    {
      "cell_type": "code",
      "metadata": {
        "colab_type": "code",
        "id": "gRVbkMtR_lp2",
        "colab": {}
      },
      "source": [
        "# Utilities to help us record metrics.\n",
        "# You should not need to modify this code\n",
        "train_loss = tf.keras.metrics.Mean(name='train_loss')\n",
        "train_accuracy = tf.keras.metrics.Mean(name='train_accuracy')\n",
        "\n",
        "val_loss = tf.keras.metrics.BinaryCrossentropy(name='val_loss')\n",
        "val_accuracy = tf.keras.metrics.BinaryAccuracy(name='val_accuracy')"
      ],
      "execution_count": 0,
      "outputs": []
    },
    {
      "cell_type": "markdown",
      "metadata": {
        "colab_type": "text",
        "id": "PahaAZPgu-hV"
      },
      "source": [
        "### Code to evaluate on the validation dataset\n",
        "The validation dataset may be large. It would be wasteful to evaluate on the entire validation dataset each training epoch. Instead, you could evaluate every N epochs, or, you can use the below methoid to evaluate for a fixed number of steps (batches). This will give you a noisier evaluation, but a useful indicator of how your model is doing over time."
      ]
    },
    {
      "cell_type": "code",
      "metadata": {
        "colab_type": "code",
        "id": "2mtca2G8FCF_",
        "colab": {}
      },
      "source": [
        "# You should not need to modify this.\n",
        "def evaluate(max_steps=None):\n",
        "  steps = 0\n",
        "  for activation_batch, question_batch, answer_batch, path_batch in val_ds:\n",
        "    if max_steps != None and steps == max_steps:\n",
        "      break\n",
        "    predictions = model.predict(x=[activation_batch, question_batch])\n",
        "    steps += 1 \n",
        "    # Record metrics after each batch\n",
        "    val_loss(answer_batch, predictions)\n",
        "    val_accuracy(answer_batch, predictions)"
      ],
      "execution_count": 0,
      "outputs": []
    },
    {
      "cell_type": "markdown",
      "metadata": {
        "colab_type": "text",
        "id": "VpRR3fbb03z3"
      },
      "source": [
        "### Train the model\n",
        "As before, we'll write our training loop using ```train_on_batch```. This is intermediate in complexity between using ```.fit``` and writing everything from scratch using a ```GradientTape```. Because we're not using ```.fit```. Since we're not using .fit, there's a bit of extra code we need to write ourselves to track loss and accuracy as we go."
      ]
    },
    {
      "cell_type": "code",
      "metadata": {
        "colab_type": "code",
        "id": "4e-1dK1YCR8D",
        "outputId": "1d5f21c4-5462-4eb8-8e8f-53519ea07c5e",
        "colab": {
          "base_uri": "https://localhost:8080/",
          "height": 395
        }
      },
      "source": [
        "# Your code here\n",
        "# Complete this cell (there are only a few parts to write)\n",
        "\n",
        "# Used to track loss and accuracy as we go\n",
        "# You should not need to modify these\n",
        "train_loss_history, train_acc_history = [], []\n",
        "val_loss_history, val_acc_history = [], []\n",
        "\n",
        "epochs = 10 # Your code here\n",
        "\n",
        "# Training loop\n",
        "for epoch in tqdm(range(epochs)):\n",
        "\n",
        "  start = time.time()\n",
        "\n",
        "  # Train for one epoch\n",
        "  for activation_batch, question_batch, answer_batch, path_batch in train_ds:\n",
        "    result = model.train_on_batch(x=[activation_batch, question_batch], y=answer_batch)\n",
        "\n",
        "    # Record metrics after each batch\n",
        "    train_loss(result[0])\n",
        "    train_accuracy(result[1])\n",
        "\n",
        "  # Evaluate for a few steps\n",
        "  evaluate(max_steps=100)\n",
        "\n",
        "  # Print progress\n",
        "  # You should not need to modify this.\n",
        "  template = 'Epoch {}, Loss: {:.2f}, Accuracy: {:.2f}, Val Loss {:.2f}, Val Accuracy {:.2f}, Time: {:.1f} secs'\n",
        "  print(template.format(epoch,\n",
        "                        train_loss.result(),\n",
        "                        train_accuracy.result() * 100,\n",
        "                        val_loss.result(),\n",
        "                        val_accuracy.result() * 100,\n",
        "                        time.time() - start))\n",
        "  \n",
        "  # Record history\n",
        "  train_loss_history.append(train_loss.result())\n",
        "  train_acc_history.append(train_accuracy.result() * 100)\n",
        "  val_loss_history.append(val_loss.result())\n",
        "  val_acc_history.append(val_accuracy.result() * 100)\n",
        "\n",
        "  # Reset the metrics for the next epoch\n",
        "  train_loss.reset_states()\n",
        "  train_accuracy.reset_states()\n",
        "  val_loss.reset_states()\n",
        "  val_accuracy.reset_states()\n",
        "\n",
        "  # Your code here\n",
        "  # Save a checkpoint after each epoch\n",
        "  print(\"Saving weights\")\n",
        "  model.save_weights(checkpoint_dir)\n",
        "  # model.save_weights ...\n"
      ],
      "execution_count": 58,
      "outputs": [
        {
          "output_type": "stream",
          "text": [
            "\r  0%|          | 0/10 [00:00<?, ?it/s]"
          ],
          "name": "stderr"
        },
        {
          "output_type": "stream",
          "text": [
            "Epoch 0, Loss: 0.74, Accuracy: 52.46, Val Loss 0.72, Val Accuracy 52.57, Time: 58.1 secs\n",
            "Saving weights\n"
          ],
          "name": "stdout"
        },
        {
          "output_type": "stream",
          "text": [
            " 20%|██        | 2/10 [01:56<07:47, 58.43s/it]"
          ],
          "name": "stderr"
        },
        {
          "output_type": "stream",
          "text": [
            "Epoch 1, Loss: 0.67, Accuracy: 59.66, Val Loss 0.73, Val Accuracy 53.00, Time: 58.5 secs\n",
            "Saving weights\n"
          ],
          "name": "stdout"
        },
        {
          "output_type": "stream",
          "text": [
            "\r 30%|███       | 3/10 [02:55<06:50, 58.59s/it]"
          ],
          "name": "stderr"
        },
        {
          "output_type": "stream",
          "text": [
            "Epoch 2, Loss: 0.61, Accuracy: 65.64, Val Loss 0.77, Val Accuracy 52.69, Time: 58.8 secs\n",
            "Saving weights\n"
          ],
          "name": "stdout"
        },
        {
          "output_type": "stream",
          "text": [
            "\r 40%|████      | 4/10 [03:56<05:54, 59.06s/it]"
          ],
          "name": "stderr"
        },
        {
          "output_type": "stream",
          "text": [
            "Epoch 3, Loss: 0.57, Accuracy: 69.52, Val Loss 0.87, Val Accuracy 52.41, Time: 60.0 secs\n",
            "Saving weights\n"
          ],
          "name": "stdout"
        },
        {
          "output_type": "stream",
          "text": [
            "\r 50%|█████     | 5/10 [04:54<04:54, 58.85s/it]"
          ],
          "name": "stderr"
        },
        {
          "output_type": "stream",
          "text": [
            "Epoch 4, Loss: 0.53, Accuracy: 72.11, Val Loss 0.90, Val Accuracy 52.38, Time: 58.2 secs\n",
            "Saving weights\n"
          ],
          "name": "stdout"
        },
        {
          "output_type": "stream",
          "text": [
            "\r 60%|██████    | 6/10 [05:53<03:55, 58.93s/it]"
          ],
          "name": "stderr"
        },
        {
          "output_type": "stream",
          "text": [
            "Epoch 5, Loss: 0.49, Accuracy: 74.34, Val Loss 1.00, Val Accuracy 52.97, Time: 58.9 secs\n",
            "Saving weights\n"
          ],
          "name": "stdout"
        },
        {
          "output_type": "stream",
          "text": [
            "\r 70%|███████   | 7/10 [06:51<02:56, 58.69s/it]"
          ],
          "name": "stderr"
        },
        {
          "output_type": "stream",
          "text": [
            "Epoch 6, Loss: 0.46, Accuracy: 75.77, Val Loss 1.02, Val Accuracy 53.06, Time: 58.0 secs\n",
            "Saving weights\n"
          ],
          "name": "stdout"
        },
        {
          "output_type": "stream",
          "text": [
            "\r 80%|████████  | 8/10 [07:50<01:57, 58.71s/it]"
          ],
          "name": "stderr"
        },
        {
          "output_type": "stream",
          "text": [
            "Epoch 7, Loss: 0.44, Accuracy: 77.06, Val Loss 1.11, Val Accuracy 53.41, Time: 58.6 secs\n",
            "Saving weights\n"
          ],
          "name": "stdout"
        },
        {
          "output_type": "stream",
          "text": [
            "\r 90%|█████████ | 9/10 [08:49<00:58, 58.84s/it]"
          ],
          "name": "stderr"
        },
        {
          "output_type": "stream",
          "text": [
            "Epoch 8, Loss: 0.42, Accuracy: 78.72, Val Loss 1.08, Val Accuracy 53.09, Time: 59.0 secs\n",
            "Saving weights\n"
          ],
          "name": "stdout"
        },
        {
          "output_type": "stream",
          "text": [
            "\r100%|██████████| 10/10 [09:48<00:00, 58.89s/it]"
          ],
          "name": "stderr"
        },
        {
          "output_type": "stream",
          "text": [
            "Epoch 9, Loss: 0.40, Accuracy: 79.43, Val Loss 1.25, Val Accuracy 51.88, Time: 58.9 secs\n",
            "Saving weights\n"
          ],
          "name": "stdout"
        },
        {
          "output_type": "stream",
          "text": [
            "\n"
          ],
          "name": "stderr"
        }
      ]
    },
    {
      "cell_type": "markdown",
      "metadata": {
        "colab_type": "text",
        "id": "4IQd0z3RwfIN"
      },
      "source": [
        "### Create plots of your training and validation loss and accuracy"
      ]
    },
    {
      "cell_type": "code",
      "metadata": {
        "colab_type": "code",
        "id": "U_UgdSUaoGND",
        "outputId": "7e3b32ff-e32d-43aa-9ac9-f5d5e6b6eb9d",
        "colab": {
          "base_uri": "https://localhost:8080/",
          "height": 573
        }
      },
      "source": [
        "# Your code here\n",
        "def plot(train_loss_history,train_acc_history,val_loss_history,val_acc_history):\n",
        "  \n",
        "  # The history object contains results on the training and test\n",
        "  # sets for each epoch\n",
        "  acc = train_acc_history\n",
        "  val_acc = val_acc_history\n",
        "  loss = train_loss_history\n",
        "  val_loss = val_loss_history\n",
        "\n",
        "  # Get the number of epochs\n",
        "  epochs = range(len(acc))\n",
        "\n",
        "  plt.title('Training and validation accuracy')\n",
        "  plt.plot(epochs, acc, color='blue', label='Train')\n",
        "  plt.plot(epochs, val_acc, color='orange', label='Val')\n",
        "  plt.xlabel('Epoch')\n",
        "  plt.ylabel('Accuracy')\n",
        "  plt.legend()\n",
        "\n",
        "  _ = plt.figure()\n",
        "  plt.title('Training and validation loss')\n",
        "  plt.plot(epochs, loss, color='blue', label='Train')\n",
        "  plt.plot(epochs, val_loss, color='orange', label='Val')\n",
        "  plt.xlabel('Epoch')\n",
        "  plt.ylabel('Loss')\n",
        "  plt.legend()\n",
        "\n",
        "plot(train_loss_history,train_acc_history,val_loss_history,val_acc_history)"
      ],
      "execution_count": 59,
      "outputs": [
        {
          "output_type": "display_data",
          "data": {
            "image/png": "[encoded data removed]",
            "text/plain": [
              "<Figure size 432x288 with 1 Axes>"
            ]
          },
          "metadata": {
            "tags": []
          }
        },
        {
          "output_type": "display_data",
          "data": {
            "image/png": "[encoded data removed]",
            "text/plain": [
              "<Figure size 432x288 with 1 Axes>"
            ]
          },
          "metadata": {
            "tags": []
          }
        }
      ]
    },
    {
      "cell_type": "markdown",
      "metadata": {
        "colab_type": "text",
        "id": "KzTUcK3WclOi"
      },
      "source": [
        "### At this point, you have end-to-end code to train VQA model\n",
        "Now you can begin working on increasing accuracy. For this assignment, your model should at least be able to fit your training split reasonably well. You do not need to build a model that performs well on validation to receive full credit (I recently made the starter dataset a bit more difficult, as a result - you may need to train using more data than I want you to do for a homework assignment)."
      ]
    },
    {
      "cell_type": "markdown",
      "metadata": {
        "colab_type": "text",
        "id": "KCe18LhedPsg"
      },
      "source": [
        "### Run one experiment to improve accuracy"
      ]
    },
    {
      "cell_type": "code",
      "metadata": {
        "colab_type": "code",
        "id": "ujqBdK1rdEbq",
        "colab": {}
      },
      "source": [
        "# Your code and brief writeup here\n",
        "# Think about how to improve the accuracy of your model, \n",
        "# either on the training or validation set.\n",
        "# Design and run an experiment to do so (by writting whatever code is necessary)\n",
        "# Include the code from your experiment here, and a few notes on the results\n",
        "# (one paragraph is fine).\n",
        "\n",
        "#----------------------------------------------------------------------------------------\n",
        "# To improve the accuracy of the model on validation set, we need to prevent the model\n",
        "# from overfitting, add a dropout layers and train on larger data set may help.\n",
        "# To improve the accuracy on training set, we can add more dense layer for question \n",
        "# model and more convolution layer for image model then train it on larger data set.\n",
        "#----------------------------------------------------------------------------------------\n",
        "image_input = Input(shape=(8, 8, 2048)) \n",
        "vision_model = Sequential()\n",
        "# Used to reduce the number of parameters (rather using a dense layer here).\n",
        "# vision_model.add(tf.keras.layers.GlobalAveragePooling2D())\n",
        "vision_model.add(tf.keras.layers.Conv2D(64, (3, 3), activation='relu', padding='same', input_shape=(8, 8, 2048)))\n",
        "vision_model.add(tf.keras.layers.Conv2D(64, (3, 3), activation='relu'))\n",
        "vision_model.add(tf.keras.layers.MaxPooling2D((2, 2)))\n",
        "vision_model.add(tf.keras.layers.Flatten())\n",
        "# Output of your vision model\n",
        "encoded_image = vision_model(image_input) \n",
        "\n",
        "question_input = Input(shape=(MAX_SEQ_LEN,), dtype='int32') # your code\n",
        "embedded_question = Embedding(input_dim=4770, output_dim=256, input_length=MAX_SEQ_LEN)(question_input) # your code\n",
        "encoded_question =  LSTM(256)(embedded_question) # your code\n",
        "\n",
        "# Concatenate the encoded image and question\n",
        "merged = tf.keras.layers.concatenate([encoded_image, encoded_question])\n",
        "\n",
        "# Optionally, add a small dense layer\n",
        "# ...\n",
        "dense = Dense(64, activation='relu')(merged)\n",
        "# Next, add a binary classifier on top\n",
        "output = Dense(1, activation='sigmoid')(dense)\n",
        "\n",
        "# Your final model\n",
        "model = Model(inputs=[image_input, question_input], outputs=output)"
      ],
      "execution_count": 0,
      "outputs": []
    },
    {
      "cell_type": "code",
      "metadata": {
        "id": "aFj9dcdjn3VF",
        "colab_type": "code",
        "colab": {
          "base_uri": "https://localhost:8080/",
          "height": 467
        },
        "outputId": "35c55fb5-04ec-4fe7-f058-27bcdc469230"
      },
      "source": [
        "model.summary()"
      ],
      "execution_count": 133,
      "outputs": [
        {
          "output_type": "stream",
          "text": [
            "Model: \"model_12\"\n",
            "__________________________________________________________________________________________________\n",
            "Layer (type)                    Output Shape         Param #     Connected to                     \n",
            "==================================================================================================\n",
            "input_27 (InputLayer)           [(None, 10)]         0                                            \n",
            "__________________________________________________________________________________________________\n",
            "input_26 (InputLayer)           [(None, 8, 8, 2048)] 0                                            \n",
            "__________________________________________________________________________________________________\n",
            "embedding_12 (Embedding)        (None, 10, 256)      1221120     input_27[0][0]                   \n",
            "__________________________________________________________________________________________________\n",
            "sequential_12 (Sequential)      (None, 576)          1216640     input_26[0][0]                   \n",
            "__________________________________________________________________________________________________\n",
            "lstm_12 (LSTM)                  (None, 256)          525312      embedding_12[0][0]               \n",
            "__________________________________________________________________________________________________\n",
            "concatenate_14 (Concatenate)    (None, 832)          0           sequential_12[1][0]              \n",
            "                                                                 lstm_12[0][0]                    \n",
            "__________________________________________________________________________________________________\n",
            "dense_27 (Dense)                (None, 64)           53312       concatenate_14[0][0]             \n",
            "__________________________________________________________________________________________________\n",
            "dense_28 (Dense)                (None, 1)            65          dense_27[0][0]                   \n",
            "==================================================================================================\n",
            "Total params: 3,016,449\n",
            "Trainable params: 3,016,449\n",
            "Non-trainable params: 0\n",
            "__________________________________________________________________________________________________\n"
          ],
          "name": "stdout"
        }
      ]
    },
    {
      "cell_type": "code",
      "metadata": {
        "id": "EtuWKYS9oAYU",
        "colab_type": "code",
        "colab": {}
      },
      "source": [
        "model.compile(optimizer='adam', \n",
        "              loss='binary_crossentropy',\n",
        "              metrics=['accuracy'])"
      ],
      "execution_count": 0,
      "outputs": []
    },
    {
      "cell_type": "code",
      "metadata": {
        "id": "FxnxHn7-oE7S",
        "colab_type": "code",
        "colab": {
          "base_uri": "https://localhost:8080/",
          "height": 564
        },
        "outputId": "628bc055-7e05-491e-88cb-bde84e8c5380"
      },
      "source": [
        "from tensorflow.keras.utils import plot_model\n",
        "plot_model(model, to_file='model.png')"
      ],
      "execution_count": 135,
      "outputs": [
        {
          "output_type": "execute_result",
          "data": {
            "image/png": "[encoded data removed]",
            "text/plain": [
              "<IPython.core.display.Image object>"
            ]
          },
          "metadata": {
            "tags": []
          },
          "execution_count": 135
        }
      ]
    },
    {
      "cell_type": "code",
      "metadata": {
        "id": "sLyJC-_eoJzz",
        "colab_type": "code",
        "colab": {}
      },
      "source": [
        "activations_batch, questions_batch, answers_batch, paths_batch = next(iter(train_ds))"
      ],
      "execution_count": 0,
      "outputs": []
    },
    {
      "cell_type": "code",
      "metadata": {
        "id": "7o_ztw5UoUYN",
        "colab_type": "code",
        "colab": {}
      },
      "source": [
        "checkpoint_dir = os.path.join(drive_root, \"checkpoints\")\n",
        "checkpoint_dir = os.path.join(checkpoint_dir, \"hw4\")\n",
        "\n",
        "# Used for formatting\n",
        "checkpoint_path = os.path.join(checkpoint_dir, \"cp-{epoch:08d}.ckpt\")"
      ],
      "execution_count": 0,
      "outputs": []
    },
    {
      "cell_type": "code",
      "metadata": {
        "id": "el3Y7u3nob-x",
        "colab_type": "code",
        "colab": {
          "base_uri": "https://localhost:8080/",
          "height": 53
        },
        "outputId": "14bcfb03-6857-45ef-af21-decaf0a5bb84"
      },
      "source": [
        "print(\"Checkpoints directory is\", checkpoint_dir)\n",
        "if os.path.exists(checkpoint_dir):\n",
        "  print(\"Checkpoints folder already exists\")\n",
        "else:\n",
        "  print(\"Creating a checkpoints directory\")\n",
        "  os.makedirs(checkpoint_dir)"
      ],
      "execution_count": 138,
      "outputs": [
        {
          "output_type": "stream",
          "text": [
            "Checkpoints directory is /gdrive/My Drive/checkpoints/hw4\n",
            "Checkpoints folder already exists\n"
          ],
          "name": "stdout"
        }
      ]
    },
    {
      "cell_type": "code",
      "metadata": {
        "colab_type": "code",
        "outputId": "a383152e-8aeb-4969-a244-a481ad18447a",
        "id": "xJCXP3RjnsOv",
        "colab": {
          "base_uri": "https://localhost:8080/",
          "height": 35
        }
      },
      "source": [
        "# You should not need to modify this code.\n",
        "latest = tf.train.latest_checkpoint(checkpoint_dir)\n",
        "if latest != None:\n",
        "  print(\"Loading weights from\", latest)\n",
        "  model.load_weights(latest)\n",
        "else:\n",
        "  print(\"Checkpoint not found. Starting from scratch\")"
      ],
      "execution_count": 139,
      "outputs": [
        {
          "output_type": "stream",
          "text": [
            "Checkpoint not found. Starting from scratch\n"
          ],
          "name": "stdout"
        }
      ]
    },
    {
      "cell_type": "code",
      "metadata": {
        "id": "Lgi3kmQbohCi",
        "colab_type": "code",
        "colab": {}
      },
      "source": [
        "train_loss = tf.keras.metrics.Mean(name='train_loss')\n",
        "train_accuracy = tf.keras.metrics.Mean(name='train_accuracy')\n",
        "\n",
        "val_loss = tf.keras.metrics.BinaryCrossentropy(name='val_loss')\n",
        "val_accuracy = tf.keras.metrics.BinaryAccuracy(name='val_accuracy')"
      ],
      "execution_count": 0,
      "outputs": []
    },
    {
      "cell_type": "code",
      "metadata": {
        "id": "rz4qxhYPom3J",
        "colab_type": "code",
        "colab": {
          "base_uri": "https://localhost:8080/",
          "height": 1000
        },
        "outputId": "bfd977f7-492c-4a99-efac-7aa1290e5bb0"
      },
      "source": [
        "\n",
        "train_loss_history, train_acc_history = [], []\n",
        "val_loss_history, val_acc_history = [], []\n",
        "\n",
        "epochs = 10 # Your code here\n",
        "\n",
        "# Training loop\n",
        "for epoch in tqdm(range(epochs)):\n",
        "\n",
        "  start = time.time()\n",
        "\n",
        "  # Train for one epoch\n",
        "  for activation_batch, question_batch, answer_batch, path_batch in train_ds:\n",
        "    result = model.train_on_batch(x=[activation_batch, question_batch], y=answer_batch)\n",
        "\n",
        "    # Record metrics after each batch\n",
        "    train_loss(result[0])\n",
        "    train_accuracy(result[1])\n",
        "\n",
        "  # Evaluate for a few steps\n",
        "  evaluate(max_steps=100)\n",
        "\n",
        "  # Print progress\n",
        "  # You should not need to modify this.\n",
        "  template = 'Epoch {}, Loss: {:.2f}, Accuracy: {:.2f}, Val Loss {:.2f}, Val Accuracy {:.2f}, Time: {:.1f} secs'\n",
        "  print(template.format(epoch,\n",
        "                        train_loss.result(),\n",
        "                        train_accuracy.result() * 100,\n",
        "                        val_loss.result(),\n",
        "                        val_accuracy.result() * 100,\n",
        "                        time.time() - start))\n",
        "  \n",
        "  # Record history\n",
        "  train_loss_history.append(train_loss.result())\n",
        "  train_acc_history.append(train_accuracy.result() * 100)\n",
        "  val_loss_history.append(val_loss.result())\n",
        "  val_acc_history.append(val_accuracy.result() * 100)\n",
        "\n",
        "  # Reset the metrics for the next epoch\n",
        "  train_loss.reset_states()\n",
        "  train_accuracy.reset_states()\n",
        "  val_loss.reset_states()\n",
        "  val_accuracy.reset_states()\n",
        "\n",
        "  # Your code here\n",
        "  # Save a checkpoint after each epoch\n",
        "  print(\"Saving weights\")\n",
        "  model.save_weights(checkpoint_dir)\n",
        "  # model.save_weights ...\n"
      ],
      "execution_count": 141,
      "outputs": [
        {
          "output_type": "stream",
          "text": [
            "\n",
            "\n",
            "\n",
            "\n",
            "\n",
            "  0%|          | 0/10 [00:00<?, ?it/s]\u001b[A\u001b[A\u001b[A\u001b[A\u001b[A"
          ],
          "name": "stderr"
        },
        {
          "output_type": "stream",
          "text": [
            "Epoch 0, Loss: 0.71, Accuracy: 52.19, Val Loss 0.69, Val Accuracy 53.53, Time: 76.2 secs\n",
            "Saving weights\n"
          ],
          "name": "stdout"
        },
        {
          "output_type": "stream",
          "text": [
            "\n",
            "\n",
            "\n",
            "\n",
            "\n",
            " 10%|█         | 1/10 [01:16<11:32, 76.93s/it]\u001b[A\u001b[A\u001b[A\u001b[A\u001b[A"
          ],
          "name": "stderr"
        },
        {
          "output_type": "stream",
          "text": [
            "Epoch 1, Loss: 0.66, Accuracy: 59.97, Val Loss 0.71, Val Accuracy 52.44, Time: 86.5 secs\n",
            "Saving weights\n"
          ],
          "name": "stdout"
        },
        {
          "output_type": "stream",
          "text": [
            "\n",
            "\n",
            "\n",
            "\n",
            "\n",
            " 20%|██        | 2/10 [02:44<10:40, 80.02s/it]\u001b[A\u001b[A\u001b[A\u001b[A\u001b[A"
          ],
          "name": "stderr"
        },
        {
          "output_type": "stream",
          "text": [
            "Epoch 2, Loss: 0.60, Accuracy: 66.81, Val Loss 0.77, Val Accuracy 53.50, Time: 74.8 secs\n",
            "Saving weights\n"
          ],
          "name": "stdout"
        },
        {
          "output_type": "stream",
          "text": [
            "\n",
            "\n",
            "\n",
            "\n",
            "\n",
            " 30%|███       | 3/10 [03:59<09:09, 78.53s/it]\u001b[A\u001b[A\u001b[A\u001b[A\u001b[A"
          ],
          "name": "stderr"
        },
        {
          "output_type": "stream",
          "text": [
            "Epoch 3, Loss: 0.55, Accuracy: 71.52, Val Loss 0.88, Val Accuracy 53.41, Time: 66.4 secs\n",
            "Saving weights\n"
          ],
          "name": "stdout"
        },
        {
          "output_type": "stream",
          "text": [
            "\n",
            "\n",
            "\n",
            "\n",
            "\n",
            " 40%|████      | 4/10 [05:05<07:29, 74.96s/it]\u001b[A\u001b[A\u001b[A\u001b[A\u001b[A"
          ],
          "name": "stderr"
        },
        {
          "output_type": "stream",
          "text": [
            "Epoch 4, Loss: 0.50, Accuracy: 74.33, Val Loss 0.92, Val Accuracy 52.59, Time: 66.1 secs\n",
            "Saving weights\n"
          ],
          "name": "stdout"
        },
        {
          "output_type": "stream",
          "text": [
            "\n",
            "\n",
            "\n",
            "\n",
            "\n",
            " 50%|█████     | 5/10 [06:12<06:01, 72.38s/it]\u001b[A\u001b[A\u001b[A\u001b[A\u001b[A"
          ],
          "name": "stderr"
        },
        {
          "output_type": "stream",
          "text": [
            "Epoch 5, Loss: 0.45, Accuracy: 76.99, Val Loss 0.98, Val Accuracy 52.66, Time: 66.2 secs\n",
            "Saving weights\n"
          ],
          "name": "stdout"
        },
        {
          "output_type": "stream",
          "text": [
            "\n",
            "\n",
            "\n",
            "\n",
            "\n",
            " 60%|██████    | 6/10 [07:18<04:42, 70.61s/it]\u001b[A\u001b[A\u001b[A\u001b[A\u001b[A"
          ],
          "name": "stderr"
        },
        {
          "output_type": "stream",
          "text": [
            "Epoch 6, Loss: 0.42, Accuracy: 79.44, Val Loss 1.11, Val Accuracy 51.41, Time: 66.6 secs\n",
            "Saving weights\n"
          ],
          "name": "stdout"
        },
        {
          "output_type": "stream",
          "text": [
            "\n",
            "\n",
            "\n",
            "\n",
            "\n",
            " 70%|███████   | 7/10 [08:25<03:28, 69.48s/it]\u001b[A\u001b[A\u001b[A\u001b[A\u001b[A"
          ],
          "name": "stderr"
        },
        {
          "output_type": "stream",
          "text": [
            "Epoch 7, Loss: 0.38, Accuracy: 81.29, Val Loss 1.24, Val Accuracy 51.91, Time: 66.2 secs\n",
            "Saving weights\n"
          ],
          "name": "stdout"
        },
        {
          "output_type": "stream",
          "text": [
            "\n",
            "\n",
            "\n",
            "\n",
            "\n",
            " 80%|████████  | 8/10 [09:31<02:17, 68.57s/it]\u001b[A\u001b[A\u001b[A\u001b[A\u001b[A"
          ],
          "name": "stderr"
        },
        {
          "output_type": "stream",
          "text": [
            "Epoch 8, Loss: 0.35, Accuracy: 82.97, Val Loss 1.51, Val Accuracy 53.34, Time: 73.3 secs\n",
            "Saving weights\n"
          ],
          "name": "stdout"
        },
        {
          "output_type": "stream",
          "text": [
            "\n",
            "\n",
            "\n",
            "\n",
            "\n",
            " 90%|█████████ | 9/10 [10:45<01:10, 70.18s/it]\u001b[A\u001b[A\u001b[A\u001b[A\u001b[A"
          ],
          "name": "stderr"
        },
        {
          "output_type": "stream",
          "text": [
            "Epoch 9, Loss: 0.34, Accuracy: 83.82, Val Loss 1.62, Val Accuracy 53.59, Time: 82.9 secs\n",
            "Saving weights\n"
          ],
          "name": "stdout"
        },
        {
          "output_type": "stream",
          "text": [
            "\n",
            "\n",
            "\n",
            "\n",
            "\n",
            "100%|██████████| 10/10 [12:09<00:00, 74.23s/it]\u001b[A\u001b[A\u001b[A\u001b[A\u001b[A\n",
            "\n",
            "\n",
            "\n",
            "\n",
            "\u001b[A\u001b[A\u001b[A\u001b[A\u001b[A"
          ],
          "name": "stderr"
        }
      ]
    },
    {
      "cell_type": "code",
      "metadata": {
        "id": "9dc2n87W2hlo",
        "colab_type": "code",
        "colab": {}
      },
      "source": [
        "# By modifying the model, the train set accuracy increased by about 4%"
      ],
      "execution_count": 0,
      "outputs": []
    },
    {
      "cell_type": "code",
      "metadata": {
        "id": "GZto1Z6torQo",
        "colab_type": "code",
        "colab": {
          "base_uri": "https://localhost:8080/",
          "height": 573
        },
        "outputId": "65d31a2f-191a-4a7b-fdd3-76d8a42754ec"
      },
      "source": [
        "plot(train_loss_history,train_acc_history,val_loss_history,val_acc_history)"
      ],
      "execution_count": 142,
      "outputs": [
        {
          "output_type": "display_data",
          "data": {
            "image/png": "[encoded data removed]",
            "text/plain": [
              "<Figure size 432x288 with 1 Axes>"
            ]
          },
          "metadata": {
            "tags": []
          }
        },
        {
          "output_type": "display_data",
          "data": {
            "image/png": "[encoded data removed]",
            "text/plain": [
              "<Figure size 432x288 with 1 Axes>"
            ]
          },
          "metadata": {
            "tags": []
          }
        }
      ]
    },
    {
      "cell_type": "markdown",
      "metadata": {
        "colab_type": "text",
        "id": "YisAhTTCHxd_"
      },
      "source": [
        "### Finally, evaluate your model on the test set\n",
        "How well did it do? This assignment is lengthy. For our purposes, it's fine to report the accuracy - and you're done :) \n",
        "\n",
        "For a proper evaluation, take a look at this [paper](https://arxiv.org/abs/1612.00837), as discussed in class.\n",
        "\n",
        "Note: if your model is performing poorly on the test set, you can still receive full credit for this assignment as mentioned above. "
      ]
    },
    {
      "cell_type": "code",
      "metadata": {
        "colab_type": "code",
        "id": "NSQkgWG8Hyfu",
        "outputId": "9540d4bb-f2c6-486e-b9eb-8b82d1bc6229",
        "colab": {
          "base_uri": "https://localhost:8080/",
          "height": 35
        }
      },
      "source": [
        "# Restore the latest checkpoint\n",
        "checkpoint_dir = os.path.join(drive_root, \"checkpoints\")\n",
        "latest = tf.train.latest_checkpoint(checkpoint_dir)\n",
        "assert latest != None\n",
        "model.load_weights(latest)\n",
        "print(\"loaded weights from\", latest)"
      ],
      "execution_count": 147,
      "outputs": [
        {
          "output_type": "stream",
          "text": [
            "loaded weights from /gdrive/My Drive/checkpoints/hw4\n"
          ],
          "name": "stdout"
        }
      ]
    },
    {
      "cell_type": "code",
      "metadata": {
        "colab_type": "code",
        "id": "HJhBzTEfxHLg",
        "colab": {}
      },
      "source": [
        "# Your code here\n",
        "# Calculate accuracy on the test set"
      ],
      "execution_count": 0,
      "outputs": []
    },
    {
      "cell_type": "code",
      "metadata": {
        "id": "xKS4U6ETul7k",
        "colab_type": "code",
        "colab": {}
      },
      "source": [
        "test_loss = tf.keras.metrics.BinaryCrossentropy(name='test_loss')\n",
        "test_accuracy = tf.keras.metrics.BinaryAccuracy(name='test_accuracy')\n",
        "template = 'Epoch {}, Loss: {:.2f}, Accuracy: {:.2f}'"
      ],
      "execution_count": 0,
      "outputs": []
    },
    {
      "cell_type": "code",
      "metadata": {
        "id": "ChAnWlWpuJC9",
        "colab_type": "code",
        "colab": {
          "base_uri": "https://localhost:8080/",
          "height": 377
        },
        "outputId": "5144f1f5-1347-4c2a-8ec3-848fd3f55d2d"
      },
      "source": [
        "def my_evaluate(max_steps=None):\n",
        "  steps = 0\n",
        "  for activation_batch, question_batch, answer_batch, path_batch in test_ds:\n",
        "    if max_steps != None and steps == max_steps:\n",
        "      break\n",
        "    predictions = model.predict(x=[activation_batch, question_batch])\n",
        "    steps += 1 \n",
        "    # Record metrics after each batch\n",
        "    test_loss(answer_batch, predictions)\n",
        "    test_accuracy(answer_batch, predictions)\n",
        "    print(template.format(steps,\n",
        "                        test_loss.result(),\n",
        "                        test_accuracy.result() * 100,\n",
        "                        ))\n",
        "my_evaluate(max_steps = 20)\n"
      ],
      "execution_count": 165,
      "outputs": [
        {
          "output_type": "stream",
          "text": [
            "Epoch 1, Loss: 1.76, Accuracy: 49.80\n",
            "Epoch 2, Loss: 1.76, Accuracy: 49.79\n",
            "Epoch 3, Loss: 1.76, Accuracy: 49.79\n",
            "Epoch 4, Loss: 1.77, Accuracy: 49.78\n",
            "Epoch 5, Loss: 1.77, Accuracy: 49.76\n",
            "Epoch 6, Loss: 1.77, Accuracy: 49.78\n",
            "Epoch 7, Loss: 1.77, Accuracy: 49.77\n",
            "Epoch 8, Loss: 1.77, Accuracy: 49.77\n",
            "Epoch 9, Loss: 1.77, Accuracy: 49.78\n",
            "Epoch 10, Loss: 1.77, Accuracy: 49.80\n",
            "Epoch 11, Loss: 1.76, Accuracy: 49.83\n",
            "Epoch 12, Loss: 1.76, Accuracy: 49.84\n",
            "Epoch 13, Loss: 1.76, Accuracy: 49.84\n",
            "Epoch 14, Loss: 1.76, Accuracy: 49.83\n",
            "Epoch 15, Loss: 1.76, Accuracy: 49.82\n",
            "Epoch 16, Loss: 1.76, Accuracy: 49.80\n",
            "Epoch 17, Loss: 1.76, Accuracy: 49.80\n",
            "Epoch 18, Loss: 1.76, Accuracy: 49.78\n",
            "Epoch 19, Loss: 1.76, Accuracy: 49.80\n",
            "Epoch 20, Loss: 1.76, Accuracy: 49.79\n"
          ],
          "name": "stdout"
        }
      ]
    },
    {
      "cell_type": "markdown",
      "metadata": {
        "colab_type": "text",
        "id": "EQZtYaVO5Dhe"
      },
      "source": [
        "That's it! This was a long assignment, I hope it was a useful (and fun!) learning experience."
      ]
    }
  ]
}